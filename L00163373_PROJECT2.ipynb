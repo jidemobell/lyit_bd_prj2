{
  "cells": [
    {
      "cell_type": "markdown",
      "metadata": {
        "id": "view-in-github",
        "colab_type": "text"
      },
      "source": [
        "<a href=\"https://colab.research.google.com/github/jidemobell/lyit_bd_prj2/blob/main/L00163373_PROJECT2.ipynb\" target=\"_parent\"><img src=\"https://colab.research.google.com/assets/colab-badge.svg\" alt=\"Open In Colab\"/></a>"
      ]
    },
    {
      "cell_type": "markdown",
      "metadata": {
        "id": "7So9u809e1n5"
      },
      "source": [
        "*Warning*: Distribution/sharing of this notebook and other lab notebooks on the internet and other sources is strictly prohibited. You should not provide this notebook to anyone else. you should just use it for the purpose of this assessment only.\n",
        "\n",
        "You should attempt and submit your work. you can refer to sources/APIs to complete this taks. Copying from each other even a part or so is strictly prohibited and may result in serious action.\n"
      ]
    },
    {
      "cell_type": "markdown",
      "metadata": {
        "id": "L1Y12dPVqHv4"
      },
      "source": [
        "# Assessment 5 : Big Data Analytics using Machine Learning\n",
        "## Due Feburary 25th, 5pm (Firm)\n",
        "### Total points: 100 ( weighted over 35)\n",
        "\n",
        "This assessmet will enable you achieve essential experience of machine learning using sklearn and scalable approach to machine learning based on park ML! \n",
        "\n",
        "The focus of this assessment is to explore what makes videos popular on various platforms, e.g., Netflix and YouTube. The assessment will focus on YouTube 's data.\n",
        "\n",
        "**PLEASE NOTE** There can be multiple solutions possible for this assessment. various students will end up implementing different solutions. Therefore, there is not a single solution to fit all students."
      ]
    },
    {
      "cell_type": "markdown",
      "metadata": {
        "id": "zsMMQ1RnqoYw"
      },
      "source": [
        "### Required Libraries \n",
        "Setup the libraries using the following cells. You should select Java 8 when prompted."
      ]
    },
    {
      "cell_type": "code",
      "execution_count": 2,
      "metadata": {
        "colab": {
          "base_uri": "https://localhost:8080/"
        },
        "id": "V5Ea650lhvf2",
        "outputId": "8bddf4c9-1d3c-4cb5-dd65-1d6eb5dd7981"
      },
      "outputs": [
        {
          "output_type": "stream",
          "name": "stdout",
          "text": [
            "Reading package lists... Done\n",
            "Building dependency tree       \n",
            "Reading state information... Done\n",
            "The following package was automatically installed and is no longer required:\n",
            "  libnvidia-common-470\n",
            "Use 'sudo apt autoremove' to remove it.\n",
            "The following additional packages will be installed:\n",
            "  fonts-dejavu-core fonts-dejavu-extra libatk-wrapper-java\n",
            "  libatk-wrapper-java-jni libgail-common libgail18 libgtk2.0-0 libgtk2.0-bin\n",
            "  libgtk2.0-common libxxf86dga1 openjdk-8-jdk-headless openjdk-8-jre\n",
            "  openjdk-8-jre-headless x11-utils\n",
            "Suggested packages:\n",
            "  gvfs openjdk-8-demo openjdk-8-source visualvm icedtea-8-plugin libnss-mdns\n",
            "  fonts-ipafont-gothic fonts-ipafont-mincho fonts-wqy-microhei\n",
            "  fonts-wqy-zenhei fonts-indic mesa-utils\n",
            "The following NEW packages will be installed:\n",
            "  fonts-dejavu-core fonts-dejavu-extra libatk-wrapper-java\n",
            "  libatk-wrapper-java-jni libgail-common libgail18 libgtk2.0-0 libgtk2.0-bin\n",
            "  libgtk2.0-common libxxf86dga1 openjdk-8-jdk openjdk-8-jdk-headless\n",
            "  openjdk-8-jre openjdk-8-jre-headless x11-utils\n",
            "0 upgraded, 15 newly installed, 0 to remove and 39 not upgraded.\n",
            "Need to get 43.5 MB of archives.\n",
            "After this operation, 163 MB of additional disk space will be used.\n",
            "Get:1 http://archive.ubuntu.com/ubuntu bionic/main amd64 libxxf86dga1 amd64 2:1.1.4-1 [13.7 kB]\n",
            "Get:2 http://archive.ubuntu.com/ubuntu bionic/main amd64 fonts-dejavu-core all 2.37-1 [1,041 kB]\n",
            "Get:3 http://archive.ubuntu.com/ubuntu bionic/main amd64 fonts-dejavu-extra all 2.37-1 [1,953 kB]\n",
            "Get:4 http://archive.ubuntu.com/ubuntu bionic/main amd64 x11-utils amd64 7.7+3build1 [196 kB]\n",
            "Get:5 http://archive.ubuntu.com/ubuntu bionic/main amd64 libatk-wrapper-java all 0.33.3-20ubuntu0.1 [34.7 kB]\n",
            "Get:6 http://archive.ubuntu.com/ubuntu bionic/main amd64 libatk-wrapper-java-jni amd64 0.33.3-20ubuntu0.1 [28.3 kB]\n",
            "Get:7 http://archive.ubuntu.com/ubuntu bionic/main amd64 libgtk2.0-common all 2.24.32-1ubuntu1 [125 kB]\n",
            "Get:8 http://archive.ubuntu.com/ubuntu bionic/main amd64 libgtk2.0-0 amd64 2.24.32-1ubuntu1 [1,769 kB]\n",
            "Get:9 http://archive.ubuntu.com/ubuntu bionic/main amd64 libgail18 amd64 2.24.32-1ubuntu1 [14.2 kB]\n",
            "Get:10 http://archive.ubuntu.com/ubuntu bionic/main amd64 libgail-common amd64 2.24.32-1ubuntu1 [112 kB]\n",
            "Get:11 http://archive.ubuntu.com/ubuntu bionic/main amd64 libgtk2.0-bin amd64 2.24.32-1ubuntu1 [7,536 B]\n",
            "Get:12 http://archive.ubuntu.com/ubuntu bionic-updates/universe amd64 openjdk-8-jre-headless amd64 8u312-b07-0ubuntu1~18.04 [28.2 MB]\n",
            "Get:13 http://archive.ubuntu.com/ubuntu bionic-updates/universe amd64 openjdk-8-jre amd64 8u312-b07-0ubuntu1~18.04 [69.6 kB]\n",
            "Get:14 http://archive.ubuntu.com/ubuntu bionic-updates/universe amd64 openjdk-8-jdk-headless amd64 8u312-b07-0ubuntu1~18.04 [8,298 kB]\n",
            "Get:15 http://archive.ubuntu.com/ubuntu bionic-updates/universe amd64 openjdk-8-jdk amd64 8u312-b07-0ubuntu1~18.04 [1,625 kB]\n",
            "Fetched 43.5 MB in 3s (15.7 MB/s)\n",
            "debconf: unable to initialize frontend: Dialog\n",
            "debconf: (No usable dialog-like program is installed, so the dialog based frontend cannot be used. at /usr/share/perl5/Debconf/FrontEnd/Dialog.pm line 76, <> line 15.)\n",
            "debconf: falling back to frontend: Readline\n",
            "debconf: unable to initialize frontend: Readline\n",
            "debconf: (This frontend requires a controlling tty.)\n",
            "debconf: falling back to frontend: Teletype\n",
            "dpkg-preconfigure: unable to re-open stdin: \n",
            "Selecting previously unselected package libxxf86dga1:amd64.\n",
            "(Reading database ... 155320 files and directories currently installed.)\n",
            "Preparing to unpack .../00-libxxf86dga1_2%3a1.1.4-1_amd64.deb ...\n",
            "Unpacking libxxf86dga1:amd64 (2:1.1.4-1) ...\n",
            "Selecting previously unselected package fonts-dejavu-core.\n",
            "Preparing to unpack .../01-fonts-dejavu-core_2.37-1_all.deb ...\n",
            "Unpacking fonts-dejavu-core (2.37-1) ...\n",
            "Selecting previously unselected package fonts-dejavu-extra.\n",
            "Preparing to unpack .../02-fonts-dejavu-extra_2.37-1_all.deb ...\n",
            "Unpacking fonts-dejavu-extra (2.37-1) ...\n",
            "Selecting previously unselected package x11-utils.\n",
            "Preparing to unpack .../03-x11-utils_7.7+3build1_amd64.deb ...\n",
            "Unpacking x11-utils (7.7+3build1) ...\n",
            "Selecting previously unselected package libatk-wrapper-java.\n",
            "Preparing to unpack .../04-libatk-wrapper-java_0.33.3-20ubuntu0.1_all.deb ...\n",
            "Unpacking libatk-wrapper-java (0.33.3-20ubuntu0.1) ...\n",
            "Selecting previously unselected package libatk-wrapper-java-jni:amd64.\n",
            "Preparing to unpack .../05-libatk-wrapper-java-jni_0.33.3-20ubuntu0.1_amd64.deb ...\n",
            "Unpacking libatk-wrapper-java-jni:amd64 (0.33.3-20ubuntu0.1) ...\n",
            "Selecting previously unselected package libgtk2.0-common.\n",
            "Preparing to unpack .../06-libgtk2.0-common_2.24.32-1ubuntu1_all.deb ...\n",
            "Unpacking libgtk2.0-common (2.24.32-1ubuntu1) ...\n",
            "Selecting previously unselected package libgtk2.0-0:amd64.\n",
            "Preparing to unpack .../07-libgtk2.0-0_2.24.32-1ubuntu1_amd64.deb ...\n",
            "Unpacking libgtk2.0-0:amd64 (2.24.32-1ubuntu1) ...\n",
            "Selecting previously unselected package libgail18:amd64.\n",
            "Preparing to unpack .../08-libgail18_2.24.32-1ubuntu1_amd64.deb ...\n",
            "Unpacking libgail18:amd64 (2.24.32-1ubuntu1) ...\n",
            "Selecting previously unselected package libgail-common:amd64.\n",
            "Preparing to unpack .../09-libgail-common_2.24.32-1ubuntu1_amd64.deb ...\n",
            "Unpacking libgail-common:amd64 (2.24.32-1ubuntu1) ...\n",
            "Selecting previously unselected package libgtk2.0-bin.\n",
            "Preparing to unpack .../10-libgtk2.0-bin_2.24.32-1ubuntu1_amd64.deb ...\n",
            "Unpacking libgtk2.0-bin (2.24.32-1ubuntu1) ...\n",
            "Selecting previously unselected package openjdk-8-jre-headless:amd64.\n",
            "Preparing to unpack .../11-openjdk-8-jre-headless_8u312-b07-0ubuntu1~18.04_amd64.deb ...\n",
            "Unpacking openjdk-8-jre-headless:amd64 (8u312-b07-0ubuntu1~18.04) ...\n",
            "Selecting previously unselected package openjdk-8-jre:amd64.\n",
            "Preparing to unpack .../12-openjdk-8-jre_8u312-b07-0ubuntu1~18.04_amd64.deb ...\n",
            "Unpacking openjdk-8-jre:amd64 (8u312-b07-0ubuntu1~18.04) ...\n",
            "Selecting previously unselected package openjdk-8-jdk-headless:amd64.\n",
            "Preparing to unpack .../13-openjdk-8-jdk-headless_8u312-b07-0ubuntu1~18.04_amd64.deb ...\n",
            "Unpacking openjdk-8-jdk-headless:amd64 (8u312-b07-0ubuntu1~18.04) ...\n",
            "Selecting previously unselected package openjdk-8-jdk:amd64.\n",
            "Preparing to unpack .../14-openjdk-8-jdk_8u312-b07-0ubuntu1~18.04_amd64.deb ...\n",
            "Unpacking openjdk-8-jdk:amd64 (8u312-b07-0ubuntu1~18.04) ...\n",
            "Setting up libgtk2.0-common (2.24.32-1ubuntu1) ...\n",
            "Setting up fonts-dejavu-core (2.37-1) ...\n",
            "Setting up libxxf86dga1:amd64 (2:1.1.4-1) ...\n",
            "Setting up fonts-dejavu-extra (2.37-1) ...\n",
            "Setting up openjdk-8-jre-headless:amd64 (8u312-b07-0ubuntu1~18.04) ...\n",
            "update-alternatives: using /usr/lib/jvm/java-8-openjdk-amd64/jre/bin/orbd to provide /usr/bin/orbd (orbd) in auto mode\n",
            "update-alternatives: using /usr/lib/jvm/java-8-openjdk-amd64/jre/bin/servertool to provide /usr/bin/servertool (servertool) in auto mode\n",
            "update-alternatives: using /usr/lib/jvm/java-8-openjdk-amd64/jre/bin/tnameserv to provide /usr/bin/tnameserv (tnameserv) in auto mode\n",
            "Setting up libgtk2.0-0:amd64 (2.24.32-1ubuntu1) ...\n",
            "Setting up libgail18:amd64 (2.24.32-1ubuntu1) ...\n",
            "Setting up openjdk-8-jdk-headless:amd64 (8u312-b07-0ubuntu1~18.04) ...\n",
            "update-alternatives: using /usr/lib/jvm/java-8-openjdk-amd64/bin/idlj to provide /usr/bin/idlj (idlj) in auto mode\n",
            "update-alternatives: using /usr/lib/jvm/java-8-openjdk-amd64/bin/wsimport to provide /usr/bin/wsimport (wsimport) in auto mode\n",
            "update-alternatives: using /usr/lib/jvm/java-8-openjdk-amd64/bin/jsadebugd to provide /usr/bin/jsadebugd (jsadebugd) in auto mode\n",
            "update-alternatives: using /usr/lib/jvm/java-8-openjdk-amd64/bin/native2ascii to provide /usr/bin/native2ascii (native2ascii) in auto mode\n",
            "update-alternatives: using /usr/lib/jvm/java-8-openjdk-amd64/bin/javah to provide /usr/bin/javah (javah) in auto mode\n",
            "update-alternatives: using /usr/lib/jvm/java-8-openjdk-amd64/bin/hsdb to provide /usr/bin/hsdb (hsdb) in auto mode\n",
            "update-alternatives: using /usr/lib/jvm/java-8-openjdk-amd64/bin/clhsdb to provide /usr/bin/clhsdb (clhsdb) in auto mode\n",
            "update-alternatives: using /usr/lib/jvm/java-8-openjdk-amd64/bin/xjc to provide /usr/bin/xjc (xjc) in auto mode\n",
            "update-alternatives: using /usr/lib/jvm/java-8-openjdk-amd64/bin/schemagen to provide /usr/bin/schemagen (schemagen) in auto mode\n",
            "update-alternatives: using /usr/lib/jvm/java-8-openjdk-amd64/bin/extcheck to provide /usr/bin/extcheck (extcheck) in auto mode\n",
            "update-alternatives: using /usr/lib/jvm/java-8-openjdk-amd64/bin/jhat to provide /usr/bin/jhat (jhat) in auto mode\n",
            "update-alternatives: using /usr/lib/jvm/java-8-openjdk-amd64/bin/wsgen to provide /usr/bin/wsgen (wsgen) in auto mode\n",
            "Setting up x11-utils (7.7+3build1) ...\n",
            "Setting up libgail-common:amd64 (2.24.32-1ubuntu1) ...\n",
            "Setting up libatk-wrapper-java (0.33.3-20ubuntu0.1) ...\n",
            "Setting up libgtk2.0-bin (2.24.32-1ubuntu1) ...\n",
            "Setting up libatk-wrapper-java-jni:amd64 (0.33.3-20ubuntu0.1) ...\n",
            "Setting up openjdk-8-jre:amd64 (8u312-b07-0ubuntu1~18.04) ...\n",
            "update-alternatives: using /usr/lib/jvm/java-8-openjdk-amd64/jre/bin/policytool to provide /usr/bin/policytool (policytool) in auto mode\n",
            "Setting up openjdk-8-jdk:amd64 (8u312-b07-0ubuntu1~18.04) ...\n",
            "update-alternatives: using /usr/lib/jvm/java-8-openjdk-amd64/bin/appletviewer to provide /usr/bin/appletviewer (appletviewer) in auto mode\n",
            "update-alternatives: using /usr/lib/jvm/java-8-openjdk-amd64/bin/jconsole to provide /usr/bin/jconsole (jconsole) in auto mode\n",
            "Processing triggers for man-db (2.8.3-2ubuntu0.1) ...\n",
            "Processing triggers for hicolor-icon-theme (0.17-2) ...\n",
            "Processing triggers for fontconfig (2.12.6-0ubuntu2) ...\n",
            "Processing triggers for mime-support (3.60ubuntu1) ...\n",
            "Processing triggers for libc-bin (2.27-3ubuntu1.3) ...\n",
            "/sbin/ldconfig.real: /usr/local/lib/python3.7/dist-packages/ideep4py/lib/libmkldnn.so.0 is not a symbolic link\n",
            "\n",
            "There are 2 choices for the alternative java (providing /usr/bin/java).\n",
            "\n",
            "  Selection    Path                                            Priority   Status\n",
            "------------------------------------------------------------\n",
            "* 0            /usr/lib/jvm/java-11-openjdk-amd64/bin/java      1111      auto mode\n",
            "  1            /usr/lib/jvm/java-11-openjdk-amd64/bin/java      1111      manual mode\n",
            "  2            /usr/lib/jvm/java-8-openjdk-amd64/jre/bin/java   1081      manual mode\n",
            "\n",
            "Press <enter> to keep the current choice[*], or type selection number: 0\n"
          ]
        }
      ],
      "source": [
        "! sudo apt install openjdk-8-jdk\n",
        "! sudo update-alternatives --config java"
      ]
    },
    {
      "cell_type": "code",
      "execution_count": 3,
      "metadata": {
        "colab": {
          "base_uri": "https://localhost:8080/",
          "height": 625
        },
        "id": "678WFOguE-CF",
        "outputId": "b92c2337-ba3e-48f8-e52a-4402239ff467"
      },
      "outputs": [
        {
          "output_type": "stream",
          "name": "stdout",
          "text": [
            "Collecting pandas==1.0.5\n",
            "  Downloading pandas-1.0.5-cp37-cp37m-manylinux1_x86_64.whl (10.1 MB)\n",
            "\u001b[K     |████████████████████████████████| 10.1 MB 5.2 MB/s \n",
            "\u001b[?25hRequirement already satisfied: python-dateutil>=2.6.1 in /usr/local/lib/python3.7/dist-packages (from pandas==1.0.5) (2.8.2)\n",
            "Requirement already satisfied: numpy>=1.13.3 in /usr/local/lib/python3.7/dist-packages (from pandas==1.0.5) (1.21.5)\n",
            "Requirement already satisfied: pytz>=2017.2 in /usr/local/lib/python3.7/dist-packages (from pandas==1.0.5) (2018.9)\n",
            "Requirement already satisfied: six>=1.5 in /usr/local/lib/python3.7/dist-packages (from python-dateutil>=2.6.1->pandas==1.0.5) (1.15.0)\n",
            "Installing collected packages: pandas\n",
            "  Attempting uninstall: pandas\n",
            "    Found existing installation: pandas 1.3.5\n",
            "    Uninstalling pandas-1.3.5:\n",
            "      Successfully uninstalled pandas-1.3.5\n",
            "\u001b[31mERROR: pip's dependency resolver does not currently take into account all the packages that are installed. This behaviour is the source of the following dependency conflicts.\n",
            "google-colab 1.0.0 requires pandas>=1.1.0; python_version >= \"3.0\", but you have pandas 1.0.5 which is incompatible.\u001b[0m\n",
            "Successfully installed pandas-1.0.5\n"
          ]
        },
        {
          "output_type": "display_data",
          "data": {
            "application/vnd.colab-display-data+json": {
              "pip_warning": {
                "packages": [
                  "pandas"
                ]
              }
            }
          },
          "metadata": {}
        },
        {
          "output_type": "stream",
          "name": "stdout",
          "text": [
            "Collecting pyspark\n",
            "  Downloading pyspark-3.2.1.tar.gz (281.4 MB)\n",
            "\u001b[K     |████████████████████████████████| 281.4 MB 34 kB/s \n",
            "\u001b[?25hCollecting py4j==0.10.9.3\n",
            "  Downloading py4j-0.10.9.3-py2.py3-none-any.whl (198 kB)\n",
            "\u001b[K     |████████████████████████████████| 198 kB 46.8 MB/s \n",
            "\u001b[?25hBuilding wheels for collected packages: pyspark\n",
            "  Building wheel for pyspark (setup.py) ... \u001b[?25l\u001b[?25hdone\n",
            "  Created wheel for pyspark: filename=pyspark-3.2.1-py2.py3-none-any.whl size=281853642 sha256=19bf85a734f79954d09edbe53240d8268c9dff4202a1f8d63a1b2fa182016c1a\n",
            "  Stored in directory: /root/.cache/pip/wheels/9f/f5/07/7cd8017084dce4e93e84e92efd1e1d5334db05f2e83bcef74f\n",
            "Successfully built pyspark\n",
            "Installing collected packages: py4j, pyspark\n",
            "Successfully installed py4j-0.10.9.3 pyspark-3.2.1\n"
          ]
        }
      ],
      "source": [
        "!pip3 install pandas==1.0.5\n",
        "!pip3 install pyspark"
      ]
    },
    {
      "cell_type": "code",
      "execution_count": 1,
      "metadata": {
        "colab": {
          "base_uri": "https://localhost:8080/"
        },
        "id": "eAqMbSa7FA6b",
        "outputId": "5aabb2f4-35d0-4991-92f0-2a817fcf4ee8"
      },
      "outputs": [
        {
          "output_type": "stream",
          "name": "stdout",
          "text": [
            "True\n"
          ]
        }
      ],
      "source": [
        "# if restart of runtime is successful, the execution of this cell should\n",
        "# prints True\n",
        "\n",
        "import pandas as pd\n",
        "print(pd.__version__ == '1.0.5')"
      ]
    },
    {
      "cell_type": "code",
      "execution_count": 2,
      "metadata": {
        "id": "NodzYeBAGpnr"
      },
      "outputs": [],
      "source": [
        "import numpy as np \n",
        "import json\n",
        "import matplotlib\n",
        "import matplotlib.pyplot as plt\n",
        "from matplotlib import cm\n",
        "from datetime import datetime\n",
        "import glob\n",
        "import seaborn as sns\n",
        "import re\n",
        "import os\n",
        "from matplotlib import pyplot\n",
        "import seaborn\n",
        "import random\n",
        "pd.options.mode.chained_assignment = None"
      ]
    },
    {
      "cell_type": "markdown",
      "metadata": {
        "id": "1LUqDAYCa_kN"
      },
      "source": [
        "Import your dataset using the following cells for the Youtube videos"
      ]
    },
    {
      "cell_type": "code",
      "execution_count": 5,
      "metadata": {
        "colab": {
          "base_uri": "https://localhost:8080/",
          "height": 73,
          "resources": {
            "http://localhost:8080/nbextensions/google.colab/files.js": {
              "data": "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",
              "headers": [
                [
                  "content-type",
                  "application/javascript"
                ]
              ],
              "ok": true,
              "status": 200,
              "status_text": ""
            }
          }
        },
        "id": "bUWkvS3kHHve",
        "outputId": "abc97867-cf66-4c01-b8bd-1ed80c19722a"
      },
      "outputs": [
        {
          "output_type": "display_data",
          "data": {
            "text/html": [
              "\n",
              "     <input type=\"file\" id=\"files-39124b11-a7fb-4f87-b4a1-7016e4be6f15\" name=\"files[]\" multiple disabled\n",
              "        style=\"border:none\" />\n",
              "     <output id=\"result-39124b11-a7fb-4f87-b4a1-7016e4be6f15\">\n",
              "      Upload widget is only available when the cell has been executed in the\n",
              "      current browser session. Please rerun this cell to enable.\n",
              "      </output>\n",
              "      <script src=\"/nbextensions/google.colab/files.js\"></script> "
            ],
            "text/plain": [
              "<IPython.core.display.HTML object>"
            ]
          },
          "metadata": {}
        },
        {
          "output_type": "stream",
          "name": "stdout",
          "text": [
            "Saving youtube_data.zip to youtube_data.zip\n"
          ]
        }
      ],
      "source": [
        "from google.colab import files\n",
        "uploaded = files.upload()\n",
        "\n",
        "# !unzip /content/youtube_data.zip\n"
      ]
    },
    {
      "cell_type": "code",
      "execution_count": 3,
      "metadata": {
        "colab": {
          "base_uri": "https://localhost:8080/"
        },
        "id": "XY48Qb1Stjmm",
        "outputId": "2eaac4ba-3d08-41e4-8daa-e3685376859c"
      },
      "outputs": [
        {
          "output_type": "stream",
          "name": "stdout",
          "text": [
            "Archive:  /content/youtube_data.zip\n",
            "replace youtube_data/IN_category_id.json? [y]es, [n]o, [A]ll, [N]one, [r]ename: N\n"
          ]
        }
      ],
      "source": [
        "!unzip /content/youtube_data.zip\n"
      ]
    },
    {
      "cell_type": "markdown",
      "metadata": {
        "id": "lzax5Hp70oGW"
      },
      "source": [
        "# Section 5.1. : Machine Learning with Sklearn (45 points)"
      ]
    },
    {
      "cell_type": "markdown",
      "metadata": {
        "id": "Ecg1d6dwais8"
      },
      "source": [
        "## 5.1.1 Data loading and Preprocessing (5 pts)\n",
        "\n",
        "The dataset consists of a daily record of the top trending YouTube videos.\n",
        "\n",
        "To determine the year’s top-trending videos, YouTube uses a combination of factors including measuring users interactions, e.g., number of views, shares, comments and likes. \"Note that they’re not the most-viewed videos overall for the calendar year”. Top performers on the YouTube trending list are music videos (such as the famously viral “[Gangnam Style](https://www.youtube.com/watch?v=9bZkp7q19f0)”), celebrity and/or reality TV performances, and the random dude-with-a-camera viral videos that YouTube is well-known for.\n",
        "\n",
        "This dataset includes several months (and counting) of data on daily trending YouTube videos. Data is included for numerous countries, with up to 200 listed trending videos per day.\n",
        "\n",
        "Each region’s data is in a separate file. Data includes:\n",
        "\n",
        "*   Video Title\n",
        "*   Channel title\n",
        "*   Publish time\n",
        "*   Tags\n",
        "*   Views\n",
        "*   Likes\n",
        "*   Dislikes\n",
        "*   Description\n",
        "*   Comment count\n",
        "\n",
        "The data also includes a category\\_id field, which varies between regions. To retrieve the categories for a specific video, find it in the associated JSON. One such file is included for each of the five regions in the dataset.\n",
        "\n",
        "For more information on specific columns in the dataset refer to the column metadata.\n",
        "\n"
      ]
    },
    {
      "cell_type": "markdown",
      "metadata": {
        "id": "XCNsu176IR5x"
      },
      "source": [
        "#### 5.1.1.1: Combining Multiple CSV's. (2 pts.)\n",
        "\n",
        "There are multiple csv files in the dataset, each corresponding to a specific country. As a first step you need to read them and combine these csv files into a single dataframe. Use 'video_id' as your index.\n",
        "\n",
        "While combining them, you also need to create a column for \"country\" and fill it in the final dataframe. The country name can be extracted using the filename itself.\n",
        "\n",
        "Name your dataframe \"combined_data\"."
      ]
    },
    {
      "cell_type": "code",
      "execution_count": 4,
      "metadata": {
        "colab": {
          "base_uri": "https://localhost:8080/",
          "height": 1000
        },
        "id": "V_tuqP5Wahf_",
        "outputId": "aeaa0c81-5c14-486e-df50-83cedb540399"
      },
      "outputs": [
        {
          "output_type": "execute_result",
          "data": {
            "text/html": [
              "\n",
              "  <div id=\"df-4f93a6db-1c8f-40d4-b8bb-c616f1242a20\">\n",
              "    <div class=\"colab-df-container\">\n",
              "      <div>\n",
              "<style scoped>\n",
              "    .dataframe tbody tr th:only-of-type {\n",
              "        vertical-align: middle;\n",
              "    }\n",
              "\n",
              "    .dataframe tbody tr th {\n",
              "        vertical-align: top;\n",
              "    }\n",
              "\n",
              "    .dataframe thead th {\n",
              "        text-align: right;\n",
              "    }\n",
              "</style>\n",
              "<table border=\"1\" class=\"dataframe\">\n",
              "  <thead>\n",
              "    <tr style=\"text-align: right;\">\n",
              "      <th></th>\n",
              "      <th>trending_date</th>\n",
              "      <th>title</th>\n",
              "      <th>channel_title</th>\n",
              "      <th>category_id</th>\n",
              "      <th>publish_time</th>\n",
              "      <th>tags</th>\n",
              "      <th>views</th>\n",
              "      <th>likes</th>\n",
              "      <th>dislikes</th>\n",
              "      <th>comment_count</th>\n",
              "      <th>thumbnail_link</th>\n",
              "      <th>comments_disabled</th>\n",
              "      <th>ratings_disabled</th>\n",
              "      <th>video_error_or_removed</th>\n",
              "      <th>description</th>\n",
              "      <th>country</th>\n",
              "    </tr>\n",
              "    <tr>\n",
              "      <th>video_id</th>\n",
              "      <th></th>\n",
              "      <th></th>\n",
              "      <th></th>\n",
              "      <th></th>\n",
              "      <th></th>\n",
              "      <th></th>\n",
              "      <th></th>\n",
              "      <th></th>\n",
              "      <th></th>\n",
              "      <th></th>\n",
              "      <th></th>\n",
              "      <th></th>\n",
              "      <th></th>\n",
              "      <th></th>\n",
              "      <th></th>\n",
              "      <th></th>\n",
              "    </tr>\n",
              "  </thead>\n",
              "  <tbody>\n",
              "    <tr>\n",
              "      <th>kzwfHumJyYc</th>\n",
              "      <td>17.14.11</td>\n",
              "      <td>Sharry Mann: Cute Munda ( Song Teaser) | Parmi...</td>\n",
              "      <td>Lokdhun Punjabi</td>\n",
              "      <td>1</td>\n",
              "      <td>2017-11-12T12:20:39.000Z</td>\n",
              "      <td>sharry mann|\"sharry mann new song\"|\"sharry man...</td>\n",
              "      <td>1096327</td>\n",
              "      <td>33966</td>\n",
              "      <td>798</td>\n",
              "      <td>882</td>\n",
              "      <td>https://i.ytimg.com/vi/kzwfHumJyYc/default.jpg</td>\n",
              "      <td>False</td>\n",
              "      <td>False</td>\n",
              "      <td>False</td>\n",
              "      <td>Presenting Sharry Mann latest Punjabi Song  Cu...</td>\n",
              "      <td>IN</td>\n",
              "    </tr>\n",
              "    <tr>\n",
              "      <th>zUZ1z7FwLc8</th>\n",
              "      <td>17.14.11</td>\n",
              "      <td>पीरियड्स के समय, पेट पर पति करता ऐसा, देखकर दं...</td>\n",
              "      <td>HJ NEWS</td>\n",
              "      <td>25</td>\n",
              "      <td>2017-11-13T05:43:56.000Z</td>\n",
              "      <td>पीरियड्स के समय|\"पेट पर पति करता ऐसा\"|\"देखकर द...</td>\n",
              "      <td>590101</td>\n",
              "      <td>735</td>\n",
              "      <td>904</td>\n",
              "      <td>0</td>\n",
              "      <td>https://i.ytimg.com/vi/zUZ1z7FwLc8/default.jpg</td>\n",
              "      <td>True</td>\n",
              "      <td>False</td>\n",
              "      <td>False</td>\n",
              "      <td>पीरियड्स के समय, पेट पर पति करता ऐसा, देखकर दं...</td>\n",
              "      <td>IN</td>\n",
              "    </tr>\n",
              "    <tr>\n",
              "      <th>10L1hZ9qa58</th>\n",
              "      <td>17.14.11</td>\n",
              "      <td>Stylish Star Allu Arjun @ ChaySam Wedding Rece...</td>\n",
              "      <td>TFPC</td>\n",
              "      <td>24</td>\n",
              "      <td>2017-11-12T15:48:08.000Z</td>\n",
              "      <td>Stylish Star Allu Arjun @ ChaySam Wedding Rece...</td>\n",
              "      <td>473988</td>\n",
              "      <td>2011</td>\n",
              "      <td>243</td>\n",
              "      <td>149</td>\n",
              "      <td>https://i.ytimg.com/vi/10L1hZ9qa58/default.jpg</td>\n",
              "      <td>False</td>\n",
              "      <td>False</td>\n",
              "      <td>False</td>\n",
              "      <td>Watch Stylish Star Allu Arjun @ ChaySam Weddin...</td>\n",
              "      <td>IN</td>\n",
              "    </tr>\n",
              "    <tr>\n",
              "      <th>N1vE8iiEg64</th>\n",
              "      <td>17.14.11</td>\n",
              "      <td>Eruma Saani | Tamil vs English</td>\n",
              "      <td>Eruma Saani</td>\n",
              "      <td>23</td>\n",
              "      <td>2017-11-12T07:08:48.000Z</td>\n",
              "      <td>Eruma Saani|\"Tamil Comedy Videos\"|\"Films\"|\"Mov...</td>\n",
              "      <td>1242680</td>\n",
              "      <td>70353</td>\n",
              "      <td>1624</td>\n",
              "      <td>2684</td>\n",
              "      <td>https://i.ytimg.com/vi/N1vE8iiEg64/default.jpg</td>\n",
              "      <td>False</td>\n",
              "      <td>False</td>\n",
              "      <td>False</td>\n",
              "      <td>This video showcases the difference between pe...</td>\n",
              "      <td>IN</td>\n",
              "    </tr>\n",
              "    <tr>\n",
              "      <th>kJzGH0PVQHQ</th>\n",
              "      <td>17.14.11</td>\n",
              "      <td>why Samantha became EMOTIONAL @ Samantha naga ...</td>\n",
              "      <td>Filmylooks</td>\n",
              "      <td>24</td>\n",
              "      <td>2017-11-13T01:14:16.000Z</td>\n",
              "      <td>Filmylooks|\"latest news\"|\"telugu movies\"|\"telu...</td>\n",
              "      <td>464015</td>\n",
              "      <td>492</td>\n",
              "      <td>293</td>\n",
              "      <td>66</td>\n",
              "      <td>https://i.ytimg.com/vi/kJzGH0PVQHQ/default.jpg</td>\n",
              "      <td>False</td>\n",
              "      <td>False</td>\n",
              "      <td>False</td>\n",
              "      <td>why Samantha became EMOTIONAL @ Samantha naga ...</td>\n",
              "      <td>IN</td>\n",
              "    </tr>\n",
              "    <tr>\n",
              "      <th>...</th>\n",
              "      <td>...</td>\n",
              "      <td>...</td>\n",
              "      <td>...</td>\n",
              "      <td>...</td>\n",
              "      <td>...</td>\n",
              "      <td>...</td>\n",
              "      <td>...</td>\n",
              "      <td>...</td>\n",
              "      <td>...</td>\n",
              "      <td>...</td>\n",
              "      <td>...</td>\n",
              "      <td>...</td>\n",
              "      <td>...</td>\n",
              "      <td>...</td>\n",
              "      <td>...</td>\n",
              "      <td>...</td>\n",
              "    </tr>\n",
              "    <tr>\n",
              "      <th>BZt0qjTWNhw</th>\n",
              "      <td>18.14.06</td>\n",
              "      <td>The Cat Who Caught the Laser</td>\n",
              "      <td>AaronsAnimals</td>\n",
              "      <td>15</td>\n",
              "      <td>2018-05-18T13:00:04.000Z</td>\n",
              "      <td>aarons animals|\"aarons\"|\"animals\"|\"cat\"|\"cats\"...</td>\n",
              "      <td>1685609</td>\n",
              "      <td>38160</td>\n",
              "      <td>1385</td>\n",
              "      <td>2657</td>\n",
              "      <td>https://i.ytimg.com/vi/BZt0qjTWNhw/default.jpg</td>\n",
              "      <td>False</td>\n",
              "      <td>False</td>\n",
              "      <td>False</td>\n",
              "      <td>The Cat Who Caught the Laser - Aaron's Animals</td>\n",
              "      <td>US</td>\n",
              "    </tr>\n",
              "    <tr>\n",
              "      <th>1h7KV2sjUWY</th>\n",
              "      <td>18.14.06</td>\n",
              "      <td>True Facts : Ant Mutualism</td>\n",
              "      <td>zefrank1</td>\n",
              "      <td>22</td>\n",
              "      <td>2018-05-18T01:00:06.000Z</td>\n",
              "      <td>[none]</td>\n",
              "      <td>1064798</td>\n",
              "      <td>60008</td>\n",
              "      <td>382</td>\n",
              "      <td>3936</td>\n",
              "      <td>https://i.ytimg.com/vi/1h7KV2sjUWY/default.jpg</td>\n",
              "      <td>False</td>\n",
              "      <td>False</td>\n",
              "      <td>False</td>\n",
              "      <td>NaN</td>\n",
              "      <td>US</td>\n",
              "    </tr>\n",
              "    <tr>\n",
              "      <th>D6Oy4LfoqsU</th>\n",
              "      <td>18.14.06</td>\n",
              "      <td>I GAVE SAFIYA NYGAARD A PERFECT HAIR MAKEOVER ...</td>\n",
              "      <td>Brad Mondo</td>\n",
              "      <td>24</td>\n",
              "      <td>2018-05-18T17:34:22.000Z</td>\n",
              "      <td>I gave safiya nygaard a perfect hair makeover ...</td>\n",
              "      <td>1066451</td>\n",
              "      <td>48068</td>\n",
              "      <td>1032</td>\n",
              "      <td>3992</td>\n",
              "      <td>https://i.ytimg.com/vi/D6Oy4LfoqsU/default.jpg</td>\n",
              "      <td>False</td>\n",
              "      <td>False</td>\n",
              "      <td>False</td>\n",
              "      <td>I had so much fun transforming Safiyas hair in...</td>\n",
              "      <td>US</td>\n",
              "    </tr>\n",
              "    <tr>\n",
              "      <th>oV0zkMe1K8s</th>\n",
              "      <td>18.14.06</td>\n",
              "      <td>How Black Panther Should Have Ended</td>\n",
              "      <td>How It Should Have Ended</td>\n",
              "      <td>1</td>\n",
              "      <td>2018-05-17T17:00:04.000Z</td>\n",
              "      <td>Black Panther|\"HISHE\"|\"Marvel\"|\"Infinity War\"|...</td>\n",
              "      <td>5660813</td>\n",
              "      <td>192957</td>\n",
              "      <td>2846</td>\n",
              "      <td>13088</td>\n",
              "      <td>https://i.ytimg.com/vi/oV0zkMe1K8s/default.jpg</td>\n",
              "      <td>False</td>\n",
              "      <td>False</td>\n",
              "      <td>False</td>\n",
              "      <td>How Black Panther Should Have EndedWatch More ...</td>\n",
              "      <td>US</td>\n",
              "    </tr>\n",
              "    <tr>\n",
              "      <th>ooyjaVdt-jA</th>\n",
              "      <td>18.14.06</td>\n",
              "      <td>Official Call of Duty®: Black Ops 4 — Multipla...</td>\n",
              "      <td>Call of Duty</td>\n",
              "      <td>20</td>\n",
              "      <td>2018-05-17T17:09:38.000Z</td>\n",
              "      <td>call of duty|\"cod\"|\"activision\"|\"Black Ops 4\"</td>\n",
              "      <td>10306119</td>\n",
              "      <td>357079</td>\n",
              "      <td>212976</td>\n",
              "      <td>144795</td>\n",
              "      <td>https://i.ytimg.com/vi/ooyjaVdt-jA/default.jpg</td>\n",
              "      <td>False</td>\n",
              "      <td>False</td>\n",
              "      <td>False</td>\n",
              "      <td>Call of Duty: Black Ops 4 Multiplayer raises t...</td>\n",
              "      <td>US</td>\n",
              "    </tr>\n",
              "  </tbody>\n",
              "</table>\n",
              "<p>159906 rows × 16 columns</p>\n",
              "</div>\n",
              "      <button class=\"colab-df-convert\" onclick=\"convertToInteractive('df-4f93a6db-1c8f-40d4-b8bb-c616f1242a20')\"\n",
              "              title=\"Convert this dataframe to an interactive table.\"\n",
              "              style=\"display:none;\">\n",
              "        \n",
              "  <svg xmlns=\"http://www.w3.org/2000/svg\" height=\"24px\"viewBox=\"0 0 24 24\"\n",
              "       width=\"24px\">\n",
              "    <path d=\"M0 0h24v24H0V0z\" fill=\"none\"/>\n",
              "    <path d=\"M18.56 5.44l.94 2.06.94-2.06 2.06-.94-2.06-.94-.94-2.06-.94 2.06-2.06.94zm-11 1L8.5 8.5l.94-2.06 2.06-.94-2.06-.94L8.5 2.5l-.94 2.06-2.06.94zm10 10l.94 2.06.94-2.06 2.06-.94-2.06-.94-.94-2.06-.94 2.06-2.06.94z\"/><path d=\"M17.41 7.96l-1.37-1.37c-.4-.4-.92-.59-1.43-.59-.52 0-1.04.2-1.43.59L10.3 9.45l-7.72 7.72c-.78.78-.78 2.05 0 2.83L4 21.41c.39.39.9.59 1.41.59.51 0 1.02-.2 1.41-.59l7.78-7.78 2.81-2.81c.8-.78.8-2.07 0-2.86zM5.41 20L4 18.59l7.72-7.72 1.47 1.35L5.41 20z\"/>\n",
              "  </svg>\n",
              "      </button>\n",
              "      \n",
              "  <style>\n",
              "    .colab-df-container {\n",
              "      display:flex;\n",
              "      flex-wrap:wrap;\n",
              "      gap: 12px;\n",
              "    }\n",
              "\n",
              "    .colab-df-convert {\n",
              "      background-color: #E8F0FE;\n",
              "      border: none;\n",
              "      border-radius: 50%;\n",
              "      cursor: pointer;\n",
              "      display: none;\n",
              "      fill: #1967D2;\n",
              "      height: 32px;\n",
              "      padding: 0 0 0 0;\n",
              "      width: 32px;\n",
              "    }\n",
              "\n",
              "    .colab-df-convert:hover {\n",
              "      background-color: #E2EBFA;\n",
              "      box-shadow: 0px 1px 2px rgba(60, 64, 67, 0.3), 0px 1px 3px 1px rgba(60, 64, 67, 0.15);\n",
              "      fill: #174EA6;\n",
              "    }\n",
              "\n",
              "    [theme=dark] .colab-df-convert {\n",
              "      background-color: #3B4455;\n",
              "      fill: #D2E3FC;\n",
              "    }\n",
              "\n",
              "    [theme=dark] .colab-df-convert:hover {\n",
              "      background-color: #434B5C;\n",
              "      box-shadow: 0px 1px 3px 1px rgba(0, 0, 0, 0.15);\n",
              "      filter: drop-shadow(0px 1px 2px rgba(0, 0, 0, 0.3));\n",
              "      fill: #FFFFFF;\n",
              "    }\n",
              "  </style>\n",
              "\n",
              "      <script>\n",
              "        const buttonEl =\n",
              "          document.querySelector('#df-4f93a6db-1c8f-40d4-b8bb-c616f1242a20 button.colab-df-convert');\n",
              "        buttonEl.style.display =\n",
              "          google.colab.kernel.accessAllowed ? 'block' : 'none';\n",
              "\n",
              "        async function convertToInteractive(key) {\n",
              "          const element = document.querySelector('#df-4f93a6db-1c8f-40d4-b8bb-c616f1242a20');\n",
              "          const dataTable =\n",
              "            await google.colab.kernel.invokeFunction('convertToInteractive',\n",
              "                                                     [key], {});\n",
              "          if (!dataTable) return;\n",
              "\n",
              "          const docLinkHtml = 'Like what you see? Visit the ' +\n",
              "            '<a target=\"_blank\" href=https://colab.research.google.com/notebooks/data_table.ipynb>data table notebook</a>'\n",
              "            + ' to learn more about interactive tables.';\n",
              "          element.innerHTML = '';\n",
              "          dataTable['output_type'] = 'display_data';\n",
              "          await google.colab.output.renderOutput(dataTable, element);\n",
              "          const docLink = document.createElement('div');\n",
              "          docLink.innerHTML = docLinkHtml;\n",
              "          element.appendChild(docLink);\n",
              "        }\n",
              "      </script>\n",
              "    </div>\n",
              "  </div>\n",
              "  "
            ],
            "text/plain": [
              "            trending_date  ... country\n",
              "video_id                   ...        \n",
              "kzwfHumJyYc      17.14.11  ...      IN\n",
              "zUZ1z7FwLc8      17.14.11  ...      IN\n",
              "10L1hZ9qa58      17.14.11  ...      IN\n",
              "N1vE8iiEg64      17.14.11  ...      IN\n",
              "kJzGH0PVQHQ      17.14.11  ...      IN\n",
              "...                   ...  ...     ...\n",
              "BZt0qjTWNhw      18.14.06  ...      US\n",
              "1h7KV2sjUWY      18.14.06  ...      US\n",
              "D6Oy4LfoqsU      18.14.06  ...      US\n",
              "oV0zkMe1K8s      18.14.06  ...      US\n",
              "ooyjaVdt-jA      18.14.06  ...      US\n",
              "\n",
              "[159906 rows x 16 columns]"
            ]
          },
          "metadata": {},
          "execution_count": 4
        }
      ],
      "source": [
        "# Import all the csv files\n",
        "#files = [i for i in glob.glob('/content/youtube_data/*.csv'.format('csv'))]\n",
        "# files = [i for i in glob.glob('/content/gdrive/MyDrive/youtube-data/*.csv'.format('csv'))]\n",
        "# sorted(files)\n",
        "\n",
        "files = [i for i in glob.glob('/content/youtube_data/*.csv'.format('csv'))]\n",
        "sorted(files)\n",
        "\n",
        "# Task: Merge all dataframes to single dataframe \"combined_data\" and add a 'country' column. \n",
        "all_dataframes = list()\n",
        "for csv in files:\n",
        "  # all_dataframes.append(pd.read_csv(csv))\n",
        "  frame = pd.read_csv(csv,index_col=0)\n",
        "  frame['country'] = os.path.basename(csv)\n",
        "  all_dataframes.append(frame)\n",
        "\n",
        "combined_data = pd.concat(all_dataframes)\n",
        "combined_data['country']=combined_data['country'].map(lambda x: x.lstrip('+-').rstrip('videos.csv'))\n",
        "combined_data"
      ]
    },
    {
      "cell_type": "markdown",
      "metadata": {
        "id": "PdfKNvDqILsh"
      },
      "source": [
        "#### 5.1.1.2: Map category Id's to categories (2 pts)\n",
        "\n",
        "Read the category_id.json file and map the category_id's in the dataframe to the category name.\n",
        "\n",
        "Use json.load to read in the data in the json file as a python dictionary and then map the category id given in the dataframe to category name from the json file. (Hint: the US json is likely the most comprehensive reference)\n",
        "\n",
        "\n"
      ]
    },
    {
      "cell_type": "code",
      "execution_count": 5,
      "metadata": {
        "colab": {
          "base_uri": "https://localhost:8080/",
          "height": 1000
        },
        "id": "xDyMBIoRGdi0",
        "outputId": "d947a09f-d67b-4cd8-bbdf-0f67545041f8"
      },
      "outputs": [
        {
          "output_type": "execute_result",
          "data": {
            "text/html": [
              "\n",
              "  <div id=\"df-4de0f40b-15f3-4973-93d5-bb502fec1f65\">\n",
              "    <div class=\"colab-df-container\">\n",
              "      <div>\n",
              "<style scoped>\n",
              "    .dataframe tbody tr th:only-of-type {\n",
              "        vertical-align: middle;\n",
              "    }\n",
              "\n",
              "    .dataframe tbody tr th {\n",
              "        vertical-align: top;\n",
              "    }\n",
              "\n",
              "    .dataframe thead th {\n",
              "        text-align: right;\n",
              "    }\n",
              "</style>\n",
              "<table border=\"1\" class=\"dataframe\">\n",
              "  <thead>\n",
              "    <tr style=\"text-align: right;\">\n",
              "      <th></th>\n",
              "      <th>trending_date</th>\n",
              "      <th>title</th>\n",
              "      <th>channel_title</th>\n",
              "      <th>category_id</th>\n",
              "      <th>publish_time</th>\n",
              "      <th>tags</th>\n",
              "      <th>views</th>\n",
              "      <th>likes</th>\n",
              "      <th>dislikes</th>\n",
              "      <th>comment_count</th>\n",
              "      <th>thumbnail_link</th>\n",
              "      <th>comments_disabled</th>\n",
              "      <th>ratings_disabled</th>\n",
              "      <th>video_error_or_removed</th>\n",
              "      <th>description</th>\n",
              "      <th>country</th>\n",
              "      <th>category</th>\n",
              "    </tr>\n",
              "    <tr>\n",
              "      <th>video_id</th>\n",
              "      <th></th>\n",
              "      <th></th>\n",
              "      <th></th>\n",
              "      <th></th>\n",
              "      <th></th>\n",
              "      <th></th>\n",
              "      <th></th>\n",
              "      <th></th>\n",
              "      <th></th>\n",
              "      <th></th>\n",
              "      <th></th>\n",
              "      <th></th>\n",
              "      <th></th>\n",
              "      <th></th>\n",
              "      <th></th>\n",
              "      <th></th>\n",
              "      <th></th>\n",
              "    </tr>\n",
              "  </thead>\n",
              "  <tbody>\n",
              "    <tr>\n",
              "      <th>kzwfHumJyYc</th>\n",
              "      <td>17.14.11</td>\n",
              "      <td>Sharry Mann: Cute Munda ( Song Teaser) | Parmi...</td>\n",
              "      <td>Lokdhun Punjabi</td>\n",
              "      <td>1</td>\n",
              "      <td>2017-11-12T12:20:39.000Z</td>\n",
              "      <td>sharry mann|\"sharry mann new song\"|\"sharry man...</td>\n",
              "      <td>1096327</td>\n",
              "      <td>33966</td>\n",
              "      <td>798</td>\n",
              "      <td>882</td>\n",
              "      <td>https://i.ytimg.com/vi/kzwfHumJyYc/default.jpg</td>\n",
              "      <td>False</td>\n",
              "      <td>False</td>\n",
              "      <td>False</td>\n",
              "      <td>Presenting Sharry Mann latest Punjabi Song  Cu...</td>\n",
              "      <td>IN</td>\n",
              "      <td>Film &amp; Animation</td>\n",
              "    </tr>\n",
              "    <tr>\n",
              "      <th>zUZ1z7FwLc8</th>\n",
              "      <td>17.14.11</td>\n",
              "      <td>पीरियड्स के समय, पेट पर पति करता ऐसा, देखकर दं...</td>\n",
              "      <td>HJ NEWS</td>\n",
              "      <td>25</td>\n",
              "      <td>2017-11-13T05:43:56.000Z</td>\n",
              "      <td>पीरियड्स के समय|\"पेट पर पति करता ऐसा\"|\"देखकर द...</td>\n",
              "      <td>590101</td>\n",
              "      <td>735</td>\n",
              "      <td>904</td>\n",
              "      <td>0</td>\n",
              "      <td>https://i.ytimg.com/vi/zUZ1z7FwLc8/default.jpg</td>\n",
              "      <td>True</td>\n",
              "      <td>False</td>\n",
              "      <td>False</td>\n",
              "      <td>पीरियड्स के समय, पेट पर पति करता ऐसा, देखकर दं...</td>\n",
              "      <td>IN</td>\n",
              "      <td>News &amp; Politics</td>\n",
              "    </tr>\n",
              "    <tr>\n",
              "      <th>10L1hZ9qa58</th>\n",
              "      <td>17.14.11</td>\n",
              "      <td>Stylish Star Allu Arjun @ ChaySam Wedding Rece...</td>\n",
              "      <td>TFPC</td>\n",
              "      <td>24</td>\n",
              "      <td>2017-11-12T15:48:08.000Z</td>\n",
              "      <td>Stylish Star Allu Arjun @ ChaySam Wedding Rece...</td>\n",
              "      <td>473988</td>\n",
              "      <td>2011</td>\n",
              "      <td>243</td>\n",
              "      <td>149</td>\n",
              "      <td>https://i.ytimg.com/vi/10L1hZ9qa58/default.jpg</td>\n",
              "      <td>False</td>\n",
              "      <td>False</td>\n",
              "      <td>False</td>\n",
              "      <td>Watch Stylish Star Allu Arjun @ ChaySam Weddin...</td>\n",
              "      <td>IN</td>\n",
              "      <td>Entertainment</td>\n",
              "    </tr>\n",
              "    <tr>\n",
              "      <th>N1vE8iiEg64</th>\n",
              "      <td>17.14.11</td>\n",
              "      <td>Eruma Saani | Tamil vs English</td>\n",
              "      <td>Eruma Saani</td>\n",
              "      <td>23</td>\n",
              "      <td>2017-11-12T07:08:48.000Z</td>\n",
              "      <td>Eruma Saani|\"Tamil Comedy Videos\"|\"Films\"|\"Mov...</td>\n",
              "      <td>1242680</td>\n",
              "      <td>70353</td>\n",
              "      <td>1624</td>\n",
              "      <td>2684</td>\n",
              "      <td>https://i.ytimg.com/vi/N1vE8iiEg64/default.jpg</td>\n",
              "      <td>False</td>\n",
              "      <td>False</td>\n",
              "      <td>False</td>\n",
              "      <td>This video showcases the difference between pe...</td>\n",
              "      <td>IN</td>\n",
              "      <td>Comedy</td>\n",
              "    </tr>\n",
              "    <tr>\n",
              "      <th>kJzGH0PVQHQ</th>\n",
              "      <td>17.14.11</td>\n",
              "      <td>why Samantha became EMOTIONAL @ Samantha naga ...</td>\n",
              "      <td>Filmylooks</td>\n",
              "      <td>24</td>\n",
              "      <td>2017-11-13T01:14:16.000Z</td>\n",
              "      <td>Filmylooks|\"latest news\"|\"telugu movies\"|\"telu...</td>\n",
              "      <td>464015</td>\n",
              "      <td>492</td>\n",
              "      <td>293</td>\n",
              "      <td>66</td>\n",
              "      <td>https://i.ytimg.com/vi/kJzGH0PVQHQ/default.jpg</td>\n",
              "      <td>False</td>\n",
              "      <td>False</td>\n",
              "      <td>False</td>\n",
              "      <td>why Samantha became EMOTIONAL @ Samantha naga ...</td>\n",
              "      <td>IN</td>\n",
              "      <td>Entertainment</td>\n",
              "    </tr>\n",
              "    <tr>\n",
              "      <th>il_pSa5l98w</th>\n",
              "      <td>17.14.11</td>\n",
              "      <td>MCA (Middle Class Abbayi) TEASER - Nani,Sai Pa...</td>\n",
              "      <td>Dil Raju</td>\n",
              "      <td>24</td>\n",
              "      <td>2017-11-10T04:29:50.000Z</td>\n",
              "      <td>Nenu Local|\"Nenu Local Telugu Movie\"|\"Nani\"|\"S...</td>\n",
              "      <td>6106669</td>\n",
              "      <td>98612</td>\n",
              "      <td>4185</td>\n",
              "      <td>4763</td>\n",
              "      <td>https://i.ytimg.com/vi/il_pSa5l98w/default.jpg</td>\n",
              "      <td>False</td>\n",
              "      <td>False</td>\n",
              "      <td>False</td>\n",
              "      <td>Watch MCA- Middle Class Abbayi First Look Teas...</td>\n",
              "      <td>IN</td>\n",
              "      <td>Entertainment</td>\n",
              "    </tr>\n",
              "    <tr>\n",
              "      <th>7MxiQ4v0EnE</th>\n",
              "      <td>17.14.11</td>\n",
              "      <td>Daang ( Full Video ) | Mankirt Aulakh | Sukh S...</td>\n",
              "      <td>Speed Records</td>\n",
              "      <td>10</td>\n",
              "      <td>2017-11-11T16:41:15.000Z</td>\n",
              "      <td>punjabi songs|\"punjabi bhangra\"|\"punjabi music...</td>\n",
              "      <td>5718766</td>\n",
              "      <td>127477</td>\n",
              "      <td>7134</td>\n",
              "      <td>8063</td>\n",
              "      <td>https://i.ytimg.com/vi/7MxiQ4v0EnE/default.jpg</td>\n",
              "      <td>False</td>\n",
              "      <td>False</td>\n",
              "      <td>False</td>\n",
              "      <td>Song - Daang\\nSinger - Mankirt Aulakh\\nFaceboo...</td>\n",
              "      <td>IN</td>\n",
              "      <td>Music</td>\n",
              "    </tr>\n",
              "    <tr>\n",
              "      <th>c64I9HNpiOY</th>\n",
              "      <td>17.14.11</td>\n",
              "      <td>Padmavati : Ek Dil Ek Jaan Video Song | Deepik...</td>\n",
              "      <td>T-Series</td>\n",
              "      <td>10</td>\n",
              "      <td>2017-11-11T06:14:19.000Z</td>\n",
              "      <td>Ek Dil Ek Jaan Video Song|\"'Ek Dil Ek Jaan'\"|\"...</td>\n",
              "      <td>10588371</td>\n",
              "      <td>132738</td>\n",
              "      <td>8812</td>\n",
              "      <td>10847</td>\n",
              "      <td>https://i.ytimg.com/vi/c64I9HNpiOY/default.jpg</td>\n",
              "      <td>False</td>\n",
              "      <td>False</td>\n",
              "      <td>False</td>\n",
              "      <td>Presenting the song 'Ek Dil Ek Jaan' from Padm...</td>\n",
              "      <td>IN</td>\n",
              "      <td>Music</td>\n",
              "    </tr>\n",
              "    <tr>\n",
              "      <th>KObFEYCaRx8</th>\n",
              "      <td>17.14.11</td>\n",
              "      <td>Chiranjeevi in Naga Chaitanya - Samantha Recep...</td>\n",
              "      <td>Top Telugu Media</td>\n",
              "      <td>24</td>\n",
              "      <td>2017-11-13T04:42:26.000Z</td>\n",
              "      <td>Chiranjeevi in Naga Chaitanya - Samantha Recep...</td>\n",
              "      <td>118223</td>\n",
              "      <td>520</td>\n",
              "      <td>53</td>\n",
              "      <td>23</td>\n",
              "      <td>https://i.ytimg.com/vi/KObFEYCaRx8/default.jpg</td>\n",
              "      <td>False</td>\n",
              "      <td>False</td>\n",
              "      <td>False</td>\n",
              "      <td>Chiranjeevi in Naga Chaitanya - Samantha Recep...</td>\n",
              "      <td>IN</td>\n",
              "      <td>Entertainment</td>\n",
              "    </tr>\n",
              "    <tr>\n",
              "      <th>g8QsfJhFpjY</th>\n",
              "      <td>17.14.11</td>\n",
              "      <td>New bike vs Old bike - the reality</td>\n",
              "      <td>Jump Cuts</td>\n",
              "      <td>24</td>\n",
              "      <td>2017-11-12T04:30:01.000Z</td>\n",
              "      <td>Jump cuts|\"Jumpcuts\"|\"Tamil comedy\"|\"Tamil Com...</td>\n",
              "      <td>969030</td>\n",
              "      <td>59798</td>\n",
              "      <td>1545</td>\n",
              "      <td>2404</td>\n",
              "      <td>https://i.ytimg.com/vi/g8QsfJhFpjY/default.jpg</td>\n",
              "      <td>False</td>\n",
              "      <td>False</td>\n",
              "      <td>False</td>\n",
              "      <td>Jump Cuts is a Tamil entertaining group by Har...</td>\n",
              "      <td>IN</td>\n",
              "      <td>Entertainment</td>\n",
              "    </tr>\n",
              "  </tbody>\n",
              "</table>\n",
              "</div>\n",
              "      <button class=\"colab-df-convert\" onclick=\"convertToInteractive('df-4de0f40b-15f3-4973-93d5-bb502fec1f65')\"\n",
              "              title=\"Convert this dataframe to an interactive table.\"\n",
              "              style=\"display:none;\">\n",
              "        \n",
              "  <svg xmlns=\"http://www.w3.org/2000/svg\" height=\"24px\"viewBox=\"0 0 24 24\"\n",
              "       width=\"24px\">\n",
              "    <path d=\"M0 0h24v24H0V0z\" fill=\"none\"/>\n",
              "    <path d=\"M18.56 5.44l.94 2.06.94-2.06 2.06-.94-2.06-.94-.94-2.06-.94 2.06-2.06.94zm-11 1L8.5 8.5l.94-2.06 2.06-.94-2.06-.94L8.5 2.5l-.94 2.06-2.06.94zm10 10l.94 2.06.94-2.06 2.06-.94-2.06-.94-.94-2.06-.94 2.06-2.06.94z\"/><path d=\"M17.41 7.96l-1.37-1.37c-.4-.4-.92-.59-1.43-.59-.52 0-1.04.2-1.43.59L10.3 9.45l-7.72 7.72c-.78.78-.78 2.05 0 2.83L4 21.41c.39.39.9.59 1.41.59.51 0 1.02-.2 1.41-.59l7.78-7.78 2.81-2.81c.8-.78.8-2.07 0-2.86zM5.41 20L4 18.59l7.72-7.72 1.47 1.35L5.41 20z\"/>\n",
              "  </svg>\n",
              "      </button>\n",
              "      \n",
              "  <style>\n",
              "    .colab-df-container {\n",
              "      display:flex;\n",
              "      flex-wrap:wrap;\n",
              "      gap: 12px;\n",
              "    }\n",
              "\n",
              "    .colab-df-convert {\n",
              "      background-color: #E8F0FE;\n",
              "      border: none;\n",
              "      border-radius: 50%;\n",
              "      cursor: pointer;\n",
              "      display: none;\n",
              "      fill: #1967D2;\n",
              "      height: 32px;\n",
              "      padding: 0 0 0 0;\n",
              "      width: 32px;\n",
              "    }\n",
              "\n",
              "    .colab-df-convert:hover {\n",
              "      background-color: #E2EBFA;\n",
              "      box-shadow: 0px 1px 2px rgba(60, 64, 67, 0.3), 0px 1px 3px 1px rgba(60, 64, 67, 0.15);\n",
              "      fill: #174EA6;\n",
              "    }\n",
              "\n",
              "    [theme=dark] .colab-df-convert {\n",
              "      background-color: #3B4455;\n",
              "      fill: #D2E3FC;\n",
              "    }\n",
              "\n",
              "    [theme=dark] .colab-df-convert:hover {\n",
              "      background-color: #434B5C;\n",
              "      box-shadow: 0px 1px 3px 1px rgba(0, 0, 0, 0.15);\n",
              "      filter: drop-shadow(0px 1px 2px rgba(0, 0, 0, 0.3));\n",
              "      fill: #FFFFFF;\n",
              "    }\n",
              "  </style>\n",
              "\n",
              "      <script>\n",
              "        const buttonEl =\n",
              "          document.querySelector('#df-4de0f40b-15f3-4973-93d5-bb502fec1f65 button.colab-df-convert');\n",
              "        buttonEl.style.display =\n",
              "          google.colab.kernel.accessAllowed ? 'block' : 'none';\n",
              "\n",
              "        async function convertToInteractive(key) {\n",
              "          const element = document.querySelector('#df-4de0f40b-15f3-4973-93d5-bb502fec1f65');\n",
              "          const dataTable =\n",
              "            await google.colab.kernel.invokeFunction('convertToInteractive',\n",
              "                                                     [key], {});\n",
              "          if (!dataTable) return;\n",
              "\n",
              "          const docLinkHtml = 'Like what you see? Visit the ' +\n",
              "            '<a target=\"_blank\" href=https://colab.research.google.com/notebooks/data_table.ipynb>data table notebook</a>'\n",
              "            + ' to learn more about interactive tables.';\n",
              "          element.innerHTML = '';\n",
              "          dataTable['output_type'] = 'display_data';\n",
              "          await google.colab.output.renderOutput(dataTable, element);\n",
              "          const docLink = document.createElement('div');\n",
              "          docLink.innerHTML = docLinkHtml;\n",
              "          element.appendChild(docLink);\n",
              "        }\n",
              "      </script>\n",
              "    </div>\n",
              "  </div>\n",
              "  "
            ],
            "text/plain": [
              "            trending_date  ...          category\n",
              "video_id                   ...                  \n",
              "kzwfHumJyYc      17.14.11  ...  Film & Animation\n",
              "zUZ1z7FwLc8      17.14.11  ...   News & Politics\n",
              "10L1hZ9qa58      17.14.11  ...     Entertainment\n",
              "N1vE8iiEg64      17.14.11  ...            Comedy\n",
              "kJzGH0PVQHQ      17.14.11  ...     Entertainment\n",
              "il_pSa5l98w      17.14.11  ...     Entertainment\n",
              "7MxiQ4v0EnE      17.14.11  ...             Music\n",
              "c64I9HNpiOY      17.14.11  ...             Music\n",
              "KObFEYCaRx8      17.14.11  ...     Entertainment\n",
              "g8QsfJhFpjY      17.14.11  ...     Entertainment\n",
              "\n",
              "[10 rows x 17 columns]"
            ]
          },
          "metadata": {},
          "execution_count": 5
        }
      ],
      "source": [
        "# combined_data['category_id'] = combined_data['category_id'].astype(str)\n",
        "# js_files = [i for i in glob.glob('/content/gdrive/MyDrive/youtube-data/*.json')]\n",
        "# sorted(js_files)\n",
        "combined_data['category_id'] = combined_data['category_id'].astype(str)\n",
        "js_files = [i for i in glob.glob('/content/youtube_data/*.json')]\n",
        "sorted(js_files)\n",
        "\n",
        "id_to_category = {}\n",
        "for x in js_files:\n",
        "  js = pd.read_json(x)\n",
        "  for category in js [\"items\"]:\n",
        "        id_to_category[category[\"id\"]] = category[\"snippet\"][\"title\"]\n",
        "combined_data[\"category\"] = combined_data[\"category_id\"].map(id_to_category)\n",
        "# Add code here\n",
        "\n",
        "# combined_data.insert(4, 'category', # Add code here)\n",
        "\n",
        "\n",
        "combined_data.head(10)"
      ]
    },
    {
      "cell_type": "code",
      "execution_count": 6,
      "metadata": {
        "colab": {
          "base_uri": "https://localhost:8080/",
          "height": 582
        },
        "id": "7y9qnmKIsWH1",
        "outputId": "e4993b04-4b8c-41f4-8e99-148b6b91b5a8"
      },
      "outputs": [
        {
          "output_type": "execute_result",
          "data": {
            "text/html": [
              "\n",
              "  <div id=\"df-3ffb3961-0bee-4ebf-99ba-42a9bdde86cf\">\n",
              "    <div class=\"colab-df-container\">\n",
              "      <div>\n",
              "<style scoped>\n",
              "    .dataframe tbody tr th:only-of-type {\n",
              "        vertical-align: middle;\n",
              "    }\n",
              "\n",
              "    .dataframe tbody tr th {\n",
              "        vertical-align: top;\n",
              "    }\n",
              "\n",
              "    .dataframe thead th {\n",
              "        text-align: right;\n",
              "    }\n",
              "</style>\n",
              "<table border=\"1\" class=\"dataframe\">\n",
              "  <thead>\n",
              "    <tr style=\"text-align: right;\">\n",
              "      <th></th>\n",
              "      <th>trending_date</th>\n",
              "      <th>title</th>\n",
              "      <th>channel_title</th>\n",
              "      <th>category_id</th>\n",
              "      <th>publish_time</th>\n",
              "      <th>tags</th>\n",
              "      <th>views</th>\n",
              "      <th>likes</th>\n",
              "      <th>dislikes</th>\n",
              "      <th>comment_count</th>\n",
              "      <th>thumbnail_link</th>\n",
              "      <th>comments_disabled</th>\n",
              "      <th>ratings_disabled</th>\n",
              "      <th>video_error_or_removed</th>\n",
              "      <th>description</th>\n",
              "      <th>country</th>\n",
              "      <th>category</th>\n",
              "    </tr>\n",
              "    <tr>\n",
              "      <th>video_id</th>\n",
              "      <th></th>\n",
              "      <th></th>\n",
              "      <th></th>\n",
              "      <th></th>\n",
              "      <th></th>\n",
              "      <th></th>\n",
              "      <th></th>\n",
              "      <th></th>\n",
              "      <th></th>\n",
              "      <th></th>\n",
              "      <th></th>\n",
              "      <th></th>\n",
              "      <th></th>\n",
              "      <th></th>\n",
              "      <th></th>\n",
              "      <th></th>\n",
              "      <th></th>\n",
              "    </tr>\n",
              "  </thead>\n",
              "  <tbody>\n",
              "    <tr>\n",
              "      <th>kzwfHumJyYc</th>\n",
              "      <td>17.14.11</td>\n",
              "      <td>Sharry Mann: Cute Munda ( Song Teaser) | Parmi...</td>\n",
              "      <td>Lokdhun Punjabi</td>\n",
              "      <td>1</td>\n",
              "      <td>2017-11-12T12:20:39.000Z</td>\n",
              "      <td>sharry mann|\"sharry mann new song\"|\"sharry man...</td>\n",
              "      <td>1096327</td>\n",
              "      <td>33966</td>\n",
              "      <td>798</td>\n",
              "      <td>882</td>\n",
              "      <td>https://i.ytimg.com/vi/kzwfHumJyYc/default.jpg</td>\n",
              "      <td>False</td>\n",
              "      <td>False</td>\n",
              "      <td>False</td>\n",
              "      <td>Presenting Sharry Mann latest Punjabi Song  Cu...</td>\n",
              "      <td>IN</td>\n",
              "      <td>Film &amp; Animation</td>\n",
              "    </tr>\n",
              "    <tr>\n",
              "      <th>zUZ1z7FwLc8</th>\n",
              "      <td>17.14.11</td>\n",
              "      <td>पीरियड्स के समय, पेट पर पति करता ऐसा, देखकर दं...</td>\n",
              "      <td>HJ NEWS</td>\n",
              "      <td>25</td>\n",
              "      <td>2017-11-13T05:43:56.000Z</td>\n",
              "      <td>पीरियड्स के समय|\"पेट पर पति करता ऐसा\"|\"देखकर द...</td>\n",
              "      <td>590101</td>\n",
              "      <td>735</td>\n",
              "      <td>904</td>\n",
              "      <td>0</td>\n",
              "      <td>https://i.ytimg.com/vi/zUZ1z7FwLc8/default.jpg</td>\n",
              "      <td>True</td>\n",
              "      <td>False</td>\n",
              "      <td>False</td>\n",
              "      <td>पीरियड्स के समय, पेट पर पति करता ऐसा, देखकर दं...</td>\n",
              "      <td>IN</td>\n",
              "      <td>News &amp; Politics</td>\n",
              "    </tr>\n",
              "    <tr>\n",
              "      <th>10L1hZ9qa58</th>\n",
              "      <td>17.14.11</td>\n",
              "      <td>Stylish Star Allu Arjun @ ChaySam Wedding Rece...</td>\n",
              "      <td>TFPC</td>\n",
              "      <td>24</td>\n",
              "      <td>2017-11-12T15:48:08.000Z</td>\n",
              "      <td>Stylish Star Allu Arjun @ ChaySam Wedding Rece...</td>\n",
              "      <td>473988</td>\n",
              "      <td>2011</td>\n",
              "      <td>243</td>\n",
              "      <td>149</td>\n",
              "      <td>https://i.ytimg.com/vi/10L1hZ9qa58/default.jpg</td>\n",
              "      <td>False</td>\n",
              "      <td>False</td>\n",
              "      <td>False</td>\n",
              "      <td>Watch Stylish Star Allu Arjun @ ChaySam Weddin...</td>\n",
              "      <td>IN</td>\n",
              "      <td>Entertainment</td>\n",
              "    </tr>\n",
              "    <tr>\n",
              "      <th>N1vE8iiEg64</th>\n",
              "      <td>17.14.11</td>\n",
              "      <td>Eruma Saani | Tamil vs English</td>\n",
              "      <td>Eruma Saani</td>\n",
              "      <td>23</td>\n",
              "      <td>2017-11-12T07:08:48.000Z</td>\n",
              "      <td>Eruma Saani|\"Tamil Comedy Videos\"|\"Films\"|\"Mov...</td>\n",
              "      <td>1242680</td>\n",
              "      <td>70353</td>\n",
              "      <td>1624</td>\n",
              "      <td>2684</td>\n",
              "      <td>https://i.ytimg.com/vi/N1vE8iiEg64/default.jpg</td>\n",
              "      <td>False</td>\n",
              "      <td>False</td>\n",
              "      <td>False</td>\n",
              "      <td>This video showcases the difference between pe...</td>\n",
              "      <td>IN</td>\n",
              "      <td>Comedy</td>\n",
              "    </tr>\n",
              "  </tbody>\n",
              "</table>\n",
              "</div>\n",
              "      <button class=\"colab-df-convert\" onclick=\"convertToInteractive('df-3ffb3961-0bee-4ebf-99ba-42a9bdde86cf')\"\n",
              "              title=\"Convert this dataframe to an interactive table.\"\n",
              "              style=\"display:none;\">\n",
              "        \n",
              "  <svg xmlns=\"http://www.w3.org/2000/svg\" height=\"24px\"viewBox=\"0 0 24 24\"\n",
              "       width=\"24px\">\n",
              "    <path d=\"M0 0h24v24H0V0z\" fill=\"none\"/>\n",
              "    <path d=\"M18.56 5.44l.94 2.06.94-2.06 2.06-.94-2.06-.94-.94-2.06-.94 2.06-2.06.94zm-11 1L8.5 8.5l.94-2.06 2.06-.94-2.06-.94L8.5 2.5l-.94 2.06-2.06.94zm10 10l.94 2.06.94-2.06 2.06-.94-2.06-.94-.94-2.06-.94 2.06-2.06.94z\"/><path d=\"M17.41 7.96l-1.37-1.37c-.4-.4-.92-.59-1.43-.59-.52 0-1.04.2-1.43.59L10.3 9.45l-7.72 7.72c-.78.78-.78 2.05 0 2.83L4 21.41c.39.39.9.59 1.41.59.51 0 1.02-.2 1.41-.59l7.78-7.78 2.81-2.81c.8-.78.8-2.07 0-2.86zM5.41 20L4 18.59l7.72-7.72 1.47 1.35L5.41 20z\"/>\n",
              "  </svg>\n",
              "      </button>\n",
              "      \n",
              "  <style>\n",
              "    .colab-df-container {\n",
              "      display:flex;\n",
              "      flex-wrap:wrap;\n",
              "      gap: 12px;\n",
              "    }\n",
              "\n",
              "    .colab-df-convert {\n",
              "      background-color: #E8F0FE;\n",
              "      border: none;\n",
              "      border-radius: 50%;\n",
              "      cursor: pointer;\n",
              "      display: none;\n",
              "      fill: #1967D2;\n",
              "      height: 32px;\n",
              "      padding: 0 0 0 0;\n",
              "      width: 32px;\n",
              "    }\n",
              "\n",
              "    .colab-df-convert:hover {\n",
              "      background-color: #E2EBFA;\n",
              "      box-shadow: 0px 1px 2px rgba(60, 64, 67, 0.3), 0px 1px 3px 1px rgba(60, 64, 67, 0.15);\n",
              "      fill: #174EA6;\n",
              "    }\n",
              "\n",
              "    [theme=dark] .colab-df-convert {\n",
              "      background-color: #3B4455;\n",
              "      fill: #D2E3FC;\n",
              "    }\n",
              "\n",
              "    [theme=dark] .colab-df-convert:hover {\n",
              "      background-color: #434B5C;\n",
              "      box-shadow: 0px 1px 3px 1px rgba(0, 0, 0, 0.15);\n",
              "      filter: drop-shadow(0px 1px 2px rgba(0, 0, 0, 0.3));\n",
              "      fill: #FFFFFF;\n",
              "    }\n",
              "  </style>\n",
              "\n",
              "      <script>\n",
              "        const buttonEl =\n",
              "          document.querySelector('#df-3ffb3961-0bee-4ebf-99ba-42a9bdde86cf button.colab-df-convert');\n",
              "        buttonEl.style.display =\n",
              "          google.colab.kernel.accessAllowed ? 'block' : 'none';\n",
              "\n",
              "        async function convertToInteractive(key) {\n",
              "          const element = document.querySelector('#df-3ffb3961-0bee-4ebf-99ba-42a9bdde86cf');\n",
              "          const dataTable =\n",
              "            await google.colab.kernel.invokeFunction('convertToInteractive',\n",
              "                                                     [key], {});\n",
              "          if (!dataTable) return;\n",
              "\n",
              "          const docLinkHtml = 'Like what you see? Visit the ' +\n",
              "            '<a target=\"_blank\" href=https://colab.research.google.com/notebooks/data_table.ipynb>data table notebook</a>'\n",
              "            + ' to learn more about interactive tables.';\n",
              "          element.innerHTML = '';\n",
              "          dataTable['output_type'] = 'display_data';\n",
              "          await google.colab.output.renderOutput(dataTable, element);\n",
              "          const docLink = document.createElement('div');\n",
              "          docLink.innerHTML = docLinkHtml;\n",
              "          element.appendChild(docLink);\n",
              "        }\n",
              "      </script>\n",
              "    </div>\n",
              "  </div>\n",
              "  "
            ],
            "text/plain": [
              "            trending_date  ...          category\n",
              "video_id                   ...                  \n",
              "kzwfHumJyYc      17.14.11  ...  Film & Animation\n",
              "zUZ1z7FwLc8      17.14.11  ...   News & Politics\n",
              "10L1hZ9qa58      17.14.11  ...     Entertainment\n",
              "N1vE8iiEg64      17.14.11  ...            Comedy\n",
              "\n",
              "[4 rows x 17 columns]"
            ]
          },
          "metadata": {},
          "execution_count": 6
        }
      ],
      "source": [
        "combined_data.head(4)"
      ]
    },
    {
      "cell_type": "markdown",
      "metadata": {
        "id": "LEfiMpUULmT4"
      },
      "source": [
        "#### 5.1.1.3: Fix datetime format and remove rows with NA's (1 pt)\n",
        "\n",
        "The 'publish_time' and 'trending_date' features are not in a unix datetime format, so use pandas to_datetime() to convert it into the right format.\n",
        "\n",
        "After that is done remove all the rows which have NA's in them."
      ]
    },
    {
      "cell_type": "code",
      "execution_count": 7,
      "metadata": {
        "colab": {
          "base_uri": "https://localhost:8080/"
        },
        "id": "EMqgqJv5MYWG",
        "outputId": "64844b28-0e25-4293-e651-7a74527ad67e"
      },
      "outputs": [
        {
          "output_type": "stream",
          "name": "stdout",
          "text": [
            "<class 'pandas.core.frame.DataFrame'>\n",
            "Index: 159906 entries, kzwfHumJyYc to ooyjaVdt-jA\n",
            "Data columns (total 17 columns):\n",
            " #   Column                  Non-Null Count   Dtype \n",
            "---  ------                  --------------   ----- \n",
            " 0   trending_date           159906 non-null  object\n",
            " 1   title                   159906 non-null  object\n",
            " 2   channel_title           159906 non-null  object\n",
            " 3   category_id             159906 non-null  object\n",
            " 4   publish_time            159906 non-null  object\n",
            " 5   tags                    159906 non-null  object\n",
            " 6   views                   159906 non-null  int64 \n",
            " 7   likes                   159906 non-null  int64 \n",
            " 8   dislikes                159906 non-null  int64 \n",
            " 9   comment_count           159906 non-null  int64 \n",
            " 10  thumbnail_link          159906 non-null  object\n",
            " 11  comments_disabled       159906 non-null  bool  \n",
            " 12  ratings_disabled        159906 non-null  bool  \n",
            " 13  video_error_or_removed  159906 non-null  bool  \n",
            " 14  description             154567 non-null  object\n",
            " 15  country                 159906 non-null  object\n",
            " 16  category                159906 non-null  object\n",
            "dtypes: bool(3), int64(4), object(10)\n",
            "memory usage: 18.8+ MB\n",
            "<class 'pandas.core.frame.DataFrame'>\n",
            "Index: 154567 entries, kzwfHumJyYc to ooyjaVdt-jA\n",
            "Data columns (total 17 columns):\n",
            " #   Column                  Non-Null Count   Dtype         \n",
            "---  ------                  --------------   -----         \n",
            " 0   trending_date           154567 non-null  datetime64[ns]\n",
            " 1   title                   154567 non-null  object        \n",
            " 2   channel_title           154567 non-null  object        \n",
            " 3   category_id             154567 non-null  object        \n",
            " 4   publish_time            154567 non-null  datetime64[ns]\n",
            " 5   tags                    154567 non-null  object        \n",
            " 6   views                   154567 non-null  int64         \n",
            " 7   likes                   154567 non-null  int64         \n",
            " 8   dislikes                154567 non-null  int64         \n",
            " 9   comment_count           154567 non-null  int64         \n",
            " 10  thumbnail_link          154567 non-null  object        \n",
            " 11  comments_disabled       154567 non-null  bool          \n",
            " 12  ratings_disabled        154567 non-null  bool          \n",
            " 13  video_error_or_removed  154567 non-null  bool          \n",
            " 14  description             154567 non-null  object        \n",
            " 15  country                 154567 non-null  object        \n",
            " 16  category                154567 non-null  object        \n",
            "dtypes: bool(3), datetime64[ns](2), int64(4), object(8)\n",
            "memory usage: 18.1+ MB\n"
          ]
        }
      ],
      "source": [
        "# Add code here\n",
        "combined_data.info()\n",
        "combined_data['trending_date'] = pd.to_datetime(combined_data[\"trending_date\"],format =\"%y.%d.%m\")\n",
        "combined_data['publish_time'] = pd.to_datetime(combined_data[\"publish_time\"],format = \"%Y-%m-%dT%H:%M:%S.%fZ\")\n",
        "\n",
        "# Add your Code here to remove NA's\n",
        "combined_data = combined_data.dropna()\n",
        "combined_data.info()\n"
      ]
    },
    {
      "cell_type": "code",
      "source": [
        "#copied frame to be used in classification model in TASK 2\n",
        "copied_pd_frame = combined_data.copy()\n",
        "copied_pd_frame.info()"
      ],
      "metadata": {
        "colab": {
          "base_uri": "https://localhost:8080/"
        },
        "id": "f_IWBUyfAywR",
        "outputId": "6d7a0ffa-41b9-4508-a4c8-a59d433fa2aa"
      },
      "execution_count": 9,
      "outputs": [
        {
          "output_type": "stream",
          "name": "stdout",
          "text": [
            "<class 'pandas.core.frame.DataFrame'>\n",
            "Index: 154567 entries, kzwfHumJyYc to ooyjaVdt-jA\n",
            "Data columns (total 17 columns):\n",
            " #   Column                  Non-Null Count   Dtype         \n",
            "---  ------                  --------------   -----         \n",
            " 0   trending_date           154567 non-null  datetime64[ns]\n",
            " 1   title                   154567 non-null  object        \n",
            " 2   channel_title           154567 non-null  object        \n",
            " 3   category_id             154567 non-null  object        \n",
            " 4   publish_time            154567 non-null  datetime64[ns]\n",
            " 5   tags                    154567 non-null  object        \n",
            " 6   views                   154567 non-null  int64         \n",
            " 7   likes                   154567 non-null  int64         \n",
            " 8   dislikes                154567 non-null  int64         \n",
            " 9   comment_count           154567 non-null  int64         \n",
            " 10  thumbnail_link          154567 non-null  object        \n",
            " 11  comments_disabled       154567 non-null  bool          \n",
            " 12  ratings_disabled        154567 non-null  bool          \n",
            " 13  video_error_or_removed  154567 non-null  bool          \n",
            " 14  description             154567 non-null  object        \n",
            " 15  country                 154567 non-null  object        \n",
            " 16  category                154567 non-null  object        \n",
            "dtypes: bool(3), datetime64[ns](2), int64(4), object(8)\n",
            "memory usage: 18.1+ MB\n"
          ]
        }
      ]
    },
    {
      "cell_type": "code",
      "execution_count": 10,
      "metadata": {
        "colab": {
          "base_uri": "https://localhost:8080/"
        },
        "id": "P7B9nlL1SwgT",
        "outputId": "11bdf0f0-f1fb-43cd-840e-a0053db595a6"
      },
      "outputs": [
        {
          "output_type": "stream",
          "name": "stdout",
          "text": [
            "validate_na (154567, 17)\n"
          ]
        }
      ],
      "source": [
        "# print\n",
        "print('validate_na',(combined_data.shape))"
      ]
    },
    {
      "cell_type": "markdown",
      "metadata": {
        "id": "gT2l5ttZan_J"
      },
      "source": [
        "## 5.2 Exploratory Data Analysis & Feature Engineering (20pt)\n",
        "\n",
        "\n",
        "**Exploratory Data Analysis:** \n",
        "EDA aims to analyze data sets by summarizing its key characteristics assisted by visualizations. EDA communicates insights beyond formal modeling/hypothesis testing with or without statistical model.\n",
        "\n",
        "**Feature Engineering:** \n",
        "The primary object of feature engineering is to extract features using domain knowledge. It aims to extract features from raw data using various data mining approaches.\n",
        "\n",
        "These features are fed to various machine learning classifiers. These features are also called as covariates, predicators, or simply a new column in data frame."
      ]
    },
    {
      "cell_type": "markdown",
      "metadata": {
        "id": "bL0aSQcFAxxz"
      },
      "source": [
        "#### 5.2.1: Calculating Mean, standard deviation, min and max. (1 pt)\n",
        "\n",
        "In this section, we will focus to compute various satistics, i.e., mean, standard deviation, min and max for numerical features in the dataset and then store them into lists, i.e.,  [views, likes, dislikes, comment_count].\n",
        "\n",
        "means = [views_mean, likes_mean, dislikes_mean, comment_count_mean] and similarly for mins, maxs and stds."
      ]
    },
    {
      "cell_type": "code",
      "execution_count": 11,
      "metadata": {
        "colab": {
          "base_uri": "https://localhost:8080/",
          "height": 300
        },
        "id": "P8w8Jv-NM7h8",
        "outputId": "d820472b-d886-4fe9-a2a2-cc855352dd27"
      },
      "outputs": [
        {
          "output_type": "execute_result",
          "data": {
            "text/html": [
              "\n",
              "  <div id=\"df-64153a14-1141-4a97-ba5c-19c348e8e896\">\n",
              "    <div class=\"colab-df-container\">\n",
              "      <div>\n",
              "<style scoped>\n",
              "    .dataframe tbody tr th:only-of-type {\n",
              "        vertical-align: middle;\n",
              "    }\n",
              "\n",
              "    .dataframe tbody tr th {\n",
              "        vertical-align: top;\n",
              "    }\n",
              "\n",
              "    .dataframe thead th {\n",
              "        text-align: right;\n",
              "    }\n",
              "</style>\n",
              "<table border=\"1\" class=\"dataframe\">\n",
              "  <thead>\n",
              "    <tr style=\"text-align: right;\">\n",
              "      <th></th>\n",
              "      <th>views</th>\n",
              "      <th>likes</th>\n",
              "      <th>dislikes</th>\n",
              "      <th>comment_count</th>\n",
              "    </tr>\n",
              "  </thead>\n",
              "  <tbody>\n",
              "    <tr>\n",
              "      <th>count</th>\n",
              "      <td>1.545670e+05</td>\n",
              "      <td>1.545670e+05</td>\n",
              "      <td>1.545670e+05</td>\n",
              "      <td>1.545670e+05</td>\n",
              "    </tr>\n",
              "    <tr>\n",
              "      <th>mean</th>\n",
              "      <td>1.281578e+06</td>\n",
              "      <td>4.096105e+04</td>\n",
              "      <td>2.056138e+03</td>\n",
              "      <td>4.606594e+03</td>\n",
              "    </tr>\n",
              "    <tr>\n",
              "      <th>std</th>\n",
              "      <td>4.605292e+06</td>\n",
              "      <td>1.521490e+05</td>\n",
              "      <td>1.825854e+04</td>\n",
              "      <td>2.327823e+04</td>\n",
              "    </tr>\n",
              "    <tr>\n",
              "      <th>min</th>\n",
              "      <td>2.230000e+02</td>\n",
              "      <td>0.000000e+00</td>\n",
              "      <td>0.000000e+00</td>\n",
              "      <td>0.000000e+00</td>\n",
              "    </tr>\n",
              "    <tr>\n",
              "      <th>25%</th>\n",
              "      <td>9.574900e+04</td>\n",
              "      <td>1.321000e+03</td>\n",
              "      <td>8.100000e+01</td>\n",
              "      <td>1.720000e+02</td>\n",
              "    </tr>\n",
              "    <tr>\n",
              "      <th>50%</th>\n",
              "      <td>3.134280e+05</td>\n",
              "      <td>6.336000e+03</td>\n",
              "      <td>2.980000e+02</td>\n",
              "      <td>7.650000e+02</td>\n",
              "    </tr>\n",
              "    <tr>\n",
              "      <th>75%</th>\n",
              "      <td>9.473390e+05</td>\n",
              "      <td>2.594050e+04</td>\n",
              "      <td>1.024000e+03</td>\n",
              "      <td>2.726000e+03</td>\n",
              "    </tr>\n",
              "    <tr>\n",
              "      <th>max</th>\n",
              "      <td>2.252119e+08</td>\n",
              "      <td>5.613827e+06</td>\n",
              "      <td>1.643059e+06</td>\n",
              "      <td>1.228655e+06</td>\n",
              "    </tr>\n",
              "  </tbody>\n",
              "</table>\n",
              "</div>\n",
              "      <button class=\"colab-df-convert\" onclick=\"convertToInteractive('df-64153a14-1141-4a97-ba5c-19c348e8e896')\"\n",
              "              title=\"Convert this dataframe to an interactive table.\"\n",
              "              style=\"display:none;\">\n",
              "        \n",
              "  <svg xmlns=\"http://www.w3.org/2000/svg\" height=\"24px\"viewBox=\"0 0 24 24\"\n",
              "       width=\"24px\">\n",
              "    <path d=\"M0 0h24v24H0V0z\" fill=\"none\"/>\n",
              "    <path d=\"M18.56 5.44l.94 2.06.94-2.06 2.06-.94-2.06-.94-.94-2.06-.94 2.06-2.06.94zm-11 1L8.5 8.5l.94-2.06 2.06-.94-2.06-.94L8.5 2.5l-.94 2.06-2.06.94zm10 10l.94 2.06.94-2.06 2.06-.94-2.06-.94-.94-2.06-.94 2.06-2.06.94z\"/><path d=\"M17.41 7.96l-1.37-1.37c-.4-.4-.92-.59-1.43-.59-.52 0-1.04.2-1.43.59L10.3 9.45l-7.72 7.72c-.78.78-.78 2.05 0 2.83L4 21.41c.39.39.9.59 1.41.59.51 0 1.02-.2 1.41-.59l7.78-7.78 2.81-2.81c.8-.78.8-2.07 0-2.86zM5.41 20L4 18.59l7.72-7.72 1.47 1.35L5.41 20z\"/>\n",
              "  </svg>\n",
              "      </button>\n",
              "      \n",
              "  <style>\n",
              "    .colab-df-container {\n",
              "      display:flex;\n",
              "      flex-wrap:wrap;\n",
              "      gap: 12px;\n",
              "    }\n",
              "\n",
              "    .colab-df-convert {\n",
              "      background-color: #E8F0FE;\n",
              "      border: none;\n",
              "      border-radius: 50%;\n",
              "      cursor: pointer;\n",
              "      display: none;\n",
              "      fill: #1967D2;\n",
              "      height: 32px;\n",
              "      padding: 0 0 0 0;\n",
              "      width: 32px;\n",
              "    }\n",
              "\n",
              "    .colab-df-convert:hover {\n",
              "      background-color: #E2EBFA;\n",
              "      box-shadow: 0px 1px 2px rgba(60, 64, 67, 0.3), 0px 1px 3px 1px rgba(60, 64, 67, 0.15);\n",
              "      fill: #174EA6;\n",
              "    }\n",
              "\n",
              "    [theme=dark] .colab-df-convert {\n",
              "      background-color: #3B4455;\n",
              "      fill: #D2E3FC;\n",
              "    }\n",
              "\n",
              "    [theme=dark] .colab-df-convert:hover {\n",
              "      background-color: #434B5C;\n",
              "      box-shadow: 0px 1px 3px 1px rgba(0, 0, 0, 0.15);\n",
              "      filter: drop-shadow(0px 1px 2px rgba(0, 0, 0, 0.3));\n",
              "      fill: #FFFFFF;\n",
              "    }\n",
              "  </style>\n",
              "\n",
              "      <script>\n",
              "        const buttonEl =\n",
              "          document.querySelector('#df-64153a14-1141-4a97-ba5c-19c348e8e896 button.colab-df-convert');\n",
              "        buttonEl.style.display =\n",
              "          google.colab.kernel.accessAllowed ? 'block' : 'none';\n",
              "\n",
              "        async function convertToInteractive(key) {\n",
              "          const element = document.querySelector('#df-64153a14-1141-4a97-ba5c-19c348e8e896');\n",
              "          const dataTable =\n",
              "            await google.colab.kernel.invokeFunction('convertToInteractive',\n",
              "                                                     [key], {});\n",
              "          if (!dataTable) return;\n",
              "\n",
              "          const docLinkHtml = 'Like what you see? Visit the ' +\n",
              "            '<a target=\"_blank\" href=https://colab.research.google.com/notebooks/data_table.ipynb>data table notebook</a>'\n",
              "            + ' to learn more about interactive tables.';\n",
              "          element.innerHTML = '';\n",
              "          dataTable['output_type'] = 'display_data';\n",
              "          await google.colab.output.renderOutput(dataTable, element);\n",
              "          const docLink = document.createElement('div');\n",
              "          docLink.innerHTML = docLinkHtml;\n",
              "          element.appendChild(docLink);\n",
              "        }\n",
              "      </script>\n",
              "    </div>\n",
              "  </div>\n",
              "  "
            ],
            "text/plain": [
              "              views         likes      dislikes  comment_count\n",
              "count  1.545670e+05  1.545670e+05  1.545670e+05   1.545670e+05\n",
              "mean   1.281578e+06  4.096105e+04  2.056138e+03   4.606594e+03\n",
              "std    4.605292e+06  1.521490e+05  1.825854e+04   2.327823e+04\n",
              "min    2.230000e+02  0.000000e+00  0.000000e+00   0.000000e+00\n",
              "25%    9.574900e+04  1.321000e+03  8.100000e+01   1.720000e+02\n",
              "50%    3.134280e+05  6.336000e+03  2.980000e+02   7.650000e+02\n",
              "75%    9.473390e+05  2.594050e+04  1.024000e+03   2.726000e+03\n",
              "max    2.252119e+08  5.613827e+06  1.643059e+06   1.228655e+06"
            ]
          },
          "metadata": {},
          "execution_count": 11
        }
      ],
      "source": [
        "combined_data.describe()"
      ]
    },
    {
      "cell_type": "code",
      "execution_count": 12,
      "metadata": {
        "id": "sUvoJyv4OwK6"
      },
      "outputs": [],
      "source": [
        "\n",
        "# Add your code here\n",
        "maxs = combined_data.describe().iloc[7].values.tolist()\n",
        "mins = combined_data.describe().iloc[3].values.tolist()\n",
        "stds = combined_data.describe().iloc[2].values.tolist()\n",
        "means = combined_data.describe().iloc[1].values.tolist()\n",
        "\n"
      ]
    },
    {
      "cell_type": "code",
      "execution_count": 13,
      "metadata": {
        "colab": {
          "base_uri": "https://localhost:8080/"
        },
        "id": "G0186aPaSzA_",
        "outputId": "3b556f07-c665-40bb-ca49-e38b1e22cc40"
      },
      "outputs": [
        {
          "output_type": "stream",
          "name": "stdout",
          "text": [
            "check_min_max_mean_std [[225211923.0, 5613827.0, 1643059.0, 1228655.0], [223.0, 0.0, 0.0, 0.0], [4605292.478385801, 152148.95485475037, 18258.54137966117, 23278.22562061912], [1281578.03423758, 40961.05191276275, 2056.138490104615, 4606.593742519425]]\n"
          ]
        }
      ],
      "source": [
        "# print here\n",
        "print('check_min_max_mean_std',([maxs, mins, stds, means]))\n"
      ]
    },
    {
      "cell_type": "markdown",
      "metadata": {
        "id": "jwMkARfAFE-U"
      },
      "source": [
        "#### 5.2.2: Rescaling the features (1 pt)\n",
        "\n",
        "From the above section, it is clear that the numerical values range is really high.  we can use rescaling to avoid numerical instability problems. We can rescale likes, views, dislikes, and comment_count using log scale (base e). Let us store rescaled features in dataframe as likes_log, views_log, dislikes_log and comment_log.\n",
        "\n",
        "NOTE- log 0 is not defined, therefore, you should add 1 to each value prior to taking the log."
      ]
    },
    {
      "cell_type": "code",
      "execution_count": 14,
      "metadata": {
        "id": "-0wGMFGdFUBK"
      },
      "outputs": [],
      "source": [
        "# Add your code here\n",
        "combined_data['likes_log'] = np.log(1 + combined_data['likes']) \n",
        "combined_data['views_log'] = np.log(1 + combined_data['views']) \n",
        "combined_data['dislikes_log'] = np.log(1 + combined_data['dislikes']) \n",
        "combined_data['comment_log'] = np.log(1 + combined_data['comment_count']) "
      ]
    },
    {
      "cell_type": "code",
      "execution_count": 15,
      "metadata": {
        "colab": {
          "base_uri": "https://localhost:8080/"
        },
        "id": "ZrJSqeZaS1_0",
        "outputId": "e13c8fe0-ffe4-4ae7-e659-bb7e217b6e97"
      },
      "outputs": [
        {
          "output_type": "stream",
          "name": "stdout",
          "text": [
            "check_feature_rescaling [8.571590187188683, 12.55267980501314, 5.614484952081131, 6.424543615108467]\n"
          ]
        }
      ],
      "source": [
        "# Print results\n",
        "print('check_feature_rescaling',([np.mean(combined_data['likes_log']),np.mean(combined_data['views_log']),np.mean(combined_data['dislikes_log']),\n",
        "                                         np.mean(combined_data['comment_log'])]))"
      ]
    },
    {
      "cell_type": "code",
      "source": [
        "# copied data to be used for later task\n",
        "old_combined_data = combined_data.copy()\n",
        "old_combined_data.info()"
      ],
      "metadata": {
        "colab": {
          "base_uri": "https://localhost:8080/"
        },
        "id": "IMeileLWWYE2",
        "outputId": "ad2d5829-fb53-4238-f1e2-0061cb6826a9"
      },
      "execution_count": 19,
      "outputs": [
        {
          "output_type": "stream",
          "name": "stdout",
          "text": [
            "<class 'pandas.core.frame.DataFrame'>\n",
            "Index: 154567 entries, kzwfHumJyYc to NlxE_QQMRzg\n",
            "Data columns (total 21 columns):\n",
            " #   Column                  Non-Null Count   Dtype         \n",
            "---  ------                  --------------   -----         \n",
            " 0   trending_date           154567 non-null  datetime64[ns]\n",
            " 1   title                   154567 non-null  object        \n",
            " 2   channel_title           154567 non-null  object        \n",
            " 3   category_id             154567 non-null  object        \n",
            " 4   publish_time            154567 non-null  datetime64[ns]\n",
            " 5   tags                    154567 non-null  object        \n",
            " 6   views                   154567 non-null  int64         \n",
            " 7   likes                   154567 non-null  int64         \n",
            " 8   dislikes                154567 non-null  int64         \n",
            " 9   comment_count           154567 non-null  int64         \n",
            " 10  thumbnail_link          154567 non-null  object        \n",
            " 11  comments_disabled       154567 non-null  bool          \n",
            " 12  ratings_disabled        154567 non-null  bool          \n",
            " 13  video_error_or_removed  154567 non-null  bool          \n",
            " 14  description             154567 non-null  object        \n",
            " 15  country                 154567 non-null  object        \n",
            " 16  category                154567 non-null  object        \n",
            " 17  likes_log               154567 non-null  float64       \n",
            " 18  views_log               154567 non-null  float64       \n",
            " 19  dislikes_log            154567 non-null  float64       \n",
            " 20  comment_log             154567 non-null  float64       \n",
            "dtypes: bool(3), datetime64[ns](2), float64(4), int64(4), object(8)\n",
            "memory usage: 22.8+ MB\n"
          ]
        }
      ]
    },
    {
      "cell_type": "markdown",
      "metadata": {
        "id": "Kqt6-d6NGA9F"
      },
      "source": [
        "#### 5.2.3: Plotting the distribution (2 pt)\n",
        "\n",
        "Plot the distribution for the newly created log features. They should look like normal distribution curves."
      ]
    },
    {
      "cell_type": "code",
      "execution_count": 20,
      "metadata": {
        "colab": {
          "base_uri": "https://localhost:8080/",
          "height": 581
        },
        "id": "gM-HSdnGE5Cf",
        "outputId": "18c07e1c-78cf-47c0-f40f-dbf649aa0b57"
      },
      "outputs": [
        {
          "output_type": "execute_result",
          "data": {
            "text/plain": [
              "<matplotlib.axes._subplots.AxesSubplot at 0x7fc9f15d0690>"
            ]
          },
          "metadata": {},
          "execution_count": 20
        },
        {
          "output_type": "display_data",
          "data": {
            "image/png": "[encoded data removed]",
            "text/plain": [
              "<Figure size 1440x720 with 1 Axes>"
            ]
          },
          "metadata": {
            "needs_background": "light"
          }
        }
      ],
      "source": [
        "# Add your code here for plotting the distribution\n",
        "log_df=combined_data[['likes_log','views_log','dislikes_log','comment_log']]\n",
        "log_df.plot.kde(figsize=(20,10))\n",
        "# plot data"
      ]
    },
    {
      "cell_type": "markdown",
      "metadata": {
        "id": "AuCVICPLBV1l"
      },
      "source": [
        "#### 5.2.4: Comparing views, likes, dislikes against categories (3 pt)\n",
        "\n",
        "Let us gain isights into data using various catergories, views, likes and dislikes.\n",
        "\n",
        "Draw three plots for the following:\n",
        "\n",
        "1.) How many videos are there for each category?\n",
        "\n",
        "2.) What is the distribution of views against categories? (Use boxplot and views on log scale)\n",
        "\n",
        "3.) What is the distribution of dislikes against categories? (Use boxplot and dislikes on log scale)\n",
        "\n",
        "For extra credit:\n",
        "You can try to gain more insights into the dataset by drawing interesting plots. Some ideas include:\n",
        "\n",
        "* How long does a video trend in a country? \n",
        "* What are some videos which got popular because they were disliked? \n",
        "\n",
        "Think of such interesting things and add here. We will award points based on creativity of the insights that you get."
      ]
    },
    {
      "cell_type": "code",
      "execution_count": 21,
      "metadata": {
        "colab": {
          "base_uri": "https://localhost:8080/"
        },
        "id": "Vl_bgpXbB6kt",
        "outputId": "fb2dd9cd-4975-4ffe-d039-1a380ee05292"
      },
      "outputs": [
        {
          "output_type": "stream",
          "name": "stdout",
          "text": [
            "Total videos for each category: \n",
            " category\n",
            "Entertainment            48964\n",
            "Music                    17818\n",
            "Comedy                   14790\n",
            "News & Politics          14713\n",
            "People & Blogs           13954\n",
            "Sports                    9488\n",
            "Howto & Style             9309\n",
            "Film & Animation          7874\n",
            "Science & Technology      4846\n",
            "Education                 4544\n",
            "Gaming                    3592\n",
            "Pets & Animals            1522\n",
            "Autos & Vehicles          1406\n",
            "Travel & Events            889\n",
            "Shows                      485\n",
            "Nonprofits & Activism      338\n",
            "Movies                      33\n",
            "Trailers                     2\n",
            "dtype: int64\n"
          ]
        }
      ],
      "source": [
        "# Your code goes here\n",
        "# Plots will be manually graded\n",
        "##1-Total videos for each category:\n",
        "by_category = combined_data.groupby([\"category\"]).size().sort_values(ascending = False)\n",
        "print('Total videos for each category: \\n', by_category)"
      ]
    },
    {
      "cell_type": "code",
      "execution_count": 19,
      "metadata": {
        "colab": {
          "base_uri": "https://localhost:8080/",
          "height": 417
        },
        "id": "3KfCrSatT31C",
        "outputId": "e2ed35b7-16e6-48d1-c657-ea93eb3bdde9"
      },
      "outputs": [
        {
          "output_type": "display_data",
          "data": {
            "text/html": [
              "<html>\n",
              "<head><meta charset=\"utf-8\" /></head>\n",
              "<body>\n",
              "    <div>            <script src=\"https://cdnjs.cloudflare.com/ajax/libs/mathjax/2.7.5/MathJax.js?config=TeX-AMS-MML_SVG\"></script><script type=\"text/javascript\">if (window.MathJax) {MathJax.Hub.Config({SVG: {font: \"STIX-Web\"}});}</script>                <script type=\"text/javascript\">window.PlotlyConfig = {MathJaxConfig: 'local'};</script>\n",
              "        <script src=\"https://cdn.plot.ly/plotly-2.8.3.min.js\"></script>                <div id=\"9c63ca8c-bd3c-470d-9347-0eb9d02f4750\" class=\"plotly-graph-div\" style=\"height:400px; width:100%;\"></div>            <script type=\"text/javascript\">                                    window.PLOTLYENV=window.PLOTLYENV || {};                                    if (document.getElementById(\"9c63ca8c-bd3c-470d-9347-0eb9d02f4750\")) {                    Plotly.newPlot(                        \"9c63ca8c-bd3c-470d-9347-0eb9d02f4750\",                        [{\"alignmentgroup\":\"True\",\"hovertemplate\":\"Category=%{x}<br>Videos/Category=%{marker.color}<extra></extra>\",\"legendgroup\":\"\",\"marker\":{\"color\":[48964,17818,14790,14713,13954,9488,9309,7874,4846,4544,3592,1522,1406,889,485,338,33,2],\"coloraxis\":\"coloraxis\",\"pattern\":{\"shape\":\"\"}},\"name\":\"\",\"offsetgroup\":\"\",\"orientation\":\"v\",\"showlegend\":false,\"textposition\":\"auto\",\"x\":[\"Entertainment\",\"Music\",\"Comedy\",\"News & Politics\",\"People & Blogs\",\"Sports\",\"Howto & Style\",\"Film & Animation\",\"Science & Technology\",\"Education\",\"Gaming\",\"Pets & Animals\",\"Autos & Vehicles\",\"Travel & Events\",\"Shows\",\"Nonprofits & Activism\",\"Movies\",\"Trailers\"],\"xaxis\":\"x\",\"y\":[48964,17818,14790,14713,13954,9488,9309,7874,4846,4544,3592,1522,1406,889,485,338,33,2],\"yaxis\":\"y\",\"type\":\"bar\"}],                        {\"template\":{\"data\":{\"bar\":[{\"error_x\":{\"color\":\"#2a3f5f\"},\"error_y\":{\"color\":\"#2a3f5f\"},\"marker\":{\"line\":{\"color\":\"#E5ECF6\",\"width\":0.5},\"pattern\":{\"fillmode\":\"overlay\",\"size\":10,\"solidity\":0.2}},\"type\":\"bar\"}],\"barpolar\":[{\"marker\":{\"line\":{\"color\":\"#E5ECF6\",\"width\":0.5},\"pattern\":{\"fillmode\":\"overlay\",\"size\":10,\"solidity\":0.2}},\"type\":\"barpolar\"}],\"carpet\":[{\"aaxis\":{\"endlinecolor\":\"#2a3f5f\",\"gridcolor\":\"white\",\"linecolor\":\"white\",\"minorgridcolor\":\"white\",\"startlinecolor\":\"#2a3f5f\"},\"baxis\":{\"endlinecolor\":\"#2a3f5f\",\"gridcolor\":\"white\",\"linecolor\":\"white\",\"minorgridcolor\":\"white\",\"startlinecolor\":\"#2a3f5f\"},\"type\":\"carpet\"}],\"choropleth\":[{\"colorbar\":{\"outlinewidth\":0,\"ticks\":\"\"},\"type\":\"choropleth\"}],\"contour\":[{\"colorbar\":{\"outlinewidth\":0,\"ticks\":\"\"},\"colorscale\":[[0.0,\"#0d0887\"],[0.1111111111111111,\"#46039f\"],[0.2222222222222222,\"#7201a8\"],[0.3333333333333333,\"#9c179e\"],[0.4444444444444444,\"#bd3786\"],[0.5555555555555556,\"#d8576b\"],[0.6666666666666666,\"#ed7953\"],[0.7777777777777778,\"#fb9f3a\"],[0.8888888888888888,\"#fdca26\"],[1.0,\"#f0f921\"]],\"type\":\"contour\"}],\"contourcarpet\":[{\"colorbar\":{\"outlinewidth\":0,\"ticks\":\"\"},\"type\":\"contourcarpet\"}],\"heatmap\":[{\"colorbar\":{\"outlinewidth\":0,\"ticks\":\"\"},\"colorscale\":[[0.0,\"#0d0887\"],[0.1111111111111111,\"#46039f\"],[0.2222222222222222,\"#7201a8\"],[0.3333333333333333,\"#9c179e\"],[0.4444444444444444,\"#bd3786\"],[0.5555555555555556,\"#d8576b\"],[0.6666666666666666,\"#ed7953\"],[0.7777777777777778,\"#fb9f3a\"],[0.8888888888888888,\"#fdca26\"],[1.0,\"#f0f921\"]],\"type\":\"heatmap\"}],\"heatmapgl\":[{\"colorbar\":{\"outlinewidth\":0,\"ticks\":\"\"},\"colorscale\":[[0.0,\"#0d0887\"],[0.1111111111111111,\"#46039f\"],[0.2222222222222222,\"#7201a8\"],[0.3333333333333333,\"#9c179e\"],[0.4444444444444444,\"#bd3786\"],[0.5555555555555556,\"#d8576b\"],[0.6666666666666666,\"#ed7953\"],[0.7777777777777778,\"#fb9f3a\"],[0.8888888888888888,\"#fdca26\"],[1.0,\"#f0f921\"]],\"type\":\"heatmapgl\"}],\"histogram\":[{\"marker\":{\"pattern\":{\"fillmode\":\"overlay\",\"size\":10,\"solidity\":0.2}},\"type\":\"histogram\"}],\"histogram2d\":[{\"colorbar\":{\"outlinewidth\":0,\"ticks\":\"\"},\"colorscale\":[[0.0,\"#0d0887\"],[0.1111111111111111,\"#46039f\"],[0.2222222222222222,\"#7201a8\"],[0.3333333333333333,\"#9c179e\"],[0.4444444444444444,\"#bd3786\"],[0.5555555555555556,\"#d8576b\"],[0.6666666666666666,\"#ed7953\"],[0.7777777777777778,\"#fb9f3a\"],[0.8888888888888888,\"#fdca26\"],[1.0,\"#f0f921\"]],\"type\":\"histogram2d\"}],\"histogram2dcontour\":[{\"colorbar\":{\"outlinewidth\":0,\"ticks\":\"\"},\"colorscale\":[[0.0,\"#0d0887\"],[0.1111111111111111,\"#46039f\"],[0.2222222222222222,\"#7201a8\"],[0.3333333333333333,\"#9c179e\"],[0.4444444444444444,\"#bd3786\"],[0.5555555555555556,\"#d8576b\"],[0.6666666666666666,\"#ed7953\"],[0.7777777777777778,\"#fb9f3a\"],[0.8888888888888888,\"#fdca26\"],[1.0,\"#f0f921\"]],\"type\":\"histogram2dcontour\"}],\"mesh3d\":[{\"colorbar\":{\"outlinewidth\":0,\"ticks\":\"\"},\"type\":\"mesh3d\"}],\"parcoords\":[{\"line\":{\"colorbar\":{\"outlinewidth\":0,\"ticks\":\"\"}},\"type\":\"parcoords\"}],\"pie\":[{\"automargin\":true,\"type\":\"pie\"}],\"scatter\":[{\"marker\":{\"colorbar\":{\"outlinewidth\":0,\"ticks\":\"\"}},\"type\":\"scatter\"}],\"scatter3d\":[{\"line\":{\"colorbar\":{\"outlinewidth\":0,\"ticks\":\"\"}},\"marker\":{\"colorbar\":{\"outlinewidth\":0,\"ticks\":\"\"}},\"type\":\"scatter3d\"}],\"scattercarpet\":[{\"marker\":{\"colorbar\":{\"outlinewidth\":0,\"ticks\":\"\"}},\"type\":\"scattercarpet\"}],\"scattergeo\":[{\"marker\":{\"colorbar\":{\"outlinewidth\":0,\"ticks\":\"\"}},\"type\":\"scattergeo\"}],\"scattergl\":[{\"marker\":{\"colorbar\":{\"outlinewidth\":0,\"ticks\":\"\"}},\"type\":\"scattergl\"}],\"scattermapbox\":[{\"marker\":{\"colorbar\":{\"outlinewidth\":0,\"ticks\":\"\"}},\"type\":\"scattermapbox\"}],\"scatterpolar\":[{\"marker\":{\"colorbar\":{\"outlinewidth\":0,\"ticks\":\"\"}},\"type\":\"scatterpolar\"}],\"scatterpolargl\":[{\"marker\":{\"colorbar\":{\"outlinewidth\":0,\"ticks\":\"\"}},\"type\":\"scatterpolargl\"}],\"scatterternary\":[{\"marker\":{\"colorbar\":{\"outlinewidth\":0,\"ticks\":\"\"}},\"type\":\"scatterternary\"}],\"surface\":[{\"colorbar\":{\"outlinewidth\":0,\"ticks\":\"\"},\"colorscale\":[[0.0,\"#0d0887\"],[0.1111111111111111,\"#46039f\"],[0.2222222222222222,\"#7201a8\"],[0.3333333333333333,\"#9c179e\"],[0.4444444444444444,\"#bd3786\"],[0.5555555555555556,\"#d8576b\"],[0.6666666666666666,\"#ed7953\"],[0.7777777777777778,\"#fb9f3a\"],[0.8888888888888888,\"#fdca26\"],[1.0,\"#f0f921\"]],\"type\":\"surface\"}],\"table\":[{\"cells\":{\"fill\":{\"color\":\"#EBF0F8\"},\"line\":{\"color\":\"white\"}},\"header\":{\"fill\":{\"color\":\"#C8D4E3\"},\"line\":{\"color\":\"white\"}},\"type\":\"table\"}]},\"layout\":{\"annotationdefaults\":{\"arrowcolor\":\"#2a3f5f\",\"arrowhead\":0,\"arrowwidth\":1},\"autotypenumbers\":\"strict\",\"coloraxis\":{\"colorbar\":{\"outlinewidth\":0,\"ticks\":\"\"}},\"colorscale\":{\"diverging\":[[0,\"#8e0152\"],[0.1,\"#c51b7d\"],[0.2,\"#de77ae\"],[0.3,\"#f1b6da\"],[0.4,\"#fde0ef\"],[0.5,\"#f7f7f7\"],[0.6,\"#e6f5d0\"],[0.7,\"#b8e186\"],[0.8,\"#7fbc41\"],[0.9,\"#4d9221\"],[1,\"#276419\"]],\"sequential\":[[0.0,\"#0d0887\"],[0.1111111111111111,\"#46039f\"],[0.2222222222222222,\"#7201a8\"],[0.3333333333333333,\"#9c179e\"],[0.4444444444444444,\"#bd3786\"],[0.5555555555555556,\"#d8576b\"],[0.6666666666666666,\"#ed7953\"],[0.7777777777777778,\"#fb9f3a\"],[0.8888888888888888,\"#fdca26\"],[1.0,\"#f0f921\"]],\"sequentialminus\":[[0.0,\"#0d0887\"],[0.1111111111111111,\"#46039f\"],[0.2222222222222222,\"#7201a8\"],[0.3333333333333333,\"#9c179e\"],[0.4444444444444444,\"#bd3786\"],[0.5555555555555556,\"#d8576b\"],[0.6666666666666666,\"#ed7953\"],[0.7777777777777778,\"#fb9f3a\"],[0.8888888888888888,\"#fdca26\"],[1.0,\"#f0f921\"]]},\"colorway\":[\"#636efa\",\"#EF553B\",\"#00cc96\",\"#ab63fa\",\"#FFA15A\",\"#19d3f3\",\"#FF6692\",\"#B6E880\",\"#FF97FF\",\"#FECB52\"],\"font\":{\"color\":\"#2a3f5f\"},\"geo\":{\"bgcolor\":\"white\",\"lakecolor\":\"white\",\"landcolor\":\"#E5ECF6\",\"showlakes\":true,\"showland\":true,\"subunitcolor\":\"white\"},\"hoverlabel\":{\"align\":\"left\"},\"hovermode\":\"closest\",\"mapbox\":{\"style\":\"light\"},\"paper_bgcolor\":\"white\",\"plot_bgcolor\":\"#E5ECF6\",\"polar\":{\"angularaxis\":{\"gridcolor\":\"white\",\"linecolor\":\"white\",\"ticks\":\"\"},\"bgcolor\":\"#E5ECF6\",\"radialaxis\":{\"gridcolor\":\"white\",\"linecolor\":\"white\",\"ticks\":\"\"}},\"scene\":{\"xaxis\":{\"backgroundcolor\":\"#E5ECF6\",\"gridcolor\":\"white\",\"gridwidth\":2,\"linecolor\":\"white\",\"showbackground\":true,\"ticks\":\"\",\"zerolinecolor\":\"white\"},\"yaxis\":{\"backgroundcolor\":\"#E5ECF6\",\"gridcolor\":\"white\",\"gridwidth\":2,\"linecolor\":\"white\",\"showbackground\":true,\"ticks\":\"\",\"zerolinecolor\":\"white\"},\"zaxis\":{\"backgroundcolor\":\"#E5ECF6\",\"gridcolor\":\"white\",\"gridwidth\":2,\"linecolor\":\"white\",\"showbackground\":true,\"ticks\":\"\",\"zerolinecolor\":\"white\"}},\"shapedefaults\":{\"line\":{\"color\":\"#2a3f5f\"}},\"ternary\":{\"aaxis\":{\"gridcolor\":\"white\",\"linecolor\":\"white\",\"ticks\":\"\"},\"baxis\":{\"gridcolor\":\"white\",\"linecolor\":\"white\",\"ticks\":\"\"},\"bgcolor\":\"#E5ECF6\",\"caxis\":{\"gridcolor\":\"white\",\"linecolor\":\"white\",\"ticks\":\"\"}},\"title\":{\"x\":0.05},\"xaxis\":{\"automargin\":true,\"gridcolor\":\"white\",\"linecolor\":\"white\",\"ticks\":\"\",\"title\":{\"standoff\":15},\"zerolinecolor\":\"white\",\"zerolinewidth\":2},\"yaxis\":{\"automargin\":true,\"gridcolor\":\"white\",\"linecolor\":\"white\",\"ticks\":\"\",\"title\":{\"standoff\":15},\"zerolinecolor\":\"white\",\"zerolinewidth\":2}}},\"xaxis\":{\"anchor\":\"y\",\"domain\":[0.0,1.0],\"title\":{\"text\":\"Category\"}},\"yaxis\":{\"anchor\":\"x\",\"domain\":[0.0,1.0],\"title\":{\"text\":\"Videos/Category\"}},\"coloraxis\":{\"colorbar\":{\"title\":{\"text\":\"Videos/Category\"}},\"colorscale\":[[0.0,\"#0d0887\"],[0.1111111111111111,\"#46039f\"],[0.2222222222222222,\"#7201a8\"],[0.3333333333333333,\"#9c179e\"],[0.4444444444444444,\"#bd3786\"],[0.5555555555555556,\"#d8576b\"],[0.6666666666666666,\"#ed7953\"],[0.7777777777777778,\"#fb9f3a\"],[0.8888888888888888,\"#fdca26\"],[1.0,\"#f0f921\"]]},\"legend\":{\"tracegroupgap\":0},\"margin\":{\"t\":60},\"barmode\":\"relative\",\"height\":400,\"plot_bgcolor\":\"rgba(0, 0, 0, 0)\",\"paper_bgcolor\":\"rgba(0, 0, 0, 0)\"},                        {\"responsive\": true}                    ).then(function(){\n",
              "                            \n",
              "var gd = document.getElementById('9c63ca8c-bd3c-470d-9347-0eb9d02f4750');\n",
              "var x = new MutationObserver(function (mutations, observer) {{\n",
              "        var display = window.getComputedStyle(gd).display;\n",
              "        if (!display || display === 'none') {{\n",
              "            console.log([gd, 'removed!']);\n",
              "            Plotly.purge(gd);\n",
              "            observer.disconnect();\n",
              "        }}\n",
              "}});\n",
              "\n",
              "// Listen for the removal of the full notebook cells\n",
              "var notebookContainer = gd.closest('#notebook-container');\n",
              "if (notebookContainer) {{\n",
              "    x.observe(notebookContainer, {childList: true});\n",
              "}}\n",
              "\n",
              "// Listen for the clearing of the current output cell\n",
              "var outputEl = gd.closest('.output');\n",
              "if (outputEl) {{\n",
              "    x.observe(outputEl, {childList: true});\n",
              "}}\n",
              "\n",
              "                        })                };                            </script>        </div>\n",
              "</body>\n",
              "</html>"
            ]
          },
          "metadata": {}
        }
      ],
      "source": [
        "import plotly.express as px\n",
        "df_cat=pd.DataFrame(by_category)\n",
        "df_cat['category'] = df_cat.index\n",
        "df_cat.columns=['a','b']\n",
        "fig4 = px.bar(df_cat, x=\"b\", y=\"a\",color='a',labels={'b':'Category','a':'Videos/Category'}, height=400)\n",
        "fig4.update_layout({'plot_bgcolor': 'rgba(0, 0, 0, 0)','paper_bgcolor': 'rgba(0, 0, 0, 0)',})"
      ]
    },
    {
      "cell_type": "code",
      "execution_count": 22,
      "metadata": {
        "colab": {
          "base_uri": "https://localhost:8080/",
          "height": 758
        },
        "id": "pHjiLd2a-Jgu",
        "outputId": "8560c11d-4827-47db-b108-a30e5991481b"
      },
      "outputs": [
        {
          "output_type": "execute_result",
          "data": {
            "text/plain": [
              "(Text(0.5, 1.0, 'Distribution of Views against Categories'),\n",
              " Text(0.5, 0, 'Video Category'),\n",
              " Text(0, 0.5, 'View Logs'))"
            ]
          },
          "metadata": {},
          "execution_count": 22
        },
        {
          "output_type": "display_data",
          "data": {
            "image/png": "[encoded data removed]",
            "text/plain": [
              "<Figure size 1080x720 with 1 Axes>"
            ]
          },
          "metadata": {
            "needs_background": "light"
          }
        }
      ],
      "source": [
        "##2-Distribution of views against categories, using boxplot and views on log scale\n",
        "fig, ax = pyplot.subplots(figsize=(15,10))\n",
        "sns.boxplot(x=\"category\", y=\"views_log\", data=combined_data[['category','views_log']]),plt.xticks(rotation = 45)\n",
        "ax.set_title(\"Distribution of Views against Categories\",fontsize=20),ax.set_xlabel('Video Category',fontsize=15),ax.set_ylabel(ylabel='View Logs',fontsize=15)          \n",
        "# #To close the warning\n",
        "# fill with colors"
      ]
    },
    {
      "cell_type": "code",
      "execution_count": 21,
      "metadata": {
        "colab": {
          "base_uri": "https://localhost:8080/",
          "height": 758
        },
        "id": "IZ4RDFye-PrR",
        "outputId": "a1e41969-9243-4c8b-fbd3-c1abbb8058b6"
      },
      "outputs": [
        {
          "output_type": "execute_result",
          "data": {
            "text/plain": [
              "(Text(0.5, 1.0, 'Distribution of Dislikes against Categories'),\n",
              " Text(0.5, 0, 'Video Category'),\n",
              " Text(0, 0.5, 'Dislike Logs'))"
            ]
          },
          "metadata": {},
          "execution_count": 21
        },
        {
          "output_type": "display_data",
          "data": {
            "image/png": "[encoded data removed]",
            "text/plain": [
              "<Figure size 1080x720 with 1 Axes>"
            ]
          },
          "metadata": {
            "needs_background": "light"
          }
        }
      ],
      "source": [
        "##3-Distribution of dislikes against categories, Using boxplot and dislikes on log scale\n",
        "fig, ax = pyplot.subplots(figsize=(15,10))\n",
        "sns.boxplot(x=\"category\", y=\"dislikes_log\", data=combined_data[['category','dislikes_log']]),plt.xticks(rotation = 45)\n",
        "ax.set_title(\"Distribution of Dislikes against Categories\",fontsize=20),ax.set_xlabel('Video Category',fontsize=15),ax.set_ylabel(ylabel='Dislike Logs',fontsize=15)  \n"
      ]
    },
    {
      "cell_type": "code",
      "execution_count": null,
      "metadata": {
        "id": "y8PhjR_duC_L"
      },
      "outputs": [],
      "source": [
        "#How long does a video trend in a country?\n",
        "#What are some videos which got popular because they were disliked?"
      ]
    },
    {
      "cell_type": "markdown",
      "metadata": {
        "id": "6QXEF6oTA2t1"
      },
      "source": [
        "**How long does a video trend in a country?**"
      ]
    },
    {
      "cell_type": "code",
      "execution_count": 22,
      "metadata": {
        "colab": {
          "base_uri": "https://localhost:8080/",
          "height": 497
        },
        "id": "CEsFWhHGuCsP",
        "outputId": "ce44e751-48cc-47cc-d717-c2ef6864a9dd"
      },
      "outputs": [
        {
          "output_type": "execute_result",
          "data": {
            "text/plain": [
              "(<matplotlib.axes._subplots.AxesSubplot at 0x7f098d02d7d0>,\n",
              " Text(0.5, 1.0, 'Number of Mean Video Trending in Each Country '))"
            ]
          },
          "metadata": {},
          "execution_count": 22
        },
        {
          "output_type": "display_data",
          "data": {
            "image/png": "[encoded data removed]",
            "text/plain": [
              "<Figure size 720x504 with 1 Axes>"
            ]
          },
          "metadata": {
            "needs_background": "light"
          }
        }
      ],
      "source": [
        "df=combined_data.drop_duplicates()\n",
        "df1=df.groupby(['title','country']).size().reset_index(name='count')\n",
        "trending=df1.groupby('country')['count'].mean().to_frame().reset_index().rename(columns={\"country\": \"Country\", \"count\": \"Mean Trinding days\"})\n",
        "\n",
        "fig, ax = pyplot.subplots(figsize=(10, 7)),sns.set(font_scale=1.5)\n",
        "sns.barplot(x=\"Country\", y=\"Mean Trinding days\", data=trending,ax=ax),plt.title('Number of Mean Video Trending in Each Country ',color='Blue')"
      ]
    },
    {
      "cell_type": "markdown",
      "metadata": {
        "id": "tkDLuxGaBFGv"
      },
      "source": [
        "**What are some videos which got popular because they were disliked?**"
      ]
    },
    {
      "cell_type": "code",
      "execution_count": 23,
      "metadata": {
        "colab": {
          "base_uri": "https://localhost:8080/"
        },
        "id": "RoHi1dx2BEoT",
        "outputId": "abb7e664-53e6-43c1-d3d9-5ac02e533031"
      },
      "outputs": [
        {
          "output_type": "stream",
          "name": "stdout",
          "text": [
            "Videos which got popular because they were disliked: \n",
            " \n",
            " Jeffrey Tambor Fired From 'Transparent' Followi...\n",
            "5 Things You Missed at the 2018 SAG Awards | E!...\n",
            "Fergie Performs The U.S. National Anthem / 2018...\n",
            "                        Staudt on Sports I 1-22-18\n",
            "         WATCH: Sen. Mitch McConnell on tax reform\n",
            "                               二贵摔跤 - tienghoa.net\n"
          ]
        }
      ],
      "source": [
        "df2=df.groupby(['title','dislikes','likes']).size().reset_index(name='Trend_Days')\n",
        "trending_dislikes=df2.loc[(df2['dislikes'] > df2['likes']) & (df2['Trend_Days'] >= 3)] #Videos which got trends and have dislikes more than likes#\n",
        "trending_dislikes=trending_dislikes.sort_values(['Trend_Days'],ascending=[ False])\n",
        "print('Videos which got popular because they were disliked: \\n \\n',trending_dislikes.title.to_string(index=False))"
      ]
    },
    {
      "cell_type": "markdown",
      "metadata": {
        "id": "a9l7UZPoGBcB"
      },
      "source": [
        "#### 5.2.5: Feature Engineering (8 pts)\n"
      ]
    },
    {
      "cell_type": "markdown",
      "metadata": {
        "id": "bUSsAlnaI4Ep"
      },
      "source": [
        "\n",
        "##### a. Processing tags (1 pt)\n",
        "\n",
        "The feature tags in the dataset has a delimiter, use that delimiter to count the number of tags, create a feature called num_tags and add that to the dataset."
      ]
    },
    {
      "cell_type": "code",
      "execution_count": 23,
      "metadata": {
        "colab": {
          "base_uri": "https://localhost:8080/",
          "height": 1000
        },
        "id": "4L_6WcapHPDl",
        "outputId": "be7103cd-c6a8-4c4f-b1a5-b686c9f38cd2"
      },
      "outputs": [
        {
          "output_type": "execute_result",
          "data": {
            "text/html": [
              "\n",
              "  <div id=\"df-6f90fc14-179a-4b3b-8517-07b5972af46c\">\n",
              "    <div class=\"colab-df-container\">\n",
              "      <div>\n",
              "<style scoped>\n",
              "    .dataframe tbody tr th:only-of-type {\n",
              "        vertical-align: middle;\n",
              "    }\n",
              "\n",
              "    .dataframe tbody tr th {\n",
              "        vertical-align: top;\n",
              "    }\n",
              "\n",
              "    .dataframe thead th {\n",
              "        text-align: right;\n",
              "    }\n",
              "</style>\n",
              "<table border=\"1\" class=\"dataframe\">\n",
              "  <thead>\n",
              "    <tr style=\"text-align: right;\">\n",
              "      <th></th>\n",
              "      <th>trending_date</th>\n",
              "      <th>title</th>\n",
              "      <th>channel_title</th>\n",
              "      <th>category_id</th>\n",
              "      <th>publish_time</th>\n",
              "      <th>tags</th>\n",
              "      <th>views</th>\n",
              "      <th>likes</th>\n",
              "      <th>dislikes</th>\n",
              "      <th>comment_count</th>\n",
              "      <th>thumbnail_link</th>\n",
              "      <th>comments_disabled</th>\n",
              "      <th>ratings_disabled</th>\n",
              "      <th>video_error_or_removed</th>\n",
              "      <th>description</th>\n",
              "      <th>country</th>\n",
              "      <th>category</th>\n",
              "      <th>likes_log</th>\n",
              "      <th>views_log</th>\n",
              "      <th>dislikes_log</th>\n",
              "      <th>comment_log</th>\n",
              "      <th>num_tags</th>\n",
              "    </tr>\n",
              "    <tr>\n",
              "      <th>video_id</th>\n",
              "      <th></th>\n",
              "      <th></th>\n",
              "      <th></th>\n",
              "      <th></th>\n",
              "      <th></th>\n",
              "      <th></th>\n",
              "      <th></th>\n",
              "      <th></th>\n",
              "      <th></th>\n",
              "      <th></th>\n",
              "      <th></th>\n",
              "      <th></th>\n",
              "      <th></th>\n",
              "      <th></th>\n",
              "      <th></th>\n",
              "      <th></th>\n",
              "      <th></th>\n",
              "      <th></th>\n",
              "      <th></th>\n",
              "      <th></th>\n",
              "      <th></th>\n",
              "      <th></th>\n",
              "    </tr>\n",
              "  </thead>\n",
              "  <tbody>\n",
              "    <tr>\n",
              "      <th>kzwfHumJyYc</th>\n",
              "      <td>2017-11-14</td>\n",
              "      <td>Sharry Mann: Cute Munda ( Song Teaser) | Parmi...</td>\n",
              "      <td>Lokdhun Punjabi</td>\n",
              "      <td>1</td>\n",
              "      <td>2017-11-12 12:20:39</td>\n",
              "      <td>sharry mann|\"sharry mann new song\"|\"sharry man...</td>\n",
              "      <td>1096327</td>\n",
              "      <td>33966</td>\n",
              "      <td>798</td>\n",
              "      <td>882</td>\n",
              "      <td>https://i.ytimg.com/vi/kzwfHumJyYc/default.jpg</td>\n",
              "      <td>False</td>\n",
              "      <td>False</td>\n",
              "      <td>False</td>\n",
              "      <td>Presenting Sharry Mann latest Punjabi Song  Cu...</td>\n",
              "      <td>IN</td>\n",
              "      <td>Film &amp; Animation</td>\n",
              "      <td>10.433145</td>\n",
              "      <td>13.907477</td>\n",
              "      <td>6.683361</td>\n",
              "      <td>6.783325</td>\n",
              "      <td>15</td>\n",
              "    </tr>\n",
              "    <tr>\n",
              "      <th>zUZ1z7FwLc8</th>\n",
              "      <td>2017-11-14</td>\n",
              "      <td>पीरियड्स के समय, पेट पर पति करता ऐसा, देखकर दं...</td>\n",
              "      <td>HJ NEWS</td>\n",
              "      <td>25</td>\n",
              "      <td>2017-11-13 05:43:56</td>\n",
              "      <td>पीरियड्स के समय|\"पेट पर पति करता ऐसा\"|\"देखकर द...</td>\n",
              "      <td>590101</td>\n",
              "      <td>735</td>\n",
              "      <td>904</td>\n",
              "      <td>0</td>\n",
              "      <td>https://i.ytimg.com/vi/zUZ1z7FwLc8/default.jpg</td>\n",
              "      <td>True</td>\n",
              "      <td>False</td>\n",
              "      <td>False</td>\n",
              "      <td>पीरियड्स के समय, पेट पर पति करता ऐसा, देखकर दं...</td>\n",
              "      <td>IN</td>\n",
              "      <td>News &amp; Politics</td>\n",
              "      <td>6.601230</td>\n",
              "      <td>13.288051</td>\n",
              "      <td>6.807935</td>\n",
              "      <td>0.000000</td>\n",
              "      <td>19</td>\n",
              "    </tr>\n",
              "    <tr>\n",
              "      <th>10L1hZ9qa58</th>\n",
              "      <td>2017-11-14</td>\n",
              "      <td>Stylish Star Allu Arjun @ ChaySam Wedding Rece...</td>\n",
              "      <td>TFPC</td>\n",
              "      <td>24</td>\n",
              "      <td>2017-11-12 15:48:08</td>\n",
              "      <td>Stylish Star Allu Arjun @ ChaySam Wedding Rece...</td>\n",
              "      <td>473988</td>\n",
              "      <td>2011</td>\n",
              "      <td>243</td>\n",
              "      <td>149</td>\n",
              "      <td>https://i.ytimg.com/vi/10L1hZ9qa58/default.jpg</td>\n",
              "      <td>False</td>\n",
              "      <td>False</td>\n",
              "      <td>False</td>\n",
              "      <td>Watch Stylish Star Allu Arjun @ ChaySam Weddin...</td>\n",
              "      <td>IN</td>\n",
              "      <td>Entertainment</td>\n",
              "      <td>7.606885</td>\n",
              "      <td>13.068939</td>\n",
              "      <td>5.497168</td>\n",
              "      <td>5.010635</td>\n",
              "      <td>14</td>\n",
              "    </tr>\n",
              "    <tr>\n",
              "      <th>N1vE8iiEg64</th>\n",
              "      <td>2017-11-14</td>\n",
              "      <td>Eruma Saani | Tamil vs English</td>\n",
              "      <td>Eruma Saani</td>\n",
              "      <td>23</td>\n",
              "      <td>2017-11-12 07:08:48</td>\n",
              "      <td>Eruma Saani|\"Tamil Comedy Videos\"|\"Films\"|\"Mov...</td>\n",
              "      <td>1242680</td>\n",
              "      <td>70353</td>\n",
              "      <td>1624</td>\n",
              "      <td>2684</td>\n",
              "      <td>https://i.ytimg.com/vi/N1vE8iiEg64/default.jpg</td>\n",
              "      <td>False</td>\n",
              "      <td>False</td>\n",
              "      <td>False</td>\n",
              "      <td>This video showcases the difference between pe...</td>\n",
              "      <td>IN</td>\n",
              "      <td>Comedy</td>\n",
              "      <td>11.161295</td>\n",
              "      <td>14.032782</td>\n",
              "      <td>7.393263</td>\n",
              "      <td>7.895436</td>\n",
              "      <td>20</td>\n",
              "    </tr>\n",
              "    <tr>\n",
              "      <th>kJzGH0PVQHQ</th>\n",
              "      <td>2017-11-14</td>\n",
              "      <td>why Samantha became EMOTIONAL @ Samantha naga ...</td>\n",
              "      <td>Filmylooks</td>\n",
              "      <td>24</td>\n",
              "      <td>2017-11-13 01:14:16</td>\n",
              "      <td>Filmylooks|\"latest news\"|\"telugu movies\"|\"telu...</td>\n",
              "      <td>464015</td>\n",
              "      <td>492</td>\n",
              "      <td>293</td>\n",
              "      <td>66</td>\n",
              "      <td>https://i.ytimg.com/vi/kJzGH0PVQHQ/default.jpg</td>\n",
              "      <td>False</td>\n",
              "      <td>False</td>\n",
              "      <td>False</td>\n",
              "      <td>why Samantha became EMOTIONAL @ Samantha naga ...</td>\n",
              "      <td>IN</td>\n",
              "      <td>Entertainment</td>\n",
              "      <td>6.200509</td>\n",
              "      <td>13.047674</td>\n",
              "      <td>5.683580</td>\n",
              "      <td>4.204693</td>\n",
              "      <td>11</td>\n",
              "    </tr>\n",
              "    <tr>\n",
              "      <th>...</th>\n",
              "      <td>...</td>\n",
              "      <td>...</td>\n",
              "      <td>...</td>\n",
              "      <td>...</td>\n",
              "      <td>...</td>\n",
              "      <td>...</td>\n",
              "      <td>...</td>\n",
              "      <td>...</td>\n",
              "      <td>...</td>\n",
              "      <td>...</td>\n",
              "      <td>...</td>\n",
              "      <td>...</td>\n",
              "      <td>...</td>\n",
              "      <td>...</td>\n",
              "      <td>...</td>\n",
              "      <td>...</td>\n",
              "      <td>...</td>\n",
              "      <td>...</td>\n",
              "      <td>...</td>\n",
              "      <td>...</td>\n",
              "      <td>...</td>\n",
              "      <td>...</td>\n",
              "    </tr>\n",
              "    <tr>\n",
              "      <th>mSJ_Qb9-WtA</th>\n",
              "      <td>2018-06-14</td>\n",
              "      <td>Simon Cowell Falls In LOVE With 'Ms. Trysh' Bu...</td>\n",
              "      <td>Talent Recap</td>\n",
              "      <td>24</td>\n",
              "      <td>2018-06-13 01:36:56</td>\n",
              "      <td>America’s got talent|\"Americas got talent\"|\"ag...</td>\n",
              "      <td>560827</td>\n",
              "      <td>8688</td>\n",
              "      <td>147</td>\n",
              "      <td>696</td>\n",
              "      <td>https://i.ytimg.com/vi/mSJ_Qb9-WtA/default.jpg</td>\n",
              "      <td>False</td>\n",
              "      <td>False</td>\n",
              "      <td>False</td>\n",
              "      <td>#Full Segment | America’s Got Talent Season 13...</td>\n",
              "      <td>FR</td>\n",
              "      <td>Entertainment</td>\n",
              "      <td>9.069813</td>\n",
              "      <td>13.237170</td>\n",
              "      <td>4.997212</td>\n",
              "      <td>6.546785</td>\n",
              "      <td>29</td>\n",
              "    </tr>\n",
              "    <tr>\n",
              "      <th>coVXf3Q9xBk</th>\n",
              "      <td>2018-06-14</td>\n",
              "      <td>عاجل و رسمي : الملف الأمريكي يفوز بشرف تنظيم ك...</td>\n",
              "      <td>KORA LOVERS</td>\n",
              "      <td>1</td>\n",
              "      <td>2018-06-13 12:31:04</td>\n",
              "      <td>تنظيم كأس العالم 2026|\"كأس العالم 2026\"|\"المغر...</td>\n",
              "      <td>58758</td>\n",
              "      <td>307</td>\n",
              "      <td>86</td>\n",
              "      <td>485</td>\n",
              "      <td>https://i.ytimg.com/vi/coVXf3Q9xBk/default.jpg</td>\n",
              "      <td>False</td>\n",
              "      <td>False</td>\n",
              "      <td>False</td>\n",
              "      <td>المغرب تخسر تنظيم مونديال كاس العالم 2026 لصال...</td>\n",
              "      <td>FR</td>\n",
              "      <td>Film &amp; Animation</td>\n",
              "      <td>5.730100</td>\n",
              "      <td>10.981200</td>\n",
              "      <td>4.465908</td>\n",
              "      <td>6.186209</td>\n",
              "      <td>6</td>\n",
              "    </tr>\n",
              "    <tr>\n",
              "      <th>_umkjOQJvtw</th>\n",
              "      <td>2018-06-14</td>\n",
              "      <td>شاهد ملخص البرلمان اليوم بحضور اخنوش الدي يعطي...</td>\n",
              "      <td>Jadal جدل</td>\n",
              "      <td>25</td>\n",
              "      <td>2018-06-12 17:51:24</td>\n",
              "      <td>الباكالوريا في المغرب|\"صحاب الباك\"|\"صحاب الباك...</td>\n",
              "      <td>264639</td>\n",
              "      <td>2011</td>\n",
              "      <td>999</td>\n",
              "      <td>1397</td>\n",
              "      <td>https://i.ytimg.com/vi/_umkjOQJvtw/default.jpg</td>\n",
              "      <td>False</td>\n",
              "      <td>False</td>\n",
              "      <td>False</td>\n",
              "      <td>ملخص ابرز ما حصل في جلسة البرلمان يوم 12/06/20...</td>\n",
              "      <td>FR</td>\n",
              "      <td>News &amp; Politics</td>\n",
              "      <td>7.606885</td>\n",
              "      <td>12.486126</td>\n",
              "      <td>6.907755</td>\n",
              "      <td>7.242798</td>\n",
              "      <td>34</td>\n",
              "    </tr>\n",
              "    <tr>\n",
              "      <th>nt25ec7nzIM</th>\n",
              "      <td>2018-06-14</td>\n",
              "      <td>UN ANIME EXPLOSIF A VOIR ABSOLUMENT !</td>\n",
              "      <td>RushManga</td>\n",
              "      <td>22</td>\n",
              "      <td>2018-06-13 11:50:18</td>\n",
              "      <td>RushManga|\"rush manga\"|\"anime a voir\"|\"UN ANIM...</td>\n",
              "      <td>47510</td>\n",
              "      <td>4601</td>\n",
              "      <td>61</td>\n",
              "      <td>615</td>\n",
              "      <td>https://i.ytimg.com/vi/nt25ec7nzIM/default.jpg</td>\n",
              "      <td>False</td>\n",
              "      <td>False</td>\n",
              "      <td>False</td>\n",
              "      <td>•● Yozakura Quartet ~Hana no Uta~ ●•☆ S'abonne...</td>\n",
              "      <td>FR</td>\n",
              "      <td>People &amp; Blogs</td>\n",
              "      <td>8.434246</td>\n",
              "      <td>10.768717</td>\n",
              "      <td>4.127134</td>\n",
              "      <td>6.423247</td>\n",
              "      <td>18</td>\n",
              "    </tr>\n",
              "    <tr>\n",
              "      <th>NlxE_QQMRzg</th>\n",
              "      <td>2018-06-14</td>\n",
              "      <td>Նռան հատիկ, Սերիա 192 / Pomegranate seed / Nra...</td>\n",
              "      <td>PanArmenian TV</td>\n",
              "      <td>1</td>\n",
              "      <td>2018-06-13 18:30:00</td>\n",
              "      <td>Նռան հատիկ|\"Սերիա 192\"|\"Pomegranate seed\"|\"Nra...</td>\n",
              "      <td>78117</td>\n",
              "      <td>244</td>\n",
              "      <td>74</td>\n",
              "      <td>46</td>\n",
              "      <td>https://i.ytimg.com/vi/NlxE_QQMRzg/default.jpg</td>\n",
              "      <td>False</td>\n",
              "      <td>False</td>\n",
              "      <td>False</td>\n",
              "      <td>Follow Armenia TV on social platforms:Instagra...</td>\n",
              "      <td>FR</td>\n",
              "      <td>Film &amp; Animation</td>\n",
              "      <td>5.501258</td>\n",
              "      <td>11.265976</td>\n",
              "      <td>4.317488</td>\n",
              "      <td>3.850148</td>\n",
              "      <td>13</td>\n",
              "    </tr>\n",
              "  </tbody>\n",
              "</table>\n",
              "<p>154567 rows × 22 columns</p>\n",
              "</div>\n",
              "      <button class=\"colab-df-convert\" onclick=\"convertToInteractive('df-6f90fc14-179a-4b3b-8517-07b5972af46c')\"\n",
              "              title=\"Convert this dataframe to an interactive table.\"\n",
              "              style=\"display:none;\">\n",
              "        \n",
              "  <svg xmlns=\"http://www.w3.org/2000/svg\" height=\"24px\"viewBox=\"0 0 24 24\"\n",
              "       width=\"24px\">\n",
              "    <path d=\"M0 0h24v24H0V0z\" fill=\"none\"/>\n",
              "    <path d=\"M18.56 5.44l.94 2.06.94-2.06 2.06-.94-2.06-.94-.94-2.06-.94 2.06-2.06.94zm-11 1L8.5 8.5l.94-2.06 2.06-.94-2.06-.94L8.5 2.5l-.94 2.06-2.06.94zm10 10l.94 2.06.94-2.06 2.06-.94-2.06-.94-.94-2.06-.94 2.06-2.06.94z\"/><path d=\"M17.41 7.96l-1.37-1.37c-.4-.4-.92-.59-1.43-.59-.52 0-1.04.2-1.43.59L10.3 9.45l-7.72 7.72c-.78.78-.78 2.05 0 2.83L4 21.41c.39.39.9.59 1.41.59.51 0 1.02-.2 1.41-.59l7.78-7.78 2.81-2.81c.8-.78.8-2.07 0-2.86zM5.41 20L4 18.59l7.72-7.72 1.47 1.35L5.41 20z\"/>\n",
              "  </svg>\n",
              "      </button>\n",
              "      \n",
              "  <style>\n",
              "    .colab-df-container {\n",
              "      display:flex;\n",
              "      flex-wrap:wrap;\n",
              "      gap: 12px;\n",
              "    }\n",
              "\n",
              "    .colab-df-convert {\n",
              "      background-color: #E8F0FE;\n",
              "      border: none;\n",
              "      border-radius: 50%;\n",
              "      cursor: pointer;\n",
              "      display: none;\n",
              "      fill: #1967D2;\n",
              "      height: 32px;\n",
              "      padding: 0 0 0 0;\n",
              "      width: 32px;\n",
              "    }\n",
              "\n",
              "    .colab-df-convert:hover {\n",
              "      background-color: #E2EBFA;\n",
              "      box-shadow: 0px 1px 2px rgba(60, 64, 67, 0.3), 0px 1px 3px 1px rgba(60, 64, 67, 0.15);\n",
              "      fill: #174EA6;\n",
              "    }\n",
              "\n",
              "    [theme=dark] .colab-df-convert {\n",
              "      background-color: #3B4455;\n",
              "      fill: #D2E3FC;\n",
              "    }\n",
              "\n",
              "    [theme=dark] .colab-df-convert:hover {\n",
              "      background-color: #434B5C;\n",
              "      box-shadow: 0px 1px 3px 1px rgba(0, 0, 0, 0.15);\n",
              "      filter: drop-shadow(0px 1px 2px rgba(0, 0, 0, 0.3));\n",
              "      fill: #FFFFFF;\n",
              "    }\n",
              "  </style>\n",
              "\n",
              "      <script>\n",
              "        const buttonEl =\n",
              "          document.querySelector('#df-6f90fc14-179a-4b3b-8517-07b5972af46c button.colab-df-convert');\n",
              "        buttonEl.style.display =\n",
              "          google.colab.kernel.accessAllowed ? 'block' : 'none';\n",
              "\n",
              "        async function convertToInteractive(key) {\n",
              "          const element = document.querySelector('#df-6f90fc14-179a-4b3b-8517-07b5972af46c');\n",
              "          const dataTable =\n",
              "            await google.colab.kernel.invokeFunction('convertToInteractive',\n",
              "                                                     [key], {});\n",
              "          if (!dataTable) return;\n",
              "\n",
              "          const docLinkHtml = 'Like what you see? Visit the ' +\n",
              "            '<a target=\"_blank\" href=https://colab.research.google.com/notebooks/data_table.ipynb>data table notebook</a>'\n",
              "            + ' to learn more about interactive tables.';\n",
              "          element.innerHTML = '';\n",
              "          dataTable['output_type'] = 'display_data';\n",
              "          await google.colab.output.renderOutput(dataTable, element);\n",
              "          const docLink = document.createElement('div');\n",
              "          docLink.innerHTML = docLinkHtml;\n",
              "          element.appendChild(docLink);\n",
              "        }\n",
              "      </script>\n",
              "    </div>\n",
              "  </div>\n",
              "  "
            ],
            "text/plain": [
              "            trending_date  ... num_tags\n",
              "video_id                   ...         \n",
              "kzwfHumJyYc    2017-11-14  ...       15\n",
              "zUZ1z7FwLc8    2017-11-14  ...       19\n",
              "10L1hZ9qa58    2017-11-14  ...       14\n",
              "N1vE8iiEg64    2017-11-14  ...       20\n",
              "kJzGH0PVQHQ    2017-11-14  ...       11\n",
              "...                   ...  ...      ...\n",
              "mSJ_Qb9-WtA    2018-06-14  ...       29\n",
              "coVXf3Q9xBk    2018-06-14  ...        6\n",
              "_umkjOQJvtw    2018-06-14  ...       34\n",
              "nt25ec7nzIM    2018-06-14  ...       18\n",
              "NlxE_QQMRzg    2018-06-14  ...       13\n",
              "\n",
              "[154567 rows x 22 columns]"
            ]
          },
          "metadata": {},
          "execution_count": 23
        }
      ],
      "source": [
        "# Add your code here\n",
        "num_tags=[]\n",
        "xdf=combined_data.reset_index(drop=True)\n",
        "for i in range(len(combined_data)):\n",
        "  if xdf.at[i,'tags']=='[none]': #some videos has no tags but instead [none], so we are going to consider it as Zero tags.\n",
        "    count=0\n",
        "  else:\n",
        "    count=(xdf.at[i,'tags']).count(\"|\") + 1 \n",
        "  num_tags.append(count)\n",
        "combined_data['num_tags']=num_tags\n",
        "combined_data\n"
      ]
    },
    {
      "cell_type": "markdown",
      "metadata": {
        "id": "8bnJqokpI1Mj"
      },
      "source": [
        "##### b. Processing description and title (2 pts.)\n",
        "\n",
        "Calculate the length of description and title and add them as features to the dataset"
      ]
    },
    {
      "cell_type": "code",
      "execution_count": 24,
      "metadata": {
        "id": "NJyWb54zHes2"
      },
      "outputs": [],
      "source": [
        "# Add your code here\n",
        "combined_data[\"desc_len\"]=combined_data[\"description\"].apply(lambda x: len(x))"
      ]
    },
    {
      "cell_type": "code",
      "execution_count": 25,
      "metadata": {
        "id": "ZPMnQhbJHgx0"
      },
      "outputs": [],
      "source": [
        "# Add your code here\n",
        "\n",
        "combined_data[\"len_title\"]=combined_data[\"title\"].apply(lambda x: len(x))"
      ]
    },
    {
      "cell_type": "code",
      "execution_count": 26,
      "metadata": {
        "colab": {
          "base_uri": "https://localhost:8080/"
        },
        "id": "ksE7fNPQS_qr",
        "outputId": "4f4d356d-8d3e-425e-c0eb-015e2d6c0e6a"
      },
      "outputs": [
        {
          "output_type": "stream",
          "name": "stdout",
          "text": [
            "check_tags_title_description \n",
            " [count    154567.000000\n",
            "mean         18.580551\n",
            "std          11.929906\n",
            "min           0.000000\n",
            "25%           9.000000\n",
            "50%          17.000000\n",
            "75%          26.000000\n",
            "max         124.000000\n",
            "Name: num_tags, dtype: float64, count    154567.000000\n",
            "mean        959.949426\n",
            "std         857.504028\n",
            "min           1.000000\n",
            "25%         363.000000\n",
            "50%         717.000000\n",
            "75%        1288.000000\n",
            "max        5260.000000\n",
            "Name: desc_len, dtype: float64, count    154567.000000\n",
            "mean         56.408541\n",
            "std          22.976198\n",
            "min           2.000000\n",
            "25%          38.000000\n",
            "50%          54.000000\n",
            "75%          74.000000\n",
            "max         100.000000\n",
            "Name: len_title, dtype: float64]\n"
          ]
        }
      ],
      "source": [
        "# Print cell\n",
        "print('check_tags_title_description \\n',([combined_data['num_tags'].describe(),combined_data['desc_len'].describe(),combined_data['len_title'].describe()]))"
      ]
    },
    {
      "cell_type": "markdown",
      "metadata": {
        "id": "aOaB6ZbCJTBv"
      },
      "source": [
        "##### c. Processing publish_time. (4 pts.)\n",
        "\n",
        "\n",
        "Split 'publish_time' feature into three parts time, date, and weekday, where time will contain the time component of the original feature and date and weekday will store the corresponding date and weekday number respectively. Start with 1 for Monday and end with 7 for Sunday."
      ]
    },
    {
      "cell_type": "code",
      "execution_count": 27,
      "metadata": {
        "id": "ZH_SGsb2rnF2"
      },
      "outputs": [],
      "source": [
        "date_data=combined_data['publish_time']"
      ]
    },
    {
      "cell_type": "code",
      "execution_count": 28,
      "metadata": {
        "id": "ZVJTEJRFHrI5"
      },
      "outputs": [],
      "source": [
        "# Add your code here\n",
        "combined_data['publish_time'] =date_data.apply(lambda x: pd.to_datetime(x).time())\n",
        "combined_data['publish_date'] =date_data.apply(lambda x: pd.to_datetime(x).date())\n",
        "\n",
        "#day on which video was published\n",
        "combined_data['publish_weekday']=date_data.apply(lambda x: x.dayofweek)+1\n",
        "\n",
        "import random\n",
        "random_index = random.randint(0,combined_data.shape[0]-1)\n"
      ]
    },
    {
      "cell_type": "code",
      "execution_count": 29,
      "metadata": {
        "colab": {
          "base_uri": "https://localhost:8080/"
        },
        "id": "Ud5dPVljTDoQ",
        "outputId": "f231da09-ac80-4ac4-bd05-664bb1a43718"
      },
      "outputs": [
        {
          "output_type": "stream",
          "name": "stdout",
          "text": [
            "check_date_time_processing [datetime.time(17, 0, 6), datetime.date(2018, 1, 2), [18641, 18931, 22146, 22501, 22523, 23573, 26252]]\n"
          ]
        }
      ],
      "source": [
        "# Print cell\n",
        "print('check_date_time_processing',([combined_data['publish_time'].iloc[random_index],combined_data['publish_date'].iloc[random_index],sorted(list(combined_data[\"publish_weekday\"].value_counts()))]))"
      ]
    },
    {
      "cell_type": "markdown",
      "metadata": {
        "id": "mx1JPowWKKE7"
      },
      "source": [
        "##### d. Number of videos per weekday (1 pt)\n",
        "\n",
        "Calculate the number of videos published per day of the week. Which day of the week do people publish most videos? Make a visualization demonstrating the result."
      ]
    },
    {
      "cell_type": "code",
      "execution_count": 30,
      "metadata": {
        "colab": {
          "base_uri": "https://localhost:8080/",
          "height": 661
        },
        "id": "IYNXbH9AKhzy",
        "outputId": "dd469474-3b72-42bf-8536-5db225a4ba10"
      },
      "outputs": [
        {
          "output_type": "execute_result",
          "data": {
            "text/plain": [
              "(<matplotlib.axes._subplots.AxesSubplot at 0x7fc9eed1a550>,\n",
              " Text(0.5, 1.0, 'Number of puplished videos per week days '))"
            ]
          },
          "metadata": {},
          "execution_count": 30
        },
        {
          "output_type": "display_data",
          "data": {
            "image/png": "[encoded data removed]",
            "text/plain": [
              "<Figure size 1080x720 with 1 Axes>"
            ]
          },
          "metadata": {
            "needs_background": "light"
          }
        }
      ],
      "source": [
        "# Add your code for plot here\n",
        "\n",
        "##Creating dataframe after deleting videos which stay trending for more than one day according to the Video ID\n",
        "dfx=combined_data.reset_index(level=0)[['video_id','publish_weekday']].drop_duplicates(subset = ['video_id'], keep = 'last')\n",
        "\n",
        "##Mapping the day number : day name\n",
        "dayOfWeek={1:'Monday', 2:'Tuesday', 3:'Wednesday', 4:'Thursday', 5:'Friday', 6:'Saturday', 7:'Sunday'}\n",
        "dfx['publish_weekday'] = dfx['publish_weekday'].map(dayOfWeek)\n",
        "\n",
        "##Calculating and plotting\n",
        "videos_weekday = dfx['publish_weekday'].value_counts().to_frame().reset_index().rename(columns={\"index\": \"Week_Days\", \"publish_weekday\": \"No_of_videos\"})\n",
        "fig, ax = pyplot.subplots(figsize=(15, 10)),sns.set(font_scale=1.5)\n",
        "sns.barplot(x=\"Week_Days\", y=\"No_of_videos\", data=videos_weekday,ax=ax),plt.title('Number of puplished videos per week days ',color='Green')\n",
        "# Plots will be manually graded"
      ]
    },
    {
      "cell_type": "markdown",
      "metadata": {
        "id": "qd7dG7GTKrVQ"
      },
      "source": [
        "#### 5.2.6: Dropping irrelevant non numeric columns (1 pt.)\n",
        "\n",
        "Drop all the columns that are non-numeric as we have processed them and stored the information captured in them in the dataset as numbers. \n",
        "\n",
        "Note that a few key columns are non-numeric but should be kept in the dataframe:\n",
        "\n",
        "comments_disabled, ratings_disabled, video_error_or_removed, country\n",
        "\n",
        "Also drop original views, like, comments and dislikes as you have processed them as logs and stored them as separate feature. "
      ]
    },
    {
      "cell_type": "code",
      "execution_count": 31,
      "metadata": {
        "colab": {
          "base_uri": "https://localhost:8080/"
        },
        "id": "3xaCcVfhkSG_",
        "outputId": "1505c9ab-c26b-40ea-8bfc-e82ae8d19d3c"
      },
      "outputs": [
        {
          "output_type": "execute_result",
          "data": {
            "text/plain": [
              "Index(['trending_date', 'title', 'channel_title', 'category_id',\n",
              "       'publish_time', 'tags', 'views', 'likes', 'dislikes', 'comment_count',\n",
              "       'thumbnail_link', 'comments_disabled', 'ratings_disabled',\n",
              "       'video_error_or_removed', 'description', 'country', 'category',\n",
              "       'likes_log', 'views_log', 'dislikes_log', 'comment_log', 'num_tags',\n",
              "       'desc_len', 'len_title', 'publish_date', 'publish_weekday'],\n",
              "      dtype='object')"
            ]
          },
          "metadata": {},
          "execution_count": 31
        }
      ],
      "source": [
        "combined_data.columns"
      ]
    },
    {
      "cell_type": "code",
      "execution_count": 32,
      "metadata": {
        "id": "UtSoKgf7IOrJ"
      },
      "outputs": [],
      "source": [
        "# Add your code here\n",
        "combined_data.drop(['trending_date', 'title', 'channel_title', 'category_id',\n",
        "                    'publish_time', 'tags', 'views', 'likes', 'dislikes', 'comment_count',\n",
        "                    'thumbnail_link', 'description', 'publish_date'], axis = 1,inplace = True)"
      ]
    },
    {
      "cell_type": "code",
      "execution_count": 33,
      "metadata": {
        "colab": {
          "base_uri": "https://localhost:8080/",
          "height": 623
        },
        "id": "n4J6_aq9mAIa",
        "outputId": "c84eeb05-25f6-428f-d9a2-3e921a652bf0"
      },
      "outputs": [
        {
          "output_type": "execute_result",
          "data": {
            "text/html": [
              "\n",
              "  <div id=\"df-e0477df6-1058-4642-b679-c6237afa6959\">\n",
              "    <div class=\"colab-df-container\">\n",
              "      <div>\n",
              "<style scoped>\n",
              "    .dataframe tbody tr th:only-of-type {\n",
              "        vertical-align: middle;\n",
              "    }\n",
              "\n",
              "    .dataframe tbody tr th {\n",
              "        vertical-align: top;\n",
              "    }\n",
              "\n",
              "    .dataframe thead th {\n",
              "        text-align: right;\n",
              "    }\n",
              "</style>\n",
              "<table border=\"1\" class=\"dataframe\">\n",
              "  <thead>\n",
              "    <tr style=\"text-align: right;\">\n",
              "      <th></th>\n",
              "      <th>comments_disabled</th>\n",
              "      <th>ratings_disabled</th>\n",
              "      <th>video_error_or_removed</th>\n",
              "      <th>country</th>\n",
              "      <th>category</th>\n",
              "      <th>likes_log</th>\n",
              "      <th>views_log</th>\n",
              "      <th>dislikes_log</th>\n",
              "      <th>comment_log</th>\n",
              "      <th>num_tags</th>\n",
              "      <th>desc_len</th>\n",
              "      <th>len_title</th>\n",
              "      <th>publish_weekday</th>\n",
              "    </tr>\n",
              "    <tr>\n",
              "      <th>video_id</th>\n",
              "      <th></th>\n",
              "      <th></th>\n",
              "      <th></th>\n",
              "      <th></th>\n",
              "      <th></th>\n",
              "      <th></th>\n",
              "      <th></th>\n",
              "      <th></th>\n",
              "      <th></th>\n",
              "      <th></th>\n",
              "      <th></th>\n",
              "      <th></th>\n",
              "      <th></th>\n",
              "    </tr>\n",
              "  </thead>\n",
              "  <tbody>\n",
              "    <tr>\n",
              "      <th>kzwfHumJyYc</th>\n",
              "      <td>False</td>\n",
              "      <td>False</td>\n",
              "      <td>False</td>\n",
              "      <td>IN</td>\n",
              "      <td>Film &amp; Animation</td>\n",
              "      <td>10.433145</td>\n",
              "      <td>13.907477</td>\n",
              "      <td>6.683361</td>\n",
              "      <td>6.783325</td>\n",
              "      <td>15</td>\n",
              "      <td>920</td>\n",
              "      <td>81</td>\n",
              "      <td>7</td>\n",
              "    </tr>\n",
              "    <tr>\n",
              "      <th>zUZ1z7FwLc8</th>\n",
              "      <td>True</td>\n",
              "      <td>False</td>\n",
              "      <td>False</td>\n",
              "      <td>IN</td>\n",
              "      <td>News &amp; Politics</td>\n",
              "      <td>6.601230</td>\n",
              "      <td>13.288051</td>\n",
              "      <td>6.807935</td>\n",
              "      <td>0.000000</td>\n",
              "      <td>19</td>\n",
              "      <td>2232</td>\n",
              "      <td>58</td>\n",
              "      <td>1</td>\n",
              "    </tr>\n",
              "    <tr>\n",
              "      <th>10L1hZ9qa58</th>\n",
              "      <td>False</td>\n",
              "      <td>False</td>\n",
              "      <td>False</td>\n",
              "      <td>IN</td>\n",
              "      <td>Entertainment</td>\n",
              "      <td>7.606885</td>\n",
              "      <td>13.068939</td>\n",
              "      <td>5.497168</td>\n",
              "      <td>5.010635</td>\n",
              "      <td>14</td>\n",
              "      <td>482</td>\n",
              "      <td>58</td>\n",
              "      <td>7</td>\n",
              "    </tr>\n",
              "    <tr>\n",
              "      <th>N1vE8iiEg64</th>\n",
              "      <td>False</td>\n",
              "      <td>False</td>\n",
              "      <td>False</td>\n",
              "      <td>IN</td>\n",
              "      <td>Comedy</td>\n",
              "      <td>11.161295</td>\n",
              "      <td>14.032782</td>\n",
              "      <td>7.393263</td>\n",
              "      <td>7.895436</td>\n",
              "      <td>20</td>\n",
              "      <td>263</td>\n",
              "      <td>30</td>\n",
              "      <td>7</td>\n",
              "    </tr>\n",
              "    <tr>\n",
              "      <th>kJzGH0PVQHQ</th>\n",
              "      <td>False</td>\n",
              "      <td>False</td>\n",
              "      <td>False</td>\n",
              "      <td>IN</td>\n",
              "      <td>Entertainment</td>\n",
              "      <td>6.200509</td>\n",
              "      <td>13.047674</td>\n",
              "      <td>5.683580</td>\n",
              "      <td>4.204693</td>\n",
              "      <td>11</td>\n",
              "      <td>753</td>\n",
              "      <td>88</td>\n",
              "      <td>1</td>\n",
              "    </tr>\n",
              "    <tr>\n",
              "      <th>...</th>\n",
              "      <td>...</td>\n",
              "      <td>...</td>\n",
              "      <td>...</td>\n",
              "      <td>...</td>\n",
              "      <td>...</td>\n",
              "      <td>...</td>\n",
              "      <td>...</td>\n",
              "      <td>...</td>\n",
              "      <td>...</td>\n",
              "      <td>...</td>\n",
              "      <td>...</td>\n",
              "      <td>...</td>\n",
              "      <td>...</td>\n",
              "    </tr>\n",
              "    <tr>\n",
              "      <th>mSJ_Qb9-WtA</th>\n",
              "      <td>False</td>\n",
              "      <td>False</td>\n",
              "      <td>False</td>\n",
              "      <td>FR</td>\n",
              "      <td>Entertainment</td>\n",
              "      <td>9.069813</td>\n",
              "      <td>13.237170</td>\n",
              "      <td>4.997212</td>\n",
              "      <td>6.546785</td>\n",
              "      <td>29</td>\n",
              "      <td>1883</td>\n",
              "      <td>83</td>\n",
              "      <td>3</td>\n",
              "    </tr>\n",
              "    <tr>\n",
              "      <th>coVXf3Q9xBk</th>\n",
              "      <td>False</td>\n",
              "      <td>False</td>\n",
              "      <td>False</td>\n",
              "      <td>FR</td>\n",
              "      <td>Film &amp; Animation</td>\n",
              "      <td>5.730100</td>\n",
              "      <td>10.981200</td>\n",
              "      <td>4.465908</td>\n",
              "      <td>6.186209</td>\n",
              "      <td>6</td>\n",
              "      <td>69</td>\n",
              "      <td>76</td>\n",
              "      <td>3</td>\n",
              "    </tr>\n",
              "    <tr>\n",
              "      <th>_umkjOQJvtw</th>\n",
              "      <td>False</td>\n",
              "      <td>False</td>\n",
              "      <td>False</td>\n",
              "      <td>FR</td>\n",
              "      <td>News &amp; Politics</td>\n",
              "      <td>7.606885</td>\n",
              "      <td>12.486126</td>\n",
              "      <td>6.907755</td>\n",
              "      <td>7.242798</td>\n",
              "      <td>34</td>\n",
              "      <td>751</td>\n",
              "      <td>94</td>\n",
              "      <td>2</td>\n",
              "    </tr>\n",
              "    <tr>\n",
              "      <th>nt25ec7nzIM</th>\n",
              "      <td>False</td>\n",
              "      <td>False</td>\n",
              "      <td>False</td>\n",
              "      <td>FR</td>\n",
              "      <td>People &amp; Blogs</td>\n",
              "      <td>8.434246</td>\n",
              "      <td>10.768717</td>\n",
              "      <td>4.127134</td>\n",
              "      <td>6.423247</td>\n",
              "      <td>18</td>\n",
              "      <td>677</td>\n",
              "      <td>37</td>\n",
              "      <td>3</td>\n",
              "    </tr>\n",
              "    <tr>\n",
              "      <th>NlxE_QQMRzg</th>\n",
              "      <td>False</td>\n",
              "      <td>False</td>\n",
              "      <td>False</td>\n",
              "      <td>FR</td>\n",
              "      <td>Film &amp; Animation</td>\n",
              "      <td>5.501258</td>\n",
              "      <td>11.265976</td>\n",
              "      <td>4.317488</td>\n",
              "      <td>3.850148</td>\n",
              "      <td>13</td>\n",
              "      <td>143</td>\n",
              "      <td>53</td>\n",
              "      <td>3</td>\n",
              "    </tr>\n",
              "  </tbody>\n",
              "</table>\n",
              "<p>154567 rows × 13 columns</p>\n",
              "</div>\n",
              "      <button class=\"colab-df-convert\" onclick=\"convertToInteractive('df-e0477df6-1058-4642-b679-c6237afa6959')\"\n",
              "              title=\"Convert this dataframe to an interactive table.\"\n",
              "              style=\"display:none;\">\n",
              "        \n",
              "  <svg xmlns=\"http://www.w3.org/2000/svg\" height=\"24px\"viewBox=\"0 0 24 24\"\n",
              "       width=\"24px\">\n",
              "    <path d=\"M0 0h24v24H0V0z\" fill=\"none\"/>\n",
              "    <path d=\"M18.56 5.44l.94 2.06.94-2.06 2.06-.94-2.06-.94-.94-2.06-.94 2.06-2.06.94zm-11 1L8.5 8.5l.94-2.06 2.06-.94-2.06-.94L8.5 2.5l-.94 2.06-2.06.94zm10 10l.94 2.06.94-2.06 2.06-.94-2.06-.94-.94-2.06-.94 2.06-2.06.94z\"/><path d=\"M17.41 7.96l-1.37-1.37c-.4-.4-.92-.59-1.43-.59-.52 0-1.04.2-1.43.59L10.3 9.45l-7.72 7.72c-.78.78-.78 2.05 0 2.83L4 21.41c.39.39.9.59 1.41.59.51 0 1.02-.2 1.41-.59l7.78-7.78 2.81-2.81c.8-.78.8-2.07 0-2.86zM5.41 20L4 18.59l7.72-7.72 1.47 1.35L5.41 20z\"/>\n",
              "  </svg>\n",
              "      </button>\n",
              "      \n",
              "  <style>\n",
              "    .colab-df-container {\n",
              "      display:flex;\n",
              "      flex-wrap:wrap;\n",
              "      gap: 12px;\n",
              "    }\n",
              "\n",
              "    .colab-df-convert {\n",
              "      background-color: #E8F0FE;\n",
              "      border: none;\n",
              "      border-radius: 50%;\n",
              "      cursor: pointer;\n",
              "      display: none;\n",
              "      fill: #1967D2;\n",
              "      height: 32px;\n",
              "      padding: 0 0 0 0;\n",
              "      width: 32px;\n",
              "    }\n",
              "\n",
              "    .colab-df-convert:hover {\n",
              "      background-color: #E2EBFA;\n",
              "      box-shadow: 0px 1px 2px rgba(60, 64, 67, 0.3), 0px 1px 3px 1px rgba(60, 64, 67, 0.15);\n",
              "      fill: #174EA6;\n",
              "    }\n",
              "\n",
              "    [theme=dark] .colab-df-convert {\n",
              "      background-color: #3B4455;\n",
              "      fill: #D2E3FC;\n",
              "    }\n",
              "\n",
              "    [theme=dark] .colab-df-convert:hover {\n",
              "      background-color: #434B5C;\n",
              "      box-shadow: 0px 1px 3px 1px rgba(0, 0, 0, 0.15);\n",
              "      filter: drop-shadow(0px 1px 2px rgba(0, 0, 0, 0.3));\n",
              "      fill: #FFFFFF;\n",
              "    }\n",
              "  </style>\n",
              "\n",
              "      <script>\n",
              "        const buttonEl =\n",
              "          document.querySelector('#df-e0477df6-1058-4642-b679-c6237afa6959 button.colab-df-convert');\n",
              "        buttonEl.style.display =\n",
              "          google.colab.kernel.accessAllowed ? 'block' : 'none';\n",
              "\n",
              "        async function convertToInteractive(key) {\n",
              "          const element = document.querySelector('#df-e0477df6-1058-4642-b679-c6237afa6959');\n",
              "          const dataTable =\n",
              "            await google.colab.kernel.invokeFunction('convertToInteractive',\n",
              "                                                     [key], {});\n",
              "          if (!dataTable) return;\n",
              "\n",
              "          const docLinkHtml = 'Like what you see? Visit the ' +\n",
              "            '<a target=\"_blank\" href=https://colab.research.google.com/notebooks/data_table.ipynb>data table notebook</a>'\n",
              "            + ' to learn more about interactive tables.';\n",
              "          element.innerHTML = '';\n",
              "          dataTable['output_type'] = 'display_data';\n",
              "          await google.colab.output.renderOutput(dataTable, element);\n",
              "          const docLink = document.createElement('div');\n",
              "          docLink.innerHTML = docLinkHtml;\n",
              "          element.appendChild(docLink);\n",
              "        }\n",
              "      </script>\n",
              "    </div>\n",
              "  </div>\n",
              "  "
            ],
            "text/plain": [
              "             comments_disabled  ratings_disabled  ...  len_title publish_weekday\n",
              "video_id                                          ...                           \n",
              "kzwfHumJyYc              False             False  ...         81               7\n",
              "zUZ1z7FwLc8               True             False  ...         58               1\n",
              "10L1hZ9qa58              False             False  ...         58               7\n",
              "N1vE8iiEg64              False             False  ...         30               7\n",
              "kJzGH0PVQHQ              False             False  ...         88               1\n",
              "...                        ...               ...  ...        ...             ...\n",
              "mSJ_Qb9-WtA              False             False  ...         83               3\n",
              "coVXf3Q9xBk              False             False  ...         76               3\n",
              "_umkjOQJvtw              False             False  ...         94               2\n",
              "nt25ec7nzIM              False             False  ...         37               3\n",
              "NlxE_QQMRzg              False             False  ...         53               3\n",
              "\n",
              "[154567 rows x 13 columns]"
            ]
          },
          "metadata": {},
          "execution_count": 33
        }
      ],
      "source": [
        "combined_data"
      ]
    },
    {
      "cell_type": "markdown",
      "metadata": {
        "id": "_HtmJiKYLlxx"
      },
      "source": [
        "#### 5.2.7: Convert categorical features in the dataset into one hot vectors. (3 pts)\n",
        "\n",
        "There are three categorical features remaining in the dataset, identify them and convert them into one hot vectors. Be sure that when you one hot encode, the original column is replaced."
      ]
    },
    {
      "cell_type": "code",
      "execution_count": 34,
      "metadata": {
        "id": "63tJVBE0Kkju"
      },
      "outputs": [],
      "source": [
        "combined_data.publish_weekday = combined_data.publish_weekday.astype('category')\n",
        "combined_data.country = combined_data.country.astype('category')\n",
        "combined_data.category = combined_data.category.astype('category')\n",
        "combined_data= pd.get_dummies(combined_data)\n",
        "# Hint: Use pd.get_dummies()range. "
      ]
    },
    {
      "cell_type": "code",
      "execution_count": 35,
      "metadata": {
        "colab": {
          "base_uri": "https://localhost:8080/",
          "height": 536
        },
        "id": "Ovbz1_K3hyfV",
        "outputId": "0965aa17-4dfe-49b7-e09a-539c5248e665"
      },
      "outputs": [
        {
          "output_type": "execute_result",
          "data": {
            "text/html": [
              "\n",
              "  <div id=\"df-9088bea1-dcce-4e5f-aa11-2d8adc5590d6\">\n",
              "    <div class=\"colab-df-container\">\n",
              "      <div>\n",
              "<style scoped>\n",
              "    .dataframe tbody tr th:only-of-type {\n",
              "        vertical-align: middle;\n",
              "    }\n",
              "\n",
              "    .dataframe tbody tr th {\n",
              "        vertical-align: top;\n",
              "    }\n",
              "\n",
              "    .dataframe thead th {\n",
              "        text-align: right;\n",
              "    }\n",
              "</style>\n",
              "<table border=\"1\" class=\"dataframe\">\n",
              "  <thead>\n",
              "    <tr style=\"text-align: right;\">\n",
              "      <th></th>\n",
              "      <th>comments_disabled</th>\n",
              "      <th>ratings_disabled</th>\n",
              "      <th>video_error_or_removed</th>\n",
              "      <th>likes_log</th>\n",
              "      <th>views_log</th>\n",
              "      <th>dislikes_log</th>\n",
              "      <th>comment_log</th>\n",
              "      <th>num_tags</th>\n",
              "      <th>desc_len</th>\n",
              "      <th>len_title</th>\n",
              "      <th>country_CA</th>\n",
              "      <th>country_FR</th>\n",
              "      <th>country_IN</th>\n",
              "      <th>country_US</th>\n",
              "      <th>category_Autos &amp; Vehicles</th>\n",
              "      <th>category_Comedy</th>\n",
              "      <th>category_Education</th>\n",
              "      <th>category_Entertainment</th>\n",
              "      <th>category_Film &amp; Animation</th>\n",
              "      <th>category_Gaming</th>\n",
              "      <th>category_Howto &amp; Style</th>\n",
              "      <th>category_Movies</th>\n",
              "      <th>category_Music</th>\n",
              "      <th>category_News &amp; Politics</th>\n",
              "      <th>category_Nonprofits &amp; Activism</th>\n",
              "      <th>category_People &amp; Blogs</th>\n",
              "      <th>category_Pets &amp; Animals</th>\n",
              "      <th>category_Science &amp; Technology</th>\n",
              "      <th>category_Shows</th>\n",
              "      <th>category_Sports</th>\n",
              "      <th>category_Trailers</th>\n",
              "      <th>category_Travel &amp; Events</th>\n",
              "      <th>publish_weekday_1</th>\n",
              "      <th>publish_weekday_2</th>\n",
              "      <th>publish_weekday_3</th>\n",
              "      <th>publish_weekday_4</th>\n",
              "      <th>publish_weekday_5</th>\n",
              "      <th>publish_weekday_6</th>\n",
              "      <th>publish_weekday_7</th>\n",
              "    </tr>\n",
              "    <tr>\n",
              "      <th>video_id</th>\n",
              "      <th></th>\n",
              "      <th></th>\n",
              "      <th></th>\n",
              "      <th></th>\n",
              "      <th></th>\n",
              "      <th></th>\n",
              "      <th></th>\n",
              "      <th></th>\n",
              "      <th></th>\n",
              "      <th></th>\n",
              "      <th></th>\n",
              "      <th></th>\n",
              "      <th></th>\n",
              "      <th></th>\n",
              "      <th></th>\n",
              "      <th></th>\n",
              "      <th></th>\n",
              "      <th></th>\n",
              "      <th></th>\n",
              "      <th></th>\n",
              "      <th></th>\n",
              "      <th></th>\n",
              "      <th></th>\n",
              "      <th></th>\n",
              "      <th></th>\n",
              "      <th></th>\n",
              "      <th></th>\n",
              "      <th></th>\n",
              "      <th></th>\n",
              "      <th></th>\n",
              "      <th></th>\n",
              "      <th></th>\n",
              "      <th></th>\n",
              "      <th></th>\n",
              "      <th></th>\n",
              "      <th></th>\n",
              "      <th></th>\n",
              "      <th></th>\n",
              "      <th></th>\n",
              "    </tr>\n",
              "  </thead>\n",
              "  <tbody>\n",
              "    <tr>\n",
              "      <th>kzwfHumJyYc</th>\n",
              "      <td>False</td>\n",
              "      <td>False</td>\n",
              "      <td>False</td>\n",
              "      <td>10.433145</td>\n",
              "      <td>13.907477</td>\n",
              "      <td>6.683361</td>\n",
              "      <td>6.783325</td>\n",
              "      <td>15</td>\n",
              "      <td>920</td>\n",
              "      <td>81</td>\n",
              "      <td>0</td>\n",
              "      <td>0</td>\n",
              "      <td>1</td>\n",
              "      <td>0</td>\n",
              "      <td>0</td>\n",
              "      <td>0</td>\n",
              "      <td>0</td>\n",
              "      <td>0</td>\n",
              "      <td>1</td>\n",
              "      <td>0</td>\n",
              "      <td>0</td>\n",
              "      <td>0</td>\n",
              "      <td>0</td>\n",
              "      <td>0</td>\n",
              "      <td>0</td>\n",
              "      <td>0</td>\n",
              "      <td>0</td>\n",
              "      <td>0</td>\n",
              "      <td>0</td>\n",
              "      <td>0</td>\n",
              "      <td>0</td>\n",
              "      <td>0</td>\n",
              "      <td>0</td>\n",
              "      <td>0</td>\n",
              "      <td>0</td>\n",
              "      <td>0</td>\n",
              "      <td>0</td>\n",
              "      <td>0</td>\n",
              "      <td>1</td>\n",
              "    </tr>\n",
              "    <tr>\n",
              "      <th>zUZ1z7FwLc8</th>\n",
              "      <td>True</td>\n",
              "      <td>False</td>\n",
              "      <td>False</td>\n",
              "      <td>6.601230</td>\n",
              "      <td>13.288051</td>\n",
              "      <td>6.807935</td>\n",
              "      <td>0.000000</td>\n",
              "      <td>19</td>\n",
              "      <td>2232</td>\n",
              "      <td>58</td>\n",
              "      <td>0</td>\n",
              "      <td>0</td>\n",
              "      <td>1</td>\n",
              "      <td>0</td>\n",
              "      <td>0</td>\n",
              "      <td>0</td>\n",
              "      <td>0</td>\n",
              "      <td>0</td>\n",
              "      <td>0</td>\n",
              "      <td>0</td>\n",
              "      <td>0</td>\n",
              "      <td>0</td>\n",
              "      <td>0</td>\n",
              "      <td>1</td>\n",
              "      <td>0</td>\n",
              "      <td>0</td>\n",
              "      <td>0</td>\n",
              "      <td>0</td>\n",
              "      <td>0</td>\n",
              "      <td>0</td>\n",
              "      <td>0</td>\n",
              "      <td>0</td>\n",
              "      <td>1</td>\n",
              "      <td>0</td>\n",
              "      <td>0</td>\n",
              "      <td>0</td>\n",
              "      <td>0</td>\n",
              "      <td>0</td>\n",
              "      <td>0</td>\n",
              "    </tr>\n",
              "    <tr>\n",
              "      <th>10L1hZ9qa58</th>\n",
              "      <td>False</td>\n",
              "      <td>False</td>\n",
              "      <td>False</td>\n",
              "      <td>7.606885</td>\n",
              "      <td>13.068939</td>\n",
              "      <td>5.497168</td>\n",
              "      <td>5.010635</td>\n",
              "      <td>14</td>\n",
              "      <td>482</td>\n",
              "      <td>58</td>\n",
              "      <td>0</td>\n",
              "      <td>0</td>\n",
              "      <td>1</td>\n",
              "      <td>0</td>\n",
              "      <td>0</td>\n",
              "      <td>0</td>\n",
              "      <td>0</td>\n",
              "      <td>1</td>\n",
              "      <td>0</td>\n",
              "      <td>0</td>\n",
              "      <td>0</td>\n",
              "      <td>0</td>\n",
              "      <td>0</td>\n",
              "      <td>0</td>\n",
              "      <td>0</td>\n",
              "      <td>0</td>\n",
              "      <td>0</td>\n",
              "      <td>0</td>\n",
              "      <td>0</td>\n",
              "      <td>0</td>\n",
              "      <td>0</td>\n",
              "      <td>0</td>\n",
              "      <td>0</td>\n",
              "      <td>0</td>\n",
              "      <td>0</td>\n",
              "      <td>0</td>\n",
              "      <td>0</td>\n",
              "      <td>0</td>\n",
              "      <td>1</td>\n",
              "    </tr>\n",
              "    <tr>\n",
              "      <th>N1vE8iiEg64</th>\n",
              "      <td>False</td>\n",
              "      <td>False</td>\n",
              "      <td>False</td>\n",
              "      <td>11.161295</td>\n",
              "      <td>14.032782</td>\n",
              "      <td>7.393263</td>\n",
              "      <td>7.895436</td>\n",
              "      <td>20</td>\n",
              "      <td>263</td>\n",
              "      <td>30</td>\n",
              "      <td>0</td>\n",
              "      <td>0</td>\n",
              "      <td>1</td>\n",
              "      <td>0</td>\n",
              "      <td>0</td>\n",
              "      <td>1</td>\n",
              "      <td>0</td>\n",
              "      <td>0</td>\n",
              "      <td>0</td>\n",
              "      <td>0</td>\n",
              "      <td>0</td>\n",
              "      <td>0</td>\n",
              "      <td>0</td>\n",
              "      <td>0</td>\n",
              "      <td>0</td>\n",
              "      <td>0</td>\n",
              "      <td>0</td>\n",
              "      <td>0</td>\n",
              "      <td>0</td>\n",
              "      <td>0</td>\n",
              "      <td>0</td>\n",
              "      <td>0</td>\n",
              "      <td>0</td>\n",
              "      <td>0</td>\n",
              "      <td>0</td>\n",
              "      <td>0</td>\n",
              "      <td>0</td>\n",
              "      <td>0</td>\n",
              "      <td>1</td>\n",
              "    </tr>\n",
              "    <tr>\n",
              "      <th>kJzGH0PVQHQ</th>\n",
              "      <td>False</td>\n",
              "      <td>False</td>\n",
              "      <td>False</td>\n",
              "      <td>6.200509</td>\n",
              "      <td>13.047674</td>\n",
              "      <td>5.683580</td>\n",
              "      <td>4.204693</td>\n",
              "      <td>11</td>\n",
              "      <td>753</td>\n",
              "      <td>88</td>\n",
              "      <td>0</td>\n",
              "      <td>0</td>\n",
              "      <td>1</td>\n",
              "      <td>0</td>\n",
              "      <td>0</td>\n",
              "      <td>0</td>\n",
              "      <td>0</td>\n",
              "      <td>1</td>\n",
              "      <td>0</td>\n",
              "      <td>0</td>\n",
              "      <td>0</td>\n",
              "      <td>0</td>\n",
              "      <td>0</td>\n",
              "      <td>0</td>\n",
              "      <td>0</td>\n",
              "      <td>0</td>\n",
              "      <td>0</td>\n",
              "      <td>0</td>\n",
              "      <td>0</td>\n",
              "      <td>0</td>\n",
              "      <td>0</td>\n",
              "      <td>0</td>\n",
              "      <td>1</td>\n",
              "      <td>0</td>\n",
              "      <td>0</td>\n",
              "      <td>0</td>\n",
              "      <td>0</td>\n",
              "      <td>0</td>\n",
              "      <td>0</td>\n",
              "    </tr>\n",
              "    <tr>\n",
              "      <th>...</th>\n",
              "      <td>...</td>\n",
              "      <td>...</td>\n",
              "      <td>...</td>\n",
              "      <td>...</td>\n",
              "      <td>...</td>\n",
              "      <td>...</td>\n",
              "      <td>...</td>\n",
              "      <td>...</td>\n",
              "      <td>...</td>\n",
              "      <td>...</td>\n",
              "      <td>...</td>\n",
              "      <td>...</td>\n",
              "      <td>...</td>\n",
              "      <td>...</td>\n",
              "      <td>...</td>\n",
              "      <td>...</td>\n",
              "      <td>...</td>\n",
              "      <td>...</td>\n",
              "      <td>...</td>\n",
              "      <td>...</td>\n",
              "      <td>...</td>\n",
              "      <td>...</td>\n",
              "      <td>...</td>\n",
              "      <td>...</td>\n",
              "      <td>...</td>\n",
              "      <td>...</td>\n",
              "      <td>...</td>\n",
              "      <td>...</td>\n",
              "      <td>...</td>\n",
              "      <td>...</td>\n",
              "      <td>...</td>\n",
              "      <td>...</td>\n",
              "      <td>...</td>\n",
              "      <td>...</td>\n",
              "      <td>...</td>\n",
              "      <td>...</td>\n",
              "      <td>...</td>\n",
              "      <td>...</td>\n",
              "      <td>...</td>\n",
              "    </tr>\n",
              "    <tr>\n",
              "      <th>mSJ_Qb9-WtA</th>\n",
              "      <td>False</td>\n",
              "      <td>False</td>\n",
              "      <td>False</td>\n",
              "      <td>9.069813</td>\n",
              "      <td>13.237170</td>\n",
              "      <td>4.997212</td>\n",
              "      <td>6.546785</td>\n",
              "      <td>29</td>\n",
              "      <td>1883</td>\n",
              "      <td>83</td>\n",
              "      <td>0</td>\n",
              "      <td>1</td>\n",
              "      <td>0</td>\n",
              "      <td>0</td>\n",
              "      <td>0</td>\n",
              "      <td>0</td>\n",
              "      <td>0</td>\n",
              "      <td>1</td>\n",
              "      <td>0</td>\n",
              "      <td>0</td>\n",
              "      <td>0</td>\n",
              "      <td>0</td>\n",
              "      <td>0</td>\n",
              "      <td>0</td>\n",
              "      <td>0</td>\n",
              "      <td>0</td>\n",
              "      <td>0</td>\n",
              "      <td>0</td>\n",
              "      <td>0</td>\n",
              "      <td>0</td>\n",
              "      <td>0</td>\n",
              "      <td>0</td>\n",
              "      <td>0</td>\n",
              "      <td>0</td>\n",
              "      <td>1</td>\n",
              "      <td>0</td>\n",
              "      <td>0</td>\n",
              "      <td>0</td>\n",
              "      <td>0</td>\n",
              "    </tr>\n",
              "    <tr>\n",
              "      <th>coVXf3Q9xBk</th>\n",
              "      <td>False</td>\n",
              "      <td>False</td>\n",
              "      <td>False</td>\n",
              "      <td>5.730100</td>\n",
              "      <td>10.981200</td>\n",
              "      <td>4.465908</td>\n",
              "      <td>6.186209</td>\n",
              "      <td>6</td>\n",
              "      <td>69</td>\n",
              "      <td>76</td>\n",
              "      <td>0</td>\n",
              "      <td>1</td>\n",
              "      <td>0</td>\n",
              "      <td>0</td>\n",
              "      <td>0</td>\n",
              "      <td>0</td>\n",
              "      <td>0</td>\n",
              "      <td>0</td>\n",
              "      <td>1</td>\n",
              "      <td>0</td>\n",
              "      <td>0</td>\n",
              "      <td>0</td>\n",
              "      <td>0</td>\n",
              "      <td>0</td>\n",
              "      <td>0</td>\n",
              "      <td>0</td>\n",
              "      <td>0</td>\n",
              "      <td>0</td>\n",
              "      <td>0</td>\n",
              "      <td>0</td>\n",
              "      <td>0</td>\n",
              "      <td>0</td>\n",
              "      <td>0</td>\n",
              "      <td>0</td>\n",
              "      <td>1</td>\n",
              "      <td>0</td>\n",
              "      <td>0</td>\n",
              "      <td>0</td>\n",
              "      <td>0</td>\n",
              "    </tr>\n",
              "    <tr>\n",
              "      <th>_umkjOQJvtw</th>\n",
              "      <td>False</td>\n",
              "      <td>False</td>\n",
              "      <td>False</td>\n",
              "      <td>7.606885</td>\n",
              "      <td>12.486126</td>\n",
              "      <td>6.907755</td>\n",
              "      <td>7.242798</td>\n",
              "      <td>34</td>\n",
              "      <td>751</td>\n",
              "      <td>94</td>\n",
              "      <td>0</td>\n",
              "      <td>1</td>\n",
              "      <td>0</td>\n",
              "      <td>0</td>\n",
              "      <td>0</td>\n",
              "      <td>0</td>\n",
              "      <td>0</td>\n",
              "      <td>0</td>\n",
              "      <td>0</td>\n",
              "      <td>0</td>\n",
              "      <td>0</td>\n",
              "      <td>0</td>\n",
              "      <td>0</td>\n",
              "      <td>1</td>\n",
              "      <td>0</td>\n",
              "      <td>0</td>\n",
              "      <td>0</td>\n",
              "      <td>0</td>\n",
              "      <td>0</td>\n",
              "      <td>0</td>\n",
              "      <td>0</td>\n",
              "      <td>0</td>\n",
              "      <td>0</td>\n",
              "      <td>1</td>\n",
              "      <td>0</td>\n",
              "      <td>0</td>\n",
              "      <td>0</td>\n",
              "      <td>0</td>\n",
              "      <td>0</td>\n",
              "    </tr>\n",
              "    <tr>\n",
              "      <th>nt25ec7nzIM</th>\n",
              "      <td>False</td>\n",
              "      <td>False</td>\n",
              "      <td>False</td>\n",
              "      <td>8.434246</td>\n",
              "      <td>10.768717</td>\n",
              "      <td>4.127134</td>\n",
              "      <td>6.423247</td>\n",
              "      <td>18</td>\n",
              "      <td>677</td>\n",
              "      <td>37</td>\n",
              "      <td>0</td>\n",
              "      <td>1</td>\n",
              "      <td>0</td>\n",
              "      <td>0</td>\n",
              "      <td>0</td>\n",
              "      <td>0</td>\n",
              "      <td>0</td>\n",
              "      <td>0</td>\n",
              "      <td>0</td>\n",
              "      <td>0</td>\n",
              "      <td>0</td>\n",
              "      <td>0</td>\n",
              "      <td>0</td>\n",
              "      <td>0</td>\n",
              "      <td>0</td>\n",
              "      <td>1</td>\n",
              "      <td>0</td>\n",
              "      <td>0</td>\n",
              "      <td>0</td>\n",
              "      <td>0</td>\n",
              "      <td>0</td>\n",
              "      <td>0</td>\n",
              "      <td>0</td>\n",
              "      <td>0</td>\n",
              "      <td>1</td>\n",
              "      <td>0</td>\n",
              "      <td>0</td>\n",
              "      <td>0</td>\n",
              "      <td>0</td>\n",
              "    </tr>\n",
              "    <tr>\n",
              "      <th>NlxE_QQMRzg</th>\n",
              "      <td>False</td>\n",
              "      <td>False</td>\n",
              "      <td>False</td>\n",
              "      <td>5.501258</td>\n",
              "      <td>11.265976</td>\n",
              "      <td>4.317488</td>\n",
              "      <td>3.850148</td>\n",
              "      <td>13</td>\n",
              "      <td>143</td>\n",
              "      <td>53</td>\n",
              "      <td>0</td>\n",
              "      <td>1</td>\n",
              "      <td>0</td>\n",
              "      <td>0</td>\n",
              "      <td>0</td>\n",
              "      <td>0</td>\n",
              "      <td>0</td>\n",
              "      <td>0</td>\n",
              "      <td>1</td>\n",
              "      <td>0</td>\n",
              "      <td>0</td>\n",
              "      <td>0</td>\n",
              "      <td>0</td>\n",
              "      <td>0</td>\n",
              "      <td>0</td>\n",
              "      <td>0</td>\n",
              "      <td>0</td>\n",
              "      <td>0</td>\n",
              "      <td>0</td>\n",
              "      <td>0</td>\n",
              "      <td>0</td>\n",
              "      <td>0</td>\n",
              "      <td>0</td>\n",
              "      <td>0</td>\n",
              "      <td>1</td>\n",
              "      <td>0</td>\n",
              "      <td>0</td>\n",
              "      <td>0</td>\n",
              "      <td>0</td>\n",
              "    </tr>\n",
              "  </tbody>\n",
              "</table>\n",
              "<p>154567 rows × 39 columns</p>\n",
              "</div>\n",
              "      <button class=\"colab-df-convert\" onclick=\"convertToInteractive('df-9088bea1-dcce-4e5f-aa11-2d8adc5590d6')\"\n",
              "              title=\"Convert this dataframe to an interactive table.\"\n",
              "              style=\"display:none;\">\n",
              "        \n",
              "  <svg xmlns=\"http://www.w3.org/2000/svg\" height=\"24px\"viewBox=\"0 0 24 24\"\n",
              "       width=\"24px\">\n",
              "    <path d=\"M0 0h24v24H0V0z\" fill=\"none\"/>\n",
              "    <path d=\"M18.56 5.44l.94 2.06.94-2.06 2.06-.94-2.06-.94-.94-2.06-.94 2.06-2.06.94zm-11 1L8.5 8.5l.94-2.06 2.06-.94-2.06-.94L8.5 2.5l-.94 2.06-2.06.94zm10 10l.94 2.06.94-2.06 2.06-.94-2.06-.94-.94-2.06-.94 2.06-2.06.94z\"/><path d=\"M17.41 7.96l-1.37-1.37c-.4-.4-.92-.59-1.43-.59-.52 0-1.04.2-1.43.59L10.3 9.45l-7.72 7.72c-.78.78-.78 2.05 0 2.83L4 21.41c.39.39.9.59 1.41.59.51 0 1.02-.2 1.41-.59l7.78-7.78 2.81-2.81c.8-.78.8-2.07 0-2.86zM5.41 20L4 18.59l7.72-7.72 1.47 1.35L5.41 20z\"/>\n",
              "  </svg>\n",
              "      </button>\n",
              "      \n",
              "  <style>\n",
              "    .colab-df-container {\n",
              "      display:flex;\n",
              "      flex-wrap:wrap;\n",
              "      gap: 12px;\n",
              "    }\n",
              "\n",
              "    .colab-df-convert {\n",
              "      background-color: #E8F0FE;\n",
              "      border: none;\n",
              "      border-radius: 50%;\n",
              "      cursor: pointer;\n",
              "      display: none;\n",
              "      fill: #1967D2;\n",
              "      height: 32px;\n",
              "      padding: 0 0 0 0;\n",
              "      width: 32px;\n",
              "    }\n",
              "\n",
              "    .colab-df-convert:hover {\n",
              "      background-color: #E2EBFA;\n",
              "      box-shadow: 0px 1px 2px rgba(60, 64, 67, 0.3), 0px 1px 3px 1px rgba(60, 64, 67, 0.15);\n",
              "      fill: #174EA6;\n",
              "    }\n",
              "\n",
              "    [theme=dark] .colab-df-convert {\n",
              "      background-color: #3B4455;\n",
              "      fill: #D2E3FC;\n",
              "    }\n",
              "\n",
              "    [theme=dark] .colab-df-convert:hover {\n",
              "      background-color: #434B5C;\n",
              "      box-shadow: 0px 1px 3px 1px rgba(0, 0, 0, 0.15);\n",
              "      filter: drop-shadow(0px 1px 2px rgba(0, 0, 0, 0.3));\n",
              "      fill: #FFFFFF;\n",
              "    }\n",
              "  </style>\n",
              "\n",
              "      <script>\n",
              "        const buttonEl =\n",
              "          document.querySelector('#df-9088bea1-dcce-4e5f-aa11-2d8adc5590d6 button.colab-df-convert');\n",
              "        buttonEl.style.display =\n",
              "          google.colab.kernel.accessAllowed ? 'block' : 'none';\n",
              "\n",
              "        async function convertToInteractive(key) {\n",
              "          const element = document.querySelector('#df-9088bea1-dcce-4e5f-aa11-2d8adc5590d6');\n",
              "          const dataTable =\n",
              "            await google.colab.kernel.invokeFunction('convertToInteractive',\n",
              "                                                     [key], {});\n",
              "          if (!dataTable) return;\n",
              "\n",
              "          const docLinkHtml = 'Like what you see? Visit the ' +\n",
              "            '<a target=\"_blank\" href=https://colab.research.google.com/notebooks/data_table.ipynb>data table notebook</a>'\n",
              "            + ' to learn more about interactive tables.';\n",
              "          element.innerHTML = '';\n",
              "          dataTable['output_type'] = 'display_data';\n",
              "          await google.colab.output.renderOutput(dataTable, element);\n",
              "          const docLink = document.createElement('div');\n",
              "          docLink.innerHTML = docLinkHtml;\n",
              "          element.appendChild(docLink);\n",
              "        }\n",
              "      </script>\n",
              "    </div>\n",
              "  </div>\n",
              "  "
            ],
            "text/plain": [
              "             comments_disabled  ...  publish_weekday_7\n",
              "video_id                        ...                   \n",
              "kzwfHumJyYc              False  ...                  1\n",
              "zUZ1z7FwLc8               True  ...                  0\n",
              "10L1hZ9qa58              False  ...                  1\n",
              "N1vE8iiEg64              False  ...                  1\n",
              "kJzGH0PVQHQ              False  ...                  0\n",
              "...                        ...  ...                ...\n",
              "mSJ_Qb9-WtA              False  ...                  0\n",
              "coVXf3Q9xBk              False  ...                  0\n",
              "_umkjOQJvtw              False  ...                  0\n",
              "nt25ec7nzIM              False  ...                  0\n",
              "NlxE_QQMRzg              False  ...                  0\n",
              "\n",
              "[154567 rows x 39 columns]"
            ]
          },
          "metadata": {},
          "execution_count": 35
        }
      ],
      "source": [
        "combined_data"
      ]
    },
    {
      "cell_type": "code",
      "execution_count": 36,
      "metadata": {
        "colab": {
          "base_uri": "https://localhost:8080/"
        },
        "id": "xoC5xvGGPw-X",
        "outputId": "4b0bab56-19c1-4de1-b849-e016355de7e0"
      },
      "outputs": [
        {
          "output_type": "stream",
          "name": "stdout",
          "text": [
            "check_final_df (154567, 39)\n"
          ]
        }
      ],
      "source": [
        "# Print cell.\n",
        "print('check_final_df',(combined_data.shape))"
      ]
    },
    {
      "cell_type": "markdown",
      "metadata": {
        "id": "kAsgbsEn6lzv"
      },
      "source": [
        "Let's write out the modified data we created to a file so that we can reuse it in Section 2."
      ]
    },
    {
      "cell_type": "code",
      "execution_count": 37,
      "metadata": {
        "id": "-t8fKXq36k6P"
      },
      "outputs": [],
      "source": [
        "combined_data_sec_2 = combined_data.copy()\n",
        "combined_data_sec_2.rename(columns = {'views_log':'label'}, inplace = True) \n",
        "combined_data_sec_2.to_csv('combined_data.csv')"
      ]
    },
    {
      "cell_type": "markdown",
      "metadata": {
        "id": "FIcXjRtDMlFt"
      },
      "source": [
        "#### 5.2.8: Split into x and y (1 pt)\n",
        "\n",
        "Split the data into features and label, in this case the features are anything but views_log and the label is views_log."
      ]
    },
    {
      "cell_type": "code",
      "execution_count": 38,
      "metadata": {
        "colab": {
          "base_uri": "https://localhost:8080/"
        },
        "id": "8OnpKl4JaSxi",
        "outputId": "335a213c-f71c-49dc-cb89-f3d268715716"
      },
      "outputs": [
        {
          "output_type": "execute_result",
          "data": {
            "text/plain": [
              "Index(['comments_disabled', 'ratings_disabled', 'video_error_or_removed',\n",
              "       'likes_log', 'views_log', 'dislikes_log', 'comment_log', 'num_tags',\n",
              "       'desc_len', 'len_title', 'country_CA', 'country_FR', 'country_IN',\n",
              "       'country_US', 'category_Autos & Vehicles', 'category_Comedy',\n",
              "       'category_Education', 'category_Entertainment',\n",
              "       'category_Film & Animation', 'category_Gaming',\n",
              "       'category_Howto & Style', 'category_Movies', 'category_Music',\n",
              "       'category_News & Politics', 'category_Nonprofits & Activism',\n",
              "       'category_People & Blogs', 'category_Pets & Animals',\n",
              "       'category_Science & Technology', 'category_Shows', 'category_Sports',\n",
              "       'category_Trailers', 'category_Travel & Events', 'publish_weekday_1',\n",
              "       'publish_weekday_2', 'publish_weekday_3', 'publish_weekday_4',\n",
              "       'publish_weekday_5', 'publish_weekday_6', 'publish_weekday_7'],\n",
              "      dtype='object')"
            ]
          },
          "metadata": {},
          "execution_count": 38
        }
      ],
      "source": [
        "combined_data.columns"
      ]
    },
    {
      "cell_type": "code",
      "execution_count": 39,
      "metadata": {
        "id": "3nSwRvMSSFa3"
      },
      "outputs": [],
      "source": [
        "# Add your code here\n",
        "combined_data=pd.read_csv('combined_data.csv').set_index('video_id')\n",
        "label = combined_data['label']\n",
        "features = combined_data.drop(['label'],axis=1)\n"
      ]
    },
    {
      "cell_type": "code",
      "execution_count": 40,
      "metadata": {
        "colab": {
          "base_uri": "https://localhost:8080/"
        },
        "id": "JQeSlwz6TWJn",
        "outputId": "41bb002b-d32b-4976-bd5e-23bf2b2af23b"
      },
      "outputs": [
        {
          "output_type": "execute_result",
          "data": {
            "text/plain": [
              "video_id\n",
              "kzwfHumJyYc    13.907477\n",
              "zUZ1z7FwLc8    13.288051\n",
              "10L1hZ9qa58    13.068939\n",
              "N1vE8iiEg64    14.032782\n",
              "kJzGH0PVQHQ    13.047674\n",
              "Name: label, dtype: float64"
            ]
          },
          "metadata": {},
          "execution_count": 40
        }
      ],
      "source": [
        "label.head()"
      ]
    },
    {
      "cell_type": "code",
      "execution_count": 41,
      "metadata": {
        "colab": {
          "base_uri": "https://localhost:8080/",
          "height": 536
        },
        "id": "PhRsyfRLPvyQ",
        "outputId": "92b015cb-f886-463a-8dd5-11d21077304f"
      },
      "outputs": [
        {
          "output_type": "execute_result",
          "data": {
            "text/html": [
              "\n",
              "  <div id=\"df-85cf6653-43c2-461a-bd7a-db765c44cde7\">\n",
              "    <div class=\"colab-df-container\">\n",
              "      <div>\n",
              "<style scoped>\n",
              "    .dataframe tbody tr th:only-of-type {\n",
              "        vertical-align: middle;\n",
              "    }\n",
              "\n",
              "    .dataframe tbody tr th {\n",
              "        vertical-align: top;\n",
              "    }\n",
              "\n",
              "    .dataframe thead th {\n",
              "        text-align: right;\n",
              "    }\n",
              "</style>\n",
              "<table border=\"1\" class=\"dataframe\">\n",
              "  <thead>\n",
              "    <tr style=\"text-align: right;\">\n",
              "      <th></th>\n",
              "      <th>comments_disabled</th>\n",
              "      <th>ratings_disabled</th>\n",
              "      <th>video_error_or_removed</th>\n",
              "      <th>likes_log</th>\n",
              "      <th>label</th>\n",
              "      <th>dislikes_log</th>\n",
              "      <th>comment_log</th>\n",
              "      <th>num_tags</th>\n",
              "      <th>desc_len</th>\n",
              "      <th>len_title</th>\n",
              "      <th>country_CA</th>\n",
              "      <th>country_FR</th>\n",
              "      <th>country_IN</th>\n",
              "      <th>country_US</th>\n",
              "      <th>category_Autos &amp; Vehicles</th>\n",
              "      <th>category_Comedy</th>\n",
              "      <th>category_Education</th>\n",
              "      <th>category_Entertainment</th>\n",
              "      <th>category_Film &amp; Animation</th>\n",
              "      <th>category_Gaming</th>\n",
              "      <th>category_Howto &amp; Style</th>\n",
              "      <th>category_Movies</th>\n",
              "      <th>category_Music</th>\n",
              "      <th>category_News &amp; Politics</th>\n",
              "      <th>category_Nonprofits &amp; Activism</th>\n",
              "      <th>category_People &amp; Blogs</th>\n",
              "      <th>category_Pets &amp; Animals</th>\n",
              "      <th>category_Science &amp; Technology</th>\n",
              "      <th>category_Shows</th>\n",
              "      <th>category_Sports</th>\n",
              "      <th>category_Trailers</th>\n",
              "      <th>category_Travel &amp; Events</th>\n",
              "      <th>publish_weekday_1</th>\n",
              "      <th>publish_weekday_2</th>\n",
              "      <th>publish_weekday_3</th>\n",
              "      <th>publish_weekday_4</th>\n",
              "      <th>publish_weekday_5</th>\n",
              "      <th>publish_weekday_6</th>\n",
              "      <th>publish_weekday_7</th>\n",
              "    </tr>\n",
              "    <tr>\n",
              "      <th>video_id</th>\n",
              "      <th></th>\n",
              "      <th></th>\n",
              "      <th></th>\n",
              "      <th></th>\n",
              "      <th></th>\n",
              "      <th></th>\n",
              "      <th></th>\n",
              "      <th></th>\n",
              "      <th></th>\n",
              "      <th></th>\n",
              "      <th></th>\n",
              "      <th></th>\n",
              "      <th></th>\n",
              "      <th></th>\n",
              "      <th></th>\n",
              "      <th></th>\n",
              "      <th></th>\n",
              "      <th></th>\n",
              "      <th></th>\n",
              "      <th></th>\n",
              "      <th></th>\n",
              "      <th></th>\n",
              "      <th></th>\n",
              "      <th></th>\n",
              "      <th></th>\n",
              "      <th></th>\n",
              "      <th></th>\n",
              "      <th></th>\n",
              "      <th></th>\n",
              "      <th></th>\n",
              "      <th></th>\n",
              "      <th></th>\n",
              "      <th></th>\n",
              "      <th></th>\n",
              "      <th></th>\n",
              "      <th></th>\n",
              "      <th></th>\n",
              "      <th></th>\n",
              "      <th></th>\n",
              "    </tr>\n",
              "  </thead>\n",
              "  <tbody>\n",
              "    <tr>\n",
              "      <th>kzwfHumJyYc</th>\n",
              "      <td>False</td>\n",
              "      <td>False</td>\n",
              "      <td>False</td>\n",
              "      <td>10.433145</td>\n",
              "      <td>13.907477</td>\n",
              "      <td>6.683361</td>\n",
              "      <td>6.783325</td>\n",
              "      <td>15</td>\n",
              "      <td>920</td>\n",
              "      <td>81</td>\n",
              "      <td>0</td>\n",
              "      <td>0</td>\n",
              "      <td>1</td>\n",
              "      <td>0</td>\n",
              "      <td>0</td>\n",
              "      <td>0</td>\n",
              "      <td>0</td>\n",
              "      <td>0</td>\n",
              "      <td>1</td>\n",
              "      <td>0</td>\n",
              "      <td>0</td>\n",
              "      <td>0</td>\n",
              "      <td>0</td>\n",
              "      <td>0</td>\n",
              "      <td>0</td>\n",
              "      <td>0</td>\n",
              "      <td>0</td>\n",
              "      <td>0</td>\n",
              "      <td>0</td>\n",
              "      <td>0</td>\n",
              "      <td>0</td>\n",
              "      <td>0</td>\n",
              "      <td>0</td>\n",
              "      <td>0</td>\n",
              "      <td>0</td>\n",
              "      <td>0</td>\n",
              "      <td>0</td>\n",
              "      <td>0</td>\n",
              "      <td>1</td>\n",
              "    </tr>\n",
              "    <tr>\n",
              "      <th>zUZ1z7FwLc8</th>\n",
              "      <td>True</td>\n",
              "      <td>False</td>\n",
              "      <td>False</td>\n",
              "      <td>6.601230</td>\n",
              "      <td>13.288051</td>\n",
              "      <td>6.807935</td>\n",
              "      <td>0.000000</td>\n",
              "      <td>19</td>\n",
              "      <td>2232</td>\n",
              "      <td>58</td>\n",
              "      <td>0</td>\n",
              "      <td>0</td>\n",
              "      <td>1</td>\n",
              "      <td>0</td>\n",
              "      <td>0</td>\n",
              "      <td>0</td>\n",
              "      <td>0</td>\n",
              "      <td>0</td>\n",
              "      <td>0</td>\n",
              "      <td>0</td>\n",
              "      <td>0</td>\n",
              "      <td>0</td>\n",
              "      <td>0</td>\n",
              "      <td>1</td>\n",
              "      <td>0</td>\n",
              "      <td>0</td>\n",
              "      <td>0</td>\n",
              "      <td>0</td>\n",
              "      <td>0</td>\n",
              "      <td>0</td>\n",
              "      <td>0</td>\n",
              "      <td>0</td>\n",
              "      <td>1</td>\n",
              "      <td>0</td>\n",
              "      <td>0</td>\n",
              "      <td>0</td>\n",
              "      <td>0</td>\n",
              "      <td>0</td>\n",
              "      <td>0</td>\n",
              "    </tr>\n",
              "    <tr>\n",
              "      <th>10L1hZ9qa58</th>\n",
              "      <td>False</td>\n",
              "      <td>False</td>\n",
              "      <td>False</td>\n",
              "      <td>7.606885</td>\n",
              "      <td>13.068939</td>\n",
              "      <td>5.497168</td>\n",
              "      <td>5.010635</td>\n",
              "      <td>14</td>\n",
              "      <td>482</td>\n",
              "      <td>58</td>\n",
              "      <td>0</td>\n",
              "      <td>0</td>\n",
              "      <td>1</td>\n",
              "      <td>0</td>\n",
              "      <td>0</td>\n",
              "      <td>0</td>\n",
              "      <td>0</td>\n",
              "      <td>1</td>\n",
              "      <td>0</td>\n",
              "      <td>0</td>\n",
              "      <td>0</td>\n",
              "      <td>0</td>\n",
              "      <td>0</td>\n",
              "      <td>0</td>\n",
              "      <td>0</td>\n",
              "      <td>0</td>\n",
              "      <td>0</td>\n",
              "      <td>0</td>\n",
              "      <td>0</td>\n",
              "      <td>0</td>\n",
              "      <td>0</td>\n",
              "      <td>0</td>\n",
              "      <td>0</td>\n",
              "      <td>0</td>\n",
              "      <td>0</td>\n",
              "      <td>0</td>\n",
              "      <td>0</td>\n",
              "      <td>0</td>\n",
              "      <td>1</td>\n",
              "    </tr>\n",
              "    <tr>\n",
              "      <th>N1vE8iiEg64</th>\n",
              "      <td>False</td>\n",
              "      <td>False</td>\n",
              "      <td>False</td>\n",
              "      <td>11.161295</td>\n",
              "      <td>14.032782</td>\n",
              "      <td>7.393263</td>\n",
              "      <td>7.895436</td>\n",
              "      <td>20</td>\n",
              "      <td>263</td>\n",
              "      <td>30</td>\n",
              "      <td>0</td>\n",
              "      <td>0</td>\n",
              "      <td>1</td>\n",
              "      <td>0</td>\n",
              "      <td>0</td>\n",
              "      <td>1</td>\n",
              "      <td>0</td>\n",
              "      <td>0</td>\n",
              "      <td>0</td>\n",
              "      <td>0</td>\n",
              "      <td>0</td>\n",
              "      <td>0</td>\n",
              "      <td>0</td>\n",
              "      <td>0</td>\n",
              "      <td>0</td>\n",
              "      <td>0</td>\n",
              "      <td>0</td>\n",
              "      <td>0</td>\n",
              "      <td>0</td>\n",
              "      <td>0</td>\n",
              "      <td>0</td>\n",
              "      <td>0</td>\n",
              "      <td>0</td>\n",
              "      <td>0</td>\n",
              "      <td>0</td>\n",
              "      <td>0</td>\n",
              "      <td>0</td>\n",
              "      <td>0</td>\n",
              "      <td>1</td>\n",
              "    </tr>\n",
              "    <tr>\n",
              "      <th>kJzGH0PVQHQ</th>\n",
              "      <td>False</td>\n",
              "      <td>False</td>\n",
              "      <td>False</td>\n",
              "      <td>6.200509</td>\n",
              "      <td>13.047674</td>\n",
              "      <td>5.683580</td>\n",
              "      <td>4.204693</td>\n",
              "      <td>11</td>\n",
              "      <td>753</td>\n",
              "      <td>88</td>\n",
              "      <td>0</td>\n",
              "      <td>0</td>\n",
              "      <td>1</td>\n",
              "      <td>0</td>\n",
              "      <td>0</td>\n",
              "      <td>0</td>\n",
              "      <td>0</td>\n",
              "      <td>1</td>\n",
              "      <td>0</td>\n",
              "      <td>0</td>\n",
              "      <td>0</td>\n",
              "      <td>0</td>\n",
              "      <td>0</td>\n",
              "      <td>0</td>\n",
              "      <td>0</td>\n",
              "      <td>0</td>\n",
              "      <td>0</td>\n",
              "      <td>0</td>\n",
              "      <td>0</td>\n",
              "      <td>0</td>\n",
              "      <td>0</td>\n",
              "      <td>0</td>\n",
              "      <td>1</td>\n",
              "      <td>0</td>\n",
              "      <td>0</td>\n",
              "      <td>0</td>\n",
              "      <td>0</td>\n",
              "      <td>0</td>\n",
              "      <td>0</td>\n",
              "    </tr>\n",
              "    <tr>\n",
              "      <th>...</th>\n",
              "      <td>...</td>\n",
              "      <td>...</td>\n",
              "      <td>...</td>\n",
              "      <td>...</td>\n",
              "      <td>...</td>\n",
              "      <td>...</td>\n",
              "      <td>...</td>\n",
              "      <td>...</td>\n",
              "      <td>...</td>\n",
              "      <td>...</td>\n",
              "      <td>...</td>\n",
              "      <td>...</td>\n",
              "      <td>...</td>\n",
              "      <td>...</td>\n",
              "      <td>...</td>\n",
              "      <td>...</td>\n",
              "      <td>...</td>\n",
              "      <td>...</td>\n",
              "      <td>...</td>\n",
              "      <td>...</td>\n",
              "      <td>...</td>\n",
              "      <td>...</td>\n",
              "      <td>...</td>\n",
              "      <td>...</td>\n",
              "      <td>...</td>\n",
              "      <td>...</td>\n",
              "      <td>...</td>\n",
              "      <td>...</td>\n",
              "      <td>...</td>\n",
              "      <td>...</td>\n",
              "      <td>...</td>\n",
              "      <td>...</td>\n",
              "      <td>...</td>\n",
              "      <td>...</td>\n",
              "      <td>...</td>\n",
              "      <td>...</td>\n",
              "      <td>...</td>\n",
              "      <td>...</td>\n",
              "      <td>...</td>\n",
              "    </tr>\n",
              "    <tr>\n",
              "      <th>mSJ_Qb9-WtA</th>\n",
              "      <td>False</td>\n",
              "      <td>False</td>\n",
              "      <td>False</td>\n",
              "      <td>9.069813</td>\n",
              "      <td>13.237170</td>\n",
              "      <td>4.997212</td>\n",
              "      <td>6.546785</td>\n",
              "      <td>29</td>\n",
              "      <td>1883</td>\n",
              "      <td>83</td>\n",
              "      <td>0</td>\n",
              "      <td>1</td>\n",
              "      <td>0</td>\n",
              "      <td>0</td>\n",
              "      <td>0</td>\n",
              "      <td>0</td>\n",
              "      <td>0</td>\n",
              "      <td>1</td>\n",
              "      <td>0</td>\n",
              "      <td>0</td>\n",
              "      <td>0</td>\n",
              "      <td>0</td>\n",
              "      <td>0</td>\n",
              "      <td>0</td>\n",
              "      <td>0</td>\n",
              "      <td>0</td>\n",
              "      <td>0</td>\n",
              "      <td>0</td>\n",
              "      <td>0</td>\n",
              "      <td>0</td>\n",
              "      <td>0</td>\n",
              "      <td>0</td>\n",
              "      <td>0</td>\n",
              "      <td>0</td>\n",
              "      <td>1</td>\n",
              "      <td>0</td>\n",
              "      <td>0</td>\n",
              "      <td>0</td>\n",
              "      <td>0</td>\n",
              "    </tr>\n",
              "    <tr>\n",
              "      <th>coVXf3Q9xBk</th>\n",
              "      <td>False</td>\n",
              "      <td>False</td>\n",
              "      <td>False</td>\n",
              "      <td>5.730100</td>\n",
              "      <td>10.981200</td>\n",
              "      <td>4.465908</td>\n",
              "      <td>6.186209</td>\n",
              "      <td>6</td>\n",
              "      <td>69</td>\n",
              "      <td>76</td>\n",
              "      <td>0</td>\n",
              "      <td>1</td>\n",
              "      <td>0</td>\n",
              "      <td>0</td>\n",
              "      <td>0</td>\n",
              "      <td>0</td>\n",
              "      <td>0</td>\n",
              "      <td>0</td>\n",
              "      <td>1</td>\n",
              "      <td>0</td>\n",
              "      <td>0</td>\n",
              "      <td>0</td>\n",
              "      <td>0</td>\n",
              "      <td>0</td>\n",
              "      <td>0</td>\n",
              "      <td>0</td>\n",
              "      <td>0</td>\n",
              "      <td>0</td>\n",
              "      <td>0</td>\n",
              "      <td>0</td>\n",
              "      <td>0</td>\n",
              "      <td>0</td>\n",
              "      <td>0</td>\n",
              "      <td>0</td>\n",
              "      <td>1</td>\n",
              "      <td>0</td>\n",
              "      <td>0</td>\n",
              "      <td>0</td>\n",
              "      <td>0</td>\n",
              "    </tr>\n",
              "    <tr>\n",
              "      <th>_umkjOQJvtw</th>\n",
              "      <td>False</td>\n",
              "      <td>False</td>\n",
              "      <td>False</td>\n",
              "      <td>7.606885</td>\n",
              "      <td>12.486126</td>\n",
              "      <td>6.907755</td>\n",
              "      <td>7.242798</td>\n",
              "      <td>34</td>\n",
              "      <td>751</td>\n",
              "      <td>94</td>\n",
              "      <td>0</td>\n",
              "      <td>1</td>\n",
              "      <td>0</td>\n",
              "      <td>0</td>\n",
              "      <td>0</td>\n",
              "      <td>0</td>\n",
              "      <td>0</td>\n",
              "      <td>0</td>\n",
              "      <td>0</td>\n",
              "      <td>0</td>\n",
              "      <td>0</td>\n",
              "      <td>0</td>\n",
              "      <td>0</td>\n",
              "      <td>1</td>\n",
              "      <td>0</td>\n",
              "      <td>0</td>\n",
              "      <td>0</td>\n",
              "      <td>0</td>\n",
              "      <td>0</td>\n",
              "      <td>0</td>\n",
              "      <td>0</td>\n",
              "      <td>0</td>\n",
              "      <td>0</td>\n",
              "      <td>1</td>\n",
              "      <td>0</td>\n",
              "      <td>0</td>\n",
              "      <td>0</td>\n",
              "      <td>0</td>\n",
              "      <td>0</td>\n",
              "    </tr>\n",
              "    <tr>\n",
              "      <th>nt25ec7nzIM</th>\n",
              "      <td>False</td>\n",
              "      <td>False</td>\n",
              "      <td>False</td>\n",
              "      <td>8.434246</td>\n",
              "      <td>10.768717</td>\n",
              "      <td>4.127134</td>\n",
              "      <td>6.423247</td>\n",
              "      <td>18</td>\n",
              "      <td>677</td>\n",
              "      <td>37</td>\n",
              "      <td>0</td>\n",
              "      <td>1</td>\n",
              "      <td>0</td>\n",
              "      <td>0</td>\n",
              "      <td>0</td>\n",
              "      <td>0</td>\n",
              "      <td>0</td>\n",
              "      <td>0</td>\n",
              "      <td>0</td>\n",
              "      <td>0</td>\n",
              "      <td>0</td>\n",
              "      <td>0</td>\n",
              "      <td>0</td>\n",
              "      <td>0</td>\n",
              "      <td>0</td>\n",
              "      <td>1</td>\n",
              "      <td>0</td>\n",
              "      <td>0</td>\n",
              "      <td>0</td>\n",
              "      <td>0</td>\n",
              "      <td>0</td>\n",
              "      <td>0</td>\n",
              "      <td>0</td>\n",
              "      <td>0</td>\n",
              "      <td>1</td>\n",
              "      <td>0</td>\n",
              "      <td>0</td>\n",
              "      <td>0</td>\n",
              "      <td>0</td>\n",
              "    </tr>\n",
              "    <tr>\n",
              "      <th>NlxE_QQMRzg</th>\n",
              "      <td>False</td>\n",
              "      <td>False</td>\n",
              "      <td>False</td>\n",
              "      <td>5.501258</td>\n",
              "      <td>11.265976</td>\n",
              "      <td>4.317488</td>\n",
              "      <td>3.850148</td>\n",
              "      <td>13</td>\n",
              "      <td>143</td>\n",
              "      <td>53</td>\n",
              "      <td>0</td>\n",
              "      <td>1</td>\n",
              "      <td>0</td>\n",
              "      <td>0</td>\n",
              "      <td>0</td>\n",
              "      <td>0</td>\n",
              "      <td>0</td>\n",
              "      <td>0</td>\n",
              "      <td>1</td>\n",
              "      <td>0</td>\n",
              "      <td>0</td>\n",
              "      <td>0</td>\n",
              "      <td>0</td>\n",
              "      <td>0</td>\n",
              "      <td>0</td>\n",
              "      <td>0</td>\n",
              "      <td>0</td>\n",
              "      <td>0</td>\n",
              "      <td>0</td>\n",
              "      <td>0</td>\n",
              "      <td>0</td>\n",
              "      <td>0</td>\n",
              "      <td>0</td>\n",
              "      <td>0</td>\n",
              "      <td>1</td>\n",
              "      <td>0</td>\n",
              "      <td>0</td>\n",
              "      <td>0</td>\n",
              "      <td>0</td>\n",
              "    </tr>\n",
              "  </tbody>\n",
              "</table>\n",
              "<p>154567 rows × 39 columns</p>\n",
              "</div>\n",
              "      <button class=\"colab-df-convert\" onclick=\"convertToInteractive('df-85cf6653-43c2-461a-bd7a-db765c44cde7')\"\n",
              "              title=\"Convert this dataframe to an interactive table.\"\n",
              "              style=\"display:none;\">\n",
              "        \n",
              "  <svg xmlns=\"http://www.w3.org/2000/svg\" height=\"24px\"viewBox=\"0 0 24 24\"\n",
              "       width=\"24px\">\n",
              "    <path d=\"M0 0h24v24H0V0z\" fill=\"none\"/>\n",
              "    <path d=\"M18.56 5.44l.94 2.06.94-2.06 2.06-.94-2.06-.94-.94-2.06-.94 2.06-2.06.94zm-11 1L8.5 8.5l.94-2.06 2.06-.94-2.06-.94L8.5 2.5l-.94 2.06-2.06.94zm10 10l.94 2.06.94-2.06 2.06-.94-2.06-.94-.94-2.06-.94 2.06-2.06.94z\"/><path d=\"M17.41 7.96l-1.37-1.37c-.4-.4-.92-.59-1.43-.59-.52 0-1.04.2-1.43.59L10.3 9.45l-7.72 7.72c-.78.78-.78 2.05 0 2.83L4 21.41c.39.39.9.59 1.41.59.51 0 1.02-.2 1.41-.59l7.78-7.78 2.81-2.81c.8-.78.8-2.07 0-2.86zM5.41 20L4 18.59l7.72-7.72 1.47 1.35L5.41 20z\"/>\n",
              "  </svg>\n",
              "      </button>\n",
              "      \n",
              "  <style>\n",
              "    .colab-df-container {\n",
              "      display:flex;\n",
              "      flex-wrap:wrap;\n",
              "      gap: 12px;\n",
              "    }\n",
              "\n",
              "    .colab-df-convert {\n",
              "      background-color: #E8F0FE;\n",
              "      border: none;\n",
              "      border-radius: 50%;\n",
              "      cursor: pointer;\n",
              "      display: none;\n",
              "      fill: #1967D2;\n",
              "      height: 32px;\n",
              "      padding: 0 0 0 0;\n",
              "      width: 32px;\n",
              "    }\n",
              "\n",
              "    .colab-df-convert:hover {\n",
              "      background-color: #E2EBFA;\n",
              "      box-shadow: 0px 1px 2px rgba(60, 64, 67, 0.3), 0px 1px 3px 1px rgba(60, 64, 67, 0.15);\n",
              "      fill: #174EA6;\n",
              "    }\n",
              "\n",
              "    [theme=dark] .colab-df-convert {\n",
              "      background-color: #3B4455;\n",
              "      fill: #D2E3FC;\n",
              "    }\n",
              "\n",
              "    [theme=dark] .colab-df-convert:hover {\n",
              "      background-color: #434B5C;\n",
              "      box-shadow: 0px 1px 3px 1px rgba(0, 0, 0, 0.15);\n",
              "      filter: drop-shadow(0px 1px 2px rgba(0, 0, 0, 0.3));\n",
              "      fill: #FFFFFF;\n",
              "    }\n",
              "  </style>\n",
              "\n",
              "      <script>\n",
              "        const buttonEl =\n",
              "          document.querySelector('#df-85cf6653-43c2-461a-bd7a-db765c44cde7 button.colab-df-convert');\n",
              "        buttonEl.style.display =\n",
              "          google.colab.kernel.accessAllowed ? 'block' : 'none';\n",
              "\n",
              "        async function convertToInteractive(key) {\n",
              "          const element = document.querySelector('#df-85cf6653-43c2-461a-bd7a-db765c44cde7');\n",
              "          const dataTable =\n",
              "            await google.colab.kernel.invokeFunction('convertToInteractive',\n",
              "                                                     [key], {});\n",
              "          if (!dataTable) return;\n",
              "\n",
              "          const docLinkHtml = 'Like what you see? Visit the ' +\n",
              "            '<a target=\"_blank\" href=https://colab.research.google.com/notebooks/data_table.ipynb>data table notebook</a>'\n",
              "            + ' to learn more about interactive tables.';\n",
              "          element.innerHTML = '';\n",
              "          dataTable['output_type'] = 'display_data';\n",
              "          await google.colab.output.renderOutput(dataTable, element);\n",
              "          const docLink = document.createElement('div');\n",
              "          docLink.innerHTML = docLinkHtml;\n",
              "          element.appendChild(docLink);\n",
              "        }\n",
              "      </script>\n",
              "    </div>\n",
              "  </div>\n",
              "  "
            ],
            "text/plain": [
              "             comments_disabled  ...  publish_weekday_7\n",
              "video_id                        ...                   \n",
              "kzwfHumJyYc              False  ...                  1\n",
              "zUZ1z7FwLc8               True  ...                  0\n",
              "10L1hZ9qa58              False  ...                  1\n",
              "N1vE8iiEg64              False  ...                  1\n",
              "kJzGH0PVQHQ              False  ...                  0\n",
              "...                        ...  ...                ...\n",
              "mSJ_Qb9-WtA              False  ...                  0\n",
              "coVXf3Q9xBk              False  ...                  0\n",
              "_umkjOQJvtw              False  ...                  0\n",
              "nt25ec7nzIM              False  ...                  0\n",
              "NlxE_QQMRzg              False  ...                  0\n",
              "\n",
              "[154567 rows x 39 columns]"
            ]
          },
          "metadata": {},
          "execution_count": 41
        }
      ],
      "source": [
        "combined_data"
      ]
    },
    {
      "cell_type": "code",
      "execution_count": 42,
      "metadata": {
        "colab": {
          "base_uri": "https://localhost:8080/"
        },
        "id": "r6opJ4LOPygd",
        "outputId": "d3b99dea-0ade-4e9a-caec-a855a054e86b"
      },
      "outputs": [
        {
          "output_type": "stream",
          "name": "stdout",
          "text": [
            "check_x_y_split [(154567, 38), count    154567.000000\n",
            "mean         12.552680\n",
            "std           1.816821\n",
            "min           5.411646\n",
            "25%          11.469496\n",
            "50%          12.655328\n",
            "75%          13.761413\n",
            "max          19.232552\n",
            "Name: label, dtype: float64]\n"
          ]
        }
      ],
      "source": [
        "# print cell\n",
        "print('check_x_y_split',([features.shape, label.describe()]))"
      ]
    },
    {
      "cell_type": "markdown",
      "metadata": {
        "id": "a9rwVcftQJwu"
      },
      "source": [
        "## 5.3 : Machine Learning using sklearn (15 pts)\n",
        "\n",
        "Scikit-learn (formerly scikits.learn and also known as sklearn) is a free software machine learning library for the Python programming language. It features various classification, regression and clustering algorithms including support vector machines, random forests, gradient boosting, k-means and DBSCAN, and is designed to interoperate with the Python numerical and scientific libraries NumPy and SciPy.\n",
        "\n",
        "You can find the documentation [here](https://scikit-learn.org/stable/modules/classes.html)\n",
        "\n",
        "Now we will train some machine learning models using sklearn to predict views, rather than predicting views directly we will predict views_log to avoid numerical instability issues"
      ]
    },
    {
      "cell_type": "markdown",
      "metadata": {
        "id": "5955JflOaxtP"
      },
      "source": [
        "### 5.3.1 : Split data into train and test (1 pt)\n",
        "\n",
        "Use sklearn's train_test_split library and split data into train and test sets, the split should be 80-20 meaning 80% for training and rest for testing.\n"
      ]
    },
    {
      "cell_type": "code",
      "execution_count": 43,
      "metadata": {
        "id": "1b5bKkQkR9lT"
      },
      "outputs": [],
      "source": [
        "from sklearn.model_selection import train_test_split\n",
        "# Add your code here\n",
        "x_train, x_test, y_train, y_test = train_test_split(features.values, label.values, test_size=0.2, random_state=0)\n",
        "from sklearn.preprocessing import StandardScaler\n",
        "sc = StandardScaler()\n",
        "x_train = sc.fit_transform(x_train)\n",
        "x_test = sc.transform(x_test)"
      ]
    },
    {
      "cell_type": "code",
      "execution_count": 44,
      "metadata": {
        "colab": {
          "base_uri": "https://localhost:8080/"
        },
        "id": "azYR-gZ1QKwK",
        "outputId": "2fab88f5-e8d8-494a-d91b-341d0f0abdcb"
      },
      "outputs": [
        {
          "output_type": "stream",
          "name": "stdout",
          "text": [
            "check_data_split [(123653, 38), (30914, 38), (123653,), (30914,)]\n"
          ]
        }
      ],
      "source": [
        "# print cell.\n",
        "print('check_data_split',[x_train.shape,x_test.shape,y_train.shape,y_test.shape])"
      ]
    },
    {
      "cell_type": "markdown",
      "metadata": {
        "id": "dbfiYK_8RGKI"
      },
      "source": [
        "### 5.3.2: Train Machine Learning Models."
      ]
    },
    {
      "cell_type": "markdown",
      "metadata": {
        "id": "7EPYfVVMRMDd"
      },
      "source": [
        "#### 5.3.2.1 Linear Regression (3 pts)\n",
        "\n",
        "In this step we will train a linear regression model using sklearn. Train using the training data and then make predictions of test, report the mean squared error obtained on both train and test sets."
      ]
    },
    {
      "cell_type": "code",
      "execution_count": 45,
      "metadata": {
        "colab": {
          "base_uri": "https://localhost:8080/"
        },
        "id": "A6wS3Rc_TZGT",
        "outputId": "6d55a982-00e7-433e-9254-5165e94f714e"
      },
      "outputs": [
        {
          "output_type": "stream",
          "name": "stdout",
          "text": [
            "r Squared: 0.86\n",
            "mse_value of Test= 0.4501796950831465\n",
            "mse_value of Train= 0.44447655160156535\n"
          ]
        }
      ],
      "source": [
        "from sklearn.linear_model import LinearRegression\n",
        "from sklearn.metrics import mean_squared_error\n",
        "# Add your code here\n",
        "from sklearn.metrics import accuracy_score, mean_absolute_error, mean_squared_error\n",
        "\n",
        "# Create linear regression object\n",
        "lin_R = LinearRegression()\n",
        "\n",
        "# Train the model using the training sets\n",
        "lin_R.fit(x_train, y_train)\n",
        "\n",
        "# Make predictions\n",
        "\n",
        "y_predict_test = lin_R.predict(x_test)\n",
        "y_predict_train= lin_R.predict(x_train)\n",
        "\n",
        "# The coefficients\n",
        "#print('Coefficients: \\n', lin_R.coef_)\n",
        "\n",
        "print('r Squared: %.2f'\n",
        "      % lin_R.score(x_test, y_test))\n",
        "\n",
        "print('mse_value of Test=',mean_squared_error(y_test, y_predict_test))\n",
        "print('mse_value of Train=',mean_squared_error(y_train, y_predict_train))\n",
        "mse_test= mean_squared_error(y_test, y_predict_test)"
      ]
    },
    {
      "cell_type": "code",
      "execution_count": 46,
      "metadata": {
        "colab": {
          "base_uri": "https://localhost:8080/"
        },
        "id": "YmSfKICYQLuh",
        "outputId": "f7dfc6fc-117b-41ba-c895-299b9b781616"
      },
      "outputs": [
        {
          "output_type": "stream",
          "name": "stdout",
          "text": [
            "check_lr 0.6709543166886599\n"
          ]
        }
      ],
      "source": [
        "print('check_lr', (np.sqrt(mean_squared_error(y_test, y_predict_test))))"
      ]
    },
    {
      "cell_type": "markdown",
      "metadata": {
        "id": "jpu9aiyYbAUS"
      },
      "source": [
        "#### 5.3.2.2  Dimensionality reduction with PCA (6 pts)\n",
        "\n"
      ]
    },
    {
      "cell_type": "markdown",
      "metadata": {
        "id": "aTqcy4x-TXv9"
      },
      "source": [
        "##### Step 1: Fitting PCA and explained_variance_ratiio\n",
        "Use Principal component analysis to reduce number of dimensions of the dataset, as a first step fit a pca model on your train set and then plot the explained_variance_ratio against the number of components to decide the number of components you should keep. (3 pts)"
      ]
    },
    {
      "cell_type": "code",
      "execution_count": 47,
      "metadata": {
        "colab": {
          "base_uri": "https://localhost:8080/",
          "height": 331
        },
        "id": "NjpuExM0Vx8s",
        "outputId": "cdfc3c2b-43f7-4b6b-d6ce-b7737b37efbf"
      },
      "outputs": [
        {
          "output_type": "stream",
          "name": "stdout",
          "text": [
            "[(0, 0.09114437064542778), (1, 0.13964535441590084), (2, 0.17826250312827094), (3, 0.2166464981401218), (4, 0.2507656035601217), (5, 0.2841670696588904), (6, 0.31696252506305417), (7, 0.3484300996969708), (8, 0.3795857235404512), (9, 0.41056507315073776), (10, 0.4411157760986382), (11, 0.47090310316987216), (12, 0.5005103909189328), (13, 0.5293190935711924), (14, 0.5577160620626272), (15, 0.5858461034376294), (16, 0.6133433538548405), (17, 0.6403387909621302), (18, 0.6671331280114056), (19, 0.6937889668477255), (20, 0.7202712860718251), (21, 0.7465993596275723), (22, 0.7728971509229412), (23, 0.7990624359041844), (24, 0.8247984126544388), (25, 0.8503078483042205), (26, 0.8752999037658546), (27, 0.8999221450768852), (28, 0.922478403588195), (29, 0.9430658100164777), (30, 0.9622081843818363), (31, 0.9794288638141729), (32, 0.9948961438974186), (33, 0.9982943541270501), (34, 0.9999999999999999), (35, 0.9999999999999999), (36, 0.9999999999999999), (37, 0.9999999999999999)]\n"
          ]
        },
        {
          "output_type": "execute_result",
          "data": {
            "text/plain": [
              "[<matplotlib.lines.Line2D at 0x7fc9ec217450>]"
            ]
          },
          "metadata": {},
          "execution_count": 47
        },
        {
          "output_type": "display_data",
          "data": {
            "image/png": "[encoded data removed]",
            "text/plain": [
              "<Figure size 432x288 with 1 Axes>"
            ]
          },
          "metadata": {}
        }
      ],
      "source": [
        "import numpy as np\n",
        "from sklearn.decomposition import PCA\n",
        "from sklearn.preprocessing import StandardScaler\n",
        "# Add your code here\n",
        "\n",
        "pca = PCA()\n",
        "sc = StandardScaler()\n",
        "x_train_std=pca.fit_transform(x_train)\n",
        "np.set_printoptions(suppress=True)\n",
        "var_vs_pca = np.cumsum(pca.explained_variance_ratio_)\n",
        "print([(i,x) for i, x in enumerate(var_vs_pca)])\n",
        "# plotting the explained_variance_ratio against the number of components\n",
        "plt.plot(var_vs_pca)"
      ]
    },
    {
      "cell_type": "code",
      "execution_count": 48,
      "metadata": {
        "colab": {
          "base_uri": "https://localhost:8080/",
          "height": 331
        },
        "id": "tMkDsHu0MW81",
        "outputId": "f2ecad53-ecd9-4a29-b80b-9aa04c0546cd"
      },
      "outputs": [
        {
          "output_type": "stream",
          "name": "stdout",
          "text": [
            "[(0, 0.09114437064542778), (1, 0.13964535441590084), (2, 0.17826250312827094), (3, 0.2166464981401218), (4, 0.2507656035601217), (5, 0.2841670696588904), (6, 0.31696252506305417), (7, 0.3484300996969708), (8, 0.3795857235404512), (9, 0.41056507315073776), (10, 0.4411157760986382), (11, 0.47090310316987216), (12, 0.5005103909189328), (13, 0.5293190935711924), (14, 0.5577160620626272), (15, 0.5858461034376294), (16, 0.6133433538548405), (17, 0.6403387909621302), (18, 0.6671331280114056), (19, 0.6937889668477255), (20, 0.7202712860718251), (21, 0.7465993596275723), (22, 0.7728971509229412), (23, 0.7990624359041844), (24, 0.8247984126544388), (25, 0.8503078483042205), (26, 0.8752999037658546), (27, 0.8999221450768852), (28, 0.922478403588195), (29, 0.9430658100164777), (30, 0.9622081843818363), (31, 0.9794288638141729), (32, 0.9948961438974186), (33, 0.9982943541270501)]\n"
          ]
        },
        {
          "output_type": "execute_result",
          "data": {
            "text/plain": [
              "[<matplotlib.lines.Line2D at 0x7fc9ebef4d10>]"
            ]
          },
          "metadata": {},
          "execution_count": 48
        },
        {
          "output_type": "display_data",
          "data": {
            "image/png": "[encoded data removed]",
            "text/plain": [
              "<Figure size 432x288 with 1 Axes>"
            ]
          },
          "metadata": {}
        }
      ],
      "source": [
        "#It is strating faltten with number of component = 34 (99% of variance)\n",
        "pca = PCA(34)\n",
        "x_train_std=pca.fit_transform(x_train)\n",
        "np.set_printoptions(suppress=True)\n",
        "var_vs_pca = np.cumsum(pca.explained_variance_ratio_)\n",
        "print([(i,x) for i, x in enumerate(var_vs_pca)])\n",
        "# plotting the explained_variance_ratio against the number of components\n",
        "plt.plot(var_vs_pca)\n",
        "plt.plot(pd.Series(pca.explained_variance_ratio_))"
      ]
    },
    {
      "cell_type": "markdown",
      "metadata": {
        "id": "jPbEQwiRR2Ta"
      },
      "source": [
        "##### Step 2: Deciding number of components to keep\n",
        "Use the plot to decide the number of components to keep, choose a number that explains atleast 95% of variance in the dataset. Then fit and transform your pca on training set using the number of components you decided. (1 pts)\n",
        "\n",
        "**Remember that your pca should be trained on the training set (and transformed here) but only transformed on the test set.**"
      ]
    },
    {
      "cell_type": "code",
      "execution_count": 49,
      "metadata": {
        "id": "5OfN7anNQNFy"
      },
      "outputs": [],
      "source": [
        "# Add your code here\n",
        "pca = PCA(n_components=34)\n",
        "x_train_Trans=pca.fit_transform(x_train)\n",
        "x_test_Trans=pca.transform(x_test)"
      ]
    },
    {
      "cell_type": "code",
      "execution_count": 50,
      "metadata": {
        "colab": {
          "base_uri": "https://localhost:8080/"
        },
        "id": "lPiFyPW2XmPr",
        "outputId": "d4459352-a593-428b-9f4c-a972053f6e1b"
      },
      "outputs": [
        {
          "output_type": "stream",
          "name": "stdout",
          "text": [
            "check_pca [[ 1.31305907 -1.48578289  1.24574063 ...  0.88801205 -0.52445947\n",
            "   0.35629781]\n",
            " [ 1.57628392 -1.3293555  -0.59717231 ... -0.25040698  0.73123884\n",
            "  -0.77383625]\n",
            " [ 1.48606608 -2.07699671  0.61109962 ...  0.19852404  0.17028792\n",
            "  -0.25180728]\n",
            " ...\n",
            " [-0.47991198  1.04617749 -1.26238084 ...  1.63427858  1.12314663\n",
            "  -0.18538237]\n",
            " [ 1.34358739 -0.57298647 -0.69921481 ... -0.02796011 -0.89975098\n",
            "   0.6743474 ]\n",
            " [-1.92939034 -0.617451    0.80057069 ... -1.955244    0.36451679\n",
            "  -0.55016875]]\n"
          ]
        }
      ],
      "source": [
        "# Print cell.\n",
        "print('check_pca', (x_train_Trans[:50,:]))"
      ]
    },
    {
      "cell_type": "markdown",
      "metadata": {
        "id": "4sw_JKLLbMcc"
      },
      "source": [
        "### 5.3.2.3 Random Forest. (10 pts)\n",
        "\n"
      ]
    },
    {
      "cell_type": "markdown",
      "metadata": {
        "id": "UwTfPha2TUub"
      },
      "source": [
        "##### Step 1: Hyperparameter tuning. \n",
        "Use grid search and train a random forest model on the transformed train dataset. Take a look at the sklearn `RandomForestRegressor` documentation and tune the max_depth hyperparameter using grid search. We have already tested the number of estimators hyperparameter for you. Note this section may take a while to run depending on how large your grid is. \n",
        "\n",
        "(Hint: refer to the GridSearchCV documentation and do some reading on how the max_depth in a RF model affects the result - while theory may help guide a rough estimate of possible hyperparameters, we can cross validate values using tools like GridSearch.\n",
        "\n",
        "Our autograder has tiered points for this question depending on your final MSE value but is fairly generous; we are not requiring that you find the **most** optimal value for this hyperparameter but rather demonstrate understanding of grid search optimization. (4 pts)\n"
      ]
    },
    {
      "cell_type": "code",
      "execution_count": null,
      "metadata": {
        "id": "W08Wd5JKZWyz"
      },
      "outputs": [],
      "source": [
        "from sklearn.ensemble import RandomForestRegressor\n",
        "from sklearn.model_selection import GridSearchCV\n",
        "# Add your code here\n",
        "# Only tune the max depth of the trees in the RF hyperparameter.\n",
        "grid = GridSearchCV(estimator=RandomForestRegressor(), param_grid={'n_estimators':[140],'max_depth':[25,30,35,40,45]},cv=5)\n",
        "grid.fit(x_train_Trans, y_train)\n",
        "grid.best_params_\n",
        "# depth = [40]\n",
        "# nEstimator = [140]"
      ]
    },
    {
      "cell_type": "markdown",
      "metadata": {
        "id": "cLnVsNVzS2Co"
      },
      "source": [
        "##### Step 2: Fitting RF\n",
        "Fit the random forest on the training data using the parameters you computed above. Then make predictions on the test set, report the root mean squared error for the test set. (3 pts)"
      ]
    },
    {
      "cell_type": "code",
      "execution_count": null,
      "metadata": {
        "id": "3avoNnIaZe3P"
      },
      "outputs": [],
      "source": [
        "# Add your code here\n",
        "# Set n_estimators = 140\n",
        "reg_RF = RandomForestRegressor(n_estimators=140, max_depth=40)\n",
        "reg_RF.fit(x_train_Trans, y_train)\n",
        "y_pred_RF = reg_RF.predict(x_test_Trans)"
      ]
    },
    {
      "cell_type": "code",
      "execution_count": null,
      "metadata": {
        "colab": {
          "base_uri": "https://localhost:8080/"
        },
        "id": "XYrdo2CgTThM",
        "outputId": "2c9a56ce-bc99-4398-fd18-f92de6d4cb44"
      },
      "outputs": [
        {
          "name": "stdout",
          "output_type": "stream",
          "text": [
            "check_rf 0.469687142584046\n"
          ]
        }
      ],
      "source": [
        "# Print cell\n",
        "print('check_rf', (np.sqrt(mean_squared_error(y_test, y_pred_RF))))"
      ]
    },
    {
      "cell_type": "markdown",
      "metadata": {
        "id": "-ywlOaie7wVF"
      },
      "source": [
        "## Almost halfway there :)\n",
        "\n",
        "Well done! Almost halfway there :)\n",
        "\n"
      ]
    },
    {
      "cell_type": "markdown",
      "metadata": {
        "id": "q_eSiS5ZbVjf"
      },
      "source": [
        "# Section 2 : Distributed Machine Learning with Spark (55 Points)\n",
        "\n",
        "Apache Spark ML is the machine learning library consisting of common learning algorithms and utilities, including classification, regression, clustering, collaborative filtering, dimensionality reduction, and underlying optimization primitives.\n",
        "\n",
        "Why Spark ML?\n",
        "\n",
        "Moving to the Big Data Era requires heavy iterative computations on very big datasets. Standard implementations of machine learning algorithms require very powerful machines to be able to run. Depending on high-end machines is not advantageous due to their high price and improper costs of scaling up. The idea of using distributed computing engines is to distribute the calculations to multiple low-end machines (commodity hardware) instead of a single high-end one. This definitely speeds up the learning phase and allows us to create better models.\n",
        "\n",
        "Read more about it with the python documentation [here](https://spark.apache.org/docs/latest/ml-guide.html)"
      ]
    },
    {
      "cell_type": "markdown",
      "metadata": {
        "id": "R4nyIijZhTXK"
      },
      "source": [
        "### Initializing Spark Connection - Boring setup stuff again\n"
      ]
    },
    {
      "cell_type": "code",
      "execution_count": 21,
      "metadata": {
        "colab": {
          "base_uri": "https://localhost:8080/"
        },
        "id": "G8RH4R771X6n",
        "outputId": "63984994-aa74-47b8-9f8e-4961e809735b"
      },
      "outputs": [
        {
          "output_type": "stream",
          "name": "stdout",
          "text": [
            "Reading package lists... Done\n",
            "Building dependency tree       \n",
            "Reading state information... Done\n",
            "The following package was automatically installed and is no longer required:\n",
            "  libnvidia-common-470\n",
            "Use 'apt autoremove' to remove it.\n",
            "The following additional packages will be installed:\n",
            "  comerr-dev krb5-multidev libgssrpc4 libkadm5clnt-mit11 libkadm5srv-mit11\n",
            "  libkdb5-9\n",
            "Suggested packages:\n",
            "  doc-base krb5-doc krb5-user\n",
            "The following NEW packages will be installed:\n",
            "  comerr-dev krb5-multidev libgssrpc4 libkadm5clnt-mit11 libkadm5srv-mit11\n",
            "  libkdb5-9 libkrb5-dev\n",
            "0 upgraded, 7 newly installed, 0 to remove and 39 not upgraded.\n",
            "Need to get 349 kB of archives.\n",
            "After this operation, 1,992 kB of additional disk space will be used.\n",
            "Get:1 http://archive.ubuntu.com/ubuntu bionic-updates/main amd64 libgssrpc4 amd64 1.16-2ubuntu0.2 [54.4 kB]\n",
            "Get:2 http://archive.ubuntu.com/ubuntu bionic-updates/main amd64 libkdb5-9 amd64 1.16-2ubuntu0.2 [37.3 kB]\n",
            "Get:3 http://archive.ubuntu.com/ubuntu bionic-updates/main amd64 libkadm5srv-mit11 amd64 1.16-2ubuntu0.2 [49.7 kB]\n",
            "Get:4 http://archive.ubuntu.com/ubuntu bionic-updates/main amd64 libkadm5clnt-mit11 amd64 1.16-2ubuntu0.2 [38.0 kB]\n",
            "Get:5 http://archive.ubuntu.com/ubuntu bionic-updates/main amd64 comerr-dev amd64 2.1-1.44.1-1ubuntu1.3 [38.5 kB]\n",
            "Get:6 http://archive.ubuntu.com/ubuntu bionic-updates/main amd64 krb5-multidev amd64 1.16-2ubuntu0.2 [120 kB]\n",
            "Get:7 http://archive.ubuntu.com/ubuntu bionic-updates/main amd64 libkrb5-dev amd64 1.16-2ubuntu0.2 [11.7 kB]\n",
            "Fetched 349 kB in 1s (472 kB/s)\n",
            "Selecting previously unselected package libgssrpc4:amd64.\n",
            "(Reading database ... 155896 files and directories currently installed.)\n",
            "Preparing to unpack .../0-libgssrpc4_1.16-2ubuntu0.2_amd64.deb ...\n",
            "Unpacking libgssrpc4:amd64 (1.16-2ubuntu0.2) ...\n",
            "Selecting previously unselected package libkdb5-9:amd64.\n",
            "Preparing to unpack .../1-libkdb5-9_1.16-2ubuntu0.2_amd64.deb ...\n",
            "Unpacking libkdb5-9:amd64 (1.16-2ubuntu0.2) ...\n",
            "Selecting previously unselected package libkadm5srv-mit11:amd64.\n",
            "Preparing to unpack .../2-libkadm5srv-mit11_1.16-2ubuntu0.2_amd64.deb ...\n",
            "Unpacking libkadm5srv-mit11:amd64 (1.16-2ubuntu0.2) ...\n",
            "Selecting previously unselected package libkadm5clnt-mit11:amd64.\n",
            "Preparing to unpack .../3-libkadm5clnt-mit11_1.16-2ubuntu0.2_amd64.deb ...\n",
            "Unpacking libkadm5clnt-mit11:amd64 (1.16-2ubuntu0.2) ...\n",
            "Selecting previously unselected package comerr-dev:amd64.\n",
            "Preparing to unpack .../4-comerr-dev_2.1-1.44.1-1ubuntu1.3_amd64.deb ...\n",
            "Unpacking comerr-dev:amd64 (2.1-1.44.1-1ubuntu1.3) ...\n",
            "Selecting previously unselected package krb5-multidev:amd64.\n",
            "Preparing to unpack .../5-krb5-multidev_1.16-2ubuntu0.2_amd64.deb ...\n",
            "Unpacking krb5-multidev:amd64 (1.16-2ubuntu0.2) ...\n",
            "Selecting previously unselected package libkrb5-dev:amd64.\n",
            "Preparing to unpack .../6-libkrb5-dev_1.16-2ubuntu0.2_amd64.deb ...\n",
            "Unpacking libkrb5-dev:amd64 (1.16-2ubuntu0.2) ...\n",
            "Setting up libgssrpc4:amd64 (1.16-2ubuntu0.2) ...\n",
            "Setting up comerr-dev:amd64 (2.1-1.44.1-1ubuntu1.3) ...\n",
            "Setting up libkdb5-9:amd64 (1.16-2ubuntu0.2) ...\n",
            "Setting up libkadm5srv-mit11:amd64 (1.16-2ubuntu0.2) ...\n",
            "Setting up libkadm5clnt-mit11:amd64 (1.16-2ubuntu0.2) ...\n",
            "Setting up krb5-multidev:amd64 (1.16-2ubuntu0.2) ...\n",
            "Setting up libkrb5-dev:amd64 (1.16-2ubuntu0.2) ...\n",
            "Processing triggers for man-db (2.8.3-2ubuntu0.1) ...\n",
            "Processing triggers for libc-bin (2.27-3ubuntu1.3) ...\n",
            "/sbin/ldconfig.real: /usr/local/lib/python3.7/dist-packages/ideep4py/lib/libmkldnn.so.0 is not a symbolic link\n",
            "\n",
            "--2022-02-28 00:05:51--  https://www-us.apache.org/dist/spark/spark-2.4.5/spark-2.4.5-bin-hadoop2.7.tgz\n",
            "Resolving www-us.apache.org (www-us.apache.org)... failed: Name or service not known.\n",
            "wget: unable to resolve host address ‘www-us.apache.org’\n",
            "tar: spark-2.4.5-bin-hadoop2.7.tgz: Cannot open: No such file or directory\n",
            "tar: Error is not recoverable: exiting now\n",
            "Collecting findspark\n",
            "  Downloading findspark-2.0.1-py2.py3-none-any.whl (4.4 kB)\n",
            "Installing collected packages: findspark\n",
            "Successfully installed findspark-2.0.1\n",
            "Collecting sparkmagic\n",
            "  Downloading sparkmagic-0.19.1.tar.gz (43 kB)\n",
            "\u001b[K     |████████████████████████████████| 43 kB 816 kB/s \n",
            "\u001b[?25hCollecting hdijupyterutils>=0.6\n",
            "  Downloading hdijupyterutils-0.19.1.tar.gz (5.0 kB)\n",
            "Collecting autovizwidget>=0.6\n",
            "  Downloading autovizwidget-0.19.1.tar.gz (8.7 kB)\n",
            "Requirement already satisfied: ipython>=4.0.2 in /usr/local/lib/python3.7/dist-packages (from sparkmagic) (5.5.0)\n",
            "Collecting nose\n",
            "  Downloading nose-1.3.7-py3-none-any.whl (154 kB)\n",
            "\u001b[K     |████████████████████████████████| 154 kB 9.9 MB/s \n",
            "\u001b[?25hCollecting mock\n",
            "  Downloading mock-4.0.3-py3-none-any.whl (28 kB)\n",
            "Requirement already satisfied: pandas>=0.17.1 in /usr/local/lib/python3.7/dist-packages (from sparkmagic) (1.0.5)\n",
            "Requirement already satisfied: numpy in /usr/local/lib/python3.7/dist-packages (from sparkmagic) (1.21.5)\n",
            "Requirement already satisfied: requests in /usr/local/lib/python3.7/dist-packages (from sparkmagic) (2.23.0)\n",
            "Requirement already satisfied: ipykernel<6.0.0 in /usr/local/lib/python3.7/dist-packages (from sparkmagic) (4.10.1)\n",
            "Requirement already satisfied: ipywidgets>5.0.0 in /usr/local/lib/python3.7/dist-packages (from sparkmagic) (7.6.5)\n",
            "Requirement already satisfied: notebook>=4.2 in /usr/local/lib/python3.7/dist-packages (from sparkmagic) (5.3.1)\n",
            "Requirement already satisfied: tornado>=4 in /usr/local/lib/python3.7/dist-packages (from sparkmagic) (5.1.1)\n",
            "Collecting requests_kerberos>=0.8.0\n",
            "  Downloading requests_kerberos-0.14.0-py2.py3-none-any.whl (11 kB)\n",
            "Requirement already satisfied: plotly>=3 in /usr/local/lib/python3.7/dist-packages (from autovizwidget>=0.6->sparkmagic) (5.5.0)\n",
            "Requirement already satisfied: jupyter>=1 in /usr/local/lib/python3.7/dist-packages (from hdijupyterutils>=0.6->sparkmagic) (1.0.0)\n",
            "Requirement already satisfied: traitlets>=4.1.0 in /usr/local/lib/python3.7/dist-packages (from ipykernel<6.0.0->sparkmagic) (5.1.1)\n",
            "Requirement already satisfied: jupyter-client in /usr/local/lib/python3.7/dist-packages (from ipykernel<6.0.0->sparkmagic) (5.3.5)\n",
            "Requirement already satisfied: pygments in /usr/local/lib/python3.7/dist-packages (from ipython>=4.0.2->sparkmagic) (2.6.1)\n",
            "Requirement already satisfied: simplegeneric>0.8 in /usr/local/lib/python3.7/dist-packages (from ipython>=4.0.2->sparkmagic) (0.8.1)\n",
            "Requirement already satisfied: prompt-toolkit<2.0.0,>=1.0.4 in /usr/local/lib/python3.7/dist-packages (from ipython>=4.0.2->sparkmagic) (1.0.18)\n",
            "Requirement already satisfied: pexpect in /usr/local/lib/python3.7/dist-packages (from ipython>=4.0.2->sparkmagic) (4.8.0)\n",
            "Requirement already satisfied: decorator in /usr/local/lib/python3.7/dist-packages (from ipython>=4.0.2->sparkmagic) (4.4.2)\n",
            "Requirement already satisfied: pickleshare in /usr/local/lib/python3.7/dist-packages (from ipython>=4.0.2->sparkmagic) (0.7.5)\n",
            "Requirement already satisfied: setuptools>=18.5 in /usr/local/lib/python3.7/dist-packages (from ipython>=4.0.2->sparkmagic) (57.4.0)\n",
            "Requirement already satisfied: nbformat>=4.2.0 in /usr/local/lib/python3.7/dist-packages (from ipywidgets>5.0.0->sparkmagic) (5.1.3)\n",
            "Requirement already satisfied: jupyterlab-widgets>=1.0.0 in /usr/local/lib/python3.7/dist-packages (from ipywidgets>5.0.0->sparkmagic) (1.0.2)\n",
            "Requirement already satisfied: ipython-genutils~=0.2.0 in /usr/local/lib/python3.7/dist-packages (from ipywidgets>5.0.0->sparkmagic) (0.2.0)\n",
            "Requirement already satisfied: widgetsnbextension~=3.5.0 in /usr/local/lib/python3.7/dist-packages (from ipywidgets>5.0.0->sparkmagic) (3.5.2)\n",
            "Requirement already satisfied: jupyter-console in /usr/local/lib/python3.7/dist-packages (from jupyter>=1->hdijupyterutils>=0.6->sparkmagic) (5.2.0)\n",
            "Requirement already satisfied: nbconvert in /usr/local/lib/python3.7/dist-packages (from jupyter>=1->hdijupyterutils>=0.6->sparkmagic) (5.6.1)\n",
            "Requirement already satisfied: qtconsole in /usr/local/lib/python3.7/dist-packages (from jupyter>=1->hdijupyterutils>=0.6->sparkmagic) (5.2.2)\n",
            "Requirement already satisfied: jupyter-core in /usr/local/lib/python3.7/dist-packages (from nbformat>=4.2.0->ipywidgets>5.0.0->sparkmagic) (4.9.2)\n",
            "Requirement already satisfied: jsonschema!=2.5.0,>=2.4 in /usr/local/lib/python3.7/dist-packages (from nbformat>=4.2.0->ipywidgets>5.0.0->sparkmagic) (4.3.3)\n",
            "Requirement already satisfied: pyrsistent!=0.17.0,!=0.17.1,!=0.17.2,>=0.14.0 in /usr/local/lib/python3.7/dist-packages (from jsonschema!=2.5.0,>=2.4->nbformat>=4.2.0->ipywidgets>5.0.0->sparkmagic) (0.18.1)\n",
            "Requirement already satisfied: typing-extensions in /usr/local/lib/python3.7/dist-packages (from jsonschema!=2.5.0,>=2.4->nbformat>=4.2.0->ipywidgets>5.0.0->sparkmagic) (3.10.0.2)\n",
            "Requirement already satisfied: importlib-metadata in /usr/local/lib/python3.7/dist-packages (from jsonschema!=2.5.0,>=2.4->nbformat>=4.2.0->ipywidgets>5.0.0->sparkmagic) (4.11.1)\n",
            "Requirement already satisfied: importlib-resources>=1.4.0 in /usr/local/lib/python3.7/dist-packages (from jsonschema!=2.5.0,>=2.4->nbformat>=4.2.0->ipywidgets>5.0.0->sparkmagic) (5.4.0)\n",
            "Requirement already satisfied: attrs>=17.4.0 in /usr/local/lib/python3.7/dist-packages (from jsonschema!=2.5.0,>=2.4->nbformat>=4.2.0->ipywidgets>5.0.0->sparkmagic) (21.4.0)\n",
            "Requirement already satisfied: zipp>=3.1.0 in /usr/local/lib/python3.7/dist-packages (from importlib-resources>=1.4.0->jsonschema!=2.5.0,>=2.4->nbformat>=4.2.0->ipywidgets>5.0.0->sparkmagic) (3.7.0)\n",
            "Requirement already satisfied: Send2Trash in /usr/local/lib/python3.7/dist-packages (from notebook>=4.2->sparkmagic) (1.8.0)\n",
            "Requirement already satisfied: terminado>=0.8.1 in /usr/local/lib/python3.7/dist-packages (from notebook>=4.2->sparkmagic) (0.13.1)\n",
            "Requirement already satisfied: jinja2 in /usr/local/lib/python3.7/dist-packages (from notebook>=4.2->sparkmagic) (2.11.3)\n",
            "Requirement already satisfied: pyzmq>=13 in /usr/local/lib/python3.7/dist-packages (from jupyter-client->ipykernel<6.0.0->sparkmagic) (22.3.0)\n",
            "Requirement already satisfied: python-dateutil>=2.1 in /usr/local/lib/python3.7/dist-packages (from jupyter-client->ipykernel<6.0.0->sparkmagic) (2.8.2)\n",
            "Requirement already satisfied: pytz>=2017.2 in /usr/local/lib/python3.7/dist-packages (from pandas>=0.17.1->sparkmagic) (2018.9)\n",
            "Requirement already satisfied: six in /usr/local/lib/python3.7/dist-packages (from plotly>=3->autovizwidget>=0.6->sparkmagic) (1.15.0)\n",
            "Requirement already satisfied: tenacity>=6.2.0 in /usr/local/lib/python3.7/dist-packages (from plotly>=3->autovizwidget>=0.6->sparkmagic) (8.0.1)\n",
            "Requirement already satisfied: wcwidth in /usr/local/lib/python3.7/dist-packages (from prompt-toolkit<2.0.0,>=1.0.4->ipython>=4.0.2->sparkmagic) (0.2.5)\n",
            "Collecting cryptography>=1.3\n",
            "  Downloading cryptography-36.0.1-cp36-abi3-manylinux_2_24_x86_64.whl (3.6 MB)\n",
            "\u001b[K     |████████████████████████████████| 3.6 MB 27.6 MB/s \n",
            "\u001b[?25hCollecting pyspnego[kerberos]\n",
            "  Downloading pyspnego-0.5.0-py2.py3-none-any.whl (122 kB)\n",
            "\u001b[K     |████████████████████████████████| 122 kB 54.3 MB/s \n",
            "\u001b[?25hRequirement already satisfied: cffi>=1.12 in /usr/local/lib/python3.7/dist-packages (from cryptography>=1.3->requests_kerberos>=0.8.0->sparkmagic) (1.15.0)\n",
            "Requirement already satisfied: pycparser in /usr/local/lib/python3.7/dist-packages (from cffi>=1.12->cryptography>=1.3->requests_kerberos>=0.8.0->sparkmagic) (2.21)\n",
            "Requirement already satisfied: certifi>=2017.4.17 in /usr/local/lib/python3.7/dist-packages (from requests->sparkmagic) (2021.10.8)\n",
            "Requirement already satisfied: chardet<4,>=3.0.2 in /usr/local/lib/python3.7/dist-packages (from requests->sparkmagic) (3.0.4)\n",
            "Requirement already satisfied: idna<3,>=2.5 in /usr/local/lib/python3.7/dist-packages (from requests->sparkmagic) (2.10)\n",
            "Requirement already satisfied: urllib3!=1.25.0,!=1.25.1,<1.26,>=1.21.1 in /usr/local/lib/python3.7/dist-packages (from requests->sparkmagic) (1.24.3)\n",
            "Requirement already satisfied: ptyprocess in /usr/local/lib/python3.7/dist-packages (from terminado>=0.8.1->notebook>=4.2->sparkmagic) (0.7.0)\n",
            "Requirement already satisfied: MarkupSafe>=0.23 in /usr/local/lib/python3.7/dist-packages (from jinja2->notebook>=4.2->sparkmagic) (2.0.1)\n",
            "Requirement already satisfied: mistune<2,>=0.8.1 in /usr/local/lib/python3.7/dist-packages (from nbconvert->jupyter>=1->hdijupyterutils>=0.6->sparkmagic) (0.8.4)\n",
            "Requirement already satisfied: bleach in /usr/local/lib/python3.7/dist-packages (from nbconvert->jupyter>=1->hdijupyterutils>=0.6->sparkmagic) (4.1.0)\n",
            "Requirement already satisfied: pandocfilters>=1.4.1 in /usr/local/lib/python3.7/dist-packages (from nbconvert->jupyter>=1->hdijupyterutils>=0.6->sparkmagic) (1.5.0)\n",
            "Requirement already satisfied: testpath in /usr/local/lib/python3.7/dist-packages (from nbconvert->jupyter>=1->hdijupyterutils>=0.6->sparkmagic) (0.5.0)\n",
            "Requirement already satisfied: defusedxml in /usr/local/lib/python3.7/dist-packages (from nbconvert->jupyter>=1->hdijupyterutils>=0.6->sparkmagic) (0.7.1)\n",
            "Requirement already satisfied: entrypoints>=0.2.2 in /usr/local/lib/python3.7/dist-packages (from nbconvert->jupyter>=1->hdijupyterutils>=0.6->sparkmagic) (0.4)\n",
            "Requirement already satisfied: packaging in /usr/local/lib/python3.7/dist-packages (from bleach->nbconvert->jupyter>=1->hdijupyterutils>=0.6->sparkmagic) (21.3)\n",
            "Requirement already satisfied: webencodings in /usr/local/lib/python3.7/dist-packages (from bleach->nbconvert->jupyter>=1->hdijupyterutils>=0.6->sparkmagic) (0.5.1)\n",
            "Requirement already satisfied: pyparsing!=3.0.5,>=2.0.2 in /usr/local/lib/python3.7/dist-packages (from packaging->bleach->nbconvert->jupyter>=1->hdijupyterutils>=0.6->sparkmagic) (3.0.7)\n",
            "Collecting krb5>=0.3.0\n",
            "  Downloading krb5-0.3.0.tar.gz (1.7 MB)\n",
            "\u001b[K     |████████████████████████████████| 1.7 MB 34.6 MB/s \n",
            "\u001b[?25h  Installing build dependencies ... \u001b[?25l\u001b[?25hdone\n",
            "  Getting requirements to build wheel ... \u001b[?25l\u001b[?25hdone\n",
            "    Preparing wheel metadata ... \u001b[?25l\u001b[?25hdone\n",
            "Collecting gssapi>=1.5.0\n",
            "  Downloading gssapi-1.7.3.tar.gz (1.3 MB)\n",
            "\u001b[K     |████████████████████████████████| 1.3 MB 40.8 MB/s \n",
            "\u001b[?25hRequirement already satisfied: qtpy in /usr/local/lib/python3.7/dist-packages (from qtconsole->jupyter>=1->hdijupyterutils>=0.6->sparkmagic) (2.0.1)\n",
            "Building wheels for collected packages: sparkmagic, autovizwidget, hdijupyterutils, gssapi, krb5\n",
            "  Building wheel for sparkmagic (setup.py) ... \u001b[?25l\u001b[?25hdone\n",
            "  Created wheel for sparkmagic: filename=sparkmagic-0.19.1-py3-none-any.whl size=64701 sha256=49ea157139599f90124c75b0e6e2309ed46ccb92a0846746638e4583ccecdcdf\n",
            "  Stored in directory: /root/.cache/pip/wheels/77/00/d5/153197547803fa423ee3d0a7a1ff19f138cbcc385a5d11e0dd\n",
            "  Building wheel for autovizwidget (setup.py) ... \u001b[?25l\u001b[?25hdone\n",
            "  Created wheel for autovizwidget: filename=autovizwidget-0.19.1-py3-none-any.whl size=14544 sha256=861e5cce21116e7deb26e975019d677af7769d1addbd8e4af3dbeb4c4622bd85\n",
            "  Stored in directory: /root/.cache/pip/wheels/09/76/d9/ff313b7bd4ff55b1ff8c299f31889f525dc5129556853e1330\n",
            "  Building wheel for hdijupyterutils (setup.py) ... \u001b[?25l\u001b[?25hdone\n",
            "  Created wheel for hdijupyterutils: filename=hdijupyterutils-0.19.1-py3-none-any.whl size=7676 sha256=a60722ed8167ff55f44bedd4ccaec98ad40705ba98f4c3709e19e20df3fc1bfc\n",
            "  Stored in directory: /root/.cache/pip/wheels/18/64/eb/292698b4780fb4eed0d7521f8e8acac011eda244f368b88aa0\n",
            "  Building wheel for gssapi (setup.py) ... \u001b[?25l\u001b[?25hdone\n",
            "  Created wheel for gssapi: filename=gssapi-1.7.3-cp37-cp37m-linux_x86_64.whl size=2748856 sha256=6108a849938ee7d76c6ceb19bf902294fa7fbd4d46ae7b0a200948437a2b9397\n",
            "  Stored in directory: /root/.cache/pip/wheels/39/98/00/50c2dc63e573ee6526a8a64017272d5ecaddcd66034430b88b\n",
            "  Building wheel for krb5 (PEP 517) ... \u001b[?25l\u001b[?25hdone\n",
            "  Created wheel for krb5: filename=krb5-0.3.0-cp37-cp37m-linux_x86_64.whl size=3073528 sha256=e1f2430c5cb546f0eacb2b34c84610fa9d06cf4e3ba0ac91ef25c5acfd96cb59\n",
            "  Stored in directory: /root/.cache/pip/wheels/8d/9c/5b/c797df276a5e2d9fd6ffd544aade607a6edae4428c0b511093\n",
            "Successfully built sparkmagic autovizwidget hdijupyterutils gssapi krb5\n",
            "Installing collected packages: cryptography, pyspnego, nose, mock, krb5, gssapi, hdijupyterutils, requests-kerberos, autovizwidget, sparkmagic\n",
            "Successfully installed autovizwidget-0.19.1 cryptography-36.0.1 gssapi-1.7.3 hdijupyterutils-0.19.1 krb5-0.3.0 mock-4.0.3 nose-1.3.7 pyspnego-0.5.0 requests-kerberos-0.14.0 sparkmagic-0.19.1\n",
            "Requirement already satisfied: pyspark in /usr/local/lib/python3.7/dist-packages (3.2.1)\n",
            "Requirement already satisfied: py4j==0.10.9.3 in /usr/local/lib/python3.7/dist-packages (from pyspark) (0.10.9.3)\n",
            "Requirement already satisfied: pyspark in /usr/local/lib/python3.7/dist-packages (3.2.1)\n",
            "Requirement already satisfied: py4j==0.10.9.3 in /usr/local/lib/python3.7/dist-packages (from pyspark) (0.10.9.3)\n",
            "Requirement already satisfied: seaborn in /usr/local/lib/python3.7/dist-packages (0.11.2)\n",
            "Requirement already satisfied: numpy>=1.15 in /usr/local/lib/python3.7/dist-packages (from seaborn) (1.21.5)\n",
            "Requirement already satisfied: pandas>=0.23 in /usr/local/lib/python3.7/dist-packages (from seaborn) (1.0.5)\n",
            "Requirement already satisfied: scipy>=1.0 in /usr/local/lib/python3.7/dist-packages (from seaborn) (1.4.1)\n",
            "Requirement already satisfied: matplotlib>=2.2 in /usr/local/lib/python3.7/dist-packages (from seaborn) (3.2.2)\n",
            "Requirement already satisfied: cycler>=0.10 in /usr/local/lib/python3.7/dist-packages (from matplotlib>=2.2->seaborn) (0.11.0)\n",
            "Requirement already satisfied: pyparsing!=2.0.4,!=2.1.2,!=2.1.6,>=2.0.1 in /usr/local/lib/python3.7/dist-packages (from matplotlib>=2.2->seaborn) (3.0.7)\n",
            "Requirement already satisfied: python-dateutil>=2.1 in /usr/local/lib/python3.7/dist-packages (from matplotlib>=2.2->seaborn) (2.8.2)\n",
            "Requirement already satisfied: kiwisolver>=1.0.1 in /usr/local/lib/python3.7/dist-packages (from matplotlib>=2.2->seaborn) (1.3.2)\n",
            "Requirement already satisfied: pytz>=2017.2 in /usr/local/lib/python3.7/dist-packages (from pandas>=0.23->seaborn) (2018.9)\n",
            "Requirement already satisfied: six>=1.5 in /usr/local/lib/python3.7/dist-packages (from python-dateutil>=2.1->matplotlib>=2.2->seaborn) (1.15.0)\n",
            "Requirement already satisfied: plotly in /usr/local/lib/python3.7/dist-packages (5.5.0)\n",
            "Requirement already satisfied: six in /usr/local/lib/python3.7/dist-packages (from plotly) (1.15.0)\n",
            "Requirement already satisfied: tenacity>=6.2.0 in /usr/local/lib/python3.7/dist-packages (from plotly) (8.0.1)\n",
            "Requirement already satisfied: imageio in /usr/local/lib/python3.7/dist-packages (2.4.1)\n",
            "Requirement already satisfied: numpy in /usr/local/lib/python3.7/dist-packages (from imageio) (1.21.5)\n",
            "Requirement already satisfied: pillow in /usr/local/lib/python3.7/dist-packages (from imageio) (7.1.2)\n",
            "Requirement already satisfied: folium in /usr/local/lib/python3.7/dist-packages (0.8.3)\n",
            "Requirement already satisfied: requests in /usr/local/lib/python3.7/dist-packages (from folium) (2.23.0)\n",
            "Requirement already satisfied: numpy in /usr/local/lib/python3.7/dist-packages (from folium) (1.21.5)\n",
            "Requirement already satisfied: branca>=0.3.0 in /usr/local/lib/python3.7/dist-packages (from folium) (0.4.2)\n",
            "Requirement already satisfied: jinja2 in /usr/local/lib/python3.7/dist-packages (from folium) (2.11.3)\n",
            "Requirement already satisfied: six in /usr/local/lib/python3.7/dist-packages (from folium) (1.15.0)\n",
            "Requirement already satisfied: MarkupSafe>=0.23 in /usr/local/lib/python3.7/dist-packages (from jinja2->folium) (2.0.1)\n",
            "Requirement already satisfied: chardet<4,>=3.0.2 in /usr/local/lib/python3.7/dist-packages (from requests->folium) (3.0.4)\n",
            "Requirement already satisfied: certifi>=2017.4.17 in /usr/local/lib/python3.7/dist-packages (from requests->folium) (2021.10.8)\n",
            "Requirement already satisfied: urllib3!=1.25.0,!=1.25.1,<1.26,>=1.21.1 in /usr/local/lib/python3.7/dist-packages (from requests->folium) (1.24.3)\n",
            "Requirement already satisfied: idna<3,>=2.5 in /usr/local/lib/python3.7/dist-packages (from requests->folium) (2.10)\n"
          ]
        }
      ],
      "source": [
        "!apt install libkrb5-dev\n",
        "!wget https://www-us.apache.org/dist/spark/spark-2.4.5/spark-2.4.5-bin-hadoop2.7.tgz\n",
        "!tar xf spark-2.4.5-bin-hadoop2.7.tgz\n",
        "!pip install findspark\n",
        "!pip install sparkmagic\n",
        "!pip install pyspark\n",
        "!pip install pyspark --user\n",
        "!pip install seaborn --user\n",
        "!pip install plotly --user\n",
        "!pip install imageio --user\n",
        "!pip install folium --user"
      ]
    },
    {
      "cell_type": "code",
      "execution_count": 22,
      "metadata": {
        "colab": {
          "base_uri": "https://localhost:8080/"
        },
        "id": "pNctzcXRkexY",
        "outputId": "1f5f5a43-4fae-4f4b-cf3c-47e7a561c95d"
      },
      "outputs": [
        {
          "output_type": "stream",
          "name": "stdout",
          "text": [
            "Get:1 http://security.ubuntu.com/ubuntu bionic-security InRelease [88.7 kB]\n",
            "Get:2 http://ppa.launchpad.net/c2d4u.team/c2d4u4.0+/ubuntu bionic InRelease [15.9 kB]\n",
            "Ign:3 https://developer.download.nvidia.com/compute/cuda/repos/ubuntu1804/x86_64  InRelease\n",
            "Get:4 https://cloud.r-project.org/bin/linux/ubuntu bionic-cran40/ InRelease [3,626 B]\n",
            "Hit:5 http://archive.ubuntu.com/ubuntu bionic InRelease\n",
            "Ign:6 https://developer.download.nvidia.com/compute/machine-learning/repos/ubuntu1804/x86_64  InRelease\n",
            "Get:7 https://developer.download.nvidia.com/compute/cuda/repos/ubuntu1804/x86_64  Release [696 B]\n",
            "Hit:8 https://developer.download.nvidia.com/compute/machine-learning/repos/ubuntu1804/x86_64  Release\n",
            "Get:9 https://developer.download.nvidia.com/compute/cuda/repos/ubuntu1804/x86_64  Release.gpg [836 B]\n",
            "Get:10 http://archive.ubuntu.com/ubuntu bionic-updates InRelease [88.7 kB]\n",
            "Hit:11 http://ppa.launchpad.net/cran/libgit2/ubuntu bionic InRelease\n",
            "Hit:12 http://ppa.launchpad.net/deadsnakes/ppa/ubuntu bionic InRelease\n",
            "Get:13 http://archive.ubuntu.com/ubuntu bionic-backports InRelease [74.6 kB]\n",
            "Get:14 http://security.ubuntu.com/ubuntu bionic-security/universe amd64 Packages [1,474 kB]\n",
            "Get:15 http://ppa.launchpad.net/graphics-drivers/ppa/ubuntu bionic InRelease [21.3 kB]\n",
            "Get:16 http://security.ubuntu.com/ubuntu bionic-security/restricted amd64 Packages [806 kB]\n",
            "Get:17 http://security.ubuntu.com/ubuntu bionic-security/main amd64 Packages [2,596 kB]\n",
            "Get:18 https://cloud.r-project.org/bin/linux/ubuntu bionic-cran40/ Packages [76.8 kB]\n",
            "Get:19 http://ppa.launchpad.net/c2d4u.team/c2d4u4.0+/ubuntu bionic/main Sources [1,827 kB]\n",
            "Get:21 https://developer.download.nvidia.com/compute/cuda/repos/ubuntu1804/x86_64  Packages [930 kB]\n",
            "Get:22 http://ppa.launchpad.net/c2d4u.team/c2d4u4.0+/ubuntu bionic/main amd64 Packages [936 kB]\n",
            "Get:23 http://archive.ubuntu.com/ubuntu bionic-updates/restricted amd64 Packages [840 kB]\n",
            "Get:24 http://archive.ubuntu.com/ubuntu bionic-updates/universe amd64 Packages [2,252 kB]\n",
            "Get:25 http://archive.ubuntu.com/ubuntu bionic-updates/main amd64 Packages [3,035 kB]\n",
            "Get:26 http://ppa.launchpad.net/graphics-drivers/ppa/ubuntu bionic/main amd64 Packages [42.8 kB]\n",
            "Fetched 15.1 MB in 8s (1,865 kB/s)\n",
            "Reading package lists... Done\n",
            "Building dependency tree       \n",
            "Reading state information... Done\n",
            "69 packages can be upgraded. Run 'apt list --upgradable' to see them.\n",
            "Reading package lists... Done\n",
            "Building dependency tree       \n",
            "Reading state information... Done\n",
            "python-dev is already the newest version (2.7.15~rc1-1).\n",
            "gcc is already the newest version (4:7.4.0-1ubuntu2.3).\n",
            "gcc set to manually installed.\n",
            "libkrb5-dev is already the newest version (1.16-2ubuntu0.2).\n",
            "The following package was automatically installed and is no longer required:\n",
            "  libnvidia-common-470\n",
            "Use 'apt autoremove' to remove it.\n",
            "0 upgraded, 0 newly installed, 0 to remove and 69 not upgraded.\n"
          ]
        }
      ],
      "source": [
        "!apt update\n",
        "!apt install gcc python-dev libkrb5-dev"
      ]
    },
    {
      "cell_type": "code",
      "execution_count": 23,
      "metadata": {
        "id": "PP28kxLekWG7"
      },
      "outputs": [],
      "source": [
        "from pyspark.sql import SparkSession\n",
        "from pyspark.sql.types import *\n",
        "import pyspark.sql.functions as F\n",
        "\n",
        "import os\n",
        "\n",
        "spark = SparkSession.builder.appName('CA-5').getOrCreate()\n"
      ]
    },
    {
      "cell_type": "code",
      "execution_count": 24,
      "metadata": {
        "id": "7Gm6aXPq1Ulc"
      },
      "outputs": [],
      "source": [
        "%load_ext sparkmagic.magics"
      ]
    },
    {
      "cell_type": "code",
      "execution_count": 25,
      "metadata": {
        "id": "NiGROEgu1gfN"
      },
      "outputs": [],
      "source": [
        "#graph section\n",
        "import networkx as nx\n",
        "# SQLite RDBMS\n",
        "import sqlite3\n",
        "# Parallel processing\n",
        "# import swifter\n",
        "import pandas as pd\n",
        "# NoSQL DB\n",
        "from pymongo import MongoClient\n",
        "from pymongo.errors import DuplicateKeyError, OperationFailure\n",
        "\n",
        "import os\n",
        "os.environ['SPARK_HOME'] = '/content/spark-2.4.5-bin-hadoop2.7'\n",
        "os.environ[\"JAVA_HOME\"] = \"/usr/lib/jvm/java-8-openjdk-amd64\"\n",
        "import pyspark\n",
        "from pyspark.sql import SQLContext"
      ]
    },
    {
      "cell_type": "code",
      "execution_count": 26,
      "metadata": {
        "id": "bF0xipwC1hme"
      },
      "outputs": [],
      "source": [
        "try:\n",
        "    if(spark == None):\n",
        "        spark = SparkSession.builder.appName('Initial').getOrCreate()\n",
        "        sqlContext=SQLContext(spark)\n",
        "except NameError:\n",
        "    spark = SparkSession.builder.appName('Initial').getOrCreate()\n",
        "    sqlContext=SQLContext(spark)\n"
      ]
    },
    {
      "cell_type": "markdown",
      "metadata": {
        "id": "cbj7zOGQW7A2"
      },
      "source": [
        "### 5.1 Data Preparation for Spark ML (20 points)\n",
        "\n",
        "Once the spark setup ready. Next, we need the prepared data for our ML algorithms. We will use the same data you processed in Section 1 but now in spark. \n",
        "\n",
        "Read in the csv  into a spark dataframe. Set the \"inferSchema\" flag to True so that the columns are the correct datatypes and not all strings. Further, set the parameter to the first row as column headers."
      ]
    },
    {
      "cell_type": "code",
      "execution_count": 57,
      "metadata": {
        "id": "EFfs7q3P1KHX"
      },
      "outputs": [],
      "source": [
        "# Add your code here\n",
        "\n",
        "train_sdf = spark.read.format('csv').options(header='true', inferSchema='true').load('combined_data.csv')\n",
        "#copy the new data. this will be useful for out classification method in task 2\n",
        "train_sdf_copy = train_sdf"
      ]
    },
    {
      "cell_type": "markdown",
      "metadata": {
        "id": "CbC1qlzhXd6L"
      },
      "source": [
        "Let us make sure everything is smooth to proceed"
      ]
    },
    {
      "cell_type": "code",
      "execution_count": 58,
      "metadata": {
        "colab": {
          "base_uri": "https://localhost:8080/",
          "height": 519
        },
        "id": "sTb1GN4-1EXc",
        "outputId": "67642673-a546-43af-f74b-3986a30d73fc"
      },
      "outputs": [
        {
          "output_type": "stream",
          "name": "stdout",
          "text": [
            "+-----------+-----------------+----------------+----------------------+------------------+------------------+------------------+------------------+--------+--------+---------+----------+----------+----------+----------+-------------------------+---------------+------------------+----------------------+-------------------------+---------------+----------------------+---------------+--------------+------------------------+------------------------------+-----------------------+-----------------------+-----------------------------+--------------+---------------+-----------------+------------------------+-----------------+-----------------+-----------------+-----------------+-----------------+-----------------+-----------------+\n",
            "|   video_id|comments_disabled|ratings_disabled|video_error_or_removed|         likes_log|             label|      dislikes_log|       comment_log|num_tags|desc_len|len_title|country_CA|country_FR|country_IN|country_US|category_Autos & Vehicles|category_Comedy|category_Education|category_Entertainment|category_Film & Animation|category_Gaming|category_Howto & Style|category_Movies|category_Music|category_News & Politics|category_Nonprofits & Activism|category_People & Blogs|category_Pets & Animals|category_Science & Technology|category_Shows|category_Sports|category_Trailers|category_Travel & Events|publish_weekday_1|publish_weekday_2|publish_weekday_3|publish_weekday_4|publish_weekday_5|publish_weekday_6|publish_weekday_7|\n",
            "+-----------+-----------------+----------------+----------------------+------------------+------------------+------------------+------------------+--------+--------+---------+----------+----------+----------+----------+-------------------------+---------------+------------------+----------------------+-------------------------+---------------+----------------------+---------------+--------------+------------------------+------------------------------+-----------------------+-----------------------+-----------------------------+--------------+---------------+-----------------+------------------------+-----------------+-----------------+-----------------+-----------------+-----------------+-----------------+-----------------+\n",
            "|kzwfHumJyYc|            false|           false|                 false|10.433144744037243|13.907476971790734| 6.683360945766275|  6.78332520060396|      15|     920|       81|         0|         0|         1|         0|                        0|              0|                 0|                     0|                        1|              0|                     0|              0|             0|                       0|                             0|                      0|                      0|                            0|             0|              0|                0|                       0|                0|                0|                0|                0|                0|                0|                1|\n",
            "|zUZ1z7FwLc8|             true|           false|                 false| 6.601230118728877|13.288050682295575| 6.807934943699926|               0.0|      19|    2232|       58|         0|         0|         1|         0|                        0|              0|                 0|                     0|                        0|              0|                     0|              0|             0|                       1|                             0|                      0|                      0|                            0|             0|              0|                0|                       0|                1|                0|                0|                0|                0|                0|                0|\n",
            "|10L1hZ9qa58|            false|           false|                 false|  7.60688453121963|13.068939393656878| 5.497168225293202|5.0106352940962555|      14|     482|       58|         0|         0|         1|         0|                        0|              0|                 0|                     1|                        0|              0|                     0|              0|             0|                       0|                             0|                      0|                      0|                            0|             0|              0|                0|                       0|                0|                0|                0|                0|                0|                0|                1|\n",
            "|N1vE8iiEg64|            false|           false|                 false| 11.16129491949047|14.032781700387753| 7.393263094763838| 7.895436006942965|      20|     263|       30|         0|         0|         1|         0|                        0|              1|                 0|                     0|                        0|              0|                     0|              0|             0|                       0|                             0|                      0|                      0|                            0|             0|              0|                0|                       0|                0|                0|                0|                0|                0|                0|                1|\n",
            "|kJzGH0PVQHQ|            false|           false|                 false|  6.20050917404269|13.047674313372497| 5.683579767338681| 4.204692619390966|      11|     753|       88|         0|         0|         1|         0|                        0|              0|                 0|                     1|                        0|              0|                     0|              0|             0|                       0|                             0|                      0|                      0|                            0|             0|              0|                0|                       0|                1|                0|                0|                0|                0|                0|                0|\n",
            "|il_pSa5l98w|            false|           false|                 false|11.498958377741612|15.624892174393528| 8.339500903005945|  8.46884293047519|      22|     449|       91|         0|         0|         1|         0|                        0|              0|                 0|                     1|                        0|              0|                     0|              0|             0|                       0|                             0|                      0|                      0|                            0|             0|              0|                0|                       0|                0|                0|                0|                0|                1|                0|                0|\n",
            "|7MxiQ4v0EnE|            false|           false|                 false|11.755699079672715|15.559263780679146| 8.872767529910936|  8.99516499031115|      18|    1411|       96|         0|         0|         1|         0|                        0|              0|                 0|                     0|                        0|              0|                     0|              0|             1|                       0|                             0|                      0|                      0|                            0|             0|              0|                0|                       0|                0|                0|                0|                0|                0|                1|                0|\n",
            "|c64I9HNpiOY|            false|           false|                 false|11.796140073147356| 16.17526697582603|  9.08398318309966| 9.291736010180177|      26|    1299|       96|         0|         0|         1|         0|                        0|              0|                 0|                     0|                        0|              0|                     0|              0|             1|                       0|                             0|                      0|                      0|                            0|             0|              0|                0|                       0|                0|                0|                0|                0|                0|                1|                0|\n",
            "|KObFEYCaRx8|            false|           false|                 false| 6.255750041753367| 11.68033640902843|3.9889840465642745|3.1780538303479458|      21|     509|       97|         0|         0|         1|         0|                        0|              0|                 0|                     1|                        0|              0|                     0|              0|             0|                       0|                             0|                      0|                      0|                            0|             0|              0|                0|                       0|                1|                0|                0|                0|                0|                0|                0|\n",
            "|g8QsfJhFpjY|            false|           false|                 false|10.998744217390875|13.784051882105244| 7.343426229147367| 7.785305182539862|      23|     477|       34|         0|         0|         1|         0|                        0|              0|                 0|                     1|                        0|              0|                     0|              0|             0|                       0|                             0|                      0|                      0|                            0|             0|              0|                0|                       0|                0|                0|                0|                0|                0|                0|                1|\n",
            "|4du1KXBl4YU|            false|           false|                 false| 8.373553741214627| 13.35782751759637| 7.688913336864796| 7.962067308753666|      23|      99|       78|         0|         0|         1|         0|                        0|              0|                 0|                     1|                        0|              0|                     0|              0|             0|                       0|                             0|                      0|                      0|                            0|             0|              0|                0|                       0|                0|                0|                0|                0|                0|                0|                1|\n",
            "|zOOmEDwPJX0|            false|           false|                 false|10.399250298625073|14.669120455465158| 6.566672429803241| 7.463936604468925|      22|    2093|       83|         0|         0|         1|         0|                        0|              0|                 0|                     0|                        0|              0|                     0|              0|             1|                       0|                             0|                      0|                      0|                            0|             0|              0|                0|                       0|                0|                0|                0|                0|                0|                1|                0|\n",
            "|Prb_osSVE0M|             true|           false|                 false|  6.57507584059962| 11.95816241638283|3.9889840465642745|               0.0|      20|     858|       85|         0|         0|         1|         0|                        0|              0|                 0|                     0|                        0|              0|                     0|              0|             0|                       1|                             0|                      0|                      0|                            0|             0|              0|                0|                       0|                1|                0|                0|                0|                0|                0|                0|\n",
            "|KHxdrECEsD0|            false|           false|                 false| 7.867871490396322|13.065610998767987|5.5254529391317835|5.1647859739235145|      12|    1351|       92|         0|         0|         1|         0|                        0|              0|                 0|                     1|                        0|              0|                     0|              0|             0|                       0|                             0|                      0|                      0|                            0|             0|              0|                0|                       0|                0|                0|                0|                0|                0|                1|                0|\n",
            "|so0ccfs-psI|            false|           false|                 false| 10.10483529147988|13.636392265237525| 5.198497031265826|  6.38856140554563|      25|    2387|       88|         0|         0|         1|         0|                        0|              0|                 0|                     0|                        0|              0|                     0|              0|             1|                       0|                             0|                      0|                      0|                            0|             0|              0|                0|                       0|                0|                0|                0|                0|                0|                0|                1|\n",
            "|7gShaSuK_PY|            false|           false|                 false| 5.476463551931511|11.402351382259514|   4.0943445622221|2.9444389791664403|      28|     171|       85|         0|         0|         1|         0|                        0|              0|                 0|                     0|                        0|              0|                     0|              0|             0|                       0|                             0|                      1|                      0|                            0|             0|              0|                0|                       0|                1|                0|                0|                0|                0|                0|                0|\n",
            "|ep3SLMuRbvg|            false|           false|                 false|10.154946414830384|12.749982887372441| 6.035481432524756| 7.962415680121064|      11|     248|       35|         0|         0|         1|         0|                        0|              1|                 0|                     0|                        0|              0|                     0|              0|             0|                       0|                             0|                      0|                      0|                            0|             0|              0|                0|                       0|                1|                0|                0|                0|                0|                0|                0|\n",
            "|ePO5M5DE01I|            false|           false|                 false|13.628413215237485|  17.3958509780565| 11.02183710688727|11.524043430704076|      22|     901|       63|         0|         0|         1|         0|                        0|              0|                 0|                     0|                        1|              0|                     0|              0|             0|                       0|                             0|                      0|                      0|                            0|             0|              0|                0|                       0|                0|                1|                0|                0|                0|                0|                0|\n",
            "|CLl1RbxDRAs|            false|           false|                 false| 9.551871220788255|12.252956231429025|6.1070228877422545|  7.00850518208228|      30|     201|       68|         0|         0|         1|         0|                        0|              1|                 0|                     0|                        0|              0|                     0|              0|             0|                       0|                             0|                      0|                      0|                            0|             0|              0|                0|                       0|                0|                0|                0|                0|                0|                0|                1|\n",
            "|1ZAPwfrtAFY|            false|           false|                 false|11.484402526036991|14.698775492508977|  8.72371943690701| 9.449672183486918|       4|     630|       62|         0|         0|         1|         0|                        0|              0|                 0|                     1|                        0|              0|                     0|              0|             0|                       0|                             0|                      0|                      0|                            0|             0|              0|                0|                       0|                1|                0|                0|                0|                0|                0|                0|\n",
            "+-----------+-----------------+----------------+----------------------+------------------+------------------+------------------+------------------+--------+--------+---------+----------+----------+----------+----------+-------------------------+---------------+------------------+----------------------+-------------------------+---------------+----------------------+---------------+--------------+------------------------+------------------------------+-----------------------+-----------------------+-----------------------------+--------------+---------------+-----------------+------------------------+-----------------+-----------------+-----------------+-----------------+-----------------+-----------------+-----------------+\n",
            "only showing top 20 rows\n",
            "\n"
          ]
        },
        {
          "output_type": "display_data",
          "data": {
            "text/plain": [
              "None"
            ]
          },
          "metadata": {}
        }
      ],
      "source": [
        "display(train_sdf.show())"
      ]
    },
    {
      "cell_type": "markdown",
      "metadata": {
        "id": "NFWmORJ8XhX_"
      },
      "source": [
        "Print out the dataframe schema and verify the datatypes"
      ]
    },
    {
      "cell_type": "code",
      "execution_count": 59,
      "metadata": {
        "colab": {
          "base_uri": "https://localhost:8080/",
          "height": 785
        },
        "id": "22b4aWjueZuO",
        "outputId": "da7c0dcd-7adb-4732-c3f3-8f8708cf2bce"
      },
      "outputs": [
        {
          "output_type": "stream",
          "name": "stdout",
          "text": [
            "root\n",
            " |-- video_id: string (nullable = true)\n",
            " |-- comments_disabled: boolean (nullable = true)\n",
            " |-- ratings_disabled: boolean (nullable = true)\n",
            " |-- video_error_or_removed: boolean (nullable = true)\n",
            " |-- likes_log: double (nullable = true)\n",
            " |-- label: double (nullable = true)\n",
            " |-- dislikes_log: double (nullable = true)\n",
            " |-- comment_log: double (nullable = true)\n",
            " |-- num_tags: integer (nullable = true)\n",
            " |-- desc_len: integer (nullable = true)\n",
            " |-- len_title: integer (nullable = true)\n",
            " |-- country_CA: integer (nullable = true)\n",
            " |-- country_FR: integer (nullable = true)\n",
            " |-- country_IN: integer (nullable = true)\n",
            " |-- country_US: integer (nullable = true)\n",
            " |-- category_Autos & Vehicles: integer (nullable = true)\n",
            " |-- category_Comedy: integer (nullable = true)\n",
            " |-- category_Education: integer (nullable = true)\n",
            " |-- category_Entertainment: integer (nullable = true)\n",
            " |-- category_Film & Animation: integer (nullable = true)\n",
            " |-- category_Gaming: integer (nullable = true)\n",
            " |-- category_Howto & Style: integer (nullable = true)\n",
            " |-- category_Movies: integer (nullable = true)\n",
            " |-- category_Music: integer (nullable = true)\n",
            " |-- category_News & Politics: integer (nullable = true)\n",
            " |-- category_Nonprofits & Activism: integer (nullable = true)\n",
            " |-- category_People & Blogs: integer (nullable = true)\n",
            " |-- category_Pets & Animals: integer (nullable = true)\n",
            " |-- category_Science & Technology: integer (nullable = true)\n",
            " |-- category_Shows: integer (nullable = true)\n",
            " |-- category_Sports: integer (nullable = true)\n",
            " |-- category_Trailers: integer (nullable = true)\n",
            " |-- category_Travel & Events: integer (nullable = true)\n",
            " |-- publish_weekday_1: integer (nullable = true)\n",
            " |-- publish_weekday_2: integer (nullable = true)\n",
            " |-- publish_weekday_3: integer (nullable = true)\n",
            " |-- publish_weekday_4: integer (nullable = true)\n",
            " |-- publish_weekday_5: integer (nullable = true)\n",
            " |-- publish_weekday_6: integer (nullable = true)\n",
            " |-- publish_weekday_7: integer (nullable = true)\n",
            "\n"
          ]
        },
        {
          "output_type": "display_data",
          "data": {
            "text/plain": [
              "None"
            ]
          },
          "metadata": {}
        }
      ],
      "source": [
        "#Task: Print the dataframe schema and verify\n",
        "# Add your code here\n",
        "display(train_sdf.printSchema())"
      ]
    },
    {
      "cell_type": "markdown",
      "metadata": {
        "id": "fJ34pkSeXn3G"
      },
      "source": [
        "Now, we have the processed data in hand. Next for the Spark ML, we need to create a feature column that has all features concatenated and a single column for labels.\n",
        "\n",
        "You can use VectorAssembler() to create a feature vector from all categorical and numerical features. Let us call the call the final vector as “features”.\n",
        "\n",
        "Now, list all columns in the data and store it in a list named 'all_columns'\n"
      ]
    },
    {
      "cell_type": "code",
      "execution_count": 60,
      "metadata": {
        "id": "HwWWc_0Ttyg4"
      },
      "outputs": [],
      "source": [
        "from pyspark.ml.feature import StringIndexer, VectorAssembler"
      ]
    },
    {
      "cell_type": "code",
      "execution_count": 61,
      "metadata": {
        "id": "XIcLnx7bt7Q8"
      },
      "outputs": [],
      "source": [
        "# Add your code here\n",
        "all_columns =train_sdf.columns"
      ]
    },
    {
      "cell_type": "markdown",
      "metadata": {
        "id": "BqiuAgWxh2yv"
      },
      "source": [
        "Now create a list of columns which you don't wan't to include in your features, i.e., the labels and probably other columns which are not useful for the machine learning model. Let us call this list drop_columns."
      ]
    },
    {
      "cell_type": "code",
      "execution_count": 62,
      "metadata": {
        "id": "B-_2Tsy5uzIo"
      },
      "outputs": [],
      "source": [
        "# Add your code here\n",
        "drop_columns = drop_columns = ['video_id','label']"
      ]
    },
    {
      "cell_type": "code",
      "execution_count": 63,
      "metadata": {
        "id": "GWgiDQuciHKt"
      },
      "outputs": [],
      "source": [
        "columns_to_use = [i for i in all_columns if i not in drop_columns]"
      ]
    },
    {
      "cell_type": "markdown",
      "metadata": {
        "id": "V4kOg6TWiOcm"
      },
      "source": [
        "Now create a VectorAssembler object with columns you want to use for the ML models. Let us Name the output column as 'features'. These are the features that you will use later.  Let us name the vector assembler object 'assembler'"
      ]
    },
    {
      "cell_type": "code",
      "execution_count": 64,
      "metadata": {
        "id": "cPl796SvpvoU"
      },
      "outputs": [],
      "source": [
        "# Add your code\n",
        "assembler = VectorAssembler(inputCols=columns_to_use, outputCol='features')"
      ]
    },
    {
      "cell_type": "code",
      "execution_count": 65,
      "metadata": {
        "colab": {
          "base_uri": "https://localhost:8080/"
        },
        "id": "5LlUa9NRQMOT",
        "outputId": "e151a41f-a416-415f-cd4f-a7366c5a1678"
      },
      "outputs": [
        {
          "output_type": "stream",
          "name": "stdout",
          "text": [
            "stat_assembler ('[Param(parent=\\'VectorAssembler_3d56513be088\\', name=\\'handleInvalid\\', doc=\"How to handle invalid data (NULL and NaN values). Options are \\'skip\\' (filter out rows with invalid data), \\'error\\' (throw an error), or \\'keep\\' (return relevant number of NaN in the output). Column lengths are taken from the size of ML Attribute Group, which can be set using `VectorSizeHint` in a pipeline before `VectorAssembler`. Column lengths can also be inferred from first rows of the data since it is safe to do so but only in case of \\'error\\' or \\'skip\\').\"), Param(parent=\\'VectorAssembler_3d56513be088\\', name=\\'inputCols\\', doc=\\'input column names.\\'), Param(parent=\\'VectorAssembler_3d56513be088\\', name=\\'outputCol\\', doc=\\'output column name.\\')]', ['comments_disabled', 'ratings_disabled', 'video_error_or_removed', 'likes_log', 'dislikes_log', 'comment_log', 'num_tags', 'desc_len', 'len_title', 'country_CA', 'country_FR', 'country_IN', 'country_US', 'category_Autos & Vehicles', 'category_Comedy', 'category_Education', 'category_Entertainment', 'category_Film & Animation', 'category_Gaming', 'category_Howto & Style', 'category_Movies', 'category_Music', 'category_News & Politics', 'category_Nonprofits & Activism', 'category_People & Blogs', 'category_Pets & Animals', 'category_Science & Technology', 'category_Shows', 'category_Sports', 'category_Trailers', 'category_Travel & Events', 'publish_weekday_1', 'publish_weekday_2', 'publish_weekday_3', 'publish_weekday_4', 'publish_weekday_5', 'publish_weekday_6', 'publish_weekday_7'])\n"
          ]
        }
      ],
      "source": [
        "# Print assember stats\n",
        "print('stat_assembler', (str(assembler.params), columns_to_use))"
      ]
    },
    {
      "cell_type": "markdown",
      "metadata": {
        "id": "X7_HC7cTif1k"
      },
      "source": [
        "Now, we are ready to create a pipeline with different stages.  For out data so far, we just a single stage with the assember, however, you could have other stages  before that where you perform operations on the data, e.g, transforming categorical strings to numeric values or feature scaling operations.\n",
        "\n",
        "In this step, we will create a pipeline with a single stage - the assembler. Fit the pipeline to your data and create the transformed dataframe and name it 'modified_data_sdf'."
      ]
    },
    {
      "cell_type": "code",
      "execution_count": 66,
      "metadata": {
        "colab": {
          "base_uri": "https://localhost:8080/",
          "height": 499
        },
        "id": "iuO1Mu9IvTEz",
        "outputId": "6ca02943-4db9-4a0d-eb49-9c9591c10d09"
      },
      "outputs": [
        {
          "output_type": "stream",
          "name": "stdout",
          "text": [
            "+-----------+------------------+--------------------+\n",
            "|   video_id|             label|            features|\n",
            "+-----------+------------------+--------------------+\n",
            "|kzwfHumJyYc|13.907476971790734|(38,[3,4,5,6,7,8,...|\n",
            "|zUZ1z7FwLc8|13.288050682295575|(38,[0,3,4,6,7,8,...|\n",
            "|10L1hZ9qa58|13.068939393656878|(38,[3,4,5,6,7,8,...|\n",
            "|N1vE8iiEg64|14.032781700387753|(38,[3,4,5,6,7,8,...|\n",
            "|kJzGH0PVQHQ|13.047674313372497|(38,[3,4,5,6,7,8,...|\n",
            "|il_pSa5l98w|15.624892174393528|(38,[3,4,5,6,7,8,...|\n",
            "|7MxiQ4v0EnE|15.559263780679146|(38,[3,4,5,6,7,8,...|\n",
            "|c64I9HNpiOY| 16.17526697582603|(38,[3,4,5,6,7,8,...|\n",
            "|KObFEYCaRx8| 11.68033640902843|(38,[3,4,5,6,7,8,...|\n",
            "|g8QsfJhFpjY|13.784051882105244|(38,[3,4,5,6,7,8,...|\n",
            "|4du1KXBl4YU| 13.35782751759637|(38,[3,4,5,6,7,8,...|\n",
            "|zOOmEDwPJX0|14.669120455465158|(38,[3,4,5,6,7,8,...|\n",
            "|Prb_osSVE0M| 11.95816241638283|(38,[0,3,4,6,7,8,...|\n",
            "|KHxdrECEsD0|13.065610998767987|(38,[3,4,5,6,7,8,...|\n",
            "|so0ccfs-psI|13.636392265237525|(38,[3,4,5,6,7,8,...|\n",
            "|7gShaSuK_PY|11.402351382259514|(38,[3,4,5,6,7,8,...|\n",
            "|ep3SLMuRbvg|12.749982887372441|(38,[3,4,5,6,7,8,...|\n",
            "|ePO5M5DE01I|  17.3958509780565|(38,[3,4,5,6,7,8,...|\n",
            "|CLl1RbxDRAs|12.252956231429025|(38,[3,4,5,6,7,8,...|\n",
            "|1ZAPwfrtAFY|14.698775492508977|(38,[3,4,5,6,7,8,...|\n",
            "+-----------+------------------+--------------------+\n",
            "only showing top 20 rows\n",
            "\n"
          ]
        },
        {
          "output_type": "display_data",
          "data": {
            "text/plain": [
              "None"
            ]
          },
          "metadata": {}
        }
      ],
      "source": [
        "from pyspark.ml import Pipeline\n",
        "# Add your code here\n",
        "pipeline = Pipeline(stages=[assembler])\n",
        "modified_data_sdf = pipeline.fit(train_sdf).transform(train_sdf).drop(*columns_to_use)\n",
        "display(modified_data_sdf.show())"
      ]
    },
    {
      "cell_type": "code",
      "execution_count": 67,
      "metadata": {
        "colab": {
          "base_uri": "https://localhost:8080/"
        },
        "id": "KwlFEWKwXbRd",
        "outputId": "763d2977-977f-4b2e-a7bb-f4e0d1216342"
      },
      "outputs": [
        {
          "output_type": "stream",
          "name": "stdout",
          "text": [
            "check_pipeline (array(['video_id', 'label', 'features'], dtype=object), 38)\n"
          ]
        }
      ],
      "source": [
        "#Print results\n",
        "pipeline_stat = pd.DataFrame(modified_data_sdf.take(5), columns=modified_data_sdf.columns)\n",
        "print('check_pipeline', (pipeline_stat.columns.values, pipeline_stat['features'][0].size))"
      ]
    },
    {
      "cell_type": "markdown",
      "metadata": {
        "id": "0TKEQEDkxFGf"
      },
      "source": [
        "Now that we have the required data in the right format, Let us create our train and test sets. Let us, split into an 80-20 ratio between the train and test sets. Name these 'train_sdf' and 'test_sdf'"
      ]
    },
    {
      "cell_type": "code",
      "execution_count": 68,
      "metadata": {
        "id": "Jn4_0RHHxEYm"
      },
      "outputs": [],
      "source": [
        "# Add your code here\n",
        "train_sdf, test_sdf = modified_data_sdf.randomSplit([0.8, 0.2], seed = 2021)"
      ]
    },
    {
      "cell_type": "code",
      "execution_count": 69,
      "metadata": {
        "colab": {
          "base_uri": "https://localhost:8080/"
        },
        "id": "TkvrG1lMbe9_",
        "outputId": "c7d81df2-c468-4258-e107-eed59a62f5d1"
      },
      "outputs": [
        {
          "output_type": "stream",
          "name": "stdout",
          "text": [
            "check_split (123515, 31052)\n"
          ]
        }
      ],
      "source": [
        "#Print results here\n",
        "print('check_split', (train_sdf.count(), test_sdf.count()))"
      ]
    },
    {
      "cell_type": "markdown",
      "metadata": {
        "id": "L_CKE8i8an4x"
      },
      "source": [
        "### 5.2 Linear regression using Spark ML (15 points)\n",
        "\n",
        "In this section, train s linear regression model to our data and predict the views. This prediction should be based on \"Big\" data tools, i.e., Spark ML's linear regression. Create a model using this library, fit the training data. \n",
        "Afterwards, print the summary stats of the model, i.e, \n",
        "- the RMSE error, R2 score and any other information you find useful. Refere the Spark ML documentation online for the implementation.\n",
        "\n",
        "In this section, we will train the model without any regularization!"
      ]
    },
    {
      "cell_type": "code",
      "execution_count": 70,
      "metadata": {
        "id": "W9qJdpIU4e8q"
      },
      "outputs": [],
      "source": [
        "from pyspark.ml.regression import LinearRegression\n",
        "\n",
        "# Add your code here\n",
        "\n",
        "lr_model = LinearRegression(featuresCol='features', labelCol='label').fit(train_sdf)"
      ]
    },
    {
      "cell_type": "code",
      "execution_count": 71,
      "metadata": {
        "colab": {
          "base_uri": "https://localhost:8080/"
        },
        "id": "M_n_gx3I-Icl",
        "outputId": "d1a2d646-f906-4631-c6c6-9964e3fe76e5"
      },
      "outputs": [
        {
          "output_type": "stream",
          "name": "stdout",
          "text": [
            "RMSE: 0.666270\n",
            "r2: 0.865602\n"
          ]
        }
      ],
      "source": [
        "trainingSum = lr_model.summary\n",
        "\n",
        "print(\"RMSE: %f\" % trainingSum.rootMeanSquaredError)\n",
        "print(\"r2: %f\" % trainingSum.r2)\n",
        "\n"
      ]
    },
    {
      "cell_type": "markdown",
      "metadata": {
        "id": "kJT9Ov_irnXl"
      },
      "source": [
        "Let us investigate that if the model actually overfits the training data. \n",
        "\n",
        "Predict the views for your test data (Note: it is called 'transform' in spark ml). Evaluate the performance using 'RegressionEvaluator' in the Spark ML Regression library. Name prediction column as 'prediction'."
      ]
    },
    {
      "cell_type": "code",
      "execution_count": 72,
      "metadata": {
        "id": "3sE9kv3ZsU7J"
      },
      "outputs": [],
      "source": [
        "# Add your code here\n",
        "predictions = lr_model.transform(test_sdf)"
      ]
    },
    {
      "cell_type": "code",
      "execution_count": 73,
      "metadata": {
        "id": "TlqLeWSDsd__"
      },
      "outputs": [],
      "source": [
        "from pyspark.ml.evaluation import RegressionEvaluator\n",
        "\n",
        "# Task: Compute RMSr on the test set\n",
        "\n",
        "test_rmse_orig = lr_model.evaluate(test_sdf).rootMeanSquaredError"
      ]
    },
    {
      "cell_type": "code",
      "execution_count": 74,
      "metadata": {
        "colab": {
          "base_uri": "https://localhost:8080/"
        },
        "id": "DuBHq2n8dCxs",
        "outputId": "d3ca3d58-2be8-43ad-ceaf-23736af122eb"
      },
      "outputs": [
        {
          "output_type": "stream",
          "name": "stdout",
          "text": [
            "result_lr_test [0.6724315173281634, 0     10.681967\n",
            "1     10.574513\n",
            "2     11.067026\n",
            "3     10.695584\n",
            "4     10.288274\n",
            "5     11.587246\n",
            "6     13.263191\n",
            "7     11.039429\n",
            "8     11.543624\n",
            "9     12.447800\n",
            "10    12.048265\n",
            "11    11.262332\n",
            "12    11.979093\n",
            "13    11.017248\n",
            "14    11.525904\n",
            "15    13.143337\n",
            "16    13.143337\n",
            "17    11.067902\n",
            "18    11.509219\n",
            "19    11.605152\n",
            "20    11.864483\n",
            "21    11.230252\n",
            "22    13.203988\n",
            "23    13.530213\n",
            "24    11.955720\n",
            "25    12.220296\n",
            "26    11.874724\n",
            "27    11.874724\n",
            "28    13.475613\n",
            "29    11.812001\n",
            "30    12.003305\n",
            "31    11.842119\n",
            "32    12.897770\n",
            "33    12.798664\n",
            "34    11.844243\n",
            "35    13.568327\n",
            "36    12.256398\n",
            "37    12.256398\n",
            "38    12.638311\n",
            "39    11.649222\n",
            "40    12.399532\n",
            "41    11.647169\n",
            "42    12.778314\n",
            "43    11.490042\n",
            "44    12.721047\n",
            "45    12.009720\n",
            "46    12.622373\n",
            "47    12.622373\n",
            "48    12.585280\n",
            "49    13.762015\n",
            "Name: prediction, dtype: float64, 0      9.668651\n",
            "1      9.829895\n",
            "2      9.930129\n",
            "3     10.712126\n",
            "4     11.018006\n",
            "5     11.054835\n",
            "6     11.153762\n",
            "7     11.175899\n",
            "8     11.258382\n",
            "9     11.266360\n",
            "10    11.468357\n",
            "11    11.468859\n",
            "12    11.483754\n",
            "13    11.512265\n",
            "14    11.564445\n",
            "15    11.588135\n",
            "16    11.588135\n",
            "17    11.660664\n",
            "18    11.857671\n",
            "19    11.880322\n",
            "20    11.888144\n",
            "21    11.891335\n",
            "22    11.937552\n",
            "23    11.954922\n",
            "24    11.977156\n",
            "25    12.016164\n",
            "26    12.054133\n",
            "27    12.054133\n",
            "28    12.198675\n",
            "29    12.226267\n",
            "30    12.256457\n",
            "31    12.375583\n",
            "32    12.486016\n",
            "33    12.557198\n",
            "34    12.644428\n",
            "35    12.658160\n",
            "36    12.669763\n",
            "37    12.669763\n",
            "38    12.866671\n",
            "39    12.883370\n",
            "40    12.909091\n",
            "41    12.924927\n",
            "42    12.978248\n",
            "43    12.997584\n",
            "44    13.010363\n",
            "45    13.027932\n",
            "46    13.037278\n",
            "47    13.037278\n",
            "48    13.046706\n",
            "49    13.076920\n",
            "Name: label, dtype: float64]\n",
            "\n",
            " Differences between Prediction and label: \n",
            " 0     1.013316\n",
            "1     0.744618\n",
            "2     1.136897\n",
            "3    -0.016542\n",
            "4    -0.729732\n",
            "5     0.532412\n",
            "6     2.109429\n",
            "7    -0.136470\n",
            "8     0.285243\n",
            "9     1.181441\n",
            "10    0.579908\n",
            "11   -0.206526\n",
            "12    0.495339\n",
            "13   -0.495017\n",
            "14   -0.038541\n",
            "15    1.555202\n",
            "16    1.555202\n",
            "17   -0.592762\n",
            "18   -0.348451\n",
            "19   -0.275170\n",
            "20   -0.023661\n",
            "21   -0.661082\n",
            "22    1.266436\n",
            "23    1.575291\n",
            "24   -0.021437\n",
            "25    0.204131\n",
            "26   -0.179409\n",
            "27   -0.179409\n",
            "28    1.276937\n",
            "29   -0.414267\n",
            "30   -0.253152\n",
            "31   -0.533465\n",
            "32    0.411754\n",
            "33    0.241467\n",
            "34   -0.800185\n",
            "35    0.910167\n",
            "36   -0.413365\n",
            "37   -0.413365\n",
            "38   -0.228360\n",
            "39   -1.234148\n",
            "40   -0.509559\n",
            "41   -1.277758\n",
            "42   -0.199934\n",
            "43   -1.507542\n",
            "44   -0.289316\n",
            "45   -1.018212\n",
            "46   -0.414905\n",
            "47   -0.414905\n",
            "48   -0.461426\n",
            "49    0.685095\n",
            "dtype: float64\n"
          ]
        }
      ],
      "source": [
        "#Print results here\n",
        "predictions_to_print = predictions.toPandas()\n",
        "lranswer = [test_rmse_orig, predictions_to_print['prediction'][0:50], predictions_to_print['label'][0:50]]\n",
        "print('result_lr_test', lranswer)\n",
        "\n",
        "x=predictions_to_print['prediction'][0:50]\n",
        "y=predictions_to_print['label'][0:50]\n",
        "print('\\n Differences between Prediction and label: \\n',(x - y))"
      ]
    },
    {
      "cell_type": "markdown",
      "metadata": {
        "id": "pgEkOUYUsi5D"
      },
      "source": [
        "Next, we will implement regularization to avoid overfitting. you can try different  regularization parameters, e.g., try LASSO (L1), Ridge (L2) and elastic net (combination of L1 and L2).\n",
        "\n",
        "You can try different regularization hyperparameters to initialize three different regularized linear regression models. Compare these regularization methods with each other and the non-regularized method above.\n"
      ]
    },
    {
      "cell_type": "code",
      "execution_count": 75,
      "metadata": {
        "id": "hhx5njucYKk2"
      },
      "outputs": [],
      "source": [
        "# Add your code here\n",
        "LR=LinearRegression\n",
        "model1= LR(featuresCol='features', labelCol='label', elasticNetParam=1, regParam=0.1)\n",
        "model1_fit=model1.fit(train_sdf)\n",
        "model2 = LR(featuresCol='features', labelCol='label', elasticNetParam=0, regParam=0.1)\n",
        "model2_fit=model2.fit(train_sdf)\n",
        "elastic_net_model =LR(featuresCol='features', labelCol='label', elasticNetParam=0.5, regParam=0.1).fit(train_sdf)\n",
        "\n",
        "# Compute predictions using each of the models\n",
        "l1_predictions = model1_fit.transform(test_sdf)\n",
        "l2_predictions = model2_fit.transform(test_sdf)\n",
        "elastic_net_predictions = elastic_net_model.transform(test_sdf)\n",
        "\n",
        "# Task: Calculate the root mean squared error (RMSE) on test set for each of your models\n",
        "test_rmse_l1 = model1_fit.evaluate(test_sdf).rootMeanSquaredError\n",
        "test_rmse_l2 = model2_fit.evaluate(test_sdf).rootMeanSquaredError\n",
        "test_rmse_elastic = elastic_net_model.evaluate(test_sdf).rootMeanSquaredError"
      ]
    },
    {
      "cell_type": "code",
      "execution_count": 76,
      "metadata": {
        "colab": {
          "base_uri": "https://localhost:8080/"
        },
        "id": "q0-fqj8MgY2S",
        "outputId": "a8fd10a6-e14b-492c-d1a8-2e2812d44d06"
      },
      "outputs": [
        {
          "output_type": "stream",
          "name": "stdout",
          "text": [
            "result_lr_all [0.7332852444560328, 0.6859293269599341, 0.7050198855105146]\n"
          ]
        }
      ],
      "source": [
        "# Print your results here\n",
        "result = [test_rmse_l1, test_rmse_l2, test_rmse_elastic]\n",
        "print('result_lr_all', result)"
      ]
    },
    {
      "cell_type": "markdown",
      "metadata": {
        "id": "O6ntJ6xFbbmn"
      },
      "source": [
        "### 5.3 Random Forest Regression 10 pts)\n",
        "\n",
        "You need an understanding of random forest and its variations,i.e., boosted trees to succeed as a data scientist. These are ensemble methods that are know for generalization and are considered popular for classification and regression problems. Similar to linear regresssion, create a random forest regressor model. After it, train the model using the data and then evaluate its performance using the test data. Finally, compare performance of random forest model with the linear regression model.\n",
        "\n"
      ]
    },
    {
      "cell_type": "code",
      "execution_count": 86,
      "metadata": {
        "id": "8pjjP9GWuoml"
      },
      "outputs": [],
      "source": [
        "from pyspark.ml.regression import RandomForestRegressor\n",
        "# Add your code here\n",
        "rf_model = rf_model = RandomForestRegressor(labelCol=\"label\", featuresCol=\"features\").fit(train_sdf) #Task\n"
      ]
    },
    {
      "cell_type": "code",
      "execution_count": 87,
      "metadata": {
        "id": "ruaaYA2jBlRK"
      },
      "outputs": [],
      "source": [
        "# Add code here to calculate predictions\n",
        "predictions = predictions = rf_model.transform(test_sdf) #Task : Calculate predictions on the test set"
      ]
    },
    {
      "cell_type": "code",
      "execution_count": 88,
      "metadata": {
        "id": "QyyZfbd6Brqs"
      },
      "outputs": [],
      "source": [
        "from pyspark.ml.evaluation import RegressionEvaluator\n",
        "\n",
        "# Add your code here to instatiate a regressionevaluator \n",
        "reg_evaluator = RegressionEvaluator(labelCol=\"label\", predictionCol=\"prediction\", metricName=\"rmse\")\n",
        "train_rmse_rf = reg_evaluator.evaluate(rf_model.transform(train_sdf)) #Task: Compute the training RMSE\n",
        "rmse_rf = reg_evaluator.evaluate(predictions) #Task: Compute RMSE using the test set"
      ]
    },
    {
      "cell_type": "code",
      "execution_count": 89,
      "metadata": {
        "colab": {
          "base_uri": "https://localhost:8080/"
        },
        "id": "fR09u5GFjvtb",
        "outputId": "8b746181-020c-4052-d93f-a81899f70a56"
      },
      "outputs": [
        {
          "output_type": "stream",
          "name": "stdout",
          "text": [
            "check_rf_spark \n",
            " [0.7193255094857036, 0     11.192922\n",
            "1     10.779136\n",
            "2     11.000001\n",
            "3     11.310981\n",
            "4     10.724894\n",
            "5     11.785922\n",
            "6     12.901401\n",
            "7     11.084243\n",
            "8     11.671505\n",
            "9     12.709557\n",
            "10    11.847332\n",
            "11    11.461728\n",
            "12    11.755669\n",
            "13    11.326059\n",
            "14    11.507255\n",
            "15    12.859712\n",
            "16    12.859712\n",
            "17    11.151409\n",
            "18    11.897106\n",
            "19    11.952154\n",
            "20    11.866926\n",
            "21    11.190096\n",
            "22    12.899405\n",
            "23    13.568990\n",
            "24    12.119565\n",
            "25    11.921664\n",
            "26    11.801481\n",
            "27    11.801481\n",
            "28    13.112091\n",
            "29    11.875105\n",
            "30    12.090002\n",
            "31    11.624014\n",
            "32    12.619907\n",
            "33    12.666992\n",
            "34    11.942806\n",
            "35    13.281190\n",
            "36    12.393734\n",
            "37    12.393734\n",
            "38    12.701218\n",
            "39    11.504266\n",
            "40    12.458628\n",
            "41    11.504266\n",
            "42    12.701218\n",
            "43    11.505770\n",
            "44    12.709557\n",
            "45    11.881687\n",
            "46    12.394598\n",
            "47    12.394598\n",
            "48    12.674089\n",
            "49    13.949028\n",
            "Name: prediction, dtype: float64, 0      9.668651\n",
            "1      9.829895\n",
            "2      9.930129\n",
            "3     10.712126\n",
            "4     11.018006\n",
            "5     11.054835\n",
            "6     11.153762\n",
            "7     11.175899\n",
            "8     11.258382\n",
            "9     11.266360\n",
            "10    11.468357\n",
            "11    11.468859\n",
            "12    11.483754\n",
            "13    11.512265\n",
            "14    11.564445\n",
            "15    11.588135\n",
            "16    11.588135\n",
            "17    11.660664\n",
            "18    11.857671\n",
            "19    11.880322\n",
            "20    11.888144\n",
            "21    11.891335\n",
            "22    11.937552\n",
            "23    11.954922\n",
            "24    11.977156\n",
            "25    12.016164\n",
            "26    12.054133\n",
            "27    12.054133\n",
            "28    12.198675\n",
            "29    12.226267\n",
            "30    12.256457\n",
            "31    12.375583\n",
            "32    12.486016\n",
            "33    12.557198\n",
            "34    12.644428\n",
            "35    12.658160\n",
            "36    12.669763\n",
            "37    12.669763\n",
            "38    12.866671\n",
            "39    12.883370\n",
            "40    12.909091\n",
            "41    12.924927\n",
            "42    12.978248\n",
            "43    12.997584\n",
            "44    13.010363\n",
            "45    13.027932\n",
            "46    13.037278\n",
            "47    13.037278\n",
            "48    13.046706\n",
            "49    13.076920\n",
            "Name: label, dtype: float64, 0.7272923798952395]\n",
            "\n",
            " Differences between Prediction and label: \n",
            " 0     1.524271\n",
            "1     0.949241\n",
            "2     1.069871\n",
            "3     0.598855\n",
            "4    -0.293112\n",
            "5     0.731088\n",
            "6     1.747640\n",
            "7    -0.091656\n",
            "8     0.413124\n",
            "9     1.443197\n",
            "10    0.378976\n",
            "11   -0.007130\n",
            "12    0.271914\n",
            "13   -0.186206\n",
            "14   -0.057190\n",
            "15    1.271577\n",
            "16    1.271577\n",
            "17   -0.509255\n",
            "18    0.039436\n",
            "19    0.071832\n",
            "20   -0.021218\n",
            "21   -0.701239\n",
            "22    0.961853\n",
            "23    1.614068\n",
            "24    0.142409\n",
            "25   -0.094501\n",
            "26   -0.252652\n",
            "27   -0.252652\n",
            "28    0.913416\n",
            "29   -0.351162\n",
            "30   -0.166455\n",
            "31   -0.751570\n",
            "32    0.133891\n",
            "33    0.109794\n",
            "34   -0.701621\n",
            "35    0.623029\n",
            "36   -0.276028\n",
            "37   -0.276028\n",
            "38   -0.165453\n",
            "39   -1.379104\n",
            "40   -0.450463\n",
            "41   -1.420661\n",
            "42   -0.277030\n",
            "43   -1.491814\n",
            "44   -0.300806\n",
            "45   -1.146245\n",
            "46   -0.642681\n",
            "47   -0.642681\n",
            "48   -0.372617\n",
            "49    0.872107\n",
            "dtype: float64\n"
          ]
        }
      ],
      "source": [
        "#Print results of predictions here\n",
        "predictions_to_reveal = predictions.toPandas()\n",
        "answer = [train_rmse_rf, predictions_to_reveal['prediction'][0:50], predictions_to_reveal['label'][0:50], rmse_rf]\n",
        "print('check_rf_spark \\n', answer)\n",
        "\n",
        "x=predictions_to_reveal['prediction'][0:50]\n",
        "y=predictions_to_reveal['label'][0:50]\n",
        "print('\\n Differences between Prediction and label: \\n',(x - y))"
      ]
    },
    {
      "cell_type": "markdown",
      "metadata": {
        "id": "SH9cxYzla-lf"
      },
      "source": [
        "### 5.4 Dimensionality Reduction using Principal Component Analysis (10pt)\n",
        "\n",
        "The focus of this section is to utilize PCA to further reduce the dimensions of data, i.e., a lower dimensional space. After PCA perform linear regression on the new data. You can select a suitable value for the number of dimensions as calculated in previous section.\n",
        "\n",
        "The steps are illustrated below:\n",
        "1.   Initialization of PCA model\n",
        "2.   Fit the PCA model using the training data\n",
        "3.   Extract the PCA feature from the trained PCA model from step 2\n",
        "4.   Train a linear regression model using the retreived PCA features\n",
        "5.   Evaluate the trained model 's performance on the test set \n",
        "\n",
        "This section requires extra effort and therefore has less starter code. Spen time to understand and implement considering yourself a data scientist working on an assigned task.\n",
        "\n",
        "\n",
        "\n",
        "\n"
      ]
    },
    {
      "cell_type": "code",
      "execution_count": 90,
      "metadata": {
        "id": "KXgSxHvgzJaS"
      },
      "outputs": [],
      "source": [
        "# Add your code for the PCA model and training here\n",
        "from pyspark.ml.feature import PCA as PCA_ML\n",
        "pca_Lr = PCA_ML(k=34, inputCol='features', outputCol='pcaFeature').fit(train_sdf).transform(train_sdf)\n",
        "\n",
        "pca_lr_model=LinearRegression(featuresCol='pcaFeature', labelCol='label', elasticNetParam=1, regParam=0.1).fit(pca_Lr)\n",
        "\n",
        "training_rmse_pca = reg_evaluator.evaluate(pca_lr_model.transform(pca_Lr))\n",
        " "
      ]
    },
    {
      "cell_type": "code",
      "execution_count": 91,
      "metadata": {
        "id": "TBnyAXQwl9Nt"
      },
      "outputs": [],
      "source": [
        "# Add your code here\n",
        "pca_Lr_test = PCA_ML(k=34, inputCol='features', outputCol='pcaFeature').fit(train_sdf).transform(test_sdf)\n",
        "\n",
        "predictions = pca_lr_model.transform(pca_Lr_test) #Task: Retreive predictions on the test set\n",
        "\n",
        "test_rmse_pca = reg_evaluator.evaluate(pca_lr_model.transform(pca_Lr_test)) #Task: Retreive RMSE for test data"
      ]
    },
    {
      "cell_type": "code",
      "execution_count": 92,
      "metadata": {
        "colab": {
          "base_uri": "https://localhost:8080/"
        },
        "id": "nNdWfggtmEmx",
        "outputId": "3e153d11-894d-4e4b-bf8d-2fd734bea3a1"
      },
      "outputs": [
        {
          "output_type": "stream",
          "name": "stdout",
          "text": [
            "check_pca_spark \n",
            " [0.7559059070648358, 0     10.934286\n",
            "1     10.872833\n",
            "2     10.250499\n",
            "3     10.642492\n",
            "4     10.636293\n",
            "5     11.577723\n",
            "6     13.046352\n",
            "7     11.015375\n",
            "8     11.731253\n",
            "9     12.283090\n",
            "10    11.899158\n",
            "11    11.350474\n",
            "12    12.011266\n",
            "13    11.092180\n",
            "14    11.605988\n",
            "15    13.106601\n",
            "16    13.106601\n",
            "17    11.250642\n",
            "18    11.724753\n",
            "19    11.821867\n",
            "20    11.828226\n",
            "21    11.411760\n",
            "22    13.049189\n",
            "23    13.601963\n",
            "24    12.057825\n",
            "25    12.501577\n",
            "26    11.954446\n",
            "27    11.954446\n",
            "28    13.397996\n",
            "29    12.081086\n",
            "30    11.685009\n",
            "31    10.910839\n",
            "32    12.873423\n",
            "33    12.985264\n",
            "34    11.866976\n",
            "35    13.377291\n",
            "36    12.301825\n",
            "37    12.301825\n",
            "38    12.110482\n",
            "39    11.024197\n",
            "40    12.442904\n",
            "41    11.023698\n",
            "42    12.762771\n",
            "43    10.685165\n",
            "44    12.845963\n",
            "45    11.835108\n",
            "46    12.217718\n",
            "47    12.217718\n",
            "48    12.477748\n",
            "49    13.623474\n",
            "Name: prediction, dtype: float64, 0      9.668651\n",
            "1      9.829895\n",
            "2      9.930129\n",
            "3     10.712126\n",
            "4     11.018006\n",
            "5     11.054835\n",
            "6     11.153762\n",
            "7     11.175899\n",
            "8     11.258382\n",
            "9     11.266360\n",
            "10    11.468357\n",
            "11    11.468859\n",
            "12    11.483754\n",
            "13    11.512265\n",
            "14    11.564445\n",
            "15    11.588135\n",
            "16    11.588135\n",
            "17    11.660664\n",
            "18    11.857671\n",
            "19    11.880322\n",
            "20    11.888144\n",
            "21    11.891335\n",
            "22    11.937552\n",
            "23    11.954922\n",
            "24    11.977156\n",
            "25    12.016164\n",
            "26    12.054133\n",
            "27    12.054133\n",
            "28    12.198675\n",
            "29    12.226267\n",
            "30    12.256457\n",
            "31    12.375583\n",
            "32    12.486016\n",
            "33    12.557198\n",
            "34    12.644428\n",
            "35    12.658160\n",
            "36    12.669763\n",
            "37    12.669763\n",
            "38    12.866671\n",
            "39    12.883370\n",
            "40    12.909091\n",
            "41    12.924927\n",
            "42    12.978248\n",
            "43    12.997584\n",
            "44    13.010363\n",
            "45    13.027932\n",
            "46    13.037278\n",
            "47    13.037278\n",
            "48    13.046706\n",
            "49    13.076920\n",
            "Name: label, dtype: float64, 0.7589082665449054]\n",
            "\n",
            " Differences between Prediction and label: \n",
            " 0     1.265635\n",
            "1     1.042939\n",
            "2     0.320370\n",
            "3    -0.069635\n",
            "4    -0.381713\n",
            "5     0.522889\n",
            "6     1.892590\n",
            "7    -0.160525\n",
            "8     0.472871\n",
            "9     1.016730\n",
            "10    0.430801\n",
            "11   -0.118385\n",
            "12    0.527512\n",
            "13   -0.420085\n",
            "14    0.041543\n",
            "15    1.518466\n",
            "16    1.518466\n",
            "17   -0.410022\n",
            "18   -0.132918\n",
            "19   -0.058454\n",
            "20   -0.059919\n",
            "21   -0.479575\n",
            "22    1.111637\n",
            "23    1.647041\n",
            "24    0.080668\n",
            "25    0.485413\n",
            "26   -0.099687\n",
            "27   -0.099687\n",
            "28    1.199321\n",
            "29   -0.145181\n",
            "30   -0.571447\n",
            "31   -1.464744\n",
            "32    0.387407\n",
            "33    0.428066\n",
            "34   -0.777452\n",
            "35    0.719131\n",
            "36   -0.367938\n",
            "37   -0.367938\n",
            "38   -0.756189\n",
            "39   -1.859173\n",
            "40   -0.466187\n",
            "41   -1.901228\n",
            "42   -0.215477\n",
            "43   -2.312419\n",
            "44   -0.164400\n",
            "45   -1.192824\n",
            "46   -0.819560\n",
            "47   -0.819560\n",
            "48   -0.568959\n",
            "49    0.546554\n",
            "dtype: float64\n",
            "\n",
            " \n",
            " Model Summery: 0.8270073041835897\n"
          ]
        }
      ],
      "source": [
        "# Add your code here\n",
        "predictions_to_grade = predictions.toPandas()\n",
        "answer = [training_rmse_pca, predictions_to_grade['prediction'][0:50], predictions_to_grade['label'][0:50], test_rmse_pca]\n",
        "print('check_pca_spark \\n', answer)\n",
        "\n",
        "x=predictions_to_grade['prediction'][0:50]\n",
        "y=predictions_to_grade['label'][0:50]\n",
        "print('\\n Differences between Prediction and label: \\n',(x - y))\n",
        "\n",
        "print('\\n \\n Model Summery:',pca_lr_model.summary.r2)"
      ]
    },
    {
      "cell_type": "markdown",
      "metadata": {
        "id": "TyQ6tm6iYg_m"
      },
      "source": [
        "# Submission\n",
        "\n",
        "**Submission on the blackboard**. \n",
        "** PDF submission for the simalarity check and .ipynb for original submission **\n",
        "\n",
        "Go to the \"File\" tab at the top left, and click \"Download .ipynb\". Submit under 'scalableMachinelearning.ipynb'.\n",
        "\n",
        "You must submit your notebook to blackboard for the grading."
      ]
    },
    {
      "cell_type": "code",
      "execution_count": null,
      "metadata": {
        "id": "CkfsSVY_X_yu"
      },
      "outputs": [],
      "source": [
        "#TO PDF\n",
        "%%capture\n",
        "!wget -nc https://raw.githubusercontent.com/brpy/colab-pdf/master/colab_pdf.py\n",
        "from colab_pdf import colab_pdf\n",
        "colab_pdf('CA_5(IBRAHIM).ipynb')"
      ]
    },
    {
      "cell_type": "markdown",
      "metadata": {
        "id": "HgXgrSqgypCL"
      },
      "source": [
        "\n",
        "<link rel=\"preconnect\" href=\"https://fonts.googleapis.com\">\n",
        "<link rel=\"preconnect\" href=\"https://fonts.gstatic.com\" crossorigin>\n",
        "<link href=\"https://fonts.googleapis.com/css2?family=Open+Sans+Condensed:wght@300&display=swap\" rel=\"stylesheet\">\n"
      ]
    },
    {
      "cell_type": "markdown",
      "source": [
        " # SECTION 3: TASK 1\n",
        "\n",
        "\n",
        "---\n",
        "\n"
      ],
      "metadata": {
        "id": "lYCom9goFzyf"
      }
    },
    {
      "cell_type": "markdown",
      "source": [
        "### 3.1 <strong>&#9989; LINEAR METHOD : &nbsp;&nbsp;  <span>Lasso </span> </strong>"
      ],
      "metadata": {
        "id": "RLd-hgSQm4zG"
      }
    },
    {
      "cell_type": "code",
      "source": [
        "from sklearn import linear_model\n",
        "lass = linear_model.Lasso(alpha=0.1)\n",
        "lass.fit(x_train, y_train)"
      ],
      "metadata": {
        "colab": {
          "base_uri": "https://localhost:8080/"
        },
        "id": "lmGhBg_nGEhh",
        "outputId": "76dab49e-1b7c-4920-feee-8e86b15d160a"
      },
      "execution_count": 116,
      "outputs": [
        {
          "output_type": "execute_result",
          "data": {
            "text/plain": [
              "Lasso(alpha=0.1)"
            ]
          },
          "metadata": {},
          "execution_count": 116
        }
      ]
    },
    {
      "cell_type": "code",
      "source": [
        "print('r Squared: %.2f'\n",
        "      % lass.score(x_test, y_test))\n",
        "\n",
        "\n",
        "y_lass_predict_test = lass.predict(x_test)\n",
        "y_lass_predict_train= lass.predict(x_train)\n",
        "\n",
        "print('mse_value of Test=',mean_squared_error(y_test, y_lass_predict_test))\n",
        "print('mse_value of Train=',mean_squared_error(y_train, y_lass_predict_train))\n",
        "mse_test= mean_squared_error(y_test, y_lass_predict_test)\n"
      ],
      "metadata": {
        "colab": {
          "base_uri": "https://localhost:8080/"
        },
        "id": "qubQXS6YGMmC",
        "outputId": "b38376a0-dee4-4f21-b5a1-6a7aad1fe50c"
      },
      "execution_count": 117,
      "outputs": [
        {
          "output_type": "stream",
          "name": "stdout",
          "text": [
            "r Squared: 0.84\n",
            "mse_value of Test= 0.5308049742654163\n",
            "mse_value of Train= 0.5322393287340605\n"
          ]
        }
      ]
    },
    {
      "cell_type": "code",
      "source": [
        "print('check_lass', (np.sqrt(mean_squared_error(y_test, y_lass_predict_test))))"
      ],
      "metadata": {
        "colab": {
          "base_uri": "https://localhost:8080/"
        },
        "id": "cn2-b0s2GPmd",
        "outputId": "aefa4372-81d3-49a3-c913-01c7084880e7"
      },
      "execution_count": 118,
      "outputs": [
        {
          "output_type": "stream",
          "name": "stdout",
          "text": [
            "check_lass 0.7285636377595415\n"
          ]
        }
      ]
    },
    {
      "cell_type": "markdown",
      "source": [
        "### 3.2 <strong>&#9989; ENSEMBLE METHOD : &nbsp;&nbsp;  <span>StackingRegressor </span> </strong>\n",
        "\n",
        "\n",
        "\n"
      ],
      "metadata": {
        "id": "7W66_uCDncr9"
      }
    },
    {
      "cell_type": "code",
      "source": [
        "from sklearn.linear_model import RidgeCV, LassoCV\n",
        "from sklearn.neighbors import KNeighborsRegressor\n",
        "from sklearn.ensemble import RandomForestRegressor\n",
        "estimators = [('ridge', RidgeCV()),\n",
        "              ('lasso', LassoCV(random_state=42)),\n",
        "              ('knr', KNeighborsRegressor(n_neighbors=20,\n",
        "                                          metric='euclidean'))]"
      ],
      "metadata": {
        "id": "hvZi2dIfGUyk"
      },
      "execution_count": 52,
      "outputs": []
    },
    {
      "cell_type": "code",
      "source": [
        "from sklearn.ensemble import StackingRegressor\n",
        "final_estimator = RandomForestRegressor(n_estimators=140, max_depth=40)\n",
        "reg_stack = StackingRegressor(\n",
        "    estimators=estimators,\n",
        "    final_estimator=final_estimator)"
      ],
      "metadata": {
        "id": "0DNjAqV-GaJm"
      },
      "execution_count": 53,
      "outputs": []
    },
    {
      "cell_type": "code",
      "source": [
        "reg_stack.fit(x_train_Trans, y_train)"
      ],
      "metadata": {
        "colab": {
          "base_uri": "https://localhost:8080/"
        },
        "id": "Th7Cs1lqGdSA",
        "outputId": "44ea5e1b-03fc-4e0e-dd30-f8462dd9eea3"
      },
      "execution_count": 54,
      "outputs": [
        {
          "output_type": "execute_result",
          "data": {
            "text/plain": [
              "StackingRegressor(estimators=[('ridge',\n",
              "                               RidgeCV(alphas=array([ 0.1,  1. , 10. ]))),\n",
              "                              ('lasso', LassoCV(random_state=42)),\n",
              "                              ('knr',\n",
              "                               KNeighborsRegressor(metric='euclidean',\n",
              "                                                   n_neighbors=20))],\n",
              "                  final_estimator=RandomForestRegressor(max_depth=40,\n",
              "                                                        n_estimators=140))"
            ]
          },
          "metadata": {},
          "execution_count": 54
        }
      ]
    },
    {
      "cell_type": "code",
      "source": [
        "y_pred_SF = reg_stack.predict(x_test_Trans)"
      ],
      "metadata": {
        "id": "zJmWksS6GsMz"
      },
      "execution_count": 55,
      "outputs": []
    },
    {
      "cell_type": "code",
      "source": [
        "print('check_sf', (np.sqrt(mean_squared_error(y_test, y_pred_SF))))"
      ],
      "metadata": {
        "colab": {
          "base_uri": "https://localhost:8080/"
        },
        "id": "ihSmZrFiGune",
        "outputId": "ec94c17c-10ec-4e3f-cc6e-3bad3c97ea6f"
      },
      "execution_count": 56,
      "outputs": [
        {
          "output_type": "stream",
          "name": "stdout",
          "text": [
            "check_sf 0.6693665016868385\n"
          ]
        }
      ]
    },
    {
      "cell_type": "markdown",
      "source": [
        "# SECTION 3: TASK 2\n",
        "\n",
        "---"
      ],
      "metadata": {
        "id": "7pSUqHy_MsUQ"
      }
    },
    {
      "cell_type": "code",
      "source": [
        "train_sdf.show(2)"
      ],
      "metadata": {
        "colab": {
          "base_uri": "https://localhost:8080/"
        },
        "id": "W9WngXFT8TIB",
        "outputId": "b4a14215-2bfd-4825-fba1-c01b37fbea0f"
      },
      "execution_count": 96,
      "outputs": [
        {
          "output_type": "stream",
          "name": "stdout",
          "text": [
            "+--------+-----------------+--------------------+\n",
            "|video_id|            label|            features|\n",
            "+--------+-----------------+--------------------+\n",
            "|  #NAME?|8.442900586834382|(38,[3,4,5,6,7,8,...|\n",
            "|  #NAME?|9.430519533826377|(38,[3,4,5,6,7,8,...|\n",
            "+--------+-----------------+--------------------+\n",
            "only showing top 2 rows\n",
            "\n"
          ]
        }
      ]
    },
    {
      "cell_type": "markdown",
      "source": [
        ""
      ],
      "metadata": {
        "id": "fstl6x8h-A32"
      }
    },
    {
      "cell_type": "markdown",
      "source": [
        "### 3.2.1 &nbsp;&nbsp;  <strong>&#9989; REGRESSION MODEL :</strong> &nbsp;&nbsp;  <span style=\"font-size:10.0pt\">GRADIENT-BOOSTER TREE REGRESSION </span> "
      ],
      "metadata": {
        "id": "7y8AKx47qz2k"
      }
    },
    {
      "cell_type": "code",
      "source": [
        "# from pyspark.ml import Pipeline\n",
        "from pyspark.ml.regression import GBTRegressor\n",
        "# from pyspark.ml.feature import VectorIndexer\n",
        "from pyspark.ml.evaluation import RegressionEvaluator\n",
        "\n",
        "# Train a GBT model.\n",
        "gbt = GBTRegressor(labelCol=\"label\", featuresCol=\"features\", maxIter=10)\n",
        "\n",
        "# Train model.  This also runs the indexer.\n",
        "gbr_model = gbt.fit(train_sdf)\n",
        "\n",
        "# Make predictions.\n",
        "gbr_predictions = gbr_model.transform(test_sdf)\n",
        "\n",
        "# Select example rows to display.\n",
        "gbr_predictions.select(\"prediction\", \"label\", \"features\").show(5)\n",
        "\n",
        "# Select (prediction, true label) and compute test error\n",
        "evaluator = RegressionEvaluator(\n",
        "    labelCol=\"label\", predictionCol=\"prediction\", metricName=\"rmse\")\n",
        "rmse = evaluator.evaluate(predictions)\n",
        "print(\"Root Mean Squared Error (RMSE) on test data = %g\" % rmse)\n",
        "\n"
      ],
      "metadata": {
        "colab": {
          "base_uri": "https://localhost:8080/"
        },
        "id": "S19bwyyyqvs9",
        "outputId": "bd4725d9-3a50-4557-e3cf-5c0c40edcaf4"
      },
      "execution_count": 100,
      "outputs": [
        {
          "output_type": "stream",
          "name": "stdout",
          "text": [
            "+------------------+------------------+--------------------+\n",
            "|        prediction|             label|            features|\n",
            "+------------------+------------------+--------------------+\n",
            "|10.813500775303192| 9.668650902630873|(38,[3,4,5,6,7,8,...|\n",
            "| 10.69003153118986| 9.829894832232755|(38,[3,4,5,6,7,8,...|\n",
            "|10.080749701089598| 9.930129483482549|(38,[0,1,6,7,8,11...|\n",
            "| 11.21600888586931|10.712126256353349|(38,[3,4,5,6,7,8,...|\n",
            "|10.555324399460794|11.018005998221295|(38,[3,4,5,6,7,8,...|\n",
            "+------------------+------------------+--------------------+\n",
            "only showing top 5 rows\n",
            "\n",
            "Root Mean Squared Error (RMSE) on test data = 0.758908\n"
          ]
        }
      ]
    },
    {
      "cell_type": "markdown",
      "source": [
        "### 3.2.2 &nbsp;&nbsp;<strong>&#9989; CLASSIFICATION MODEL :<strong> &nbsp;&nbsp;  <span>LOGISTIC REGRESSION </span>"
      ],
      "metadata": {
        "id": "FbN_O_LxrjaW"
      }
    },
    {
      "cell_type": "code",
      "source": [
        "copied_pd_frame.head(1)"
      ],
      "metadata": {
        "colab": {
          "base_uri": "https://localhost:8080/",
          "height": 297
        },
        "id": "eCIerZ7pZ_c2",
        "outputId": "ba478189-f64f-4081-cb95-2a8dfd5e5b7d"
      },
      "execution_count": 16,
      "outputs": [
        {
          "output_type": "execute_result",
          "data": {
            "text/html": [
              "\n",
              "  <div id=\"df-e0d65a55-633e-40ae-9eb9-7dfc3fc2e9b9\">\n",
              "    <div class=\"colab-df-container\">\n",
              "      <div>\n",
              "<style scoped>\n",
              "    .dataframe tbody tr th:only-of-type {\n",
              "        vertical-align: middle;\n",
              "    }\n",
              "\n",
              "    .dataframe tbody tr th {\n",
              "        vertical-align: top;\n",
              "    }\n",
              "\n",
              "    .dataframe thead th {\n",
              "        text-align: right;\n",
              "    }\n",
              "</style>\n",
              "<table border=\"1\" class=\"dataframe\">\n",
              "  <thead>\n",
              "    <tr style=\"text-align: right;\">\n",
              "      <th></th>\n",
              "      <th>trending_date</th>\n",
              "      <th>title</th>\n",
              "      <th>channel_title</th>\n",
              "      <th>category_id</th>\n",
              "      <th>publish_time</th>\n",
              "      <th>tags</th>\n",
              "      <th>views</th>\n",
              "      <th>likes</th>\n",
              "      <th>dislikes</th>\n",
              "      <th>comment_count</th>\n",
              "      <th>thumbnail_link</th>\n",
              "      <th>comments_disabled</th>\n",
              "      <th>ratings_disabled</th>\n",
              "      <th>video_error_or_removed</th>\n",
              "      <th>description</th>\n",
              "      <th>country</th>\n",
              "      <th>category</th>\n",
              "    </tr>\n",
              "    <tr>\n",
              "      <th>video_id</th>\n",
              "      <th></th>\n",
              "      <th></th>\n",
              "      <th></th>\n",
              "      <th></th>\n",
              "      <th></th>\n",
              "      <th></th>\n",
              "      <th></th>\n",
              "      <th></th>\n",
              "      <th></th>\n",
              "      <th></th>\n",
              "      <th></th>\n",
              "      <th></th>\n",
              "      <th></th>\n",
              "      <th></th>\n",
              "      <th></th>\n",
              "      <th></th>\n",
              "      <th></th>\n",
              "    </tr>\n",
              "  </thead>\n",
              "  <tbody>\n",
              "    <tr>\n",
              "      <th>kzwfHumJyYc</th>\n",
              "      <td>2017-11-14</td>\n",
              "      <td>Sharry Mann: Cute Munda ( Song Teaser) | Parmi...</td>\n",
              "      <td>Lokdhun Punjabi</td>\n",
              "      <td>1</td>\n",
              "      <td>2017-11-12 12:20:39</td>\n",
              "      <td>sharry mann|\"sharry mann new song\"|\"sharry man...</td>\n",
              "      <td>1096327</td>\n",
              "      <td>33966</td>\n",
              "      <td>798</td>\n",
              "      <td>882</td>\n",
              "      <td>https://i.ytimg.com/vi/kzwfHumJyYc/default.jpg</td>\n",
              "      <td>False</td>\n",
              "      <td>False</td>\n",
              "      <td>False</td>\n",
              "      <td>Presenting Sharry Mann latest Punjabi Song  Cu...</td>\n",
              "      <td>IN</td>\n",
              "      <td>Film &amp; Animation</td>\n",
              "    </tr>\n",
              "  </tbody>\n",
              "</table>\n",
              "</div>\n",
              "      <button class=\"colab-df-convert\" onclick=\"convertToInteractive('df-e0d65a55-633e-40ae-9eb9-7dfc3fc2e9b9')\"\n",
              "              title=\"Convert this dataframe to an interactive table.\"\n",
              "              style=\"display:none;\">\n",
              "        \n",
              "  <svg xmlns=\"http://www.w3.org/2000/svg\" height=\"24px\"viewBox=\"0 0 24 24\"\n",
              "       width=\"24px\">\n",
              "    <path d=\"M0 0h24v24H0V0z\" fill=\"none\"/>\n",
              "    <path d=\"M18.56 5.44l.94 2.06.94-2.06 2.06-.94-2.06-.94-.94-2.06-.94 2.06-2.06.94zm-11 1L8.5 8.5l.94-2.06 2.06-.94-2.06-.94L8.5 2.5l-.94 2.06-2.06.94zm10 10l.94 2.06.94-2.06 2.06-.94-2.06-.94-.94-2.06-.94 2.06-2.06.94z\"/><path d=\"M17.41 7.96l-1.37-1.37c-.4-.4-.92-.59-1.43-.59-.52 0-1.04.2-1.43.59L10.3 9.45l-7.72 7.72c-.78.78-.78 2.05 0 2.83L4 21.41c.39.39.9.59 1.41.59.51 0 1.02-.2 1.41-.59l7.78-7.78 2.81-2.81c.8-.78.8-2.07 0-2.86zM5.41 20L4 18.59l7.72-7.72 1.47 1.35L5.41 20z\"/>\n",
              "  </svg>\n",
              "      </button>\n",
              "      \n",
              "  <style>\n",
              "    .colab-df-container {\n",
              "      display:flex;\n",
              "      flex-wrap:wrap;\n",
              "      gap: 12px;\n",
              "    }\n",
              "\n",
              "    .colab-df-convert {\n",
              "      background-color: #E8F0FE;\n",
              "      border: none;\n",
              "      border-radius: 50%;\n",
              "      cursor: pointer;\n",
              "      display: none;\n",
              "      fill: #1967D2;\n",
              "      height: 32px;\n",
              "      padding: 0 0 0 0;\n",
              "      width: 32px;\n",
              "    }\n",
              "\n",
              "    .colab-df-convert:hover {\n",
              "      background-color: #E2EBFA;\n",
              "      box-shadow: 0px 1px 2px rgba(60, 64, 67, 0.3), 0px 1px 3px 1px rgba(60, 64, 67, 0.15);\n",
              "      fill: #174EA6;\n",
              "    }\n",
              "\n",
              "    [theme=dark] .colab-df-convert {\n",
              "      background-color: #3B4455;\n",
              "      fill: #D2E3FC;\n",
              "    }\n",
              "\n",
              "    [theme=dark] .colab-df-convert:hover {\n",
              "      background-color: #434B5C;\n",
              "      box-shadow: 0px 1px 3px 1px rgba(0, 0, 0, 0.15);\n",
              "      filter: drop-shadow(0px 1px 2px rgba(0, 0, 0, 0.3));\n",
              "      fill: #FFFFFF;\n",
              "    }\n",
              "  </style>\n",
              "\n",
              "      <script>\n",
              "        const buttonEl =\n",
              "          document.querySelector('#df-e0d65a55-633e-40ae-9eb9-7dfc3fc2e9b9 button.colab-df-convert');\n",
              "        buttonEl.style.display =\n",
              "          google.colab.kernel.accessAllowed ? 'block' : 'none';\n",
              "\n",
              "        async function convertToInteractive(key) {\n",
              "          const element = document.querySelector('#df-e0d65a55-633e-40ae-9eb9-7dfc3fc2e9b9');\n",
              "          const dataTable =\n",
              "            await google.colab.kernel.invokeFunction('convertToInteractive',\n",
              "                                                     [key], {});\n",
              "          if (!dataTable) return;\n",
              "\n",
              "          const docLinkHtml = 'Like what you see? Visit the ' +\n",
              "            '<a target=\"_blank\" href=https://colab.research.google.com/notebooks/data_table.ipynb>data table notebook</a>'\n",
              "            + ' to learn more about interactive tables.';\n",
              "          element.innerHTML = '';\n",
              "          dataTable['output_type'] = 'display_data';\n",
              "          await google.colab.output.renderOutput(dataTable, element);\n",
              "          const docLink = document.createElement('div');\n",
              "          docLink.innerHTML = docLinkHtml;\n",
              "          element.appendChild(docLink);\n",
              "        }\n",
              "      </script>\n",
              "    </div>\n",
              "  </div>\n",
              "  "
            ],
            "text/plain": [
              "            trending_date  ...          category\n",
              "video_id                   ...                  \n",
              "kzwfHumJyYc    2017-11-14  ...  Film & Animation\n",
              "\n",
              "[1 rows x 17 columns]"
            ]
          },
          "metadata": {},
          "execution_count": 16
        }
      ]
    },
    {
      "cell_type": "code",
      "source": [
        "##REMOVE UNWANTED COLUMNS\n",
        "needed_columns_2 =  ['title', 'category_id', 'category', 'country', 'views']\n",
        "copied_pd_frame_3 = copied_pd_frame.copy()\n",
        "copied_pd_frame_3.drop([col for col in copied_pd_frame_3.columns if col not in needed_columns_2],axis=1,inplace=True)\n",
        "copied_pd_frame_3.head()"
      ],
      "metadata": {
        "colab": {
          "base_uri": "https://localhost:8080/",
          "height": 237
        },
        "id": "lyf_YtChZyJH",
        "outputId": "4c3092bb-a971-4766-e1f5-b70092fc0f82"
      },
      "execution_count": 18,
      "outputs": [
        {
          "output_type": "execute_result",
          "data": {
            "text/html": [
              "\n",
              "  <div id=\"df-a71edb23-21ce-4126-94d9-7ff171776115\">\n",
              "    <div class=\"colab-df-container\">\n",
              "      <div>\n",
              "<style scoped>\n",
              "    .dataframe tbody tr th:only-of-type {\n",
              "        vertical-align: middle;\n",
              "    }\n",
              "\n",
              "    .dataframe tbody tr th {\n",
              "        vertical-align: top;\n",
              "    }\n",
              "\n",
              "    .dataframe thead th {\n",
              "        text-align: right;\n",
              "    }\n",
              "</style>\n",
              "<table border=\"1\" class=\"dataframe\">\n",
              "  <thead>\n",
              "    <tr style=\"text-align: right;\">\n",
              "      <th></th>\n",
              "      <th>title</th>\n",
              "      <th>category_id</th>\n",
              "      <th>views</th>\n",
              "      <th>country</th>\n",
              "      <th>category</th>\n",
              "    </tr>\n",
              "    <tr>\n",
              "      <th>video_id</th>\n",
              "      <th></th>\n",
              "      <th></th>\n",
              "      <th></th>\n",
              "      <th></th>\n",
              "      <th></th>\n",
              "    </tr>\n",
              "  </thead>\n",
              "  <tbody>\n",
              "    <tr>\n",
              "      <th>kzwfHumJyYc</th>\n",
              "      <td>Sharry Mann: Cute Munda ( Song Teaser) | Parmi...</td>\n",
              "      <td>1</td>\n",
              "      <td>1096327</td>\n",
              "      <td>IN</td>\n",
              "      <td>Film &amp; Animation</td>\n",
              "    </tr>\n",
              "    <tr>\n",
              "      <th>zUZ1z7FwLc8</th>\n",
              "      <td>पीरियड्स के समय, पेट पर पति करता ऐसा, देखकर दं...</td>\n",
              "      <td>25</td>\n",
              "      <td>590101</td>\n",
              "      <td>IN</td>\n",
              "      <td>News &amp; Politics</td>\n",
              "    </tr>\n",
              "    <tr>\n",
              "      <th>10L1hZ9qa58</th>\n",
              "      <td>Stylish Star Allu Arjun @ ChaySam Wedding Rece...</td>\n",
              "      <td>24</td>\n",
              "      <td>473988</td>\n",
              "      <td>IN</td>\n",
              "      <td>Entertainment</td>\n",
              "    </tr>\n",
              "    <tr>\n",
              "      <th>N1vE8iiEg64</th>\n",
              "      <td>Eruma Saani | Tamil vs English</td>\n",
              "      <td>23</td>\n",
              "      <td>1242680</td>\n",
              "      <td>IN</td>\n",
              "      <td>Comedy</td>\n",
              "    </tr>\n",
              "    <tr>\n",
              "      <th>kJzGH0PVQHQ</th>\n",
              "      <td>why Samantha became EMOTIONAL @ Samantha naga ...</td>\n",
              "      <td>24</td>\n",
              "      <td>464015</td>\n",
              "      <td>IN</td>\n",
              "      <td>Entertainment</td>\n",
              "    </tr>\n",
              "  </tbody>\n",
              "</table>\n",
              "</div>\n",
              "      <button class=\"colab-df-convert\" onclick=\"convertToInteractive('df-a71edb23-21ce-4126-94d9-7ff171776115')\"\n",
              "              title=\"Convert this dataframe to an interactive table.\"\n",
              "              style=\"display:none;\">\n",
              "        \n",
              "  <svg xmlns=\"http://www.w3.org/2000/svg\" height=\"24px\"viewBox=\"0 0 24 24\"\n",
              "       width=\"24px\">\n",
              "    <path d=\"M0 0h24v24H0V0z\" fill=\"none\"/>\n",
              "    <path d=\"M18.56 5.44l.94 2.06.94-2.06 2.06-.94-2.06-.94-.94-2.06-.94 2.06-2.06.94zm-11 1L8.5 8.5l.94-2.06 2.06-.94-2.06-.94L8.5 2.5l-.94 2.06-2.06.94zm10 10l.94 2.06.94-2.06 2.06-.94-2.06-.94-.94-2.06-.94 2.06-2.06.94z\"/><path d=\"M17.41 7.96l-1.37-1.37c-.4-.4-.92-.59-1.43-.59-.52 0-1.04.2-1.43.59L10.3 9.45l-7.72 7.72c-.78.78-.78 2.05 0 2.83L4 21.41c.39.39.9.59 1.41.59.51 0 1.02-.2 1.41-.59l7.78-7.78 2.81-2.81c.8-.78.8-2.07 0-2.86zM5.41 20L4 18.59l7.72-7.72 1.47 1.35L5.41 20z\"/>\n",
              "  </svg>\n",
              "      </button>\n",
              "      \n",
              "  <style>\n",
              "    .colab-df-container {\n",
              "      display:flex;\n",
              "      flex-wrap:wrap;\n",
              "      gap: 12px;\n",
              "    }\n",
              "\n",
              "    .colab-df-convert {\n",
              "      background-color: #E8F0FE;\n",
              "      border: none;\n",
              "      border-radius: 50%;\n",
              "      cursor: pointer;\n",
              "      display: none;\n",
              "      fill: #1967D2;\n",
              "      height: 32px;\n",
              "      padding: 0 0 0 0;\n",
              "      width: 32px;\n",
              "    }\n",
              "\n",
              "    .colab-df-convert:hover {\n",
              "      background-color: #E2EBFA;\n",
              "      box-shadow: 0px 1px 2px rgba(60, 64, 67, 0.3), 0px 1px 3px 1px rgba(60, 64, 67, 0.15);\n",
              "      fill: #174EA6;\n",
              "    }\n",
              "\n",
              "    [theme=dark] .colab-df-convert {\n",
              "      background-color: #3B4455;\n",
              "      fill: #D2E3FC;\n",
              "    }\n",
              "\n",
              "    [theme=dark] .colab-df-convert:hover {\n",
              "      background-color: #434B5C;\n",
              "      box-shadow: 0px 1px 3px 1px rgba(0, 0, 0, 0.15);\n",
              "      filter: drop-shadow(0px 1px 2px rgba(0, 0, 0, 0.3));\n",
              "      fill: #FFFFFF;\n",
              "    }\n",
              "  </style>\n",
              "\n",
              "      <script>\n",
              "        const buttonEl =\n",
              "          document.querySelector('#df-a71edb23-21ce-4126-94d9-7ff171776115 button.colab-df-convert');\n",
              "        buttonEl.style.display =\n",
              "          google.colab.kernel.accessAllowed ? 'block' : 'none';\n",
              "\n",
              "        async function convertToInteractive(key) {\n",
              "          const element = document.querySelector('#df-a71edb23-21ce-4126-94d9-7ff171776115');\n",
              "          const dataTable =\n",
              "            await google.colab.kernel.invokeFunction('convertToInteractive',\n",
              "                                                     [key], {});\n",
              "          if (!dataTable) return;\n",
              "\n",
              "          const docLinkHtml = 'Like what you see? Visit the ' +\n",
              "            '<a target=\"_blank\" href=https://colab.research.google.com/notebooks/data_table.ipynb>data table notebook</a>'\n",
              "            + ' to learn more about interactive tables.';\n",
              "          element.innerHTML = '';\n",
              "          dataTable['output_type'] = 'display_data';\n",
              "          await google.colab.output.renderOutput(dataTable, element);\n",
              "          const docLink = document.createElement('div');\n",
              "          docLink.innerHTML = docLinkHtml;\n",
              "          element.appendChild(docLink);\n",
              "        }\n",
              "      </script>\n",
              "    </div>\n",
              "  </div>\n",
              "  "
            ],
            "text/plain": [
              "                                                         title  ...          category\n",
              "video_id                                                        ...                  \n",
              "kzwfHumJyYc  Sharry Mann: Cute Munda ( Song Teaser) | Parmi...  ...  Film & Animation\n",
              "zUZ1z7FwLc8  पीरियड्स के समय, पेट पर पति करता ऐसा, देखकर दं...  ...   News & Politics\n",
              "10L1hZ9qa58  Stylish Star Allu Arjun @ ChaySam Wedding Rece...  ...     Entertainment\n",
              "N1vE8iiEg64                     Eruma Saani | Tamil vs English  ...            Comedy\n",
              "kJzGH0PVQHQ  why Samantha became EMOTIONAL @ Samantha naga ...  ...     Entertainment\n",
              "\n",
              "[5 rows x 5 columns]"
            ]
          },
          "metadata": {},
          "execution_count": 18
        }
      ]
    },
    {
      "cell_type": "code",
      "source": [
        "final_data_2 = copied_pd_frame_3\n",
        "final_data_2.to_csv('final_data_2.csv')"
      ],
      "metadata": {
        "id": "4F3b5YfJbe-r"
      },
      "execution_count": 19,
      "outputs": []
    },
    {
      "cell_type": "code",
      "source": [
        "final_sparkDF_2 = spark.read.options(header='True', inferSchema='True').csv('final_data_2.csv')\n",
        "final_sparkDF_2.show()\n",
        "final_sparkDF_2.printSchema()"
      ],
      "metadata": {
        "colab": {
          "base_uri": "https://localhost:8080/"
        },
        "id": "Mg_w7RAjblo7",
        "outputId": "c84e787e-ded7-45cd-95a9-7983ba484b7d"
      },
      "execution_count": 111,
      "outputs": [
        {
          "output_type": "stream",
          "name": "stdout",
          "text": [
            "+-----------+--------------------+-----------+--------+-------+----------------+\n",
            "|   video_id|               title|category_id|   views|country|        category|\n",
            "+-----------+--------------------+-----------+--------+-------+----------------+\n",
            "|kzwfHumJyYc|Sharry Mann: Cute...|          1| 1096327|     IN|Film & Animation|\n",
            "|zUZ1z7FwLc8|पीरियड्स के समय, ...|         25|  590101|     IN| News & Politics|\n",
            "|10L1hZ9qa58|Stylish Star Allu...|         24|  473988|     IN|   Entertainment|\n",
            "|N1vE8iiEg64|Eruma Saani | Tam...|         23| 1242680|     IN|          Comedy|\n",
            "|kJzGH0PVQHQ|why Samantha beca...|         24|  464015|     IN|   Entertainment|\n",
            "|il_pSa5l98w|MCA (Middle Class...|         24| 6106669|     IN|   Entertainment|\n",
            "|7MxiQ4v0EnE|Daang ( Full Vide...|         10| 5718766|     IN|           Music|\n",
            "|c64I9HNpiOY|Padmavati : Ek Di...|         10|10588371|     IN|           Music|\n",
            "|KObFEYCaRx8|Chiranjeevi in Na...|         24|  118223|     IN|   Entertainment|\n",
            "|g8QsfJhFpjY|New bike vs Old b...|         24|  969030|     IN|   Entertainment|\n",
            "|4du1KXBl4YU|Mehjabi Reveals H...|         24|  632747|     IN|   Entertainment|\n",
            "|zOOmEDwPJX0|Jannat (Full Song...|         10| 2348107|     IN|           Music|\n",
            "|Prb_osSVE0M|Renu Desai Gives ...|         25|  156085|     IN| News & Politics|\n",
            "|KHxdrECEsD0|Peehu Srivastav P...|         24|  472413|     IN|   Entertainment|\n",
            "|so0ccfs-psI|Rowi Na | Nadha V...|         10|  836006|     IN|           Music|\n",
            "|7gShaSuK_PY|ஜெயலலிதாவின் உயில...|         22|   89531|     IN|  People & Blogs|\n",
            "|ep3SLMuRbvg|TYPES OF STUDENTS...|         23|  344545|     IN|          Comedy|\n",
            "|ePO5M5DE01I|Tiger Zinda Hai |...|          1|35885754|     IN|Film & Animation|\n",
            "|CLl1RbxDRAs|Meri Setting Karw...|         23|  209599|     IN|          Comedy|\n",
            "|1ZAPwfrtAFY|The Trump Preside...|         24| 2418783|     IN|   Entertainment|\n",
            "+-----------+--------------------+-----------+--------+-------+----------------+\n",
            "only showing top 20 rows\n",
            "\n",
            "root\n",
            " |-- video_id: string (nullable = true)\n",
            " |-- title: string (nullable = true)\n",
            " |-- category_id: integer (nullable = true)\n",
            " |-- views: integer (nullable = true)\n",
            " |-- country: string (nullable = true)\n",
            " |-- category: string (nullable = true)\n",
            "\n"
          ]
        }
      ]
    },
    {
      "cell_type": "code",
      "source": [
        "final_sparkDF_2 = final_sparkDF_2.dropna()\n"
      ],
      "metadata": {
        "id": "_99P8dpGcH7m"
      },
      "execution_count": 112,
      "outputs": []
    },
    {
      "cell_type": "code",
      "source": [
        "draft_sparkDF_3 = final_sparkDF_2.drop('video_id')\n",
        "draft_sparkDF_3 = draft_sparkDF_3.drop('views')\n",
        "draft_sparkDF_3 = draft_sparkDF_3.drop('country_code')\n",
        "\n",
        "\n",
        "\n",
        "\n",
        "draft_sparkDF_3.show()"
      ],
      "metadata": {
        "colab": {
          "base_uri": "https://localhost:8080/"
        },
        "id": "gxktmIPEcPXc",
        "outputId": "d387e6f5-4aba-47f5-c04a-8d49bbdfb222"
      },
      "execution_count": 130,
      "outputs": [
        {
          "output_type": "stream",
          "name": "stdout",
          "text": [
            "+--------------------+-----------+-------+----------------+\n",
            "|               title|category_id|country|        category|\n",
            "+--------------------+-----------+-------+----------------+\n",
            "|Sharry Mann: Cute...|          1|     IN|Film & Animation|\n",
            "|पीरियड्स के समय, ...|         25|     IN| News & Politics|\n",
            "|Stylish Star Allu...|         24|     IN|   Entertainment|\n",
            "|Eruma Saani | Tam...|         23|     IN|          Comedy|\n",
            "|why Samantha beca...|         24|     IN|   Entertainment|\n",
            "|MCA (Middle Class...|         24|     IN|   Entertainment|\n",
            "|Daang ( Full Vide...|         10|     IN|           Music|\n",
            "|Padmavati : Ek Di...|         10|     IN|           Music|\n",
            "|Chiranjeevi in Na...|         24|     IN|   Entertainment|\n",
            "|New bike vs Old b...|         24|     IN|   Entertainment|\n",
            "|Mehjabi Reveals H...|         24|     IN|   Entertainment|\n",
            "|Jannat (Full Song...|         10|     IN|           Music|\n",
            "|Renu Desai Gives ...|         25|     IN| News & Politics|\n",
            "|Peehu Srivastav P...|         24|     IN|   Entertainment|\n",
            "|Rowi Na | Nadha V...|         10|     IN|           Music|\n",
            "|ஜெயலலிதாவின் உயில...|         22|     IN|  People & Blogs|\n",
            "|TYPES OF STUDENTS...|         23|     IN|          Comedy|\n",
            "|Tiger Zinda Hai |...|          1|     IN|Film & Animation|\n",
            "|Meri Setting Karw...|         23|     IN|          Comedy|\n",
            "|The Trump Preside...|         24|     IN|   Entertainment|\n",
            "+--------------------+-----------+-------+----------------+\n",
            "only showing top 20 rows\n",
            "\n"
          ]
        }
      ]
    },
    {
      "cell_type": "code",
      "source": [
        "from pyspark.ml.feature import OneHotEncoder, StringIndexer, VectorAssembler, CountVectorizer, Tokenizer, IDF, StopWordsRemover\n",
        "\n",
        "\n",
        "tokenizer = Tokenizer(inputCol='title',outputCol='mytokens')\n",
        "stopwords_remover = StopWordsRemover(inputCol='mytokens',outputCol='filtered_tokens')\n",
        "vectorizer = CountVectorizer(inputCol='filtered_tokens',outputCol='rawFeatures')\n",
        "idf = IDF(inputCol='rawFeatures',outputCol='vectorizedFeatures')\n",
        "\n",
        "labelEncoder = StringIndexer(inputCol='category',outputCol='label').fit(draft_sparkDF_3)\n",
        "\n",
        "# labelEncoder.transform(draft_sparkDF_3).show(10)\n",
        "\n"
      ],
      "metadata": {
        "id": "jHrwOiemchJ-"
      },
      "execution_count": 131,
      "outputs": []
    },
    {
      "cell_type": "code",
      "source": [
        "draft_sparkDF_3 = labelEncoder.transform(draft_sparkDF_3)\n",
        "draft_sparkDF_3.show(4)"
      ],
      "metadata": {
        "colab": {
          "base_uri": "https://localhost:8080/"
        },
        "id": "06uqiYocxYsG",
        "outputId": "a63256a2-93a8-4d51-f690-2fda839fa66f"
      },
      "execution_count": 132,
      "outputs": [
        {
          "output_type": "stream",
          "name": "stdout",
          "text": [
            "+--------------------+-----------+-------+----------------+-----+\n",
            "|               title|category_id|country|        category|label|\n",
            "+--------------------+-----------+-------+----------------+-----+\n",
            "|Sharry Mann: Cute...|          1|     IN|Film & Animation|  7.0|\n",
            "|पीरियड्स के समय, ...|         25|     IN| News & Politics|  3.0|\n",
            "|Stylish Star Allu...|         24|     IN|   Entertainment|  0.0|\n",
            "|Eruma Saani | Tam...|         23|     IN|          Comedy|  2.0|\n",
            "+--------------------+-----------+-------+----------------+-----+\n",
            "only showing top 4 rows\n",
            "\n"
          ]
        }
      ]
    },
    {
      "cell_type": "code",
      "source": [
        "cat_train_split, cat_test_split = draft_sparkDF_3.randomSplit([0.8, 0.2], seed = 2021)\n",
        "print(\"Training Dataset Count: \" + str(cat_train_split.count()))\n",
        "print(\"Test Dataset Count: \" + str(cat_test_split.count()))"
      ],
      "metadata": {
        "colab": {
          "base_uri": "https://localhost:8080/"
        },
        "id": "OmUz0buye6zb",
        "outputId": "eacbda4a-d959-427b-d610-de00d35613ec"
      },
      "execution_count": 133,
      "outputs": [
        {
          "output_type": "stream",
          "name": "stdout",
          "text": [
            "Training Dataset Count: 123541\n",
            "Test Dataset Count: 31026\n"
          ]
        }
      ]
    },
    {
      "cell_type": "code",
      "source": [
        "from pyspark.ml.classification import LogisticRegression\n",
        "from pyspark.ml import Pipeline\n",
        "\n",
        "# Load training data\n",
        "multinomial_r = LogisticRegression(featuresCol='vectorizedFeatures',labelCol='label')\n",
        "\n",
        "cat_pipeline = Pipeline(stages=[tokenizer,stopwords_remover,vectorizer,idf, multinomial_r])\n",
        "\n",
        "\n",
        "# Fit the model\n",
        "category_model = cat_pipeline.fit(cat_train_split)\n",
        "\n"
      ],
      "metadata": {
        "id": "MHly7vKQfQMF"
      },
      "execution_count": 134,
      "outputs": []
    },
    {
      "cell_type": "code",
      "source": [
        "category_predictions = category_model.transform(draft_test_sdf_3)\n",
        "\n"
      ],
      "metadata": {
        "id": "TILrbpcPfxDB"
      },
      "execution_count": 135,
      "outputs": []
    },
    {
      "cell_type": "code",
      "source": [
        "category_predictions.select('title', 'category', 'label', 'prediction').show()"
      ],
      "metadata": {
        "colab": {
          "base_uri": "https://localhost:8080/"
        },
        "id": "3S_KPuJjvTLy",
        "outputId": "80829dd0-63fa-476c-9f4b-d40ead008179"
      },
      "execution_count": 136,
      "outputs": [
        {
          "output_type": "stream",
          "name": "stdout",
          "text": [
            "+-----------------------------+--------------------+-----+----------+\n",
            "|                        title|            category|label|prediction|\n",
            "+-----------------------------+--------------------+-----+----------+\n",
            "|          जंगली शेर  2018 ...|    Film & Animation|  7.0|       7.0|\n",
            "|          जादूगरनी नागिन  ...|    Film & Animation|  7.0|       7.0|\n",
            "|          निरहुआ पैसेवाला ...|    Film & Animation|  7.0|       7.0|\n",
            "|         #188-आज का राशिफल...|      People & Blogs|  4.0|       4.0|\n",
            "|         #271 DOES JERUSAL...|              Comedy|  2.0|       3.0|\n",
            "|         #284 ELON MUSK: '...|              Comedy|  2.0|       4.0|\n",
            "|         #3 PETITE BALADE ...|              Comedy|  2.0|       2.0|\n",
            "|         #303 LIVE FROM SM...|              Comedy|  2.0|       2.0|\n",
            "|         #313 BULLSH*T MAN...|              Comedy|  2.0|       4.0|\n",
            "|         #313 BULLSH*T MAN...|              Comedy|  2.0|       4.0|\n",
            "|         #508 199 for 28GB...|Science & Technology|  8.0|       2.0|\n",
            "|         #51 Jacques Préve...|       Entertainment|  0.0|       0.0|\n",
            "|         #51 Sunday Tech M...|Science & Technology|  8.0|       3.0|\n",
            "|         #527 10.Or D, Vid...|Science & Technology|  8.0|       0.0|\n",
            "|         #566 #ReimagineIn...|Science & Technology|  8.0|       8.0|\n",
            "|         #628 Patanjali Si...|Science & Technology|  8.0|       8.0|\n",
            "|#726【谷阿莫】5分鐘看完201...|    Film & Animation|  7.0|       1.0|\n",
            "|         #AFTERRAP : La ju...|               Music|  1.0|       1.0|\n",
            "|         #BreakingNews : ந...|     News & Politics|  3.0|       3.0|\n",
            "|         #CSKReturns Anthe...|               Music|  1.0|       1.0|\n",
            "+-----------------------------+--------------------+-----+----------+\n",
            "only showing top 20 rows\n",
            "\n"
          ]
        }
      ]
    },
    {
      "cell_type": "code",
      "source": [
        "trainingSummary = category_model.stages[-1].summary\n",
        "\n",
        "# Obtain the objective per iteration\n",
        "objectiveHistory = trainingSummary.objectiveHistory\n",
        "print(\"objectiveHistory:\")\n",
        "for objective in objectiveHistory:\n",
        "    print(objective)\n",
        "\n",
        "# for multiclass, we can inspect metrics on a per-label basis\n",
        "print(\"False positive rate by label:\")\n",
        "for i, rate in enumerate(trainingSummary.falsePositiveRateByLabel):\n",
        "    print(\"label %d: %s\" % (i, rate))\n",
        "\n",
        "print(\"True positive rate by label:\")\n",
        "for i, rate in enumerate(trainingSummary.truePositiveRateByLabel):\n",
        "    print(\"label %d: %s\" % (i, rate))\n",
        "\n",
        "print(\"Precision by label:\")\n",
        "for i, prec in enumerate(trainingSummary.precisionByLabel):\n",
        "    print(\"label %d: %s\" % (i, prec))\n",
        "\n",
        "print(\"Recall by label:\")\n",
        "for i, rec in enumerate(trainingSummary.recallByLabel):\n",
        "    print(\"label %d: %s\" % (i, rec))\n",
        "\n",
        "print(\"F-measure by label:\")\n",
        "for i, f in enumerate(trainingSummary.fMeasureByLabel()):\n",
        "    print(\"label %d: %s\" % (i, f))\n",
        "\n",
        "accuracy = trainingSummary.accuracy\n",
        "falsePositiveRate = trainingSummary.weightedFalsePositiveRate\n",
        "truePositiveRate = trainingSummary.weightedTruePositiveRate\n",
        "fMeasure = trainingSummary.weightedFMeasure()\n",
        "precision = trainingSummary.weightedPrecision\n",
        "recall = trainingSummary.weightedRecall\n",
        "print(\"Accuracy: %s\\nFPR: %s\\nTPR: %s\\nF-measure: %s\\nPrecision: %s\\nRecall: %s\"\n",
        "      % (accuracy, falsePositiveRate, truePositiveRate, fMeasure, precision, recall))"
      ],
      "metadata": {
        "colab": {
          "base_uri": "https://localhost:8080/"
        },
        "id": "VLUBsVK0Foq4",
        "outputId": "8dc165a7-e25e-4623-d386-7fc5097e8a68"
      },
      "execution_count": 141,
      "outputs": [
        {
          "output_type": "stream",
          "name": "stdout",
          "text": [
            "objectiveHistory:\n",
            "2.2226075065225803\n",
            "1.0270073640159565\n",
            "0.3801844038779766\n",
            "0.2063515895155865\n",
            "0.12190955424719849\n",
            "0.07445569663738909\n",
            "0.054049702540389565\n",
            "0.0408046076899744\n",
            "0.031353657011676944\n",
            "0.02401507733632816\n",
            "0.022096897676525576\n",
            "0.01851280361218983\n",
            "0.016525274540708085\n",
            "0.015087713181100299\n",
            "0.013641504032726426\n",
            "0.01301985969628797\n",
            "0.01220957576812804\n",
            "0.0119454141227969\n",
            "0.010919383198752408\n",
            "0.010216691734662341\n",
            "0.009510217460173843\n",
            "0.009449110572013376\n",
            "0.008944411528417408\n",
            "0.008637671828489023\n",
            "0.00848815516101837\n",
            "0.008255600971155888\n",
            "0.008075583633959438\n",
            "0.00775585275280339\n",
            "0.007635840962389828\n",
            "0.0074225414767137374\n",
            "0.007202599618784121\n",
            "0.007031108023260071\n",
            "0.006870224479377148\n",
            "0.006776346802488601\n",
            "0.006550883084174652\n",
            "0.006347715077966375\n",
            "0.0061370028144118694\n",
            "0.005999786831985669\n",
            "0.005841380587305483\n",
            "0.005633177438369472\n",
            "0.005518709051973183\n",
            "0.005423693017224933\n",
            "0.0052975448129652354\n",
            "0.00521846099043129\n",
            "0.005119465673981163\n",
            "0.004933746515591818\n",
            "0.004828413913787876\n",
            "0.004795750645500562\n",
            "0.004688972714088029\n",
            "0.004641821401929758\n",
            "0.004584399314081197\n",
            "0.004499216694488149\n",
            "0.004451613554416038\n",
            "0.004363725398861134\n",
            "0.00432156208205663\n",
            "0.004278883088605883\n",
            "0.004214753022072894\n",
            "0.004171751040429119\n",
            "0.004085568697142797\n",
            "0.004024835949504533\n",
            "0.003974484401949541\n",
            "0.0038810947030329802\n",
            "0.0038168551538092232\n",
            "0.0037917858261483557\n",
            "0.0037480658300508567\n",
            "0.0037402798928296123\n",
            "0.003703270830577044\n",
            "0.003689033496019009\n",
            "0.003671271609072571\n",
            "0.003633385280096009\n",
            "0.0036028431674875816\n",
            "0.0035855803367047107\n",
            "0.0035747940575183886\n",
            "0.003562314463701919\n",
            "0.003547779030437176\n",
            "0.0035358761031856257\n",
            "0.0035114739255998027\n",
            "0.003475251005911846\n",
            "0.00343819563130197\n",
            "0.0034168315651675308\n",
            "0.0034012017138539087\n",
            "0.0033818838564347795\n",
            "0.003367659102558244\n",
            "0.0033235463703631357\n",
            "0.003311446446605977\n",
            "0.0033005279446560207\n",
            "0.003281079774890328\n",
            "0.0032630315973518078\n",
            "0.0032425073466068647\n",
            "0.0032222621051011544\n",
            "0.003212066064813071\n",
            "0.0031917022137841478\n",
            "0.0031675481413049626\n",
            "0.003147902230344702\n",
            "0.0031161702174794213\n",
            "0.0031074426634629276\n",
            "0.003077470669831075\n",
            "0.003066323459804732\n",
            "0.0030547327356369304\n",
            "0.0030362599719976797\n",
            "0.003028430803482759\n",
            "False positive rate by label:\n",
            "label 0: 0.0007224663342531948\n",
            "label 1: 0.00015542572935809174\n",
            "label 2: 0.00018782702025848576\n",
            "label 3: 7.160566758858964e-05\n",
            "label 4: 7.122380299496092e-05\n",
            "label 5: 6.038855723109838e-05\n",
            "label 6: 1.7228903208021776e-05\n",
            "label 7: 0.00011090446859697316\n",
            "label 8: 8.3558942478024e-06\n",
            "label 9: 2.5012714796688318e-05\n",
            "label 10: 1.6573715744201272e-05\n",
            "label 11: 0.0\n",
            "label 12: 4.084566872528837e-05\n",
            "label 13: 1.628452318916102e-05\n",
            "label 14: 1.6240357287860332e-05\n",
            "label 15: 0.0\n",
            "label 16: 0.0\n",
            "label 17: 0.0\n",
            "True positive rate by label:\n",
            "label 0: 0.9989516211516826\n",
            "label 1: 0.9992233832250776\n",
            "label 2: 0.999573960463531\n",
            "label 3: 0.9993230665087155\n",
            "label 4: 0.9964346198413406\n",
            "label 5: 0.9994754098360655\n",
            "label 6: 0.9995976934424031\n",
            "label 7: 0.9995255416732564\n",
            "label 8: 0.9997412677878396\n",
            "label 9: 0.9988895058300944\n",
            "label 10: 0.9982566248256625\n",
            "label 11: 0.9942669942669943\n",
            "label 12: 0.9982285208148804\n",
            "label 13: 0.9972413793103448\n",
            "label 14: 0.959079283887468\n",
            "label 15: 1.0\n",
            "label 16: 1.0\n",
            "label 17: 1.0\n",
            "Precision by label:\n",
            "label 0: 0.9984410141075445\n",
            "label 1: 0.9988002822865208\n",
            "label 2: 0.998213070115725\n",
            "label 3: 0.9993230665087155\n",
            "label 4: 0.9992848842406364\n",
            "label 5: 0.9990823282642894\n",
            "label 6: 0.9997317596566524\n",
            "label 7: 0.9979472603821253\n",
            "label 8: 0.9997412677878396\n",
            "label 9: 0.9991668980838656\n",
            "label 10: 0.9993019197207679\n",
            "label 11: 1.0\n",
            "label 12: 0.9955830388692579\n",
            "label 13: 0.9972413793103448\n",
            "label 14: 0.9946949602122016\n",
            "label 15: 1.0\n",
            "label 16: 1.0\n",
            "label 17: 1.0\n",
            "Recall by label:\n",
            "label 0: 0.9989516211516826\n",
            "label 1: 0.9992233832250776\n",
            "label 2: 0.999573960463531\n",
            "label 3: 0.9993230665087155\n",
            "label 4: 0.9964346198413406\n",
            "label 5: 0.9994754098360655\n",
            "label 6: 0.9995976934424031\n",
            "label 7: 0.9995255416732564\n",
            "label 8: 0.9997412677878396\n",
            "label 9: 0.9988895058300944\n",
            "label 10: 0.9982566248256625\n",
            "label 11: 0.9942669942669943\n",
            "label 12: 0.9982285208148804\n",
            "label 13: 0.9972413793103448\n",
            "label 14: 0.959079283887468\n",
            "label 15: 1.0\n",
            "label 16: 1.0\n",
            "label 17: 1.0\n",
            "F-measure by label:\n",
            "label 0: 0.9986962523646404\n",
            "label 1: 0.9990117879579303\n",
            "label 2: 0.9988930517711172\n",
            "label 3: 0.9993230665087155\n",
            "label 4: 0.9978577166830314\n",
            "label 5: 0.9992788303940208\n",
            "label 6: 0.9996647220545833\n",
            "label 7: 0.9987357774968394\n",
            "label 8: 0.9997412677878396\n",
            "label 9: 0.999028182701652\n",
            "label 10: 0.9987789987789988\n",
            "label 11: 0.9971252566735114\n",
            "label 12: 0.9969040247678018\n",
            "label 13: 0.9972413793103448\n",
            "label 14: 0.9765625000000001\n",
            "label 15: 1.0\n",
            "label 16: 1.0\n",
            "label 17: 1.0\n",
            "Accuracy: 0.9987696392290818\n",
            "FPR: 0.0002900225865622613\n",
            "TPR: 0.9987696392290819\n",
            "F-measure: 0.9987682309423099\n",
            "Precision: 0.9987696647295442\n",
            "Recall: 0.9987696392290819\n"
          ]
        }
      ]
    },
    {
      "cell_type": "markdown",
      "source": [
        "### 3.2.3 &nbsp;&nbsp;<strong>&#9989; CLASSIFICATION MODEL :<strong> &nbsp;&nbsp;  <span>GRADIENT-BOOSTER TREE CLASSIFIER </span>\n",
        "\n"
      ],
      "metadata": {
        "id": "v7LVTsIvpv2m"
      }
    },
    {
      "cell_type": "code",
      "source": [
        "# old_combined_data.head(1)\n",
        "# copied_pd_frame.head()\n",
        "copied_pd_frame.to_csv('copied_combined.csv')\n",
        "copied_pd_frame.info()"
      ],
      "metadata": {
        "colab": {
          "base_uri": "https://localhost:8080/"
        },
        "id": "LUe4U4h6hMXi",
        "outputId": "e5bef4ed-9086-48e3-bb34-ab5412b6fbb4"
      },
      "execution_count": 101,
      "outputs": [
        {
          "output_type": "stream",
          "name": "stdout",
          "text": [
            "<class 'pandas.core.frame.DataFrame'>\n",
            "Index: 154567 entries, kzwfHumJyYc to NlxE_QQMRzg\n",
            "Data columns (total 17 columns):\n",
            " #   Column                  Non-Null Count   Dtype         \n",
            "---  ------                  --------------   -----         \n",
            " 0   trending_date           154567 non-null  datetime64[ns]\n",
            " 1   title                   154567 non-null  object        \n",
            " 2   channel_title           154567 non-null  object        \n",
            " 3   category_id             154567 non-null  object        \n",
            " 4   publish_time            154567 non-null  datetime64[ns]\n",
            " 5   tags                    154567 non-null  object        \n",
            " 6   views                   154567 non-null  int64         \n",
            " 7   likes                   154567 non-null  int64         \n",
            " 8   dislikes                154567 non-null  int64         \n",
            " 9   comment_count           154567 non-null  int64         \n",
            " 10  thumbnail_link          154567 non-null  object        \n",
            " 11  comments_disabled       154567 non-null  bool          \n",
            " 12  ratings_disabled        154567 non-null  bool          \n",
            " 13  video_error_or_removed  154567 non-null  bool          \n",
            " 14  description             154567 non-null  object        \n",
            " 15  country                 154567 non-null  object        \n",
            " 16  category                154567 non-null  object        \n",
            "dtypes: bool(3), datetime64[ns](2), int64(4), object(8)\n",
            "memory usage: 18.1+ MB\n"
          ]
        }
      ]
    },
    {
      "cell_type": "code",
      "source": [
        "old_combined_sparkDF = spark.read.options(header='True', inferSchema='True').csv('copied_combined.csv')\n",
        "old_combined_sparkDF.printSchema()\n"
      ],
      "metadata": {
        "colab": {
          "base_uri": "https://localhost:8080/"
        },
        "id": "z0RhsxUXjVzU",
        "outputId": "c02e860e-b828-4d98-cb42-64aed9a1de5a"
      },
      "execution_count": 103,
      "outputs": [
        {
          "output_type": "stream",
          "name": "stdout",
          "text": [
            "root\n",
            " |-- video_id: string (nullable = true)\n",
            " |-- trending_date: string (nullable = true)\n",
            " |-- title: string (nullable = true)\n",
            " |-- channel_title: string (nullable = true)\n",
            " |-- category_id: string (nullable = true)\n",
            " |-- publish_time: string (nullable = true)\n",
            " |-- tags: string (nullable = true)\n",
            " |-- views: string (nullable = true)\n",
            " |-- likes: string (nullable = true)\n",
            " |-- dislikes: string (nullable = true)\n",
            " |-- comment_count: string (nullable = true)\n",
            " |-- thumbnail_link: string (nullable = true)\n",
            " |-- comments_disabled: string (nullable = true)\n",
            " |-- ratings_disabled: string (nullable = true)\n",
            " |-- video_error_or_removed: string (nullable = true)\n",
            " |-- description: string (nullable = true)\n",
            " |-- country: string (nullable = true)\n",
            " |-- category: string (nullable = true)\n",
            "\n"
          ]
        }
      ]
    },
    {
      "cell_type": "code",
      "source": [
        "# recall the views_log have been renamed as label \n",
        "needed_columns =  ['likes', 'dislikes', 'comment_count', 'views']\n",
        "old_correlation_frame = old_combined_sparkDF\n",
        "old_correlation_frame = old_correlation_frame.select([i for i in old_correlation_frame.columns if i in needed_columns])\n",
        "\n",
        "# correlation_frame = clone_frame.drop(*needed_columns)\n",
        "old_correlation_frame.printSchema()\n"
      ],
      "metadata": {
        "colab": {
          "base_uri": "https://localhost:8080/"
        },
        "id": "m0igmr4ThbDB",
        "outputId": "67d53e86-19d5-4246-f8d1-d09f330ce623"
      },
      "execution_count": 104,
      "outputs": [
        {
          "output_type": "stream",
          "name": "stdout",
          "text": [
            "root\n",
            " |-- views: string (nullable = true)\n",
            " |-- likes: string (nullable = true)\n",
            " |-- dislikes: string (nullable = true)\n",
            " |-- comment_count: string (nullable = true)\n",
            "\n"
          ]
        }
      ]
    },
    {
      "cell_type": "code",
      "source": [
        "import pyspark.sql.functions as F\n",
        "from pyspark.sql.types import IntegerType\n",
        "\n",
        "df_correlation = old_correlation_frame.withColumn(\"views\", F.col(\"views\").astype(IntegerType()))\\\n",
        ".withColumn(\"likes\", F.col(\"likes\").astype(IntegerType()))\\\n",
        ".withColumn(\"dislikes\", F.col(\"dislikes\").astype(IntegerType()))\\\n",
        ".withColumn(\"comment_count\", F.col(\"comment_count\").astype(IntegerType()))\n",
        "\n",
        "\n",
        "df_correlation.printSchema()\n"
      ],
      "metadata": {
        "colab": {
          "base_uri": "https://localhost:8080/"
        },
        "id": "FQlHFiFApv50",
        "outputId": "136f798a-e1e8-4431-9184-60b30d9fda76"
      },
      "execution_count": 105,
      "outputs": [
        {
          "output_type": "stream",
          "name": "stdout",
          "text": [
            "root\n",
            " |-- views: integer (nullable = true)\n",
            " |-- likes: integer (nullable = true)\n",
            " |-- dislikes: integer (nullable = true)\n",
            " |-- comment_count: integer (nullable = true)\n",
            "\n"
          ]
        }
      ]
    },
    {
      "cell_type": "code",
      "source": [
        "df_correlation = df_correlation.dropna()\n",
        "# combined_data.info()"
      ],
      "metadata": {
        "id": "iY44KfRjx2fA"
      },
      "execution_count": 106,
      "outputs": []
    },
    {
      "cell_type": "code",
      "source": [
        "import numpy as np\n",
        "import seaborn as sns\n",
        "import matplotlib.pyplot as plt\n",
        "from scipy.stats import pearsonr\n",
        "def reg_coef(x,y,label=None,color=None,**kwargs):\n",
        "    ax = plt.gca()\n",
        "    r,p = pearsonr(x,y)\n",
        "    ax.annotate('r = {:.2f}'.format(r), xy=(0.5,0.5), xycoords='axes fraction', ha='center')\n",
        "    ax.set_axis_off()\n",
        "\n",
        "# iris = sns.load_dataset(\"iris\")x/\n",
        "g = sns.PairGrid(df_correlation.toPandas())\n",
        "g.map_diag(sns.histplot)\n",
        "g.map_lower(sns.regplot)\n",
        "g.map_upper(reg_coef)"
      ],
      "metadata": {
        "colab": {
          "base_uri": "https://localhost:8080/",
          "height": 736
        },
        "id": "chjSMFUTqXMV",
        "outputId": "57194038-f4b7-4540-db46-99945d500703"
      },
      "execution_count": 107,
      "outputs": [
        {
          "output_type": "execute_result",
          "data": {
            "text/plain": [
              "<seaborn.axisgrid.PairGrid at 0x7fc9dfa2d650>"
            ]
          },
          "metadata": {},
          "execution_count": 107
        },
        {
          "output_type": "display_data",
          "data": {
            "image/png": "[encoded data removed]",
            "text/plain": [
              "<Figure size 720x720 with 20 Axes>"
            ]
          },
          "metadata": {}
        }
      ]
    },
    {
      "cell_type": "code",
      "source": [
        "old_combined_sparkDF.show(2)"
      ],
      "metadata": {
        "colab": {
          "base_uri": "https://localhost:8080/"
        },
        "id": "mrUWAOsGP3n2",
        "outputId": "0f42a7d7-0330-4b44-e805-9518f02baf04"
      },
      "execution_count": 108,
      "outputs": [
        {
          "output_type": "stream",
          "name": "stdout",
          "text": [
            "+-----------+-------------------+--------------------+---------------+-----------+-------------------+--------------------+-------+-----+--------+-------------+--------------------+-----------------+----------------+----------------------+--------------------+-------+----------------+\n",
            "|   video_id|      trending_date|               title|  channel_title|category_id|       publish_time|                tags|  views|likes|dislikes|comment_count|      thumbnail_link|comments_disabled|ratings_disabled|video_error_or_removed|         description|country|        category|\n",
            "+-----------+-------------------+--------------------+---------------+-----------+-------------------+--------------------+-------+-----+--------+-------------+--------------------+-----------------+----------------+----------------------+--------------------+-------+----------------+\n",
            "|kzwfHumJyYc|2017-11-14 00:00:00|Sharry Mann: Cute...|Lokdhun Punjabi|          1|2017-11-12 12:20:39|\"sharry mann|\"\"sh...|1096327|33966|     798|          882|https://i.ytimg.c...|            False|           False|                 False|Presenting Sharry...|     IN|Film & Animation|\n",
            "|zUZ1z7FwLc8|2017-11-14 00:00:00|पीरियड्स के समय, ...|        HJ NEWS|         25|2017-11-13 05:43:56|\"पीरियड्स के समय|...| 590101|  735|     904|            0|https://i.ytimg.c...|             True|           False|                 False|पीरियड्स के समय, ...|     IN| News & Politics|\n",
            "+-----------+-------------------+--------------------+---------------+-----------+-------------------+--------------------+-------+-----+--------+-------------+--------------------+-----------------+----------------+----------------------+--------------------+-------+----------------+\n",
            "only showing top 2 rows\n",
            "\n"
          ]
        }
      ]
    },
    {
      "cell_type": "code",
      "source": [
        "import pyspark.sql.functions as F\n",
        "from pyspark.sql.types import IntegerType\n",
        "\n",
        "# recall the views_log have been renamed as label \n",
        "needed_columns =  ['likes', 'dislikes', 'comment_count', 'views', 'country']\n",
        "class_correlation_frame = old_combined_sparkDF\n",
        "class_correlation_frame = class_correlation_frame.select([i for i in class_correlation_frame.columns if i in needed_columns])\n",
        "\n",
        "\n",
        "\n",
        "class_frame = class_correlation_frame.withColumn(\"views\", F.col(\"views\").astype(IntegerType()))\\\n",
        ".withColumn(\"likes\", F.col(\"likes\").astype(IntegerType()))\\\n",
        ".withColumn(\"dislikes\", F.col(\"dislikes\").astype(IntegerType()))\\\n",
        ".withColumn(\"comment_count\", F.col(\"comment_count\").astype(IntegerType()))\n",
        "\n",
        "\n",
        "class_frame.printSchema()\n"
      ],
      "metadata": {
        "colab": {
          "base_uri": "https://localhost:8080/"
        },
        "id": "Ce16skdTQ4oB",
        "outputId": "20bed6e9-4d46-42db-ad6a-741f7556edb6"
      },
      "execution_count": 89,
      "outputs": [
        {
          "output_type": "stream",
          "name": "stdout",
          "text": [
            "root\n",
            " |-- views: integer (nullable = true)\n",
            " |-- likes: integer (nullable = true)\n",
            " |-- dislikes: integer (nullable = true)\n",
            " |-- comment_count: integer (nullable = true)\n",
            " |-- country: string (nullable = true)\n",
            "\n"
          ]
        }
      ]
    },
    {
      "cell_type": "code",
      "source": [
        "needed_columns =  ['likes', 'dislikes', 'comment_count', 'views', 'country']\n",
        "copied_pd_frame_2 = copied_pd_frame.copy()\n",
        "\n",
        "copied_pd_frame_2.drop([col for col in copied_pd_frame_2.columns if col not in needed_columns],axis=1,inplace=True)\n",
        "\n",
        "copied_pd_frame_2.head()"
      ],
      "metadata": {
        "colab": {
          "base_uri": "https://localhost:8080/",
          "height": 237
        },
        "id": "7BbUvuPKRusc",
        "outputId": "70e14b8c-8fe6-48b5-e473-e15c6a3dfe74"
      },
      "execution_count": 110,
      "outputs": [
        {
          "output_type": "execute_result",
          "data": {
            "text/html": [
              "\n",
              "  <div id=\"df-9b4455d7-5fc7-42e8-bd6e-7df4446b529d\">\n",
              "    <div class=\"colab-df-container\">\n",
              "      <div>\n",
              "<style scoped>\n",
              "    .dataframe tbody tr th:only-of-type {\n",
              "        vertical-align: middle;\n",
              "    }\n",
              "\n",
              "    .dataframe tbody tr th {\n",
              "        vertical-align: top;\n",
              "    }\n",
              "\n",
              "    .dataframe thead th {\n",
              "        text-align: right;\n",
              "    }\n",
              "</style>\n",
              "<table border=\"1\" class=\"dataframe\">\n",
              "  <thead>\n",
              "    <tr style=\"text-align: right;\">\n",
              "      <th></th>\n",
              "      <th>views</th>\n",
              "      <th>likes</th>\n",
              "      <th>dislikes</th>\n",
              "      <th>comment_count</th>\n",
              "      <th>country</th>\n",
              "    </tr>\n",
              "    <tr>\n",
              "      <th>video_id</th>\n",
              "      <th></th>\n",
              "      <th></th>\n",
              "      <th></th>\n",
              "      <th></th>\n",
              "      <th></th>\n",
              "    </tr>\n",
              "  </thead>\n",
              "  <tbody>\n",
              "    <tr>\n",
              "      <th>kzwfHumJyYc</th>\n",
              "      <td>1096327</td>\n",
              "      <td>33966</td>\n",
              "      <td>798</td>\n",
              "      <td>882</td>\n",
              "      <td>IN</td>\n",
              "    </tr>\n",
              "    <tr>\n",
              "      <th>zUZ1z7FwLc8</th>\n",
              "      <td>590101</td>\n",
              "      <td>735</td>\n",
              "      <td>904</td>\n",
              "      <td>0</td>\n",
              "      <td>IN</td>\n",
              "    </tr>\n",
              "    <tr>\n",
              "      <th>10L1hZ9qa58</th>\n",
              "      <td>473988</td>\n",
              "      <td>2011</td>\n",
              "      <td>243</td>\n",
              "      <td>149</td>\n",
              "      <td>IN</td>\n",
              "    </tr>\n",
              "    <tr>\n",
              "      <th>N1vE8iiEg64</th>\n",
              "      <td>1242680</td>\n",
              "      <td>70353</td>\n",
              "      <td>1624</td>\n",
              "      <td>2684</td>\n",
              "      <td>IN</td>\n",
              "    </tr>\n",
              "    <tr>\n",
              "      <th>kJzGH0PVQHQ</th>\n",
              "      <td>464015</td>\n",
              "      <td>492</td>\n",
              "      <td>293</td>\n",
              "      <td>66</td>\n",
              "      <td>IN</td>\n",
              "    </tr>\n",
              "  </tbody>\n",
              "</table>\n",
              "</div>\n",
              "      <button class=\"colab-df-convert\" onclick=\"convertToInteractive('df-9b4455d7-5fc7-42e8-bd6e-7df4446b529d')\"\n",
              "              title=\"Convert this dataframe to an interactive table.\"\n",
              "              style=\"display:none;\">\n",
              "        \n",
              "  <svg xmlns=\"http://www.w3.org/2000/svg\" height=\"24px\"viewBox=\"0 0 24 24\"\n",
              "       width=\"24px\">\n",
              "    <path d=\"M0 0h24v24H0V0z\" fill=\"none\"/>\n",
              "    <path d=\"M18.56 5.44l.94 2.06.94-2.06 2.06-.94-2.06-.94-.94-2.06-.94 2.06-2.06.94zm-11 1L8.5 8.5l.94-2.06 2.06-.94-2.06-.94L8.5 2.5l-.94 2.06-2.06.94zm10 10l.94 2.06.94-2.06 2.06-.94-2.06-.94-.94-2.06-.94 2.06-2.06.94z\"/><path d=\"M17.41 7.96l-1.37-1.37c-.4-.4-.92-.59-1.43-.59-.52 0-1.04.2-1.43.59L10.3 9.45l-7.72 7.72c-.78.78-.78 2.05 0 2.83L4 21.41c.39.39.9.59 1.41.59.51 0 1.02-.2 1.41-.59l7.78-7.78 2.81-2.81c.8-.78.8-2.07 0-2.86zM5.41 20L4 18.59l7.72-7.72 1.47 1.35L5.41 20z\"/>\n",
              "  </svg>\n",
              "      </button>\n",
              "      \n",
              "  <style>\n",
              "    .colab-df-container {\n",
              "      display:flex;\n",
              "      flex-wrap:wrap;\n",
              "      gap: 12px;\n",
              "    }\n",
              "\n",
              "    .colab-df-convert {\n",
              "      background-color: #E8F0FE;\n",
              "      border: none;\n",
              "      border-radius: 50%;\n",
              "      cursor: pointer;\n",
              "      display: none;\n",
              "      fill: #1967D2;\n",
              "      height: 32px;\n",
              "      padding: 0 0 0 0;\n",
              "      width: 32px;\n",
              "    }\n",
              "\n",
              "    .colab-df-convert:hover {\n",
              "      background-color: #E2EBFA;\n",
              "      box-shadow: 0px 1px 2px rgba(60, 64, 67, 0.3), 0px 1px 3px 1px rgba(60, 64, 67, 0.15);\n",
              "      fill: #174EA6;\n",
              "    }\n",
              "\n",
              "    [theme=dark] .colab-df-convert {\n",
              "      background-color: #3B4455;\n",
              "      fill: #D2E3FC;\n",
              "    }\n",
              "\n",
              "    [theme=dark] .colab-df-convert:hover {\n",
              "      background-color: #434B5C;\n",
              "      box-shadow: 0px 1px 3px 1px rgba(0, 0, 0, 0.15);\n",
              "      filter: drop-shadow(0px 1px 2px rgba(0, 0, 0, 0.3));\n",
              "      fill: #FFFFFF;\n",
              "    }\n",
              "  </style>\n",
              "\n",
              "      <script>\n",
              "        const buttonEl =\n",
              "          document.querySelector('#df-9b4455d7-5fc7-42e8-bd6e-7df4446b529d button.colab-df-convert');\n",
              "        buttonEl.style.display =\n",
              "          google.colab.kernel.accessAllowed ? 'block' : 'none';\n",
              "\n",
              "        async function convertToInteractive(key) {\n",
              "          const element = document.querySelector('#df-9b4455d7-5fc7-42e8-bd6e-7df4446b529d');\n",
              "          const dataTable =\n",
              "            await google.colab.kernel.invokeFunction('convertToInteractive',\n",
              "                                                     [key], {});\n",
              "          if (!dataTable) return;\n",
              "\n",
              "          const docLinkHtml = 'Like what you see? Visit the ' +\n",
              "            '<a target=\"_blank\" href=https://colab.research.google.com/notebooks/data_table.ipynb>data table notebook</a>'\n",
              "            + ' to learn more about interactive tables.';\n",
              "          element.innerHTML = '';\n",
              "          dataTable['output_type'] = 'display_data';\n",
              "          await google.colab.output.renderOutput(dataTable, element);\n",
              "          const docLink = document.createElement('div');\n",
              "          docLink.innerHTML = docLinkHtml;\n",
              "          element.appendChild(docLink);\n",
              "        }\n",
              "      </script>\n",
              "    </div>\n",
              "  </div>\n",
              "  "
            ],
            "text/plain": [
              "               views  likes  dislikes  comment_count country\n",
              "video_id                                                    \n",
              "kzwfHumJyYc  1096327  33966       798            882      IN\n",
              "zUZ1z7FwLc8   590101    735       904              0      IN\n",
              "10L1hZ9qa58   473988   2011       243            149      IN\n",
              "N1vE8iiEg64  1242680  70353      1624           2684      IN\n",
              "kJzGH0PVQHQ   464015    492       293             66      IN"
            ]
          },
          "metadata": {},
          "execution_count": 110
        }
      ]
    },
    {
      "cell_type": "code",
      "source": [
        "copied_pd_frame_2.country = pd.Categorical(copied_pd_frame_2.country)\n",
        "copied_pd_frame_2['country_code'] = copied_pd_frame_2.country.cat.codes\n",
        "copied_pd_frame_2.head()"
      ],
      "metadata": {
        "colab": {
          "base_uri": "https://localhost:8080/",
          "height": 237
        },
        "id": "Xoz8ykbBWJ6Z",
        "outputId": "adfcbe65-24e6-4ee2-d2b6-9f222e41c918"
      },
      "execution_count": 111,
      "outputs": [
        {
          "output_type": "execute_result",
          "data": {
            "text/html": [
              "\n",
              "  <div id=\"df-cfc43725-a5e7-4aca-a5ae-d464a043229a\">\n",
              "    <div class=\"colab-df-container\">\n",
              "      <div>\n",
              "<style scoped>\n",
              "    .dataframe tbody tr th:only-of-type {\n",
              "        vertical-align: middle;\n",
              "    }\n",
              "\n",
              "    .dataframe tbody tr th {\n",
              "        vertical-align: top;\n",
              "    }\n",
              "\n",
              "    .dataframe thead th {\n",
              "        text-align: right;\n",
              "    }\n",
              "</style>\n",
              "<table border=\"1\" class=\"dataframe\">\n",
              "  <thead>\n",
              "    <tr style=\"text-align: right;\">\n",
              "      <th></th>\n",
              "      <th>views</th>\n",
              "      <th>likes</th>\n",
              "      <th>dislikes</th>\n",
              "      <th>comment_count</th>\n",
              "      <th>country</th>\n",
              "      <th>country_code</th>\n",
              "    </tr>\n",
              "    <tr>\n",
              "      <th>video_id</th>\n",
              "      <th></th>\n",
              "      <th></th>\n",
              "      <th></th>\n",
              "      <th></th>\n",
              "      <th></th>\n",
              "      <th></th>\n",
              "    </tr>\n",
              "  </thead>\n",
              "  <tbody>\n",
              "    <tr>\n",
              "      <th>kzwfHumJyYc</th>\n",
              "      <td>1096327</td>\n",
              "      <td>33966</td>\n",
              "      <td>798</td>\n",
              "      <td>882</td>\n",
              "      <td>IN</td>\n",
              "      <td>2</td>\n",
              "    </tr>\n",
              "    <tr>\n",
              "      <th>zUZ1z7FwLc8</th>\n",
              "      <td>590101</td>\n",
              "      <td>735</td>\n",
              "      <td>904</td>\n",
              "      <td>0</td>\n",
              "      <td>IN</td>\n",
              "      <td>2</td>\n",
              "    </tr>\n",
              "    <tr>\n",
              "      <th>10L1hZ9qa58</th>\n",
              "      <td>473988</td>\n",
              "      <td>2011</td>\n",
              "      <td>243</td>\n",
              "      <td>149</td>\n",
              "      <td>IN</td>\n",
              "      <td>2</td>\n",
              "    </tr>\n",
              "    <tr>\n",
              "      <th>N1vE8iiEg64</th>\n",
              "      <td>1242680</td>\n",
              "      <td>70353</td>\n",
              "      <td>1624</td>\n",
              "      <td>2684</td>\n",
              "      <td>IN</td>\n",
              "      <td>2</td>\n",
              "    </tr>\n",
              "    <tr>\n",
              "      <th>kJzGH0PVQHQ</th>\n",
              "      <td>464015</td>\n",
              "      <td>492</td>\n",
              "      <td>293</td>\n",
              "      <td>66</td>\n",
              "      <td>IN</td>\n",
              "      <td>2</td>\n",
              "    </tr>\n",
              "  </tbody>\n",
              "</table>\n",
              "</div>\n",
              "      <button class=\"colab-df-convert\" onclick=\"convertToInteractive('df-cfc43725-a5e7-4aca-a5ae-d464a043229a')\"\n",
              "              title=\"Convert this dataframe to an interactive table.\"\n",
              "              style=\"display:none;\">\n",
              "        \n",
              "  <svg xmlns=\"http://www.w3.org/2000/svg\" height=\"24px\"viewBox=\"0 0 24 24\"\n",
              "       width=\"24px\">\n",
              "    <path d=\"M0 0h24v24H0V0z\" fill=\"none\"/>\n",
              "    <path d=\"M18.56 5.44l.94 2.06.94-2.06 2.06-.94-2.06-.94-.94-2.06-.94 2.06-2.06.94zm-11 1L8.5 8.5l.94-2.06 2.06-.94-2.06-.94L8.5 2.5l-.94 2.06-2.06.94zm10 10l.94 2.06.94-2.06 2.06-.94-2.06-.94-.94-2.06-.94 2.06-2.06.94z\"/><path d=\"M17.41 7.96l-1.37-1.37c-.4-.4-.92-.59-1.43-.59-.52 0-1.04.2-1.43.59L10.3 9.45l-7.72 7.72c-.78.78-.78 2.05 0 2.83L4 21.41c.39.39.9.59 1.41.59.51 0 1.02-.2 1.41-.59l7.78-7.78 2.81-2.81c.8-.78.8-2.07 0-2.86zM5.41 20L4 18.59l7.72-7.72 1.47 1.35L5.41 20z\"/>\n",
              "  </svg>\n",
              "      </button>\n",
              "      \n",
              "  <style>\n",
              "    .colab-df-container {\n",
              "      display:flex;\n",
              "      flex-wrap:wrap;\n",
              "      gap: 12px;\n",
              "    }\n",
              "\n",
              "    .colab-df-convert {\n",
              "      background-color: #E8F0FE;\n",
              "      border: none;\n",
              "      border-radius: 50%;\n",
              "      cursor: pointer;\n",
              "      display: none;\n",
              "      fill: #1967D2;\n",
              "      height: 32px;\n",
              "      padding: 0 0 0 0;\n",
              "      width: 32px;\n",
              "    }\n",
              "\n",
              "    .colab-df-convert:hover {\n",
              "      background-color: #E2EBFA;\n",
              "      box-shadow: 0px 1px 2px rgba(60, 64, 67, 0.3), 0px 1px 3px 1px rgba(60, 64, 67, 0.15);\n",
              "      fill: #174EA6;\n",
              "    }\n",
              "\n",
              "    [theme=dark] .colab-df-convert {\n",
              "      background-color: #3B4455;\n",
              "      fill: #D2E3FC;\n",
              "    }\n",
              "\n",
              "    [theme=dark] .colab-df-convert:hover {\n",
              "      background-color: #434B5C;\n",
              "      box-shadow: 0px 1px 3px 1px rgba(0, 0, 0, 0.15);\n",
              "      filter: drop-shadow(0px 1px 2px rgba(0, 0, 0, 0.3));\n",
              "      fill: #FFFFFF;\n",
              "    }\n",
              "  </style>\n",
              "\n",
              "      <script>\n",
              "        const buttonEl =\n",
              "          document.querySelector('#df-cfc43725-a5e7-4aca-a5ae-d464a043229a button.colab-df-convert');\n",
              "        buttonEl.style.display =\n",
              "          google.colab.kernel.accessAllowed ? 'block' : 'none';\n",
              "\n",
              "        async function convertToInteractive(key) {\n",
              "          const element = document.querySelector('#df-cfc43725-a5e7-4aca-a5ae-d464a043229a');\n",
              "          const dataTable =\n",
              "            await google.colab.kernel.invokeFunction('convertToInteractive',\n",
              "                                                     [key], {});\n",
              "          if (!dataTable) return;\n",
              "\n",
              "          const docLinkHtml = 'Like what you see? Visit the ' +\n",
              "            '<a target=\"_blank\" href=https://colab.research.google.com/notebooks/data_table.ipynb>data table notebook</a>'\n",
              "            + ' to learn more about interactive tables.';\n",
              "          element.innerHTML = '';\n",
              "          dataTable['output_type'] = 'display_data';\n",
              "          await google.colab.output.renderOutput(dataTable, element);\n",
              "          const docLink = document.createElement('div');\n",
              "          docLink.innerHTML = docLinkHtml;\n",
              "          element.appendChild(docLink);\n",
              "        }\n",
              "      </script>\n",
              "    </div>\n",
              "  </div>\n",
              "  "
            ],
            "text/plain": [
              "               views  likes  dislikes  comment_count country  country_code\n",
              "video_id                                                                  \n",
              "kzwfHumJyYc  1096327  33966       798            882      IN             2\n",
              "zUZ1z7FwLc8   590101    735       904              0      IN             2\n",
              "10L1hZ9qa58   473988   2011       243            149      IN             2\n",
              "N1vE8iiEg64  1242680  70353      1624           2684      IN             2\n",
              "kJzGH0PVQHQ   464015    492       293             66      IN             2"
            ]
          },
          "metadata": {},
          "execution_count": 111
        }
      ]
    },
    {
      "cell_type": "code",
      "source": [
        "final_data = copied_pd_frame_2.drop(columns=['country'])\n",
        "final_data.to_csv('final_data.csv')\n",
        "\n",
        "# feature_cols = ['views', 'likes', 'dislikes', 'country_code',]\n"
      ],
      "metadata": {
        "id": "8J9g03cQWx8d"
      },
      "execution_count": 112,
      "outputs": []
    },
    {
      "cell_type": "code",
      "source": [
        "final_sparkDF = spark.read.options(header='True', inferSchema='True').csv('final_data.csv')\n",
        "final_sparkDF.show()\n",
        "final_sparkDF.printSchema()"
      ],
      "metadata": {
        "colab": {
          "base_uri": "https://localhost:8080/"
        },
        "id": "I7QsViuvYzz8",
        "outputId": "9dec9f5b-2173-4d29-9916-2d8f30435f87"
      },
      "execution_count": 113,
      "outputs": [
        {
          "output_type": "stream",
          "name": "stdout",
          "text": [
            "+-----------+--------+------+--------+-------------+------------+\n",
            "|   video_id|   views| likes|dislikes|comment_count|country_code|\n",
            "+-----------+--------+------+--------+-------------+------------+\n",
            "|kzwfHumJyYc| 1096327| 33966|     798|          882|           2|\n",
            "|zUZ1z7FwLc8|  590101|   735|     904|            0|           2|\n",
            "|10L1hZ9qa58|  473988|  2011|     243|          149|           2|\n",
            "|N1vE8iiEg64| 1242680| 70353|    1624|         2684|           2|\n",
            "|kJzGH0PVQHQ|  464015|   492|     293|           66|           2|\n",
            "|il_pSa5l98w| 6106669| 98612|    4185|         4763|           2|\n",
            "|7MxiQ4v0EnE| 5718766|127477|    7134|         8063|           2|\n",
            "|c64I9HNpiOY|10588371|132738|    8812|        10847|           2|\n",
            "|KObFEYCaRx8|  118223|   520|      53|           23|           2|\n",
            "|g8QsfJhFpjY|  969030| 59798|    1545|         2404|           2|\n",
            "|4du1KXBl4YU|  632747|  4330|    2183|         2869|           2|\n",
            "|zOOmEDwPJX0| 2348107| 32834|     710|         1743|           2|\n",
            "|Prb_osSVE0M|  156085|   716|      53|            0|           2|\n",
            "|KHxdrECEsD0|  472413|  2611|     250|          174|           2|\n",
            "|so0ccfs-psI|  836006| 24460|     180|          594|           2|\n",
            "|7gShaSuK_PY|   89531|   238|      59|           18|           2|\n",
            "|ep3SLMuRbvg|  344545| 25717|     417|         2870|           2|\n",
            "|ePO5M5DE01I|35885754|829362|   61195|       101117|           2|\n",
            "|CLl1RbxDRAs|  209599| 14070|     448|         1105|           2|\n",
            "|1ZAPwfrtAFY| 2418783| 97187|    6146|        12703|           2|\n",
            "+-----------+--------+------+--------+-------------+------------+\n",
            "only showing top 20 rows\n",
            "\n",
            "root\n",
            " |-- video_id: string (nullable = true)\n",
            " |-- views: integer (nullable = true)\n",
            " |-- likes: integer (nullable = true)\n",
            " |-- dislikes: integer (nullable = true)\n",
            " |-- comment_count: integer (nullable = true)\n",
            " |-- country_code: integer (nullable = true)\n",
            "\n"
          ]
        }
      ]
    },
    {
      "cell_type": "code",
      "source": [
        "final_sparkDF = final_sparkDF.dropna()\n"
      ],
      "metadata": {
        "id": "xAYGcXLRZMOh"
      },
      "execution_count": 114,
      "outputs": []
    },
    {
      "cell_type": "code",
      "source": [
        "final_sparkDF = final_sparkDF.withColumn(\"ratio\", final_sparkDF.likes / final_sparkDF.views) \n",
        "final_sparkDF.show()"
      ],
      "metadata": {
        "colab": {
          "base_uri": "https://localhost:8080/"
        },
        "id": "HAaHq47wZ16v",
        "outputId": "629bb2df-318a-4806-b413-3e224e1753f8"
      },
      "execution_count": 115,
      "outputs": [
        {
          "output_type": "stream",
          "name": "stdout",
          "text": [
            "+-----------+--------+------+--------+-------------+------------+--------------------+\n",
            "|   video_id|   views| likes|dislikes|comment_count|country_code|               ratio|\n",
            "+-----------+--------+------+--------+-------------+------------+--------------------+\n",
            "|kzwfHumJyYc| 1096327| 33966|     798|          882|           2|0.030981632304960108|\n",
            "|zUZ1z7FwLc8|  590101|   735|     904|            0|           2|0.001245549490680409|\n",
            "|10L1hZ9qa58|  473988|  2011|     243|          149|           2|0.004242723444475387|\n",
            "|N1vE8iiEg64| 1242680| 70353|    1624|         2684|           2| 0.05661393118099591|\n",
            "|kJzGH0PVQHQ|  464015|   492|     293|           66|           2|0.001060310550305...|\n",
            "|il_pSa5l98w| 6106669| 98612|    4185|         4763|           2|0.016148247104927415|\n",
            "|7MxiQ4v0EnE| 5718766|127477|    7134|         8063|           2| 0.02229099774321943|\n",
            "|c64I9HNpiOY|10588371|132738|    8812|        10847|           2|0.012536205994293174|\n",
            "|KObFEYCaRx8|  118223|   520|      53|           23|           2|0.004398467303316614|\n",
            "|g8QsfJhFpjY|  969030| 59798|    1545|         2404|           2|0.061709131812224594|\n",
            "|4du1KXBl4YU|  632747|  4330|    2183|         2869|           2|0.006843177446910061|\n",
            "|zOOmEDwPJX0| 2348107| 32834|     710|         1743|           2|0.013983178790404355|\n",
            "|Prb_osSVE0M|  156085|   716|      53|            0|           2| 0.00458724412980107|\n",
            "|KHxdrECEsD0|  472413|  2611|     250|          174|           2|0.005526943585379...|\n",
            "|so0ccfs-psI|  836006| 24460|     180|          594|           2|0.029258163218924264|\n",
            "|7gShaSuK_PY|   89531|   238|      59|           18|           2|0.002658297126135...|\n",
            "|ep3SLMuRbvg|  344545| 25717|     417|         2870|           2| 0.07464046786341406|\n",
            "|ePO5M5DE01I|35885754|829362|   61195|       101117|           2|0.023111176652439853|\n",
            "|CLl1RbxDRAs|  209599| 14070|     448|         1105|           2| 0.06712818286346786|\n",
            "|1ZAPwfrtAFY| 2418783| 97187|    6146|        12703|           2| 0.04018012364069038|\n",
            "+-----------+--------+------+--------+-------------+------------+--------------------+\n",
            "only showing top 20 rows\n",
            "\n"
          ]
        }
      ]
    },
    {
      "cell_type": "code",
      "source": [
        "from pyspark.sql import functions as f\n",
        "final_sparkDF_2 = final_sparkDF.withColumn('popularity_index', f.when(f.col('ratio') >= 0.04, 1)\n",
        ".otherwise(0))\n",
        "\n",
        "final_sparkDF_2.show()"
      ],
      "metadata": {
        "colab": {
          "base_uri": "https://localhost:8080/"
        },
        "id": "7Bj5FHezDttZ",
        "outputId": "fc73fdba-5f2d-4eea-a9ab-0eb6b90519d8"
      },
      "execution_count": 143,
      "outputs": [
        {
          "output_type": "stream",
          "name": "stdout",
          "text": [
            "+-----------+--------+------+--------+-------------+------------+--------------------+----------------+\n",
            "|   video_id|   views| likes|dislikes|comment_count|country_code|               ratio|popularity_index|\n",
            "+-----------+--------+------+--------+-------------+------------+--------------------+----------------+\n",
            "|kzwfHumJyYc| 1096327| 33966|     798|          882|           2|0.030981632304960108|               0|\n",
            "|zUZ1z7FwLc8|  590101|   735|     904|            0|           2|0.001245549490680409|               0|\n",
            "|10L1hZ9qa58|  473988|  2011|     243|          149|           2|0.004242723444475387|               0|\n",
            "|N1vE8iiEg64| 1242680| 70353|    1624|         2684|           2| 0.05661393118099591|               1|\n",
            "|kJzGH0PVQHQ|  464015|   492|     293|           66|           2|0.001060310550305...|               0|\n",
            "|il_pSa5l98w| 6106669| 98612|    4185|         4763|           2|0.016148247104927415|               0|\n",
            "|7MxiQ4v0EnE| 5718766|127477|    7134|         8063|           2| 0.02229099774321943|               0|\n",
            "|c64I9HNpiOY|10588371|132738|    8812|        10847|           2|0.012536205994293174|               0|\n",
            "|KObFEYCaRx8|  118223|   520|      53|           23|           2|0.004398467303316614|               0|\n",
            "|g8QsfJhFpjY|  969030| 59798|    1545|         2404|           2|0.061709131812224594|               1|\n",
            "|4du1KXBl4YU|  632747|  4330|    2183|         2869|           2|0.006843177446910061|               0|\n",
            "|zOOmEDwPJX0| 2348107| 32834|     710|         1743|           2|0.013983178790404355|               0|\n",
            "|Prb_osSVE0M|  156085|   716|      53|            0|           2| 0.00458724412980107|               0|\n",
            "|KHxdrECEsD0|  472413|  2611|     250|          174|           2|0.005526943585379...|               0|\n",
            "|so0ccfs-psI|  836006| 24460|     180|          594|           2|0.029258163218924264|               0|\n",
            "|7gShaSuK_PY|   89531|   238|      59|           18|           2|0.002658297126135...|               0|\n",
            "|ep3SLMuRbvg|  344545| 25717|     417|         2870|           2| 0.07464046786341406|               1|\n",
            "|ePO5M5DE01I|35885754|829362|   61195|       101117|           2|0.023111176652439853|               0|\n",
            "|CLl1RbxDRAs|  209599| 14070|     448|         1105|           2| 0.06712818286346786|               1|\n",
            "|1ZAPwfrtAFY| 2418783| 97187|    6146|        12703|           2| 0.04018012364069038|               1|\n",
            "+-----------+--------+------+--------+-------------+------------+--------------------+----------------+\n",
            "only showing top 20 rows\n",
            "\n"
          ]
        }
      ]
    },
    {
      "cell_type": "code",
      "source": [
        "draft_sparkDF_2 = final_sparkDF_2.drop('ratio')\n",
        "draft_sparkDF_2 = draft_sparkDF_2.drop('video_id')\n",
        "draft_sparkDF_2 = draft_sparkDF_2.drop('country_code')\n",
        "\n",
        "draft_sparkDF_2.show()"
      ],
      "metadata": {
        "colab": {
          "base_uri": "https://localhost:8080/"
        },
        "id": "JabaucVSEFWf",
        "outputId": "1ffcff48-984d-454e-bc8f-3351a8520c10"
      },
      "execution_count": 165,
      "outputs": [
        {
          "output_type": "stream",
          "name": "stdout",
          "text": [
            "+--------+------+--------+-------------+----------------+\n",
            "|   views| likes|dislikes|comment_count|popularity_index|\n",
            "+--------+------+--------+-------------+----------------+\n",
            "| 1096327| 33966|     798|          882|               0|\n",
            "|  590101|   735|     904|            0|               0|\n",
            "|  473988|  2011|     243|          149|               0|\n",
            "| 1242680| 70353|    1624|         2684|               1|\n",
            "|  464015|   492|     293|           66|               0|\n",
            "| 6106669| 98612|    4185|         4763|               0|\n",
            "| 5718766|127477|    7134|         8063|               0|\n",
            "|10588371|132738|    8812|        10847|               0|\n",
            "|  118223|   520|      53|           23|               0|\n",
            "|  969030| 59798|    1545|         2404|               1|\n",
            "|  632747|  4330|    2183|         2869|               0|\n",
            "| 2348107| 32834|     710|         1743|               0|\n",
            "|  156085|   716|      53|            0|               0|\n",
            "|  472413|  2611|     250|          174|               0|\n",
            "|  836006| 24460|     180|          594|               0|\n",
            "|   89531|   238|      59|           18|               0|\n",
            "|  344545| 25717|     417|         2870|               1|\n",
            "|35885754|829362|   61195|       101117|               0|\n",
            "|  209599| 14070|     448|         1105|               1|\n",
            "| 2418783| 97187|    6146|        12703|               1|\n",
            "+--------+------+--------+-------------+----------------+\n",
            "only showing top 20 rows\n",
            "\n"
          ]
        }
      ]
    },
    {
      "cell_type": "code",
      "source": [
        "cols_2 = draft_sparkDF_2.columns\n",
        "print(cols_2)"
      ],
      "metadata": {
        "colab": {
          "base_uri": "https://localhost:8080/"
        },
        "id": "PVW4IqExE48m",
        "outputId": "a68325bc-fb31-4aab-f243-b23c1be4105a"
      },
      "execution_count": 167,
      "outputs": [
        {
          "output_type": "stream",
          "name": "stdout",
          "text": [
            "['views', 'likes', 'dislikes', 'comment_count', 'popularity_index']\n"
          ]
        }
      ]
    },
    {
      "cell_type": "code",
      "source": [
        "from pyspark.ml.feature import OneHotEncoder, StringIndexer, VectorAssembler\n",
        "stages = []\n",
        "label_stringIdx = StringIndexer(inputCol = 'popularity_index', outputCol = 'label')\n",
        "stages += [label_stringIdx]\n",
        "numericCols = ['views', 'likes', 'dislikes', 'comment_count']\n",
        "assemblerInputs =  numericCols\n",
        "assembler = VectorAssembler(inputCols=assemblerInputs, outputCol=\"features\")\n",
        "stages += [assembler]"
      ],
      "metadata": {
        "id": "mhTUGYmeFPAF"
      },
      "execution_count": 168,
      "outputs": []
    },
    {
      "cell_type": "code",
      "source": [
        "from pyspark.ml import Pipeline\n",
        "pipeline_new = Pipeline(stages = stages)\n",
        "pipelineModel_new = pipeline_new.fit(draft_sparkDF_2)\n",
        "draft_sparkDF_2 = pipelineModel_new.transform(draft_sparkDF_2)\n",
        "selectedCols = ['label', 'features'] + cols_2\n",
        "draft_sparkDF_2 = draft_sparkDF_2.select(selectedCols)\n",
        "draft_sparkDF_2.printSchema()"
      ],
      "metadata": {
        "colab": {
          "base_uri": "https://localhost:8080/"
        },
        "id": "91mn5iXTFUVY",
        "outputId": "cf463b2d-9eb7-461d-b213-f02b770841ba"
      },
      "execution_count": 169,
      "outputs": [
        {
          "output_type": "stream",
          "name": "stdout",
          "text": [
            "root\n",
            " |-- label: double (nullable = false)\n",
            " |-- features: vector (nullable = true)\n",
            " |-- views: integer (nullable = true)\n",
            " |-- likes: integer (nullable = true)\n",
            " |-- dislikes: integer (nullable = true)\n",
            " |-- comment_count: integer (nullable = true)\n",
            " |-- popularity_index: integer (nullable = false)\n",
            "\n"
          ]
        }
      ]
    },
    {
      "cell_type": "code",
      "source": [
        "draft_sparkDF_2.show()"
      ],
      "metadata": {
        "colab": {
          "base_uri": "https://localhost:8080/"
        },
        "id": "ScqsKffXlmuW",
        "outputId": "f057963c-a3c6-4680-cbac-c7a3ded1725b"
      },
      "execution_count": 170,
      "outputs": [
        {
          "output_type": "stream",
          "name": "stdout",
          "text": [
            "+-----+--------------------+--------+------+--------+-------------+----------------+\n",
            "|label|            features|   views| likes|dislikes|comment_count|popularity_index|\n",
            "+-----+--------------------+--------+------+--------+-------------+----------------+\n",
            "|  0.0|[1096327.0,33966....| 1096327| 33966|     798|          882|               0|\n",
            "|  0.0|[590101.0,735.0,9...|  590101|   735|     904|            0|               0|\n",
            "|  0.0|[473988.0,2011.0,...|  473988|  2011|     243|          149|               0|\n",
            "|  1.0|[1242680.0,70353....| 1242680| 70353|    1624|         2684|               1|\n",
            "|  0.0|[464015.0,492.0,2...|  464015|   492|     293|           66|               0|\n",
            "|  0.0|[6106669.0,98612....| 6106669| 98612|    4185|         4763|               0|\n",
            "|  0.0|[5718766.0,127477...| 5718766|127477|    7134|         8063|               0|\n",
            "|  0.0|[1.0588371E7,1327...|10588371|132738|    8812|        10847|               0|\n",
            "|  0.0|[118223.0,520.0,5...|  118223|   520|      53|           23|               0|\n",
            "|  1.0|[969030.0,59798.0...|  969030| 59798|    1545|         2404|               1|\n",
            "|  0.0|[632747.0,4330.0,...|  632747|  4330|    2183|         2869|               0|\n",
            "|  0.0|[2348107.0,32834....| 2348107| 32834|     710|         1743|               0|\n",
            "|  0.0|[156085.0,716.0,5...|  156085|   716|      53|            0|               0|\n",
            "|  0.0|[472413.0,2611.0,...|  472413|  2611|     250|          174|               0|\n",
            "|  0.0|[836006.0,24460.0...|  836006| 24460|     180|          594|               0|\n",
            "|  0.0|[89531.0,238.0,59...|   89531|   238|      59|           18|               0|\n",
            "|  1.0|[344545.0,25717.0...|  344545| 25717|     417|         2870|               1|\n",
            "|  0.0|[3.5885754E7,8293...|35885754|829362|   61195|       101117|               0|\n",
            "|  1.0|[209599.0,14070.0...|  209599| 14070|     448|         1105|               1|\n",
            "|  1.0|[2418783.0,97187....| 2418783| 97187|    6146|        12703|               1|\n",
            "+-----+--------------------+--------+------+--------+-------------+----------------+\n",
            "only showing top 20 rows\n",
            "\n"
          ]
        }
      ]
    },
    {
      "cell_type": "code",
      "source": [
        "draft_train_sdf_new, draft_test_sdf_new = draft_sparkDF_2.randomSplit([0.8, 0.2], seed = 2021)\n",
        "print(\"Training Dataset Count: \" + str(draft_train_sdf_new.count()))\n",
        "print(\"Test Dataset Count: \" + str(draft_test_sdf_new.count()))"
      ],
      "metadata": {
        "colab": {
          "base_uri": "https://localhost:8080/"
        },
        "id": "DCWzPAyrFbRv",
        "outputId": "1db2351a-3b82-4931-8ee4-b6e0bfac2e6e"
      },
      "execution_count": 171,
      "outputs": [
        {
          "output_type": "stream",
          "name": "stdout",
          "text": [
            "Training Dataset Count: 123402\n",
            "Test Dataset Count: 31165\n"
          ]
        }
      ]
    },
    {
      "cell_type": "code",
      "source": [
        "from pyspark.ml.classification import GBTClassifier\n",
        "gbt_new = GBTClassifier(maxIter=10)\n",
        "gbtModel_new = gbt.fit(draft_train_sdf_new)\n",
        "predictions_new = gbtModel.transform(draft_test_sdf_new)\n",
        "\n"
      ],
      "metadata": {
        "id": "KnETLG_cCj8m"
      },
      "execution_count": 172,
      "outputs": []
    },
    {
      "cell_type": "code",
      "source": [
        "predictions_new.filter('popularity_index == 1').show()"
      ],
      "metadata": {
        "colab": {
          "base_uri": "https://localhost:8080/"
        },
        "id": "sP2sxuckHtyF",
        "outputId": "fb8563ca-8c38-4421-bb3a-811e871da6fa"
      },
      "execution_count": 180,
      "outputs": [
        {
          "output_type": "stream",
          "name": "stdout",
          "text": [
            "+-----+--------------------+-----+-----+--------+-------------+----------------+--------------------+--------------------+----------+\n",
            "|label|            features|views|likes|dislikes|comment_count|popularity_index|       rawPrediction|         probability|prediction|\n",
            "+-----+--------------------+-----+-----+--------+-------------+----------------+--------------------+--------------------+----------+\n",
            "|  1.0|[385.0,40.0,0.0,3.0]|  385|   40|       0|            3|               1|[0.95940998440671...|[0.87200678708417...|       0.0|\n",
            "|  1.0|[412.0,23.0,0.0,0.0]|  412|   23|       0|            0|               1|[0.95940998440671...|[0.87200678708417...|       0.0|\n",
            "|  1.0|[898.0,124.0,2.0,...|  898|  124|       2|           12|               1|[-0.0648483787542...|[0.46762118557807...|       1.0|\n",
            "|  1.0|[917.0,85.0,25.0,...|  917|   85|      25|            0|               1|[0.95940998440671...|[0.87200678708417...|       0.0|\n",
            "|  1.0|[1000.0,46.0,19.0...| 1000|   46|      19|            0|               1|[0.95940998440671...|[0.87200678708417...|       0.0|\n",
            "|  1.0|[1111.0,259.0,0.0...| 1111|  259|       0|           30|               1|[-1.3863491189032...|[0.05881746655914...|       1.0|\n",
            "|  1.0|[1208.0,275.0,0.0...| 1208|  275|       0|           28|               1|[-1.3863491189032...|[0.05881746655914...|       1.0|\n",
            "|  1.0|[1241.0,163.0,1.0...| 1241|  163|       1|          126|               1|[-0.0648483787542...|[0.46762118557807...|       1.0|\n",
            "|  1.0|[1394.0,100.0,0.0...| 1394|  100|       0|           31|               1|[0.95940998440671...|[0.87200678708417...|       0.0|\n",
            "|  1.0|[1441.0,180.0,2.0...| 1441|  180|       2|            8|               1|[-0.0648483787542...|[0.46762118557807...|       1.0|\n",
            "|  1.0|[1472.0,102.0,47....| 1472|  102|      47|          112|               1|[0.95940998440671...|[0.87200678708417...|       0.0|\n",
            "|  1.0|[1472.0,179.0,2.0...| 1472|  179|       2|           25|               1|[-0.0648483787542...|[0.46762118557807...|       1.0|\n",
            "|  1.0|[1482.0,67.0,1.0,...| 1482|   67|       1|           13|               1|[0.95940998440671...|[0.87200678708417...|       0.0|\n",
            "|  1.0|[1523.0,146.0,0.0...| 1523|  146|       0|           80|               1|[-0.0648483787542...|[0.46762118557807...|       1.0|\n",
            "|  1.0|[1541.0,234.0,6.0...| 1541|  234|       6|           53|               1|[-0.0648483787542...|[0.46762118557807...|       1.0|\n",
            "|  1.0|[1550.0,63.0,0.0,...| 1550|   63|       0|            5|               1|[0.95940998440671...|[0.87200678708417...|       0.0|\n",
            "|  1.0|[1582.0,67.0,5.0,...| 1582|   67|       5|           34|               1|[0.95940998440671...|[0.87200678708417...|       0.0|\n",
            "|  1.0|[1589.0,227.0,0.0...| 1589|  227|       0|           40|               1|[-0.0648483787542...|[0.46762118557807...|       1.0|\n",
            "|  1.0|[1602.0,147.0,2.0...| 1602|  147|       2|           43|               1|[-0.0648483787542...|[0.46762118557807...|       1.0|\n",
            "|  1.0|[1603.0,67.0,1.0,...| 1603|   67|       1|           11|               1|[0.95940998440671...|[0.87200678708417...|       0.0|\n",
            "+-----+--------------------+-----+-----+--------+-------------+----------------+--------------------+--------------------+----------+\n",
            "only showing top 20 rows\n",
            "\n"
          ]
        }
      ]
    },
    {
      "cell_type": "code",
      "source": [
        "from pyspark.ml.evaluation import BinaryClassificationEvaluator\n",
        "\n",
        "evaluator = BinaryClassificationEvaluator()\n",
        "print(\"Test Area Under ROC: \" + str(evaluator.evaluate(predictions, {evaluator.metricName: \"areaUnderROC\"})))"
      ],
      "metadata": {
        "colab": {
          "base_uri": "https://localhost:8080/"
        },
        "id": "yIv-dDxWGVbE",
        "outputId": "eb9fd150-871f-4971-8e9b-52bcf5451536"
      },
      "execution_count": 128,
      "outputs": [
        {
          "output_type": "stream",
          "name": "stdout",
          "text": [
            "Test Area Under ROC: 0.9905911575570592\n"
          ]
        }
      ]
    }
  ],
  "metadata": {
    "accelerator": "TPU",
    "colab": {
      "collapsed_sections": [],
      "name": "L00163373_PROJECT2.ipynb",
      "provenance": [],
      "include_colab_link": true
    },
    "kernelspec": {
      "display_name": "Python 3",
      "name": "python3"
    }
  },
  "nbformat": 4,
  "nbformat_minor": 0
}